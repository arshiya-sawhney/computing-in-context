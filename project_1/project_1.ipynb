{
 "cells": [
  {
   "cell_type": "markdown",
   "id": "cc9dce9f",
   "metadata": {},
   "source": [
    "## Project 1"
   ]
  },
  {
   "cell_type": "code",
   "execution_count": 29,
   "id": "6bce9bc8",
   "metadata": {},
   "outputs": [],
   "source": [
    "#importing pandas first\n",
    "import pandas as pd\n",
    "import plotly.io as pio\n",
    "\n",
    "pio.renderers.default = \"vscode+jupyterlab+notebook_connected\""
   ]
  },
  {
   "cell_type": "markdown",
   "id": "a1c2885e-2421-4d19-9047-49d7468f276a",
   "metadata": {},
   "source": [
    "\n",
    "The chosen dataset is: Affordable Housing Production by Building in NYC.\n",
    "URL: https://data.cityofnewyork.us/Housing-Development/Affordable-Housing-Production-by-Building/hg8x-zxpr/about_data"
   ]
  },
  {
   "cell_type": "code",
   "execution_count": 30,
   "id": "0cefb6a5-3e16-431b-9468-f97be52ee3fa",
   "metadata": {},
   "outputs": [
    {
     "data": {
      "text/html": [
       "<div>\n",
       "<style scoped>\n",
       "    .dataframe tbody tr th:only-of-type {\n",
       "        vertical-align: middle;\n",
       "    }\n",
       "\n",
       "    .dataframe tbody tr th {\n",
       "        vertical-align: top;\n",
       "    }\n",
       "\n",
       "    .dataframe thead th {\n",
       "        text-align: right;\n",
       "    }\n",
       "</style>\n",
       "<table border=\"1\" class=\"dataframe\">\n",
       "  <thead>\n",
       "    <tr style=\"text-align: right;\">\n",
       "      <th></th>\n",
       "      <th>Project ID</th>\n",
       "      <th>Project Name</th>\n",
       "      <th>Project Start Date</th>\n",
       "      <th>Project Completion Date</th>\n",
       "      <th>Building ID</th>\n",
       "      <th>Number</th>\n",
       "      <th>Street</th>\n",
       "      <th>Borough</th>\n",
       "      <th>Postcode</th>\n",
       "      <th>BBL</th>\n",
       "      <th>...</th>\n",
       "      <th>2-BR Units</th>\n",
       "      <th>3-BR Units</th>\n",
       "      <th>4-BR Units</th>\n",
       "      <th>5-BR Units</th>\n",
       "      <th>6-BR+ Units</th>\n",
       "      <th>Unknown-BR Units</th>\n",
       "      <th>Counted Rental Units</th>\n",
       "      <th>Counted Homeownership Units</th>\n",
       "      <th>All Counted Units</th>\n",
       "      <th>Total Units</th>\n",
       "    </tr>\n",
       "  </thead>\n",
       "  <tbody>\n",
       "    <tr>\n",
       "      <th>0</th>\n",
       "      <td>68806</td>\n",
       "      <td>CADMAN PLAZA NORTH INC.PLP.FY24</td>\n",
       "      <td>06/28/2024</td>\n",
       "      <td>NaN</td>\n",
       "      <td>297417.0</td>\n",
       "      <td>140</td>\n",
       "      <td>CADMAN PLAZA WEST</td>\n",
       "      <td>Brooklyn</td>\n",
       "      <td>11201.0</td>\n",
       "      <td>3.002120e+09</td>\n",
       "      <td>...</td>\n",
       "      <td>150</td>\n",
       "      <td>51</td>\n",
       "      <td>0</td>\n",
       "      <td>0</td>\n",
       "      <td>0</td>\n",
       "      <td>0</td>\n",
       "      <td>251</td>\n",
       "      <td>251</td>\n",
       "      <td>251</td>\n",
       "      <td>251</td>\n",
       "    </tr>\n",
       "    <tr>\n",
       "      <th>1</th>\n",
       "      <td>69431</td>\n",
       "      <td>LOS SURES SIP HDFC.GHPP.FY24</td>\n",
       "      <td>06/28/2024</td>\n",
       "      <td>NaN</td>\n",
       "      <td>234667.0</td>\n",
       "      <td>747</td>\n",
       "      <td>DRIGGS AVENUE</td>\n",
       "      <td>Brooklyn</td>\n",
       "      <td>11211.0</td>\n",
       "      <td>3.024190e+09</td>\n",
       "      <td>...</td>\n",
       "      <td>14</td>\n",
       "      <td>1</td>\n",
       "      <td>0</td>\n",
       "      <td>0</td>\n",
       "      <td>0</td>\n",
       "      <td>0</td>\n",
       "      <td>21</td>\n",
       "      <td>0</td>\n",
       "      <td>21</td>\n",
       "      <td>21</td>\n",
       "    </tr>\n",
       "    <tr>\n",
       "      <th>2</th>\n",
       "      <td>69431</td>\n",
       "      <td>LOS SURES SIP HDFC.GHPP.FY24</td>\n",
       "      <td>06/28/2024</td>\n",
       "      <td>NaN</td>\n",
       "      <td>302578.0</td>\n",
       "      <td>262</td>\n",
       "      <td>GRAND STREET</td>\n",
       "      <td>Brooklyn</td>\n",
       "      <td>11211.0</td>\n",
       "      <td>3.023940e+09</td>\n",
       "      <td>...</td>\n",
       "      <td>16</td>\n",
       "      <td>7</td>\n",
       "      <td>0</td>\n",
       "      <td>0</td>\n",
       "      <td>0</td>\n",
       "      <td>0</td>\n",
       "      <td>23</td>\n",
       "      <td>0</td>\n",
       "      <td>23</td>\n",
       "      <td>23</td>\n",
       "    </tr>\n",
       "    <tr>\n",
       "      <th>3</th>\n",
       "      <td>69431</td>\n",
       "      <td>LOS SURES SIP HDFC.GHPP.FY24</td>\n",
       "      <td>06/28/2024</td>\n",
       "      <td>NaN</td>\n",
       "      <td>371841.0</td>\n",
       "      <td>249</td>\n",
       "      <td>SOUTH 1 STREET</td>\n",
       "      <td>Brooklyn</td>\n",
       "      <td>11211.0</td>\n",
       "      <td>3.023950e+09</td>\n",
       "      <td>...</td>\n",
       "      <td>8</td>\n",
       "      <td>1</td>\n",
       "      <td>0</td>\n",
       "      <td>0</td>\n",
       "      <td>0</td>\n",
       "      <td>0</td>\n",
       "      <td>17</td>\n",
       "      <td>0</td>\n",
       "      <td>17</td>\n",
       "      <td>17</td>\n",
       "    </tr>\n",
       "    <tr>\n",
       "      <th>4</th>\n",
       "      <td>69431</td>\n",
       "      <td>LOS SURES SIP HDFC.GHPP.FY24</td>\n",
       "      <td>06/28/2024</td>\n",
       "      <td>NaN</td>\n",
       "      <td>371960.0</td>\n",
       "      <td>184</td>\n",
       "      <td>SOUTH 2 STREET</td>\n",
       "      <td>Brooklyn</td>\n",
       "      <td>11211.0</td>\n",
       "      <td>3.024190e+09</td>\n",
       "      <td>...</td>\n",
       "      <td>9</td>\n",
       "      <td>6</td>\n",
       "      <td>0</td>\n",
       "      <td>0</td>\n",
       "      <td>0</td>\n",
       "      <td>0</td>\n",
       "      <td>18</td>\n",
       "      <td>0</td>\n",
       "      <td>18</td>\n",
       "      <td>18</td>\n",
       "    </tr>\n",
       "  </tbody>\n",
       "</table>\n",
       "<p>5 rows × 41 columns</p>\n",
       "</div>"
      ],
      "text/plain": [
       "   Project ID                     Project Name Project Start Date  \\\n",
       "0       68806  CADMAN PLAZA NORTH INC.PLP.FY24         06/28/2024   \n",
       "1       69431     LOS SURES SIP HDFC.GHPP.FY24         06/28/2024   \n",
       "2       69431     LOS SURES SIP HDFC.GHPP.FY24         06/28/2024   \n",
       "3       69431     LOS SURES SIP HDFC.GHPP.FY24         06/28/2024   \n",
       "4       69431     LOS SURES SIP HDFC.GHPP.FY24         06/28/2024   \n",
       "\n",
       "  Project Completion Date  Building ID Number             Street   Borough  \\\n",
       "0                     NaN     297417.0    140  CADMAN PLAZA WEST  Brooklyn   \n",
       "1                     NaN     234667.0    747      DRIGGS AVENUE  Brooklyn   \n",
       "2                     NaN     302578.0    262       GRAND STREET  Brooklyn   \n",
       "3                     NaN     371841.0    249     SOUTH 1 STREET  Brooklyn   \n",
       "4                     NaN     371960.0    184     SOUTH 2 STREET  Brooklyn   \n",
       "\n",
       "   Postcode           BBL  ...  2-BR Units 3-BR Units  4-BR Units  5-BR Units  \\\n",
       "0   11201.0  3.002120e+09  ...         150         51           0           0   \n",
       "1   11211.0  3.024190e+09  ...          14          1           0           0   \n",
       "2   11211.0  3.023940e+09  ...          16          7           0           0   \n",
       "3   11211.0  3.023950e+09  ...           8          1           0           0   \n",
       "4   11211.0  3.024190e+09  ...           9          6           0           0   \n",
       "\n",
       "  6-BR+ Units  Unknown-BR Units  Counted Rental Units  \\\n",
       "0           0                 0                   251   \n",
       "1           0                 0                    21   \n",
       "2           0                 0                    23   \n",
       "3           0                 0                    17   \n",
       "4           0                 0                    18   \n",
       "\n",
       "   Counted Homeownership Units  All Counted Units Total Units  \n",
       "0                          251                251         251  \n",
       "1                            0                 21          21  \n",
       "2                            0                 23          23  \n",
       "3                            0                 17          17  \n",
       "4                            0                 18          18  \n",
       "\n",
       "[5 rows x 41 columns]"
      ]
     },
     "execution_count": 30,
     "metadata": {},
     "output_type": "execute_result"
    }
   ],
   "source": [
    "#reading the dataset in\n",
    "\n",
    "df=pd.read_csv(\"Affordable_Housing_Production_by_Building_20241107.csv\")\n",
    "df.head()"
   ]
  },
  {
   "cell_type": "code",
   "execution_count": 31,
   "id": "ce73f586-9f40-4d06-8c6f-20a1c451adb2",
   "metadata": {},
   "outputs": [
    {
     "data": {
      "text/plain": [
       "Index(['Project ID', 'Project Name', 'Project Start Date',\n",
       "       'Project Completion Date', 'Building ID', 'Number', 'Street', 'Borough',\n",
       "       'Postcode', 'BBL', 'BIN', 'Community Board', 'Council District',\n",
       "       'Census Tract', 'NTA - Neighborhood Tabulation Area', 'Latitude',\n",
       "       'Longitude', 'Latitude (Internal)', 'Longitude (Internal)',\n",
       "       'Building Completion Date', 'Reporting Construction Type',\n",
       "       'Extended Affordability Only', 'Prevailing Wage Status',\n",
       "       'Extremely Low Income Units', 'Very Low Income Units',\n",
       "       'Low Income Units', 'Moderate Income Units', 'Middle Income Units',\n",
       "       'Other Income Units', 'Studio Units', '1-BR Units', '2-BR Units',\n",
       "       '3-BR Units', '4-BR Units', '5-BR Units', '6-BR+ Units',\n",
       "       'Unknown-BR Units', 'Counted Rental Units',\n",
       "       'Counted Homeownership Units', 'All Counted Units', 'Total Units'],\n",
       "      dtype='object')"
      ]
     },
     "execution_count": 31,
     "metadata": {},
     "output_type": "execute_result"
    }
   ],
   "source": [
    "#check what all columns the dataset has \n",
    "\n",
    "df.columns.unique()"
   ]
  },
  {
   "cell_type": "markdown",
   "id": "28774525-6d1c-4631-8a5b-cb900e2a01ad",
   "metadata": {},
   "source": [
    "### I will be using the \"Total Units\" numerical column for my analysis."
   ]
  },
  {
   "cell_type": "code",
   "execution_count": 32,
   "id": "71124747-d4ea-4687-8908-4cbf58124c11",
   "metadata": {},
   "outputs": [
    {
     "name": "stdout",
     "output_type": "stream",
     "text": [
      "The mean of total units is 46.98\n"
     ]
    }
   ],
   "source": [
    "mean_totalunits=df[\"Total Units\"].mean()\n",
    "print(f\"The mean of total units is {mean_totalunits:.2f}\")"
   ]
  },
  {
   "cell_type": "code",
   "execution_count": 33,
   "id": "43385ea3-cfe2-4df7-8708-42275d14bfd9",
   "metadata": {},
   "outputs": [
    {
     "name": "stdout",
     "output_type": "stream",
     "text": [
      "The median is 12.0\n"
     ]
    }
   ],
   "source": [
    "median_totalunits=df[\"Total Units\"].median()\n",
    "print(f\"The median is {median_totalunits}\")"
   ]
  },
  {
   "cell_type": "code",
   "execution_count": 34,
   "id": "3853127d-c0f8-42d7-8e6d-0e94fd525a61",
   "metadata": {},
   "outputs": [
    {
     "name": "stdout",
     "output_type": "stream",
     "text": [
      "The mode is 1.\n"
     ]
    }
   ],
   "source": [
    "mode_totalunits=df[\"Total Units\"].mode().iloc[0]\n",
    "print(f\"The mode is {mode_totalunits}.\")\n",
    "\n",
    "#iloc ensures we only pick up on 1 mode"
   ]
  },
  {
   "cell_type": "markdown",
   "id": "8a9558f4-a21c-4843-8bca-426fb83b3a52",
   "metadata": {},
   "source": [
    "#### Step 5: Using csv dict reader (not pandas)"
   ]
  },
  {
   "cell_type": "markdown",
   "id": "916b19e5-af13-4ff4-8b79-23b0eeb62902",
   "metadata": {},
   "source": [
    "The code below does the following:\n",
    "\n",
    "- loops through each row in the file\n",
    "- adds the number of total units to a running total\n",
    "- keeps track of the number of rows in the dataset\n",
    "- calculates an average of the number of total units at the end "
   ]
  },
  {
   "cell_type": "code",
   "execution_count": 35,
   "id": "d7320206-9e99-48bb-8ce3-6cb0fa1ebcba",
   "metadata": {},
   "outputs": [
    {
     "name": "stdout",
     "output_type": "stream",
     "text": [
      "The total number of affordable housing units is 358790\n",
      "The number of entries in the dataset is 7637\n",
      "The mean number of housing units in the dataset is 46.98\n"
     ]
    }
   ],
   "source": [
    "import csv\n",
    "\n",
    "sum_total_units=0\n",
    "count_rows=0\n",
    "with open(\"Affordable_Housing_Production_by_Building_20241107.csv\") as csvfile:\n",
    "    nyc_housing=csv.DictReader(csvfile)\n",
    "    for row in nyc_housing:\n",
    "        sum_total_units=sum_total_units+int(row[\"Total Units\"])\n",
    "        count_rows=count_rows+1\n",
    "    print(f\"The total number of affordable housing units is {sum_total_units}\")\n",
    "    print(f\"The number of entries in the dataset is {count_rows}\")\n",
    "    mean_units=sum_total_units/count_rows\n",
    "    print(f\"The mean number of housing units in the dataset is {mean_units:.2f}\")"
   ]
  },
  {
   "cell_type": "markdown",
   "id": "d9404ac6-9ec3-4db7-816e-179736b00233",
   "metadata": {},
   "source": [
    "The code below does the following:\n",
    "- makes a list of all the values in the Total units column.\n",
    "- sorts the list in ascending order\n",
    "- checks how many elements there are in the list\n",
    "- picks the middle value in the ordered list, which is the median"
   ]
  },
  {
   "cell_type": "code",
   "execution_count": 36,
   "id": "f617c959-df62-410c-94a8-29ed35eb4ebe",
   "metadata": {},
   "outputs": [
    {
     "name": "stdout",
     "output_type": "stream",
     "text": [
      "The median is 12.\n"
     ]
    }
   ],
   "source": [
    "total_units=[]\n",
    "\n",
    "with open(\"Affordable_Housing_Production_by_Building_20241107.csv\") as csvfile:\n",
    "    nyc_housing=csv.DictReader(csvfile)    \n",
    "    for row in nyc_housing:\n",
    "        units=row[\"Total Units\"]\n",
    "        total_units.append(int(units)) \n",
    "    total_units.sort() \n",
    "    n=len(total_units) \n",
    "    median=total_units[int(n/2)] \n",
    "    print(f\"The median is {median}.\")"
   ]
  },
  {
   "cell_type": "markdown",
   "id": "275c5b2a-3185-43f1-be55-6504a409ab05",
   "metadata": {},
   "source": [
    "The code below does the following:\n",
    "- Creates an empty dictionary\n",
    "- for each unique value in the list of total units, adds it to the dictionary as a key\n",
    "- keeps track of how many times the key occurs and stores that count as the value in the dictionary\n",
    "- checks which is the maximum value, and gives the key associated with it, which is the mode"
   ]
  },
  {
   "cell_type": "code",
   "execution_count": 37,
   "id": "02c24a30-ba1e-4888-9f1d-4c3761292504",
   "metadata": {},
   "outputs": [
    {
     "name": "stdout",
     "output_type": "stream",
     "text": [
      "The mode is [1].\n"
     ]
    }
   ],
   "source": [
    "mode_tracker=dict()\n",
    "for x in total_units:\n",
    "    if x in mode_tracker: #makes a dictionary which has each unique value of total units as the key, and the number of times it occurs as the value.\n",
    "        mode_tracker[x]+=1\n",
    "    else:\n",
    "        mode_tracker[x]=1\n",
    "\n",
    "max_count=max(mode_tracker.values()) #checks which is the highest value\n",
    "mode=[key for key,value in mode_tracker.items() if value==max_count] #calls on the key for the highest value. note: its a list because there can be multiple modes.\n",
    "print(f\"The mode is {mode}.\")"
   ]
  },
  {
   "cell_type": "markdown",
   "id": "fb946813-0c10-4bb0-bec2-f02dfbf92b87",
   "metadata": {},
   "source": [
    "#### Data visualization:"
   ]
  },
  {
   "cell_type": "code",
   "execution_count": 38,
   "id": "29a8c1c9-b2a7-4f42-8c0f-9998b93bfa69",
   "metadata": {},
   "outputs": [
    {
     "data": {
      "text/html": [
       "<div>\n",
       "<style scoped>\n",
       "    .dataframe tbody tr th:only-of-type {\n",
       "        vertical-align: middle;\n",
       "    }\n",
       "\n",
       "    .dataframe tbody tr th {\n",
       "        vertical-align: top;\n",
       "    }\n",
       "\n",
       "    .dataframe thead th {\n",
       "        text-align: right;\n",
       "    }\n",
       "</style>\n",
       "<table border=\"1\" class=\"dataframe\">\n",
       "  <thead>\n",
       "    <tr style=\"text-align: right;\">\n",
       "      <th></th>\n",
       "      <th>Project ID</th>\n",
       "      <th>Borough</th>\n",
       "      <th>Total Units</th>\n",
       "    </tr>\n",
       "  </thead>\n",
       "  <tbody>\n",
       "    <tr>\n",
       "      <th>0</th>\n",
       "      <td>68806</td>\n",
       "      <td>Brooklyn</td>\n",
       "      <td>251</td>\n",
       "    </tr>\n",
       "    <tr>\n",
       "      <th>1</th>\n",
       "      <td>69431</td>\n",
       "      <td>Brooklyn</td>\n",
       "      <td>21</td>\n",
       "    </tr>\n",
       "    <tr>\n",
       "      <th>2</th>\n",
       "      <td>69431</td>\n",
       "      <td>Brooklyn</td>\n",
       "      <td>23</td>\n",
       "    </tr>\n",
       "    <tr>\n",
       "      <th>3</th>\n",
       "      <td>69431</td>\n",
       "      <td>Brooklyn</td>\n",
       "      <td>17</td>\n",
       "    </tr>\n",
       "    <tr>\n",
       "      <th>4</th>\n",
       "      <td>69431</td>\n",
       "      <td>Brooklyn</td>\n",
       "      <td>18</td>\n",
       "    </tr>\n",
       "    <tr>\n",
       "      <th>...</th>\n",
       "      <td>...</td>\n",
       "      <td>...</td>\n",
       "      <td>...</td>\n",
       "    </tr>\n",
       "    <tr>\n",
       "      <th>7632</th>\n",
       "      <td>55697</td>\n",
       "      <td>Brooklyn</td>\n",
       "      <td>1</td>\n",
       "    </tr>\n",
       "    <tr>\n",
       "      <th>7633</th>\n",
       "      <td>55773</td>\n",
       "      <td>Staten Island</td>\n",
       "      <td>1</td>\n",
       "    </tr>\n",
       "    <tr>\n",
       "      <th>7634</th>\n",
       "      <td>57341</td>\n",
       "      <td>Staten Island</td>\n",
       "      <td>1</td>\n",
       "    </tr>\n",
       "    <tr>\n",
       "      <th>7635</th>\n",
       "      <td>55647</td>\n",
       "      <td>Brooklyn</td>\n",
       "      <td>1</td>\n",
       "    </tr>\n",
       "    <tr>\n",
       "      <th>7636</th>\n",
       "      <td>55759</td>\n",
       "      <td>Queens</td>\n",
       "      <td>1</td>\n",
       "    </tr>\n",
       "  </tbody>\n",
       "</table>\n",
       "<p>7637 rows × 3 columns</p>\n",
       "</div>"
      ],
      "text/plain": [
       "      Project ID        Borough  Total Units\n",
       "0          68806       Brooklyn          251\n",
       "1          69431       Brooklyn           21\n",
       "2          69431       Brooklyn           23\n",
       "3          69431       Brooklyn           17\n",
       "4          69431       Brooklyn           18\n",
       "...          ...            ...          ...\n",
       "7632       55697       Brooklyn            1\n",
       "7633       55773  Staten Island            1\n",
       "7634       57341  Staten Island            1\n",
       "7635       55647       Brooklyn            1\n",
       "7636       55759         Queens            1\n",
       "\n",
       "[7637 rows x 3 columns]"
      ]
     },
     "execution_count": 38,
     "metadata": {},
     "output_type": "execute_result"
    }
   ],
   "source": [
    "df=df[[\"Project ID\",\"Borough\",\"Total Units\"]]\n",
    "df"
   ]
  },
  {
   "cell_type": "code",
   "execution_count": 39,
   "id": "64d0ff40-c1b5-4203-9160-cc7e382b6b2b",
   "metadata": {},
   "outputs": [
    {
     "data": {
      "text/html": [
       "<div>\n",
       "<style scoped>\n",
       "    .dataframe tbody tr th:only-of-type {\n",
       "        vertical-align: middle;\n",
       "    }\n",
       "\n",
       "    .dataframe tbody tr th {\n",
       "        vertical-align: top;\n",
       "    }\n",
       "\n",
       "    .dataframe thead th {\n",
       "        text-align: right;\n",
       "    }\n",
       "</style>\n",
       "<table border=\"1\" class=\"dataframe\">\n",
       "  <thead>\n",
       "    <tr style=\"text-align: right;\">\n",
       "      <th></th>\n",
       "      <th>Borough</th>\n",
       "      <th>Total Units per Borough</th>\n",
       "    </tr>\n",
       "  </thead>\n",
       "  <tbody>\n",
       "    <tr>\n",
       "      <th>0</th>\n",
       "      <td>Bronx</td>\n",
       "      <td>99777</td>\n",
       "    </tr>\n",
       "    <tr>\n",
       "      <th>1</th>\n",
       "      <td>Brooklyn</td>\n",
       "      <td>118056</td>\n",
       "    </tr>\n",
       "    <tr>\n",
       "      <th>2</th>\n",
       "      <td>Manhattan</td>\n",
       "      <td>88325</td>\n",
       "    </tr>\n",
       "    <tr>\n",
       "      <th>3</th>\n",
       "      <td>Queens</td>\n",
       "      <td>48635</td>\n",
       "    </tr>\n",
       "    <tr>\n",
       "      <th>4</th>\n",
       "      <td>Staten Island</td>\n",
       "      <td>3997</td>\n",
       "    </tr>\n",
       "  </tbody>\n",
       "</table>\n",
       "</div>"
      ],
      "text/plain": [
       "         Borough  Total Units per Borough\n",
       "0          Bronx                    99777\n",
       "1       Brooklyn                   118056\n",
       "2      Manhattan                    88325\n",
       "3         Queens                    48635\n",
       "4  Staten Island                     3997"
      ]
     },
     "execution_count": 39,
     "metadata": {},
     "output_type": "execute_result"
    }
   ],
   "source": [
    "#sums the total no. of units in each borough and makes a new df with this info\n",
    "\n",
    "df_byboro=df.groupby(\"Borough\")[\"Total Units\"].sum().reset_index(name=\"Total Units per Borough\")\n",
    "df_byboro"
   ]
  },
  {
   "cell_type": "code",
   "execution_count": 40,
   "id": "8b9f4d60-6fbb-40f2-96f0-f81e1733b805",
   "metadata": {},
   "outputs": [],
   "source": [
    "def tenthous_units(x):\n",
    "    y=int(x/10000)\n",
    "    return y"
   ]
  },
  {
   "cell_type": "code",
   "execution_count": 41,
   "id": "33bcc5c2-6b83-4a63-bf09-0baf90cb1a98",
   "metadata": {},
   "outputs": [
    {
     "data": {
      "text/html": [
       "<div>\n",
       "<style scoped>\n",
       "    .dataframe tbody tr th:only-of-type {\n",
       "        vertical-align: middle;\n",
       "    }\n",
       "\n",
       "    .dataframe tbody tr th {\n",
       "        vertical-align: top;\n",
       "    }\n",
       "\n",
       "    .dataframe thead th {\n",
       "        text-align: right;\n",
       "    }\n",
       "</style>\n",
       "<table border=\"1\" class=\"dataframe\">\n",
       "  <thead>\n",
       "    <tr style=\"text-align: right;\">\n",
       "      <th></th>\n",
       "      <th>Borough</th>\n",
       "      <th>Total Units per Borough</th>\n",
       "      <th>Units per Borough (10,000s)</th>\n",
       "    </tr>\n",
       "  </thead>\n",
       "  <tbody>\n",
       "    <tr>\n",
       "      <th>0</th>\n",
       "      <td>Bronx</td>\n",
       "      <td>99777</td>\n",
       "      <td>9</td>\n",
       "    </tr>\n",
       "    <tr>\n",
       "      <th>1</th>\n",
       "      <td>Brooklyn</td>\n",
       "      <td>118056</td>\n",
       "      <td>11</td>\n",
       "    </tr>\n",
       "    <tr>\n",
       "      <th>2</th>\n",
       "      <td>Manhattan</td>\n",
       "      <td>88325</td>\n",
       "      <td>8</td>\n",
       "    </tr>\n",
       "    <tr>\n",
       "      <th>3</th>\n",
       "      <td>Queens</td>\n",
       "      <td>48635</td>\n",
       "      <td>4</td>\n",
       "    </tr>\n",
       "    <tr>\n",
       "      <th>4</th>\n",
       "      <td>Staten Island</td>\n",
       "      <td>3997</td>\n",
       "      <td>0</td>\n",
       "    </tr>\n",
       "  </tbody>\n",
       "</table>\n",
       "</div>"
      ],
      "text/plain": [
       "         Borough  Total Units per Borough  Units per Borough (10,000s)\n",
       "0          Bronx                    99777                            9\n",
       "1       Brooklyn                   118056                           11\n",
       "2      Manhattan                    88325                            8\n",
       "3         Queens                    48635                            4\n",
       "4  Staten Island                     3997                            0"
      ]
     },
     "execution_count": 41,
     "metadata": {},
     "output_type": "execute_result"
    }
   ],
   "source": [
    "#creates a new column - which has the total units per borough, but in thousands\n",
    "\n",
    "df_byboro[\"Units per Borough (10,000s)\"]=df_byboro[\"Total Units per Borough\"].apply(tenthous_units)\n",
    "df_byboro[\"Units per Borough (10,000s)\"]=df_byboro[\"Units per Borough (10,000s)\"].astype(int)\n",
    "df_byboro"
   ]
  },
  {
   "cell_type": "code",
   "execution_count": 42,
   "id": "a4a70c42-1996-4f48-8a40-a01a18528433",
   "metadata": {},
   "outputs": [
    {
     "name": "stdout",
     "output_type": "stream",
     "text": [
      "Total Number of Housing Units per Borough (10,000s)\n",
      "Bronx: *********\n",
      "Brooklyn: ***********\n",
      "Manhattan: ********\n",
      "Queens: ****\n",
      "Staten Island: \n"
     ]
    }
   ],
   "source": [
    "#creates the visualization using the new 000s units column for each borough. \n",
    "#iterates through the rows in the previous df and for each borough it prints the no. of stars based on the no. of 1000s units in the borough.\n",
    "\n",
    "print(f\"Total Number of Housing Units per Borough (10,000s)\")\n",
    "for index, row in df_byboro.iterrows():\n",
    "    borough=row[\"Borough\"]\n",
    "    stars=row[\"Units per Borough (10,000s)\"]\n",
    "    print(f\"{borough}: {\"*\"*stars}\")"
   ]
  }
 ],
 "metadata": {
  "kernelspec": {
   "display_name": "Python 3 (ipykernel)",
   "language": "python",
   "name": "python3"
  },
  "language_info": {
   "codemirror_mode": {
    "name": "ipython",
    "version": 3
   },
   "file_extension": ".py",
   "mimetype": "text/x-python",
   "name": "python",
   "nbconvert_exporter": "python",
   "pygments_lexer": "ipython3",
   "version": "3.12.2"
  }
 },
 "nbformat": 4,
 "nbformat_minor": 5
}
