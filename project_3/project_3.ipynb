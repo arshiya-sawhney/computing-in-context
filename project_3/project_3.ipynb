{
 "cells": [
  {
   "cell_type": "markdown",
   "metadata": {},
   "source": [
    "# Project 3\n",
    "\n",
    "American states that have experienced the highest income growth in the past decade are those where technology-related occupations have grown the most as a share of the economy.\n",
    "\n",
    "Datasets Used:\n",
    "1. American Community Survey (ACS) Data: Selected Economic Characteristics (2012 and 2022)\n",
    "   - URL: [https://data.census.gov/table/ACSDP5Y2022.DP03?t=Industry&g=010XX00US$0400000&y=2022]\n",
    "   \n",
    "Website link: [add here]"
   ]
  },
  {
   "cell_type": "code",
   "execution_count": 1,
   "metadata": {},
   "outputs": [],
   "source": [
    "import pandas as pd\n",
    "import plotly.express as px\n",
    "import plotly.io as pio\n",
    "\n",
    "pio.renderers.default = \"vscode+jupyterlab+notebook_connected\""
   ]
  },
  {
   "cell_type": "markdown",
   "metadata": {},
   "source": [
    "### Step 1\n",
    "\n",
    "Reading in the datasets and previewing them to understand the format and structure."
   ]
  },
  {
   "cell_type": "code",
   "execution_count": 2,
   "metadata": {},
   "outputs": [],
   "source": [
    "acs_2012 = pd.read_csv('ACSDP5Y2012.DP03-Data.csv')\n",
    "acs_2022 = pd.read_csv('ACSDP5Y2022.DP03-Data.csv')"
   ]
  },
  {
   "cell_type": "code",
   "execution_count": 3,
   "metadata": {},
   "outputs": [
    {
     "data": {
      "text/html": [
       "<div>\n",
       "<style scoped>\n",
       "    .dataframe tbody tr th:only-of-type {\n",
       "        vertical-align: middle;\n",
       "    }\n",
       "\n",
       "    .dataframe tbody tr th {\n",
       "        vertical-align: top;\n",
       "    }\n",
       "\n",
       "    .dataframe thead th {\n",
       "        text-align: right;\n",
       "    }\n",
       "</style>\n",
       "<table border=\"1\" class=\"dataframe\">\n",
       "  <thead>\n",
       "    <tr style=\"text-align: right;\">\n",
       "      <th></th>\n",
       "      <th>GEO_ID</th>\n",
       "      <th>NAME</th>\n",
       "      <th>DP03_0001E</th>\n",
       "      <th>DP03_0001M</th>\n",
       "      <th>DP03_0001PE</th>\n",
       "      <th>DP03_0001PM</th>\n",
       "      <th>DP03_0002E</th>\n",
       "      <th>DP03_0002M</th>\n",
       "      <th>DP03_0002PE</th>\n",
       "      <th>DP03_0002PM</th>\n",
       "      <th>...</th>\n",
       "      <th>DP03_0135PM</th>\n",
       "      <th>DP03_0136E</th>\n",
       "      <th>DP03_0136M</th>\n",
       "      <th>DP03_0136PE</th>\n",
       "      <th>DP03_0136PM</th>\n",
       "      <th>DP03_0137E</th>\n",
       "      <th>DP03_0137M</th>\n",
       "      <th>DP03_0137PE</th>\n",
       "      <th>DP03_0137PM</th>\n",
       "      <th>Unnamed: 550</th>\n",
       "    </tr>\n",
       "  </thead>\n",
       "  <tbody>\n",
       "    <tr>\n",
       "      <th>0</th>\n",
       "      <td>Geography</td>\n",
       "      <td>Geographic Area Name</td>\n",
       "      <td>Estimate!!EMPLOYMENT STATUS!!Population 16 yea...</td>\n",
       "      <td>Margin of Error!!EMPLOYMENT STATUS!!Population...</td>\n",
       "      <td>Percent!!EMPLOYMENT STATUS!!Population 16 year...</td>\n",
       "      <td>Percent Margin of Error!!EMPLOYMENT STATUS!!Po...</td>\n",
       "      <td>Estimate!!EMPLOYMENT STATUS!!In labor force</td>\n",
       "      <td>Margin of Error!!EMPLOYMENT STATUS!!In labor f...</td>\n",
       "      <td>Percent!!EMPLOYMENT STATUS!!In labor force</td>\n",
       "      <td>Percent Margin of Error!!EMPLOYMENT STATUS!!In...</td>\n",
       "      <td>...</td>\n",
       "      <td>Percent Margin of Error!!PERCENTAGE OF FAMILIE...</td>\n",
       "      <td>Estimate!!PERCENTAGE OF FAMILIES AND PEOPLE WH...</td>\n",
       "      <td>Margin of Error!!PERCENTAGE OF FAMILIES AND PE...</td>\n",
       "      <td>Percent!!PERCENTAGE OF FAMILIES AND PEOPLE WHO...</td>\n",
       "      <td>Percent Margin of Error!!PERCENTAGE OF FAMILIE...</td>\n",
       "      <td>Estimate!!PERCENTAGE OF FAMILIES AND PEOPLE WH...</td>\n",
       "      <td>Margin of Error!!PERCENTAGE OF FAMILIES AND PE...</td>\n",
       "      <td>Percent!!PERCENTAGE OF FAMILIES AND PEOPLE WHO...</td>\n",
       "      <td>Percent Margin of Error!!PERCENTAGE OF FAMILIE...</td>\n",
       "      <td>NaN</td>\n",
       "    </tr>\n",
       "    <tr>\n",
       "      <th>1</th>\n",
       "      <td>0400000US01</td>\n",
       "      <td>Alabama</td>\n",
       "      <td>3779457</td>\n",
       "      <td>1500</td>\n",
       "      <td>3779457</td>\n",
       "      <td>(X)</td>\n",
       "      <td>2265008</td>\n",
       "      <td>5900</td>\n",
       "      <td>59.9</td>\n",
       "      <td>0.2</td>\n",
       "      <td>...</td>\n",
       "      <td>0.2</td>\n",
       "      <td>(X)</td>\n",
       "      <td>(X)</td>\n",
       "      <td>15.6</td>\n",
       "      <td>0.3</td>\n",
       "      <td>(X)</td>\n",
       "      <td>(X)</td>\n",
       "      <td>30.5</td>\n",
       "      <td>0.4</td>\n",
       "      <td>NaN</td>\n",
       "    </tr>\n",
       "    <tr>\n",
       "      <th>2</th>\n",
       "      <td>0400000US02</td>\n",
       "      <td>Alaska</td>\n",
       "      <td>545497</td>\n",
       "      <td>570</td>\n",
       "      <td>545497</td>\n",
       "      <td>(X)</td>\n",
       "      <td>389890</td>\n",
       "      <td>1910</td>\n",
       "      <td>71.5</td>\n",
       "      <td>0.3</td>\n",
       "      <td>...</td>\n",
       "      <td>0.5</td>\n",
       "      <td>(X)</td>\n",
       "      <td>(X)</td>\n",
       "      <td>7.4</td>\n",
       "      <td>0.4</td>\n",
       "      <td>(X)</td>\n",
       "      <td>(X)</td>\n",
       "      <td>18.1</td>\n",
       "      <td>0.7</td>\n",
       "      <td>NaN</td>\n",
       "    </tr>\n",
       "    <tr>\n",
       "      <th>3</th>\n",
       "      <td>0400000US04</td>\n",
       "      <td>Arizona</td>\n",
       "      <td>4967615</td>\n",
       "      <td>1895</td>\n",
       "      <td>4967615</td>\n",
       "      <td>(X)</td>\n",
       "      <td>3049419</td>\n",
       "      <td>8211</td>\n",
       "      <td>61.4</td>\n",
       "      <td>0.2</td>\n",
       "      <td>...</td>\n",
       "      <td>0.2</td>\n",
       "      <td>(X)</td>\n",
       "      <td>(X)</td>\n",
       "      <td>15.1</td>\n",
       "      <td>0.3</td>\n",
       "      <td>(X)</td>\n",
       "      <td>(X)</td>\n",
       "      <td>26.0</td>\n",
       "      <td>0.4</td>\n",
       "      <td>NaN</td>\n",
       "    </tr>\n",
       "    <tr>\n",
       "      <th>4</th>\n",
       "      <td>0400000US05</td>\n",
       "      <td>Arkansas</td>\n",
       "      <td>2285328</td>\n",
       "      <td>1147</td>\n",
       "      <td>2285328</td>\n",
       "      <td>(X)</td>\n",
       "      <td>1377211</td>\n",
       "      <td>4863</td>\n",
       "      <td>60.3</td>\n",
       "      <td>0.2</td>\n",
       "      <td>...</td>\n",
       "      <td>0.3</td>\n",
       "      <td>(X)</td>\n",
       "      <td>(X)</td>\n",
       "      <td>16.1</td>\n",
       "      <td>0.3</td>\n",
       "      <td>(X)</td>\n",
       "      <td>(X)</td>\n",
       "      <td>31.6</td>\n",
       "      <td>0.5</td>\n",
       "      <td>NaN</td>\n",
       "    </tr>\n",
       "  </tbody>\n",
       "</table>\n",
       "<p>5 rows × 551 columns</p>\n",
       "</div>"
      ],
      "text/plain": [
       "        GEO_ID                  NAME  \\\n",
       "0    Geography  Geographic Area Name   \n",
       "1  0400000US01               Alabama   \n",
       "2  0400000US02                Alaska   \n",
       "3  0400000US04               Arizona   \n",
       "4  0400000US05              Arkansas   \n",
       "\n",
       "                                          DP03_0001E  \\\n",
       "0  Estimate!!EMPLOYMENT STATUS!!Population 16 yea...   \n",
       "1                                            3779457   \n",
       "2                                             545497   \n",
       "3                                            4967615   \n",
       "4                                            2285328   \n",
       "\n",
       "                                          DP03_0001M  \\\n",
       "0  Margin of Error!!EMPLOYMENT STATUS!!Population...   \n",
       "1                                               1500   \n",
       "2                                                570   \n",
       "3                                               1895   \n",
       "4                                               1147   \n",
       "\n",
       "                                         DP03_0001PE  \\\n",
       "0  Percent!!EMPLOYMENT STATUS!!Population 16 year...   \n",
       "1                                            3779457   \n",
       "2                                             545497   \n",
       "3                                            4967615   \n",
       "4                                            2285328   \n",
       "\n",
       "                                         DP03_0001PM  \\\n",
       "0  Percent Margin of Error!!EMPLOYMENT STATUS!!Po...   \n",
       "1                                                (X)   \n",
       "2                                                (X)   \n",
       "3                                                (X)   \n",
       "4                                                (X)   \n",
       "\n",
       "                                    DP03_0002E  \\\n",
       "0  Estimate!!EMPLOYMENT STATUS!!In labor force   \n",
       "1                                      2265008   \n",
       "2                                       389890   \n",
       "3                                      3049419   \n",
       "4                                      1377211   \n",
       "\n",
       "                                          DP03_0002M  \\\n",
       "0  Margin of Error!!EMPLOYMENT STATUS!!In labor f...   \n",
       "1                                               5900   \n",
       "2                                               1910   \n",
       "3                                               8211   \n",
       "4                                               4863   \n",
       "\n",
       "                                  DP03_0002PE  \\\n",
       "0  Percent!!EMPLOYMENT STATUS!!In labor force   \n",
       "1                                        59.9   \n",
       "2                                        71.5   \n",
       "3                                        61.4   \n",
       "4                                        60.3   \n",
       "\n",
       "                                         DP03_0002PM  ...  \\\n",
       "0  Percent Margin of Error!!EMPLOYMENT STATUS!!In...  ...   \n",
       "1                                                0.2  ...   \n",
       "2                                                0.3  ...   \n",
       "3                                                0.2  ...   \n",
       "4                                                0.2  ...   \n",
       "\n",
       "                                         DP03_0135PM  \\\n",
       "0  Percent Margin of Error!!PERCENTAGE OF FAMILIE...   \n",
       "1                                                0.2   \n",
       "2                                                0.5   \n",
       "3                                                0.2   \n",
       "4                                                0.3   \n",
       "\n",
       "                                          DP03_0136E  \\\n",
       "0  Estimate!!PERCENTAGE OF FAMILIES AND PEOPLE WH...   \n",
       "1                                                (X)   \n",
       "2                                                (X)   \n",
       "3                                                (X)   \n",
       "4                                                (X)   \n",
       "\n",
       "                                          DP03_0136M  \\\n",
       "0  Margin of Error!!PERCENTAGE OF FAMILIES AND PE...   \n",
       "1                                                (X)   \n",
       "2                                                (X)   \n",
       "3                                                (X)   \n",
       "4                                                (X)   \n",
       "\n",
       "                                         DP03_0136PE  \\\n",
       "0  Percent!!PERCENTAGE OF FAMILIES AND PEOPLE WHO...   \n",
       "1                                               15.6   \n",
       "2                                                7.4   \n",
       "3                                               15.1   \n",
       "4                                               16.1   \n",
       "\n",
       "                                         DP03_0136PM  \\\n",
       "0  Percent Margin of Error!!PERCENTAGE OF FAMILIE...   \n",
       "1                                                0.3   \n",
       "2                                                0.4   \n",
       "3                                                0.3   \n",
       "4                                                0.3   \n",
       "\n",
       "                                          DP03_0137E  \\\n",
       "0  Estimate!!PERCENTAGE OF FAMILIES AND PEOPLE WH...   \n",
       "1                                                (X)   \n",
       "2                                                (X)   \n",
       "3                                                (X)   \n",
       "4                                                (X)   \n",
       "\n",
       "                                          DP03_0137M  \\\n",
       "0  Margin of Error!!PERCENTAGE OF FAMILIES AND PE...   \n",
       "1                                                (X)   \n",
       "2                                                (X)   \n",
       "3                                                (X)   \n",
       "4                                                (X)   \n",
       "\n",
       "                                         DP03_0137PE  \\\n",
       "0  Percent!!PERCENTAGE OF FAMILIES AND PEOPLE WHO...   \n",
       "1                                               30.5   \n",
       "2                                               18.1   \n",
       "3                                               26.0   \n",
       "4                                               31.6   \n",
       "\n",
       "                                         DP03_0137PM Unnamed: 550  \n",
       "0  Percent Margin of Error!!PERCENTAGE OF FAMILIE...          NaN  \n",
       "1                                                0.4          NaN  \n",
       "2                                                0.7          NaN  \n",
       "3                                                0.4          NaN  \n",
       "4                                                0.5          NaN  \n",
       "\n",
       "[5 rows x 551 columns]"
      ]
     },
     "execution_count": 3,
     "metadata": {},
     "output_type": "execute_result"
    }
   ],
   "source": [
    "#Displaying a preview of each dataset\n",
    "acs_2012.head()"
   ]
  },
  {
   "cell_type": "code",
   "execution_count": 4,
   "metadata": {},
   "outputs": [
    {
     "data": {
      "text/html": [
       "<div>\n",
       "<style scoped>\n",
       "    .dataframe tbody tr th:only-of-type {\n",
       "        vertical-align: middle;\n",
       "    }\n",
       "\n",
       "    .dataframe tbody tr th {\n",
       "        vertical-align: top;\n",
       "    }\n",
       "\n",
       "    .dataframe thead th {\n",
       "        text-align: right;\n",
       "    }\n",
       "</style>\n",
       "<table border=\"1\" class=\"dataframe\">\n",
       "  <thead>\n",
       "    <tr style=\"text-align: right;\">\n",
       "      <th></th>\n",
       "      <th>GEO_ID</th>\n",
       "      <th>NAME</th>\n",
       "      <th>DP03_0001E</th>\n",
       "      <th>DP03_0001M</th>\n",
       "      <th>DP03_0002E</th>\n",
       "      <th>DP03_0002M</th>\n",
       "      <th>DP03_0003E</th>\n",
       "      <th>DP03_0003M</th>\n",
       "      <th>DP03_0004E</th>\n",
       "      <th>DP03_0004M</th>\n",
       "      <th>...</th>\n",
       "      <th>DP03_0133PE</th>\n",
       "      <th>DP03_0133PM</th>\n",
       "      <th>DP03_0134PE</th>\n",
       "      <th>DP03_0134PM</th>\n",
       "      <th>DP03_0135PE</th>\n",
       "      <th>DP03_0135PM</th>\n",
       "      <th>DP03_0136PE</th>\n",
       "      <th>DP03_0136PM</th>\n",
       "      <th>DP03_0137PE</th>\n",
       "      <th>DP03_0137PM</th>\n",
       "    </tr>\n",
       "  </thead>\n",
       "  <tbody>\n",
       "    <tr>\n",
       "      <th>0</th>\n",
       "      <td>Geography</td>\n",
       "      <td>Geographic Area Name</td>\n",
       "      <td>Estimate!!EMPLOYMENT STATUS!!Population 16 yea...</td>\n",
       "      <td>Margin of Error!!EMPLOYMENT STATUS!!Population...</td>\n",
       "      <td>Estimate!!EMPLOYMENT STATUS!!Population 16 yea...</td>\n",
       "      <td>Margin of Error!!EMPLOYMENT STATUS!!Population...</td>\n",
       "      <td>Estimate!!EMPLOYMENT STATUS!!Population 16 yea...</td>\n",
       "      <td>Margin of Error!!EMPLOYMENT STATUS!!Population...</td>\n",
       "      <td>Estimate!!EMPLOYMENT STATUS!!Population 16 yea...</td>\n",
       "      <td>Margin of Error!!EMPLOYMENT STATUS!!Population...</td>\n",
       "      <td>...</td>\n",
       "      <td>Percent!!PERCENTAGE OF FAMILIES AND PEOPLE WHO...</td>\n",
       "      <td>Percent Margin of Error!!PERCENTAGE OF FAMILIE...</td>\n",
       "      <td>Percent!!PERCENTAGE OF FAMILIES AND PEOPLE WHO...</td>\n",
       "      <td>Percent Margin of Error!!PERCENTAGE OF FAMILIE...</td>\n",
       "      <td>Percent!!PERCENTAGE OF FAMILIES AND PEOPLE WHO...</td>\n",
       "      <td>Percent Margin of Error!!PERCENTAGE OF FAMILIE...</td>\n",
       "      <td>Percent!!PERCENTAGE OF FAMILIES AND PEOPLE WHO...</td>\n",
       "      <td>Percent Margin of Error!!PERCENTAGE OF FAMILIE...</td>\n",
       "      <td>Percent!!PERCENTAGE OF FAMILIES AND PEOPLE WHO...</td>\n",
       "      <td>Percent Margin of Error!!PERCENTAGE OF FAMILIE...</td>\n",
       "    </tr>\n",
       "    <tr>\n",
       "      <th>1</th>\n",
       "      <td>0400000US01</td>\n",
       "      <td>Alabama</td>\n",
       "      <td>4046614</td>\n",
       "      <td>2035</td>\n",
       "      <td>2345086</td>\n",
       "      <td>8674</td>\n",
       "      <td>2329696</td>\n",
       "      <td>8624</td>\n",
       "      <td>2209666</td>\n",
       "      <td>9114</td>\n",
       "      <td>...</td>\n",
       "      <td>13.9</td>\n",
       "      <td>0.2</td>\n",
       "      <td>14.8</td>\n",
       "      <td>0.2</td>\n",
       "      <td>11</td>\n",
       "      <td>0.3</td>\n",
       "      <td>12.5</td>\n",
       "      <td>0.3</td>\n",
       "      <td>29.8</td>\n",
       "      <td>0.4</td>\n",
       "    </tr>\n",
       "    <tr>\n",
       "      <th>2</th>\n",
       "      <td>0400000US02</td>\n",
       "      <td>Alaska</td>\n",
       "      <td>573998</td>\n",
       "      <td>602</td>\n",
       "      <td>383078</td>\n",
       "      <td>1898</td>\n",
       "      <td>362197</td>\n",
       "      <td>2166</td>\n",
       "      <td>339162</td>\n",
       "      <td>2259</td>\n",
       "      <td>...</td>\n",
       "      <td>9.7</td>\n",
       "      <td>0.4</td>\n",
       "      <td>10</td>\n",
       "      <td>0.5</td>\n",
       "      <td>7.8</td>\n",
       "      <td>0.7</td>\n",
       "      <td>8</td>\n",
       "      <td>0.5</td>\n",
       "      <td>19.5</td>\n",
       "      <td>0.8</td>\n",
       "    </tr>\n",
       "    <tr>\n",
       "      <th>3</th>\n",
       "      <td>0400000US04</td>\n",
       "      <td>Arizona</td>\n",
       "      <td>5764417</td>\n",
       "      <td>1806</td>\n",
       "      <td>3490030</td>\n",
       "      <td>8002</td>\n",
       "      <td>3467247</td>\n",
       "      <td>8044</td>\n",
       "      <td>3281189</td>\n",
       "      <td>9302</td>\n",
       "      <td>...</td>\n",
       "      <td>11.7</td>\n",
       "      <td>0.1</td>\n",
       "      <td>12.4</td>\n",
       "      <td>0.2</td>\n",
       "      <td>9.3</td>\n",
       "      <td>0.2</td>\n",
       "      <td>10.6</td>\n",
       "      <td>0.2</td>\n",
       "      <td>22.7</td>\n",
       "      <td>0.3</td>\n",
       "    </tr>\n",
       "    <tr>\n",
       "      <th>4</th>\n",
       "      <td>0400000US05</td>\n",
       "      <td>Arkansas</td>\n",
       "      <td>2402462</td>\n",
       "      <td>1327</td>\n",
       "      <td>1397075</td>\n",
       "      <td>6750</td>\n",
       "      <td>1391084</td>\n",
       "      <td>6730</td>\n",
       "      <td>1319483</td>\n",
       "      <td>6785</td>\n",
       "      <td>...</td>\n",
       "      <td>14.4</td>\n",
       "      <td>0.2</td>\n",
       "      <td>15.5</td>\n",
       "      <td>0.2</td>\n",
       "      <td>10.7</td>\n",
       "      <td>0.3</td>\n",
       "      <td>13.1</td>\n",
       "      <td>0.3</td>\n",
       "      <td>29.3</td>\n",
       "      <td>0.5</td>\n",
       "    </tr>\n",
       "  </tbody>\n",
       "</table>\n",
       "<p>5 rows × 550 columns</p>\n",
       "</div>"
      ],
      "text/plain": [
       "        GEO_ID                  NAME  \\\n",
       "0    Geography  Geographic Area Name   \n",
       "1  0400000US01               Alabama   \n",
       "2  0400000US02                Alaska   \n",
       "3  0400000US04               Arizona   \n",
       "4  0400000US05              Arkansas   \n",
       "\n",
       "                                          DP03_0001E  \\\n",
       "0  Estimate!!EMPLOYMENT STATUS!!Population 16 yea...   \n",
       "1                                            4046614   \n",
       "2                                             573998   \n",
       "3                                            5764417   \n",
       "4                                            2402462   \n",
       "\n",
       "                                          DP03_0001M  \\\n",
       "0  Margin of Error!!EMPLOYMENT STATUS!!Population...   \n",
       "1                                               2035   \n",
       "2                                                602   \n",
       "3                                               1806   \n",
       "4                                               1327   \n",
       "\n",
       "                                          DP03_0002E  \\\n",
       "0  Estimate!!EMPLOYMENT STATUS!!Population 16 yea...   \n",
       "1                                            2345086   \n",
       "2                                             383078   \n",
       "3                                            3490030   \n",
       "4                                            1397075   \n",
       "\n",
       "                                          DP03_0002M  \\\n",
       "0  Margin of Error!!EMPLOYMENT STATUS!!Population...   \n",
       "1                                               8674   \n",
       "2                                               1898   \n",
       "3                                               8002   \n",
       "4                                               6750   \n",
       "\n",
       "                                          DP03_0003E  \\\n",
       "0  Estimate!!EMPLOYMENT STATUS!!Population 16 yea...   \n",
       "1                                            2329696   \n",
       "2                                             362197   \n",
       "3                                            3467247   \n",
       "4                                            1391084   \n",
       "\n",
       "                                          DP03_0003M  \\\n",
       "0  Margin of Error!!EMPLOYMENT STATUS!!Population...   \n",
       "1                                               8624   \n",
       "2                                               2166   \n",
       "3                                               8044   \n",
       "4                                               6730   \n",
       "\n",
       "                                          DP03_0004E  \\\n",
       "0  Estimate!!EMPLOYMENT STATUS!!Population 16 yea...   \n",
       "1                                            2209666   \n",
       "2                                             339162   \n",
       "3                                            3281189   \n",
       "4                                            1319483   \n",
       "\n",
       "                                          DP03_0004M  ...  \\\n",
       "0  Margin of Error!!EMPLOYMENT STATUS!!Population...  ...   \n",
       "1                                               9114  ...   \n",
       "2                                               2259  ...   \n",
       "3                                               9302  ...   \n",
       "4                                               6785  ...   \n",
       "\n",
       "                                         DP03_0133PE  \\\n",
       "0  Percent!!PERCENTAGE OF FAMILIES AND PEOPLE WHO...   \n",
       "1                                               13.9   \n",
       "2                                                9.7   \n",
       "3                                               11.7   \n",
       "4                                               14.4   \n",
       "\n",
       "                                         DP03_0133PM  \\\n",
       "0  Percent Margin of Error!!PERCENTAGE OF FAMILIE...   \n",
       "1                                                0.2   \n",
       "2                                                0.4   \n",
       "3                                                0.1   \n",
       "4                                                0.2   \n",
       "\n",
       "                                         DP03_0134PE  \\\n",
       "0  Percent!!PERCENTAGE OF FAMILIES AND PEOPLE WHO...   \n",
       "1                                               14.8   \n",
       "2                                                 10   \n",
       "3                                               12.4   \n",
       "4                                               15.5   \n",
       "\n",
       "                                         DP03_0134PM  \\\n",
       "0  Percent Margin of Error!!PERCENTAGE OF FAMILIE...   \n",
       "1                                                0.2   \n",
       "2                                                0.5   \n",
       "3                                                0.2   \n",
       "4                                                0.2   \n",
       "\n",
       "                                         DP03_0135PE  \\\n",
       "0  Percent!!PERCENTAGE OF FAMILIES AND PEOPLE WHO...   \n",
       "1                                                 11   \n",
       "2                                                7.8   \n",
       "3                                                9.3   \n",
       "4                                               10.7   \n",
       "\n",
       "                                         DP03_0135PM  \\\n",
       "0  Percent Margin of Error!!PERCENTAGE OF FAMILIE...   \n",
       "1                                                0.3   \n",
       "2                                                0.7   \n",
       "3                                                0.2   \n",
       "4                                                0.3   \n",
       "\n",
       "                                         DP03_0136PE  \\\n",
       "0  Percent!!PERCENTAGE OF FAMILIES AND PEOPLE WHO...   \n",
       "1                                               12.5   \n",
       "2                                                  8   \n",
       "3                                               10.6   \n",
       "4                                               13.1   \n",
       "\n",
       "                                         DP03_0136PM  \\\n",
       "0  Percent Margin of Error!!PERCENTAGE OF FAMILIE...   \n",
       "1                                                0.3   \n",
       "2                                                0.5   \n",
       "3                                                0.2   \n",
       "4                                                0.3   \n",
       "\n",
       "                                         DP03_0137PE  \\\n",
       "0  Percent!!PERCENTAGE OF FAMILIES AND PEOPLE WHO...   \n",
       "1                                               29.8   \n",
       "2                                               19.5   \n",
       "3                                               22.7   \n",
       "4                                               29.3   \n",
       "\n",
       "                                         DP03_0137PM  \n",
       "0  Percent Margin of Error!!PERCENTAGE OF FAMILIE...  \n",
       "1                                                0.4  \n",
       "2                                                0.8  \n",
       "3                                                0.3  \n",
       "4                                                0.5  \n",
       "\n",
       "[5 rows x 550 columns]"
      ]
     },
     "execution_count": 4,
     "metadata": {},
     "output_type": "execute_result"
    }
   ],
   "source": [
    "acs_2022.head()"
   ]
  },
  {
   "cell_type": "markdown",
   "metadata": {},
   "source": [
    "### Step 2\n",
    "Concatenating the datasets to have a combined dataframe which has observations from both 2012 and 2022.\n",
    "\n",
    "In order to do this, we check that the datasets are identical (in terms of structure and columns)."
   ]
  },
  {
   "cell_type": "code",
   "execution_count": 5,
   "metadata": {},
   "outputs": [
    {
     "name": "stdout",
     "output_type": "stream",
     "text": [
      "The columns are not identical\n"
     ]
    }
   ],
   "source": [
    "columns_2012 = set(acs_2012.columns)\n",
    "columns_2022 = set(acs_2022.columns)\n",
    "\n",
    "if columns_2012 == columns_2022:\n",
    "    print(\"The columns in both datasets are identical.\")\n",
    "else:\n",
    "    print(\"The columns are not identical\")"
   ]
  },
  {
   "cell_type": "markdown",
   "metadata": {},
   "source": [
    "Since they have identical columns (as expected) we can concatenate them - ie vertically stack them or join the one on top of the other."
   ]
  },
  {
   "cell_type": "code",
   "execution_count": 6,
   "metadata": {},
   "outputs": [
    {
     "data": {
      "text/html": [
       "<div>\n",
       "<style scoped>\n",
       "    .dataframe tbody tr th:only-of-type {\n",
       "        vertical-align: middle;\n",
       "    }\n",
       "\n",
       "    .dataframe tbody tr th {\n",
       "        vertical-align: top;\n",
       "    }\n",
       "\n",
       "    .dataframe thead th {\n",
       "        text-align: right;\n",
       "    }\n",
       "</style>\n",
       "<table border=\"1\" class=\"dataframe\">\n",
       "  <thead>\n",
       "    <tr style=\"text-align: right;\">\n",
       "      <th></th>\n",
       "      <th>GEO_ID</th>\n",
       "      <th>NAME</th>\n",
       "      <th>DP03_0001E</th>\n",
       "      <th>DP03_0001M</th>\n",
       "      <th>DP03_0001PE</th>\n",
       "      <th>DP03_0001PM</th>\n",
       "      <th>DP03_0002E</th>\n",
       "      <th>DP03_0002M</th>\n",
       "      <th>DP03_0002PE</th>\n",
       "      <th>DP03_0002PM</th>\n",
       "      <th>...</th>\n",
       "      <th>DP03_0136E</th>\n",
       "      <th>DP03_0136M</th>\n",
       "      <th>DP03_0136PE</th>\n",
       "      <th>DP03_0136PM</th>\n",
       "      <th>DP03_0137E</th>\n",
       "      <th>DP03_0137M</th>\n",
       "      <th>DP03_0137PE</th>\n",
       "      <th>DP03_0137PM</th>\n",
       "      <th>Unnamed: 550</th>\n",
       "      <th>Year</th>\n",
       "    </tr>\n",
       "  </thead>\n",
       "  <tbody>\n",
       "    <tr>\n",
       "      <th>0</th>\n",
       "      <td>Geography</td>\n",
       "      <td>Geographic Area Name</td>\n",
       "      <td>Estimate!!EMPLOYMENT STATUS!!Population 16 yea...</td>\n",
       "      <td>Margin of Error!!EMPLOYMENT STATUS!!Population...</td>\n",
       "      <td>Percent!!EMPLOYMENT STATUS!!Population 16 year...</td>\n",
       "      <td>Percent Margin of Error!!EMPLOYMENT STATUS!!Po...</td>\n",
       "      <td>Estimate!!EMPLOYMENT STATUS!!In labor force</td>\n",
       "      <td>Margin of Error!!EMPLOYMENT STATUS!!In labor f...</td>\n",
       "      <td>Percent!!EMPLOYMENT STATUS!!In labor force</td>\n",
       "      <td>Percent Margin of Error!!EMPLOYMENT STATUS!!In...</td>\n",
       "      <td>...</td>\n",
       "      <td>Estimate!!PERCENTAGE OF FAMILIES AND PEOPLE WH...</td>\n",
       "      <td>Margin of Error!!PERCENTAGE OF FAMILIES AND PE...</td>\n",
       "      <td>Percent!!PERCENTAGE OF FAMILIES AND PEOPLE WHO...</td>\n",
       "      <td>Percent Margin of Error!!PERCENTAGE OF FAMILIE...</td>\n",
       "      <td>Estimate!!PERCENTAGE OF FAMILIES AND PEOPLE WH...</td>\n",
       "      <td>Margin of Error!!PERCENTAGE OF FAMILIES AND PE...</td>\n",
       "      <td>Percent!!PERCENTAGE OF FAMILIES AND PEOPLE WHO...</td>\n",
       "      <td>Percent Margin of Error!!PERCENTAGE OF FAMILIE...</td>\n",
       "      <td>NaN</td>\n",
       "      <td>2012</td>\n",
       "    </tr>\n",
       "    <tr>\n",
       "      <th>1</th>\n",
       "      <td>0400000US01</td>\n",
       "      <td>Alabama</td>\n",
       "      <td>3779457</td>\n",
       "      <td>1500</td>\n",
       "      <td>3779457</td>\n",
       "      <td>(X)</td>\n",
       "      <td>2265008</td>\n",
       "      <td>5900</td>\n",
       "      <td>59.9</td>\n",
       "      <td>0.2</td>\n",
       "      <td>...</td>\n",
       "      <td>(X)</td>\n",
       "      <td>(X)</td>\n",
       "      <td>15.6</td>\n",
       "      <td>0.3</td>\n",
       "      <td>(X)</td>\n",
       "      <td>(X)</td>\n",
       "      <td>30.5</td>\n",
       "      <td>0.4</td>\n",
       "      <td>NaN</td>\n",
       "      <td>2012</td>\n",
       "    </tr>\n",
       "    <tr>\n",
       "      <th>2</th>\n",
       "      <td>0400000US02</td>\n",
       "      <td>Alaska</td>\n",
       "      <td>545497</td>\n",
       "      <td>570</td>\n",
       "      <td>545497</td>\n",
       "      <td>(X)</td>\n",
       "      <td>389890</td>\n",
       "      <td>1910</td>\n",
       "      <td>71.5</td>\n",
       "      <td>0.3</td>\n",
       "      <td>...</td>\n",
       "      <td>(X)</td>\n",
       "      <td>(X)</td>\n",
       "      <td>7.4</td>\n",
       "      <td>0.4</td>\n",
       "      <td>(X)</td>\n",
       "      <td>(X)</td>\n",
       "      <td>18.1</td>\n",
       "      <td>0.7</td>\n",
       "      <td>NaN</td>\n",
       "      <td>2012</td>\n",
       "    </tr>\n",
       "    <tr>\n",
       "      <th>3</th>\n",
       "      <td>0400000US04</td>\n",
       "      <td>Arizona</td>\n",
       "      <td>4967615</td>\n",
       "      <td>1895</td>\n",
       "      <td>4967615</td>\n",
       "      <td>(X)</td>\n",
       "      <td>3049419</td>\n",
       "      <td>8211</td>\n",
       "      <td>61.4</td>\n",
       "      <td>0.2</td>\n",
       "      <td>...</td>\n",
       "      <td>(X)</td>\n",
       "      <td>(X)</td>\n",
       "      <td>15.1</td>\n",
       "      <td>0.3</td>\n",
       "      <td>(X)</td>\n",
       "      <td>(X)</td>\n",
       "      <td>26.0</td>\n",
       "      <td>0.4</td>\n",
       "      <td>NaN</td>\n",
       "      <td>2012</td>\n",
       "    </tr>\n",
       "    <tr>\n",
       "      <th>4</th>\n",
       "      <td>0400000US05</td>\n",
       "      <td>Arkansas</td>\n",
       "      <td>2285328</td>\n",
       "      <td>1147</td>\n",
       "      <td>2285328</td>\n",
       "      <td>(X)</td>\n",
       "      <td>1377211</td>\n",
       "      <td>4863</td>\n",
       "      <td>60.3</td>\n",
       "      <td>0.2</td>\n",
       "      <td>...</td>\n",
       "      <td>(X)</td>\n",
       "      <td>(X)</td>\n",
       "      <td>16.1</td>\n",
       "      <td>0.3</td>\n",
       "      <td>(X)</td>\n",
       "      <td>(X)</td>\n",
       "      <td>31.6</td>\n",
       "      <td>0.5</td>\n",
       "      <td>NaN</td>\n",
       "      <td>2012</td>\n",
       "    </tr>\n",
       "    <tr>\n",
       "      <th>...</th>\n",
       "      <td>...</td>\n",
       "      <td>...</td>\n",
       "      <td>...</td>\n",
       "      <td>...</td>\n",
       "      <td>...</td>\n",
       "      <td>...</td>\n",
       "      <td>...</td>\n",
       "      <td>...</td>\n",
       "      <td>...</td>\n",
       "      <td>...</td>\n",
       "      <td>...</td>\n",
       "      <td>...</td>\n",
       "      <td>...</td>\n",
       "      <td>...</td>\n",
       "      <td>...</td>\n",
       "      <td>...</td>\n",
       "      <td>...</td>\n",
       "      <td>...</td>\n",
       "      <td>...</td>\n",
       "      <td>...</td>\n",
       "      <td>...</td>\n",
       "    </tr>\n",
       "    <tr>\n",
       "      <th>100</th>\n",
       "      <td>0400000US53</td>\n",
       "      <td>Washington</td>\n",
       "      <td>6209213</td>\n",
       "      <td>1750</td>\n",
       "      <td>6209213</td>\n",
       "      <td>(X)</td>\n",
       "      <td>4010799</td>\n",
       "      <td>7197</td>\n",
       "      <td>64.6</td>\n",
       "      <td>0.1</td>\n",
       "      <td>...</td>\n",
       "      <td>(X)</td>\n",
       "      <td>(X)</td>\n",
       "      <td>6.8</td>\n",
       "      <td>0.2</td>\n",
       "      <td>(X)</td>\n",
       "      <td>(X)</td>\n",
       "      <td>20.7</td>\n",
       "      <td>0.3</td>\n",
       "      <td>NaN</td>\n",
       "      <td>2022</td>\n",
       "    </tr>\n",
       "    <tr>\n",
       "      <th>101</th>\n",
       "      <td>0400000US54</td>\n",
       "      <td>West Virginia</td>\n",
       "      <td>1476838</td>\n",
       "      <td>855</td>\n",
       "      <td>1476838</td>\n",
       "      <td>(X)</td>\n",
       "      <td>786112</td>\n",
       "      <td>4619</td>\n",
       "      <td>53.2</td>\n",
       "      <td>0.3</td>\n",
       "      <td>...</td>\n",
       "      <td>(X)</td>\n",
       "      <td>(X)</td>\n",
       "      <td>13</td>\n",
       "      <td>0.5</td>\n",
       "      <td>(X)</td>\n",
       "      <td>(X)</td>\n",
       "      <td>31.1</td>\n",
       "      <td>0.7</td>\n",
       "      <td>NaN</td>\n",
       "      <td>2022</td>\n",
       "    </tr>\n",
       "    <tr>\n",
       "      <th>102</th>\n",
       "      <td>0400000US55</td>\n",
       "      <td>Wisconsin</td>\n",
       "      <td>4764779</td>\n",
       "      <td>1536</td>\n",
       "      <td>4764779</td>\n",
       "      <td>(X)</td>\n",
       "      <td>3129606</td>\n",
       "      <td>6425</td>\n",
       "      <td>65.7</td>\n",
       "      <td>0.1</td>\n",
       "      <td>...</td>\n",
       "      <td>(X)</td>\n",
       "      <td>(X)</td>\n",
       "      <td>7.3</td>\n",
       "      <td>0.1</td>\n",
       "      <td>(X)</td>\n",
       "      <td>(X)</td>\n",
       "      <td>21.8</td>\n",
       "      <td>0.3</td>\n",
       "      <td>NaN</td>\n",
       "      <td>2022</td>\n",
       "    </tr>\n",
       "    <tr>\n",
       "      <th>103</th>\n",
       "      <td>0400000US56</td>\n",
       "      <td>Wyoming</td>\n",
       "      <td>460637</td>\n",
       "      <td>640</td>\n",
       "      <td>460637</td>\n",
       "      <td>(X)</td>\n",
       "      <td>302838</td>\n",
       "      <td>1838</td>\n",
       "      <td>65.7</td>\n",
       "      <td>0.4</td>\n",
       "      <td>...</td>\n",
       "      <td>(X)</td>\n",
       "      <td>(X)</td>\n",
       "      <td>7.4</td>\n",
       "      <td>0.5</td>\n",
       "      <td>(X)</td>\n",
       "      <td>(X)</td>\n",
       "      <td>22.7</td>\n",
       "      <td>1</td>\n",
       "      <td>NaN</td>\n",
       "      <td>2022</td>\n",
       "    </tr>\n",
       "    <tr>\n",
       "      <th>104</th>\n",
       "      <td>0400000US72</td>\n",
       "      <td>Puerto Rico</td>\n",
       "      <td>2785909</td>\n",
       "      <td>1382</td>\n",
       "      <td>2785909</td>\n",
       "      <td>(X)</td>\n",
       "      <td>1250216</td>\n",
       "      <td>6319</td>\n",
       "      <td>44.9</td>\n",
       "      <td>0.2</td>\n",
       "      <td>...</td>\n",
       "      <td>(X)</td>\n",
       "      <td>(X)</td>\n",
       "      <td>39.4</td>\n",
       "      <td>0.4</td>\n",
       "      <td>(X)</td>\n",
       "      <td>(X)</td>\n",
       "      <td>54.6</td>\n",
       "      <td>0.6</td>\n",
       "      <td>NaN</td>\n",
       "      <td>2022</td>\n",
       "    </tr>\n",
       "  </tbody>\n",
       "</table>\n",
       "<p>105 rows × 552 columns</p>\n",
       "</div>"
      ],
      "text/plain": [
       "          GEO_ID                  NAME  \\\n",
       "0      Geography  Geographic Area Name   \n",
       "1    0400000US01               Alabama   \n",
       "2    0400000US02                Alaska   \n",
       "3    0400000US04               Arizona   \n",
       "4    0400000US05              Arkansas   \n",
       "..           ...                   ...   \n",
       "100  0400000US53            Washington   \n",
       "101  0400000US54         West Virginia   \n",
       "102  0400000US55             Wisconsin   \n",
       "103  0400000US56               Wyoming   \n",
       "104  0400000US72           Puerto Rico   \n",
       "\n",
       "                                            DP03_0001E  \\\n",
       "0    Estimate!!EMPLOYMENT STATUS!!Population 16 yea...   \n",
       "1                                              3779457   \n",
       "2                                               545497   \n",
       "3                                              4967615   \n",
       "4                                              2285328   \n",
       "..                                                 ...   \n",
       "100                                            6209213   \n",
       "101                                            1476838   \n",
       "102                                            4764779   \n",
       "103                                             460637   \n",
       "104                                            2785909   \n",
       "\n",
       "                                            DP03_0001M  \\\n",
       "0    Margin of Error!!EMPLOYMENT STATUS!!Population...   \n",
       "1                                                 1500   \n",
       "2                                                  570   \n",
       "3                                                 1895   \n",
       "4                                                 1147   \n",
       "..                                                 ...   \n",
       "100                                               1750   \n",
       "101                                                855   \n",
       "102                                               1536   \n",
       "103                                                640   \n",
       "104                                               1382   \n",
       "\n",
       "                                           DP03_0001PE  \\\n",
       "0    Percent!!EMPLOYMENT STATUS!!Population 16 year...   \n",
       "1                                              3779457   \n",
       "2                                               545497   \n",
       "3                                              4967615   \n",
       "4                                              2285328   \n",
       "..                                                 ...   \n",
       "100                                            6209213   \n",
       "101                                            1476838   \n",
       "102                                            4764779   \n",
       "103                                             460637   \n",
       "104                                            2785909   \n",
       "\n",
       "                                           DP03_0001PM  \\\n",
       "0    Percent Margin of Error!!EMPLOYMENT STATUS!!Po...   \n",
       "1                                                  (X)   \n",
       "2                                                  (X)   \n",
       "3                                                  (X)   \n",
       "4                                                  (X)   \n",
       "..                                                 ...   \n",
       "100                                                (X)   \n",
       "101                                                (X)   \n",
       "102                                                (X)   \n",
       "103                                                (X)   \n",
       "104                                                (X)   \n",
       "\n",
       "                                      DP03_0002E  \\\n",
       "0    Estimate!!EMPLOYMENT STATUS!!In labor force   \n",
       "1                                        2265008   \n",
       "2                                         389890   \n",
       "3                                        3049419   \n",
       "4                                        1377211   \n",
       "..                                           ...   \n",
       "100                                      4010799   \n",
       "101                                       786112   \n",
       "102                                      3129606   \n",
       "103                                       302838   \n",
       "104                                      1250216   \n",
       "\n",
       "                                            DP03_0002M  \\\n",
       "0    Margin of Error!!EMPLOYMENT STATUS!!In labor f...   \n",
       "1                                                 5900   \n",
       "2                                                 1910   \n",
       "3                                                 8211   \n",
       "4                                                 4863   \n",
       "..                                                 ...   \n",
       "100                                               7197   \n",
       "101                                               4619   \n",
       "102                                               6425   \n",
       "103                                               1838   \n",
       "104                                               6319   \n",
       "\n",
       "                                    DP03_0002PE  \\\n",
       "0    Percent!!EMPLOYMENT STATUS!!In labor force   \n",
       "1                                          59.9   \n",
       "2                                          71.5   \n",
       "3                                          61.4   \n",
       "4                                          60.3   \n",
       "..                                          ...   \n",
       "100                                        64.6   \n",
       "101                                        53.2   \n",
       "102                                        65.7   \n",
       "103                                        65.7   \n",
       "104                                        44.9   \n",
       "\n",
       "                                           DP03_0002PM  ...  \\\n",
       "0    Percent Margin of Error!!EMPLOYMENT STATUS!!In...  ...   \n",
       "1                                                  0.2  ...   \n",
       "2                                                  0.3  ...   \n",
       "3                                                  0.2  ...   \n",
       "4                                                  0.2  ...   \n",
       "..                                                 ...  ...   \n",
       "100                                                0.1  ...   \n",
       "101                                                0.3  ...   \n",
       "102                                                0.1  ...   \n",
       "103                                                0.4  ...   \n",
       "104                                                0.2  ...   \n",
       "\n",
       "                                            DP03_0136E  \\\n",
       "0    Estimate!!PERCENTAGE OF FAMILIES AND PEOPLE WH...   \n",
       "1                                                  (X)   \n",
       "2                                                  (X)   \n",
       "3                                                  (X)   \n",
       "4                                                  (X)   \n",
       "..                                                 ...   \n",
       "100                                                (X)   \n",
       "101                                                (X)   \n",
       "102                                                (X)   \n",
       "103                                                (X)   \n",
       "104                                                (X)   \n",
       "\n",
       "                                            DP03_0136M  \\\n",
       "0    Margin of Error!!PERCENTAGE OF FAMILIES AND PE...   \n",
       "1                                                  (X)   \n",
       "2                                                  (X)   \n",
       "3                                                  (X)   \n",
       "4                                                  (X)   \n",
       "..                                                 ...   \n",
       "100                                                (X)   \n",
       "101                                                (X)   \n",
       "102                                                (X)   \n",
       "103                                                (X)   \n",
       "104                                                (X)   \n",
       "\n",
       "                                           DP03_0136PE  \\\n",
       "0    Percent!!PERCENTAGE OF FAMILIES AND PEOPLE WHO...   \n",
       "1                                                 15.6   \n",
       "2                                                  7.4   \n",
       "3                                                 15.1   \n",
       "4                                                 16.1   \n",
       "..                                                 ...   \n",
       "100                                                6.8   \n",
       "101                                                 13   \n",
       "102                                                7.3   \n",
       "103                                                7.4   \n",
       "104                                               39.4   \n",
       "\n",
       "                                           DP03_0136PM  \\\n",
       "0    Percent Margin of Error!!PERCENTAGE OF FAMILIE...   \n",
       "1                                                  0.3   \n",
       "2                                                  0.4   \n",
       "3                                                  0.3   \n",
       "4                                                  0.3   \n",
       "..                                                 ...   \n",
       "100                                                0.2   \n",
       "101                                                0.5   \n",
       "102                                                0.1   \n",
       "103                                                0.5   \n",
       "104                                                0.4   \n",
       "\n",
       "                                            DP03_0137E  \\\n",
       "0    Estimate!!PERCENTAGE OF FAMILIES AND PEOPLE WH...   \n",
       "1                                                  (X)   \n",
       "2                                                  (X)   \n",
       "3                                                  (X)   \n",
       "4                                                  (X)   \n",
       "..                                                 ...   \n",
       "100                                                (X)   \n",
       "101                                                (X)   \n",
       "102                                                (X)   \n",
       "103                                                (X)   \n",
       "104                                                (X)   \n",
       "\n",
       "                                            DP03_0137M  \\\n",
       "0    Margin of Error!!PERCENTAGE OF FAMILIES AND PE...   \n",
       "1                                                  (X)   \n",
       "2                                                  (X)   \n",
       "3                                                  (X)   \n",
       "4                                                  (X)   \n",
       "..                                                 ...   \n",
       "100                                                (X)   \n",
       "101                                                (X)   \n",
       "102                                                (X)   \n",
       "103                                                (X)   \n",
       "104                                                (X)   \n",
       "\n",
       "                                           DP03_0137PE  \\\n",
       "0    Percent!!PERCENTAGE OF FAMILIES AND PEOPLE WHO...   \n",
       "1                                                 30.5   \n",
       "2                                                 18.1   \n",
       "3                                                 26.0   \n",
       "4                                                 31.6   \n",
       "..                                                 ...   \n",
       "100                                               20.7   \n",
       "101                                               31.1   \n",
       "102                                               21.8   \n",
       "103                                               22.7   \n",
       "104                                               54.6   \n",
       "\n",
       "                                           DP03_0137PM Unnamed: 550  Year  \n",
       "0    Percent Margin of Error!!PERCENTAGE OF FAMILIE...          NaN  2012  \n",
       "1                                                  0.4          NaN  2012  \n",
       "2                                                  0.7          NaN  2012  \n",
       "3                                                  0.4          NaN  2012  \n",
       "4                                                  0.5          NaN  2012  \n",
       "..                                                 ...          ...   ...  \n",
       "100                                                0.3          NaN  2022  \n",
       "101                                                0.7          NaN  2022  \n",
       "102                                                0.3          NaN  2022  \n",
       "103                                                  1          NaN  2022  \n",
       "104                                                0.6          NaN  2022  \n",
       "\n",
       "[105 rows x 552 columns]"
      ]
     },
     "execution_count": 6,
     "metadata": {},
     "output_type": "execute_result"
    }
   ],
   "source": [
    "acs_2012[\"Year\"] = 2012\n",
    "acs_2022[\"Year\"] = 2022\n",
    "\n",
    "#removing the first row so the combined data flows properly\n",
    "acs_2022 = acs_2022[1:]\n",
    "\n",
    "acs_combined = pd.concat([acs_2012,acs_2022], ignore_index=True)\n",
    "acs_combined"
   ]
  },
  {
   "cell_type": "markdown",
   "metadata": {},
   "source": [
    "Now we have 2 rows per state/ territory in the US - i.e. 104 rows of data in total (excluding headers).\n",
    "\n",
    "Let's first fix the column names so they are more descriptive - ie make row 1 the column header."
   ]
  },
  {
   "cell_type": "code",
   "execution_count": 7,
   "metadata": {},
   "outputs": [
    {
     "name": "stderr",
     "output_type": "stream",
     "text": [
      "/var/folders/pv/k_z3nhxx4wqdl8x6hkzw6xjr0000gn/T/ipykernel_7746/753708452.py:4: SettingWithCopyWarning:\n",
      "\n",
      "\n",
      "A value is trying to be set on a copy of a slice from a DataFrame\n",
      "\n",
      "See the caveats in the documentation: https://pandas.pydata.org/pandas-docs/stable/user_guide/indexing.html#returning-a-view-versus-a-copy\n",
      "\n"
     ]
    },
    {
     "data": {
      "text/html": [
       "<div>\n",
       "<style scoped>\n",
       "    .dataframe tbody tr th:only-of-type {\n",
       "        vertical-align: middle;\n",
       "    }\n",
       "\n",
       "    .dataframe tbody tr th {\n",
       "        vertical-align: top;\n",
       "    }\n",
       "\n",
       "    .dataframe thead th {\n",
       "        text-align: right;\n",
       "    }\n",
       "</style>\n",
       "<table border=\"1\" class=\"dataframe\">\n",
       "  <thead>\n",
       "    <tr style=\"text-align: right;\">\n",
       "      <th></th>\n",
       "      <th>Geography</th>\n",
       "      <th>Geographic Area Name</th>\n",
       "      <th>Estimate!!EMPLOYMENT STATUS!!Population 16 years and over</th>\n",
       "      <th>Margin of Error!!EMPLOYMENT STATUS!!Population 16 years and over</th>\n",
       "      <th>Percent!!EMPLOYMENT STATUS!!Population 16 years and over</th>\n",
       "      <th>Percent Margin of Error!!EMPLOYMENT STATUS!!Population 16 years and over</th>\n",
       "      <th>Estimate!!EMPLOYMENT STATUS!!In labor force</th>\n",
       "      <th>Margin of Error!!EMPLOYMENT STATUS!!In labor force</th>\n",
       "      <th>Percent!!EMPLOYMENT STATUS!!In labor force</th>\n",
       "      <th>Percent Margin of Error!!EMPLOYMENT STATUS!!In labor force</th>\n",
       "      <th>...</th>\n",
       "      <th>Estimate!!PERCENTAGE OF FAMILIES AND PEOPLE WHOSE INCOME IN THE PAST 12 MONTHS IS BELOW THE POVERTY LEVEL!!People in families</th>\n",
       "      <th>Margin of Error!!PERCENTAGE OF FAMILIES AND PEOPLE WHOSE INCOME IN THE PAST 12 MONTHS IS BELOW THE POVERTY LEVEL!!People in families</th>\n",
       "      <th>Percent!!PERCENTAGE OF FAMILIES AND PEOPLE WHOSE INCOME IN THE PAST 12 MONTHS IS BELOW THE POVERTY LEVEL!!People in families</th>\n",
       "      <th>Percent Margin of Error!!PERCENTAGE OF FAMILIES AND PEOPLE WHOSE INCOME IN THE PAST 12 MONTHS IS BELOW THE POVERTY LEVEL!!People in families</th>\n",
       "      <th>Estimate!!PERCENTAGE OF FAMILIES AND PEOPLE WHOSE INCOME IN THE PAST 12 MONTHS IS BELOW THE POVERTY LEVEL!!Unrelated individuals 15 years and over</th>\n",
       "      <th>Margin of Error!!PERCENTAGE OF FAMILIES AND PEOPLE WHOSE INCOME IN THE PAST 12 MONTHS IS BELOW THE POVERTY LEVEL!!Unrelated individuals 15 years and over</th>\n",
       "      <th>Percent!!PERCENTAGE OF FAMILIES AND PEOPLE WHOSE INCOME IN THE PAST 12 MONTHS IS BELOW THE POVERTY LEVEL!!Unrelated individuals 15 years and over</th>\n",
       "      <th>Percent Margin of Error!!PERCENTAGE OF FAMILIES AND PEOPLE WHOSE INCOME IN THE PAST 12 MONTHS IS BELOW THE POVERTY LEVEL!!Unrelated individuals 15 years and over</th>\n",
       "      <th>nan</th>\n",
       "      <th>Year</th>\n",
       "    </tr>\n",
       "  </thead>\n",
       "  <tbody>\n",
       "    <tr>\n",
       "      <th>1</th>\n",
       "      <td>0400000US01</td>\n",
       "      <td>Alabama</td>\n",
       "      <td>3779457</td>\n",
       "      <td>1500</td>\n",
       "      <td>3779457</td>\n",
       "      <td>(X)</td>\n",
       "      <td>2265008</td>\n",
       "      <td>5900</td>\n",
       "      <td>59.9</td>\n",
       "      <td>0.2</td>\n",
       "      <td>...</td>\n",
       "      <td>(X)</td>\n",
       "      <td>(X)</td>\n",
       "      <td>15.6</td>\n",
       "      <td>0.3</td>\n",
       "      <td>(X)</td>\n",
       "      <td>(X)</td>\n",
       "      <td>30.5</td>\n",
       "      <td>0.4</td>\n",
       "      <td>NaN</td>\n",
       "      <td>2012</td>\n",
       "    </tr>\n",
       "    <tr>\n",
       "      <th>2</th>\n",
       "      <td>0400000US02</td>\n",
       "      <td>Alaska</td>\n",
       "      <td>545497</td>\n",
       "      <td>570</td>\n",
       "      <td>545497</td>\n",
       "      <td>(X)</td>\n",
       "      <td>389890</td>\n",
       "      <td>1910</td>\n",
       "      <td>71.5</td>\n",
       "      <td>0.3</td>\n",
       "      <td>...</td>\n",
       "      <td>(X)</td>\n",
       "      <td>(X)</td>\n",
       "      <td>7.4</td>\n",
       "      <td>0.4</td>\n",
       "      <td>(X)</td>\n",
       "      <td>(X)</td>\n",
       "      <td>18.1</td>\n",
       "      <td>0.7</td>\n",
       "      <td>NaN</td>\n",
       "      <td>2012</td>\n",
       "    </tr>\n",
       "    <tr>\n",
       "      <th>3</th>\n",
       "      <td>0400000US04</td>\n",
       "      <td>Arizona</td>\n",
       "      <td>4967615</td>\n",
       "      <td>1895</td>\n",
       "      <td>4967615</td>\n",
       "      <td>(X)</td>\n",
       "      <td>3049419</td>\n",
       "      <td>8211</td>\n",
       "      <td>61.4</td>\n",
       "      <td>0.2</td>\n",
       "      <td>...</td>\n",
       "      <td>(X)</td>\n",
       "      <td>(X)</td>\n",
       "      <td>15.1</td>\n",
       "      <td>0.3</td>\n",
       "      <td>(X)</td>\n",
       "      <td>(X)</td>\n",
       "      <td>26.0</td>\n",
       "      <td>0.4</td>\n",
       "      <td>NaN</td>\n",
       "      <td>2012</td>\n",
       "    </tr>\n",
       "    <tr>\n",
       "      <th>4</th>\n",
       "      <td>0400000US05</td>\n",
       "      <td>Arkansas</td>\n",
       "      <td>2285328</td>\n",
       "      <td>1147</td>\n",
       "      <td>2285328</td>\n",
       "      <td>(X)</td>\n",
       "      <td>1377211</td>\n",
       "      <td>4863</td>\n",
       "      <td>60.3</td>\n",
       "      <td>0.2</td>\n",
       "      <td>...</td>\n",
       "      <td>(X)</td>\n",
       "      <td>(X)</td>\n",
       "      <td>16.1</td>\n",
       "      <td>0.3</td>\n",
       "      <td>(X)</td>\n",
       "      <td>(X)</td>\n",
       "      <td>31.6</td>\n",
       "      <td>0.5</td>\n",
       "      <td>NaN</td>\n",
       "      <td>2012</td>\n",
       "    </tr>\n",
       "    <tr>\n",
       "      <th>5</th>\n",
       "      <td>0400000US06</td>\n",
       "      <td>California</td>\n",
       "      <td>29163075</td>\n",
       "      <td>4124</td>\n",
       "      <td>29163075</td>\n",
       "      <td>(X)</td>\n",
       "      <td>18821426</td>\n",
       "      <td>20899</td>\n",
       "      <td>64.5</td>\n",
       "      <td>0.1</td>\n",
       "      <td>...</td>\n",
       "      <td>(X)</td>\n",
       "      <td>(X)</td>\n",
       "      <td>13.0</td>\n",
       "      <td>0.1</td>\n",
       "      <td>(X)</td>\n",
       "      <td>(X)</td>\n",
       "      <td>25.9</td>\n",
       "      <td>0.2</td>\n",
       "      <td>NaN</td>\n",
       "      <td>2012</td>\n",
       "    </tr>\n",
       "    <tr>\n",
       "      <th>...</th>\n",
       "      <td>...</td>\n",
       "      <td>...</td>\n",
       "      <td>...</td>\n",
       "      <td>...</td>\n",
       "      <td>...</td>\n",
       "      <td>...</td>\n",
       "      <td>...</td>\n",
       "      <td>...</td>\n",
       "      <td>...</td>\n",
       "      <td>...</td>\n",
       "      <td>...</td>\n",
       "      <td>...</td>\n",
       "      <td>...</td>\n",
       "      <td>...</td>\n",
       "      <td>...</td>\n",
       "      <td>...</td>\n",
       "      <td>...</td>\n",
       "      <td>...</td>\n",
       "      <td>...</td>\n",
       "      <td>...</td>\n",
       "      <td>...</td>\n",
       "    </tr>\n",
       "    <tr>\n",
       "      <th>100</th>\n",
       "      <td>0400000US53</td>\n",
       "      <td>Washington</td>\n",
       "      <td>6209213</td>\n",
       "      <td>1750</td>\n",
       "      <td>6209213</td>\n",
       "      <td>(X)</td>\n",
       "      <td>4010799</td>\n",
       "      <td>7197</td>\n",
       "      <td>64.6</td>\n",
       "      <td>0.1</td>\n",
       "      <td>...</td>\n",
       "      <td>(X)</td>\n",
       "      <td>(X)</td>\n",
       "      <td>6.8</td>\n",
       "      <td>0.2</td>\n",
       "      <td>(X)</td>\n",
       "      <td>(X)</td>\n",
       "      <td>20.7</td>\n",
       "      <td>0.3</td>\n",
       "      <td>NaN</td>\n",
       "      <td>2022</td>\n",
       "    </tr>\n",
       "    <tr>\n",
       "      <th>101</th>\n",
       "      <td>0400000US54</td>\n",
       "      <td>West Virginia</td>\n",
       "      <td>1476838</td>\n",
       "      <td>855</td>\n",
       "      <td>1476838</td>\n",
       "      <td>(X)</td>\n",
       "      <td>786112</td>\n",
       "      <td>4619</td>\n",
       "      <td>53.2</td>\n",
       "      <td>0.3</td>\n",
       "      <td>...</td>\n",
       "      <td>(X)</td>\n",
       "      <td>(X)</td>\n",
       "      <td>13</td>\n",
       "      <td>0.5</td>\n",
       "      <td>(X)</td>\n",
       "      <td>(X)</td>\n",
       "      <td>31.1</td>\n",
       "      <td>0.7</td>\n",
       "      <td>NaN</td>\n",
       "      <td>2022</td>\n",
       "    </tr>\n",
       "    <tr>\n",
       "      <th>102</th>\n",
       "      <td>0400000US55</td>\n",
       "      <td>Wisconsin</td>\n",
       "      <td>4764779</td>\n",
       "      <td>1536</td>\n",
       "      <td>4764779</td>\n",
       "      <td>(X)</td>\n",
       "      <td>3129606</td>\n",
       "      <td>6425</td>\n",
       "      <td>65.7</td>\n",
       "      <td>0.1</td>\n",
       "      <td>...</td>\n",
       "      <td>(X)</td>\n",
       "      <td>(X)</td>\n",
       "      <td>7.3</td>\n",
       "      <td>0.1</td>\n",
       "      <td>(X)</td>\n",
       "      <td>(X)</td>\n",
       "      <td>21.8</td>\n",
       "      <td>0.3</td>\n",
       "      <td>NaN</td>\n",
       "      <td>2022</td>\n",
       "    </tr>\n",
       "    <tr>\n",
       "      <th>103</th>\n",
       "      <td>0400000US56</td>\n",
       "      <td>Wyoming</td>\n",
       "      <td>460637</td>\n",
       "      <td>640</td>\n",
       "      <td>460637</td>\n",
       "      <td>(X)</td>\n",
       "      <td>302838</td>\n",
       "      <td>1838</td>\n",
       "      <td>65.7</td>\n",
       "      <td>0.4</td>\n",
       "      <td>...</td>\n",
       "      <td>(X)</td>\n",
       "      <td>(X)</td>\n",
       "      <td>7.4</td>\n",
       "      <td>0.5</td>\n",
       "      <td>(X)</td>\n",
       "      <td>(X)</td>\n",
       "      <td>22.7</td>\n",
       "      <td>1</td>\n",
       "      <td>NaN</td>\n",
       "      <td>2022</td>\n",
       "    </tr>\n",
       "    <tr>\n",
       "      <th>104</th>\n",
       "      <td>0400000US72</td>\n",
       "      <td>Puerto Rico</td>\n",
       "      <td>2785909</td>\n",
       "      <td>1382</td>\n",
       "      <td>2785909</td>\n",
       "      <td>(X)</td>\n",
       "      <td>1250216</td>\n",
       "      <td>6319</td>\n",
       "      <td>44.9</td>\n",
       "      <td>0.2</td>\n",
       "      <td>...</td>\n",
       "      <td>(X)</td>\n",
       "      <td>(X)</td>\n",
       "      <td>39.4</td>\n",
       "      <td>0.4</td>\n",
       "      <td>(X)</td>\n",
       "      <td>(X)</td>\n",
       "      <td>54.6</td>\n",
       "      <td>0.6</td>\n",
       "      <td>NaN</td>\n",
       "      <td>2022</td>\n",
       "    </tr>\n",
       "  </tbody>\n",
       "</table>\n",
       "<p>104 rows × 552 columns</p>\n",
       "</div>"
      ],
      "text/plain": [
       "0      Geography Geographic Area Name  \\\n",
       "1    0400000US01              Alabama   \n",
       "2    0400000US02               Alaska   \n",
       "3    0400000US04              Arizona   \n",
       "4    0400000US05             Arkansas   \n",
       "5    0400000US06           California   \n",
       "..           ...                  ...   \n",
       "100  0400000US53           Washington   \n",
       "101  0400000US54        West Virginia   \n",
       "102  0400000US55            Wisconsin   \n",
       "103  0400000US56              Wyoming   \n",
       "104  0400000US72          Puerto Rico   \n",
       "\n",
       "0   Estimate!!EMPLOYMENT STATUS!!Population 16 years and over  \\\n",
       "1                                              3779457          \n",
       "2                                               545497          \n",
       "3                                              4967615          \n",
       "4                                              2285328          \n",
       "5                                             29163075          \n",
       "..                                                 ...          \n",
       "100                                            6209213          \n",
       "101                                            1476838          \n",
       "102                                            4764779          \n",
       "103                                             460637          \n",
       "104                                            2785909          \n",
       "\n",
       "0   Margin of Error!!EMPLOYMENT STATUS!!Population 16 years and over  \\\n",
       "1                                                 1500                 \n",
       "2                                                  570                 \n",
       "3                                                 1895                 \n",
       "4                                                 1147                 \n",
       "5                                                 4124                 \n",
       "..                                                 ...                 \n",
       "100                                               1750                 \n",
       "101                                                855                 \n",
       "102                                               1536                 \n",
       "103                                                640                 \n",
       "104                                               1382                 \n",
       "\n",
       "0   Percent!!EMPLOYMENT STATUS!!Population 16 years and over  \\\n",
       "1                                              3779457         \n",
       "2                                               545497         \n",
       "3                                              4967615         \n",
       "4                                              2285328         \n",
       "5                                             29163075         \n",
       "..                                                 ...         \n",
       "100                                            6209213         \n",
       "101                                            1476838         \n",
       "102                                            4764779         \n",
       "103                                             460637         \n",
       "104                                            2785909         \n",
       "\n",
       "0   Percent Margin of Error!!EMPLOYMENT STATUS!!Population 16 years and over  \\\n",
       "1                                                  (X)                         \n",
       "2                                                  (X)                         \n",
       "3                                                  (X)                         \n",
       "4                                                  (X)                         \n",
       "5                                                  (X)                         \n",
       "..                                                 ...                         \n",
       "100                                                (X)                         \n",
       "101                                                (X)                         \n",
       "102                                                (X)                         \n",
       "103                                                (X)                         \n",
       "104                                                (X)                         \n",
       "\n",
       "0   Estimate!!EMPLOYMENT STATUS!!In labor force  \\\n",
       "1                                       2265008   \n",
       "2                                        389890   \n",
       "3                                       3049419   \n",
       "4                                       1377211   \n",
       "5                                      18821426   \n",
       "..                                          ...   \n",
       "100                                     4010799   \n",
       "101                                      786112   \n",
       "102                                     3129606   \n",
       "103                                      302838   \n",
       "104                                     1250216   \n",
       "\n",
       "0   Margin of Error!!EMPLOYMENT STATUS!!In labor force  \\\n",
       "1                                                 5900   \n",
       "2                                                 1910   \n",
       "3                                                 8211   \n",
       "4                                                 4863   \n",
       "5                                                20899   \n",
       "..                                                 ...   \n",
       "100                                               7197   \n",
       "101                                               4619   \n",
       "102                                               6425   \n",
       "103                                               1838   \n",
       "104                                               6319   \n",
       "\n",
       "0   Percent!!EMPLOYMENT STATUS!!In labor force  \\\n",
       "1                                         59.9   \n",
       "2                                         71.5   \n",
       "3                                         61.4   \n",
       "4                                         60.3   \n",
       "5                                         64.5   \n",
       "..                                         ...   \n",
       "100                                       64.6   \n",
       "101                                       53.2   \n",
       "102                                       65.7   \n",
       "103                                       65.7   \n",
       "104                                       44.9   \n",
       "\n",
       "0   Percent Margin of Error!!EMPLOYMENT STATUS!!In labor force  ...  \\\n",
       "1                                                  0.2          ...   \n",
       "2                                                  0.3          ...   \n",
       "3                                                  0.2          ...   \n",
       "4                                                  0.2          ...   \n",
       "5                                                  0.1          ...   \n",
       "..                                                 ...          ...   \n",
       "100                                                0.1          ...   \n",
       "101                                                0.3          ...   \n",
       "102                                                0.1          ...   \n",
       "103                                                0.4          ...   \n",
       "104                                                0.2          ...   \n",
       "\n",
       "0   Estimate!!PERCENTAGE OF FAMILIES AND PEOPLE WHOSE INCOME IN THE PAST 12 MONTHS IS BELOW THE POVERTY LEVEL!!People in families  \\\n",
       "1                                                  (X)                                                                              \n",
       "2                                                  (X)                                                                              \n",
       "3                                                  (X)                                                                              \n",
       "4                                                  (X)                                                                              \n",
       "5                                                  (X)                                                                              \n",
       "..                                                 ...                                                                              \n",
       "100                                                (X)                                                                              \n",
       "101                                                (X)                                                                              \n",
       "102                                                (X)                                                                              \n",
       "103                                                (X)                                                                              \n",
       "104                                                (X)                                                                              \n",
       "\n",
       "0   Margin of Error!!PERCENTAGE OF FAMILIES AND PEOPLE WHOSE INCOME IN THE PAST 12 MONTHS IS BELOW THE POVERTY LEVEL!!People in families  \\\n",
       "1                                                  (X)                                                                                     \n",
       "2                                                  (X)                                                                                     \n",
       "3                                                  (X)                                                                                     \n",
       "4                                                  (X)                                                                                     \n",
       "5                                                  (X)                                                                                     \n",
       "..                                                 ...                                                                                     \n",
       "100                                                (X)                                                                                     \n",
       "101                                                (X)                                                                                     \n",
       "102                                                (X)                                                                                     \n",
       "103                                                (X)                                                                                     \n",
       "104                                                (X)                                                                                     \n",
       "\n",
       "0   Percent!!PERCENTAGE OF FAMILIES AND PEOPLE WHOSE INCOME IN THE PAST 12 MONTHS IS BELOW THE POVERTY LEVEL!!People in families  \\\n",
       "1                                                 15.6                                                                             \n",
       "2                                                  7.4                                                                             \n",
       "3                                                 15.1                                                                             \n",
       "4                                                 16.1                                                                             \n",
       "5                                                 13.0                                                                             \n",
       "..                                                 ...                                                                             \n",
       "100                                                6.8                                                                             \n",
       "101                                                 13                                                                             \n",
       "102                                                7.3                                                                             \n",
       "103                                                7.4                                                                             \n",
       "104                                               39.4                                                                             \n",
       "\n",
       "0   Percent Margin of Error!!PERCENTAGE OF FAMILIES AND PEOPLE WHOSE INCOME IN THE PAST 12 MONTHS IS BELOW THE POVERTY LEVEL!!People in families  \\\n",
       "1                                                  0.3                                                                                             \n",
       "2                                                  0.4                                                                                             \n",
       "3                                                  0.3                                                                                             \n",
       "4                                                  0.3                                                                                             \n",
       "5                                                  0.1                                                                                             \n",
       "..                                                 ...                                                                                             \n",
       "100                                                0.2                                                                                             \n",
       "101                                                0.5                                                                                             \n",
       "102                                                0.1                                                                                             \n",
       "103                                                0.5                                                                                             \n",
       "104                                                0.4                                                                                             \n",
       "\n",
       "0   Estimate!!PERCENTAGE OF FAMILIES AND PEOPLE WHOSE INCOME IN THE PAST 12 MONTHS IS BELOW THE POVERTY LEVEL!!Unrelated individuals 15 years and over  \\\n",
       "1                                                  (X)                                                                                                   \n",
       "2                                                  (X)                                                                                                   \n",
       "3                                                  (X)                                                                                                   \n",
       "4                                                  (X)                                                                                                   \n",
       "5                                                  (X)                                                                                                   \n",
       "..                                                 ...                                                                                                   \n",
       "100                                                (X)                                                                                                   \n",
       "101                                                (X)                                                                                                   \n",
       "102                                                (X)                                                                                                   \n",
       "103                                                (X)                                                                                                   \n",
       "104                                                (X)                                                                                                   \n",
       "\n",
       "0   Margin of Error!!PERCENTAGE OF FAMILIES AND PEOPLE WHOSE INCOME IN THE PAST 12 MONTHS IS BELOW THE POVERTY LEVEL!!Unrelated individuals 15 years and over  \\\n",
       "1                                                  (X)                                                                                                          \n",
       "2                                                  (X)                                                                                                          \n",
       "3                                                  (X)                                                                                                          \n",
       "4                                                  (X)                                                                                                          \n",
       "5                                                  (X)                                                                                                          \n",
       "..                                                 ...                                                                                                          \n",
       "100                                                (X)                                                                                                          \n",
       "101                                                (X)                                                                                                          \n",
       "102                                                (X)                                                                                                          \n",
       "103                                                (X)                                                                                                          \n",
       "104                                                (X)                                                                                                          \n",
       "\n",
       "0   Percent!!PERCENTAGE OF FAMILIES AND PEOPLE WHOSE INCOME IN THE PAST 12 MONTHS IS BELOW THE POVERTY LEVEL!!Unrelated individuals 15 years and over  \\\n",
       "1                                                 30.5                                                                                                  \n",
       "2                                                 18.1                                                                                                  \n",
       "3                                                 26.0                                                                                                  \n",
       "4                                                 31.6                                                                                                  \n",
       "5                                                 25.9                                                                                                  \n",
       "..                                                 ...                                                                                                  \n",
       "100                                               20.7                                                                                                  \n",
       "101                                               31.1                                                                                                  \n",
       "102                                               21.8                                                                                                  \n",
       "103                                               22.7                                                                                                  \n",
       "104                                               54.6                                                                                                  \n",
       "\n",
       "0   Percent Margin of Error!!PERCENTAGE OF FAMILIES AND PEOPLE WHOSE INCOME IN THE PAST 12 MONTHS IS BELOW THE POVERTY LEVEL!!Unrelated individuals 15 years and over  \\\n",
       "1                                                  0.4                                                                                                                  \n",
       "2                                                  0.7                                                                                                                  \n",
       "3                                                  0.4                                                                                                                  \n",
       "4                                                  0.5                                                                                                                  \n",
       "5                                                  0.2                                                                                                                  \n",
       "..                                                 ...                                                                                                                  \n",
       "100                                                0.3                                                                                                                  \n",
       "101                                                0.7                                                                                                                  \n",
       "102                                                0.3                                                                                                                  \n",
       "103                                                  1                                                                                                                  \n",
       "104                                                0.6                                                                                                                  \n",
       "\n",
       "0   nan  Year  \n",
       "1   NaN  2012  \n",
       "2   NaN  2012  \n",
       "3   NaN  2012  \n",
       "4   NaN  2012  \n",
       "5   NaN  2012  \n",
       "..   ..   ...  \n",
       "100 NaN  2022  \n",
       "101 NaN  2022  \n",
       "102 NaN  2022  \n",
       "103 NaN  2022  \n",
       "104 NaN  2022  \n",
       "\n",
       "[104 rows x 552 columns]"
      ]
     },
     "execution_count": 7,
     "metadata": {},
     "output_type": "execute_result"
    }
   ],
   "source": [
    "acs_combined.columns = acs_combined.iloc[0]\n",
    "acs_combined = acs_combined[1:]\n",
    "acs_combined.columns = acs_combined.columns.astype(str)\n",
    "acs_combined.rename(columns={\"2012\": \"Year\"},inplace=True)\n",
    "acs_combined"
   ]
  },
  {
   "cell_type": "markdown",
   "metadata": {},
   "source": [
    "### Step 3: Filtering and Reshaping the Dataset\n",
    "\n",
    "There are too many columns, which is making the data hard to read and work with. Let's filter them out slightly by getting rid of all the margin of error columns, and retaining all the estimate columns."
   ]
  },
  {
   "cell_type": "code",
   "execution_count": 8,
   "metadata": {},
   "outputs": [
    {
     "data": {
      "text/html": [
       "<div>\n",
       "<style scoped>\n",
       "    .dataframe tbody tr th:only-of-type {\n",
       "        vertical-align: middle;\n",
       "    }\n",
       "\n",
       "    .dataframe tbody tr th {\n",
       "        vertical-align: top;\n",
       "    }\n",
       "\n",
       "    .dataframe thead th {\n",
       "        text-align: right;\n",
       "    }\n",
       "</style>\n",
       "<table border=\"1\" class=\"dataframe\">\n",
       "  <thead>\n",
       "    <tr style=\"text-align: right;\">\n",
       "      <th></th>\n",
       "      <th>Geography</th>\n",
       "      <th>Geographic Area Name</th>\n",
       "      <th>Year</th>\n",
       "      <th>Estimate!!EMPLOYMENT STATUS!!Population 16 years and over</th>\n",
       "      <th>Estimate!!EMPLOYMENT STATUS!!In labor force</th>\n",
       "      <th>Estimate!!EMPLOYMENT STATUS!!In labor force</th>\n",
       "      <th>Estimate!!EMPLOYMENT STATUS!!In labor force!!Civilian labor force</th>\n",
       "      <th>Estimate!!EMPLOYMENT STATUS!!In labor force!!Civilian labor force</th>\n",
       "      <th>Estimate!!EMPLOYMENT STATUS!!In labor force!!Civilian labor force!!Employed</th>\n",
       "      <th>Estimate!!EMPLOYMENT STATUS!!In labor force!!Civilian labor force!!Employed</th>\n",
       "      <th>...</th>\n",
       "      <th>Estimate!!PERCENTAGE OF FAMILIES AND PEOPLE WHOSE INCOME IN THE PAST 12 MONTHS IS BELOW THE POVERTY LEVEL!!All people</th>\n",
       "      <th>Estimate!!PERCENTAGE OF FAMILIES AND PEOPLE WHOSE INCOME IN THE PAST 12 MONTHS IS BELOW THE POVERTY LEVEL!!Under 18 years</th>\n",
       "      <th>Estimate!!PERCENTAGE OF FAMILIES AND PEOPLE WHOSE INCOME IN THE PAST 12 MONTHS IS BELOW THE POVERTY LEVEL!!Under 18 years!!Related children under 18 years</th>\n",
       "      <th>Estimate!!PERCENTAGE OF FAMILIES AND PEOPLE WHOSE INCOME IN THE PAST 12 MONTHS IS BELOW THE POVERTY LEVEL!!Under 18 years!!Related children under 18 years!!Related children under 5 years</th>\n",
       "      <th>Estimate!!PERCENTAGE OF FAMILIES AND PEOPLE WHOSE INCOME IN THE PAST 12 MONTHS IS BELOW THE POVERTY LEVEL!!Under 18 years!!Related children under 18 years!!Related children 5 to 17 years</th>\n",
       "      <th>Estimate!!PERCENTAGE OF FAMILIES AND PEOPLE WHOSE INCOME IN THE PAST 12 MONTHS IS BELOW THE POVERTY LEVEL!!18 years and over</th>\n",
       "      <th>Estimate!!PERCENTAGE OF FAMILIES AND PEOPLE WHOSE INCOME IN THE PAST 12 MONTHS IS BELOW THE POVERTY LEVEL!!18 years and over!!18 to 64 years</th>\n",
       "      <th>Estimate!!PERCENTAGE OF FAMILIES AND PEOPLE WHOSE INCOME IN THE PAST 12 MONTHS IS BELOW THE POVERTY LEVEL!!18 years and over!!65 years and over</th>\n",
       "      <th>Estimate!!PERCENTAGE OF FAMILIES AND PEOPLE WHOSE INCOME IN THE PAST 12 MONTHS IS BELOW THE POVERTY LEVEL!!People in families</th>\n",
       "      <th>Estimate!!PERCENTAGE OF FAMILIES AND PEOPLE WHOSE INCOME IN THE PAST 12 MONTHS IS BELOW THE POVERTY LEVEL!!Unrelated individuals 15 years and over</th>\n",
       "    </tr>\n",
       "  </thead>\n",
       "  <tbody>\n",
       "    <tr>\n",
       "      <th>1</th>\n",
       "      <td>0400000US01</td>\n",
       "      <td>Alabama</td>\n",
       "      <td>2012</td>\n",
       "      <td>3779457</td>\n",
       "      <td>2265008</td>\n",
       "      <td>1074255</td>\n",
       "      <td>2248665</td>\n",
       "      <td>1071803</td>\n",
       "      <td>2017887</td>\n",
       "      <td>960434</td>\n",
       "      <td>...</td>\n",
       "      <td>(X)</td>\n",
       "      <td>(X)</td>\n",
       "      <td>(X)</td>\n",
       "      <td>(X)</td>\n",
       "      <td>(X)</td>\n",
       "      <td>(X)</td>\n",
       "      <td>(X)</td>\n",
       "      <td>(X)</td>\n",
       "      <td>(X)</td>\n",
       "      <td>(X)</td>\n",
       "    </tr>\n",
       "    <tr>\n",
       "      <th>2</th>\n",
       "      <td>0400000US02</td>\n",
       "      <td>Alaska</td>\n",
       "      <td>2012</td>\n",
       "      <td>545497</td>\n",
       "      <td>389890</td>\n",
       "      <td>173809</td>\n",
       "      <td>372484</td>\n",
       "      <td>171704</td>\n",
       "      <td>341115</td>\n",
       "      <td>159818</td>\n",
       "      <td>...</td>\n",
       "      <td>(X)</td>\n",
       "      <td>(X)</td>\n",
       "      <td>(X)</td>\n",
       "      <td>(X)</td>\n",
       "      <td>(X)</td>\n",
       "      <td>(X)</td>\n",
       "      <td>(X)</td>\n",
       "      <td>(X)</td>\n",
       "      <td>(X)</td>\n",
       "      <td>(X)</td>\n",
       "    </tr>\n",
       "    <tr>\n",
       "      <th>3</th>\n",
       "      <td>0400000US04</td>\n",
       "      <td>Arizona</td>\n",
       "      <td>2012</td>\n",
       "      <td>4967615</td>\n",
       "      <td>3049419</td>\n",
       "      <td>1409513</td>\n",
       "      <td>3029669</td>\n",
       "      <td>1406746</td>\n",
       "      <td>2733537</td>\n",
       "      <td>1278068</td>\n",
       "      <td>...</td>\n",
       "      <td>(X)</td>\n",
       "      <td>(X)</td>\n",
       "      <td>(X)</td>\n",
       "      <td>(X)</td>\n",
       "      <td>(X)</td>\n",
       "      <td>(X)</td>\n",
       "      <td>(X)</td>\n",
       "      <td>(X)</td>\n",
       "      <td>(X)</td>\n",
       "      <td>(X)</td>\n",
       "    </tr>\n",
       "    <tr>\n",
       "      <th>4</th>\n",
       "      <td>0400000US05</td>\n",
       "      <td>Arkansas</td>\n",
       "      <td>2012</td>\n",
       "      <td>2285328</td>\n",
       "      <td>1377211</td>\n",
       "      <td>651709</td>\n",
       "      <td>1370423</td>\n",
       "      <td>650944</td>\n",
       "      <td>1253069</td>\n",
       "      <td>597858</td>\n",
       "      <td>...</td>\n",
       "      <td>(X)</td>\n",
       "      <td>(X)</td>\n",
       "      <td>(X)</td>\n",
       "      <td>(X)</td>\n",
       "      <td>(X)</td>\n",
       "      <td>(X)</td>\n",
       "      <td>(X)</td>\n",
       "      <td>(X)</td>\n",
       "      <td>(X)</td>\n",
       "      <td>(X)</td>\n",
       "    </tr>\n",
       "    <tr>\n",
       "      <th>5</th>\n",
       "      <td>0400000US06</td>\n",
       "      <td>California</td>\n",
       "      <td>2012</td>\n",
       "      <td>29163075</td>\n",
       "      <td>18821426</td>\n",
       "      <td>8591238</td>\n",
       "      <td>18673806</td>\n",
       "      <td>8574181</td>\n",
       "      <td>16614362</td>\n",
       "      <td>7647135</td>\n",
       "      <td>...</td>\n",
       "      <td>(X)</td>\n",
       "      <td>(X)</td>\n",
       "      <td>(X)</td>\n",
       "      <td>(X)</td>\n",
       "      <td>(X)</td>\n",
       "      <td>(X)</td>\n",
       "      <td>(X)</td>\n",
       "      <td>(X)</td>\n",
       "      <td>(X)</td>\n",
       "      <td>(X)</td>\n",
       "    </tr>\n",
       "    <tr>\n",
       "      <th>...</th>\n",
       "      <td>...</td>\n",
       "      <td>...</td>\n",
       "      <td>...</td>\n",
       "      <td>...</td>\n",
       "      <td>...</td>\n",
       "      <td>...</td>\n",
       "      <td>...</td>\n",
       "      <td>...</td>\n",
       "      <td>...</td>\n",
       "      <td>...</td>\n",
       "      <td>...</td>\n",
       "      <td>...</td>\n",
       "      <td>...</td>\n",
       "      <td>...</td>\n",
       "      <td>...</td>\n",
       "      <td>...</td>\n",
       "      <td>...</td>\n",
       "      <td>...</td>\n",
       "      <td>...</td>\n",
       "      <td>...</td>\n",
       "      <td>...</td>\n",
       "    </tr>\n",
       "    <tr>\n",
       "      <th>100</th>\n",
       "      <td>0400000US53</td>\n",
       "      <td>Washington</td>\n",
       "      <td>2022</td>\n",
       "      <td>6209213</td>\n",
       "      <td>4010799</td>\n",
       "      <td>1823080</td>\n",
       "      <td>3949085</td>\n",
       "      <td>1813408</td>\n",
       "      <td>3752076</td>\n",
       "      <td>1724257</td>\n",
       "      <td>...</td>\n",
       "      <td>(X)</td>\n",
       "      <td>(X)</td>\n",
       "      <td>(X)</td>\n",
       "      <td>(X)</td>\n",
       "      <td>(X)</td>\n",
       "      <td>(X)</td>\n",
       "      <td>(X)</td>\n",
       "      <td>(X)</td>\n",
       "      <td>(X)</td>\n",
       "      <td>(X)</td>\n",
       "    </tr>\n",
       "    <tr>\n",
       "      <th>101</th>\n",
       "      <td>0400000US54</td>\n",
       "      <td>West Virginia</td>\n",
       "      <td>2022</td>\n",
       "      <td>1476838</td>\n",
       "      <td>786112</td>\n",
       "      <td>367548</td>\n",
       "      <td>783715</td>\n",
       "      <td>367265</td>\n",
       "      <td>736212</td>\n",
       "      <td>347455</td>\n",
       "      <td>...</td>\n",
       "      <td>(X)</td>\n",
       "      <td>(X)</td>\n",
       "      <td>(X)</td>\n",
       "      <td>(X)</td>\n",
       "      <td>(X)</td>\n",
       "      <td>(X)</td>\n",
       "      <td>(X)</td>\n",
       "      <td>(X)</td>\n",
       "      <td>(X)</td>\n",
       "      <td>(X)</td>\n",
       "    </tr>\n",
       "    <tr>\n",
       "      <th>102</th>\n",
       "      <td>0400000US55</td>\n",
       "      <td>Wisconsin</td>\n",
       "      <td>2022</td>\n",
       "      <td>4764779</td>\n",
       "      <td>3129606</td>\n",
       "      <td>1481660</td>\n",
       "      <td>3125976</td>\n",
       "      <td>1481070</td>\n",
       "      <td>3020890</td>\n",
       "      <td>1435889</td>\n",
       "      <td>...</td>\n",
       "      <td>(X)</td>\n",
       "      <td>(X)</td>\n",
       "      <td>(X)</td>\n",
       "      <td>(X)</td>\n",
       "      <td>(X)</td>\n",
       "      <td>(X)</td>\n",
       "      <td>(X)</td>\n",
       "      <td>(X)</td>\n",
       "      <td>(X)</td>\n",
       "      <td>(X)</td>\n",
       "    </tr>\n",
       "    <tr>\n",
       "      <th>103</th>\n",
       "      <td>0400000US56</td>\n",
       "      <td>Wyoming</td>\n",
       "      <td>2022</td>\n",
       "      <td>460637</td>\n",
       "      <td>302838</td>\n",
       "      <td>135842</td>\n",
       "      <td>299351</td>\n",
       "      <td>135128</td>\n",
       "      <td>287895</td>\n",
       "      <td>130880</td>\n",
       "      <td>...</td>\n",
       "      <td>(X)</td>\n",
       "      <td>(X)</td>\n",
       "      <td>(X)</td>\n",
       "      <td>(X)</td>\n",
       "      <td>(X)</td>\n",
       "      <td>(X)</td>\n",
       "      <td>(X)</td>\n",
       "      <td>(X)</td>\n",
       "      <td>(X)</td>\n",
       "      <td>(X)</td>\n",
       "    </tr>\n",
       "    <tr>\n",
       "      <th>104</th>\n",
       "      <td>0400000US72</td>\n",
       "      <td>Puerto Rico</td>\n",
       "      <td>2022</td>\n",
       "      <td>2785909</td>\n",
       "      <td>1250216</td>\n",
       "      <td>596297</td>\n",
       "      <td>1247027</td>\n",
       "      <td>595811</td>\n",
       "      <td>1081330</td>\n",
       "      <td>516352</td>\n",
       "      <td>...</td>\n",
       "      <td>(X)</td>\n",
       "      <td>(X)</td>\n",
       "      <td>(X)</td>\n",
       "      <td>(X)</td>\n",
       "      <td>(X)</td>\n",
       "      <td>(X)</td>\n",
       "      <td>(X)</td>\n",
       "      <td>(X)</td>\n",
       "      <td>(X)</td>\n",
       "      <td>(X)</td>\n",
       "    </tr>\n",
       "  </tbody>\n",
       "</table>\n",
       "<p>104 rows × 170 columns</p>\n",
       "</div>"
      ],
      "text/plain": [
       "0      Geography Geographic Area Name  Year  \\\n",
       "1    0400000US01              Alabama  2012   \n",
       "2    0400000US02               Alaska  2012   \n",
       "3    0400000US04              Arizona  2012   \n",
       "4    0400000US05             Arkansas  2012   \n",
       "5    0400000US06           California  2012   \n",
       "..           ...                  ...   ...   \n",
       "100  0400000US53           Washington  2022   \n",
       "101  0400000US54        West Virginia  2022   \n",
       "102  0400000US55            Wisconsin  2022   \n",
       "103  0400000US56              Wyoming  2022   \n",
       "104  0400000US72          Puerto Rico  2022   \n",
       "\n",
       "0   Estimate!!EMPLOYMENT STATUS!!Population 16 years and over  \\\n",
       "1                                              3779457          \n",
       "2                                               545497          \n",
       "3                                              4967615          \n",
       "4                                              2285328          \n",
       "5                                             29163075          \n",
       "..                                                 ...          \n",
       "100                                            6209213          \n",
       "101                                            1476838          \n",
       "102                                            4764779          \n",
       "103                                             460637          \n",
       "104                                            2785909          \n",
       "\n",
       "0   Estimate!!EMPLOYMENT STATUS!!In labor force  \\\n",
       "1                                       2265008   \n",
       "2                                        389890   \n",
       "3                                       3049419   \n",
       "4                                       1377211   \n",
       "5                                      18821426   \n",
       "..                                          ...   \n",
       "100                                     4010799   \n",
       "101                                      786112   \n",
       "102                                     3129606   \n",
       "103                                      302838   \n",
       "104                                     1250216   \n",
       "\n",
       "0   Estimate!!EMPLOYMENT STATUS!!In labor force  \\\n",
       "1                                       1074255   \n",
       "2                                        173809   \n",
       "3                                       1409513   \n",
       "4                                        651709   \n",
       "5                                       8591238   \n",
       "..                                          ...   \n",
       "100                                     1823080   \n",
       "101                                      367548   \n",
       "102                                     1481660   \n",
       "103                                      135842   \n",
       "104                                      596297   \n",
       "\n",
       "0   Estimate!!EMPLOYMENT STATUS!!In labor force!!Civilian labor force  \\\n",
       "1                                              2248665                  \n",
       "2                                               372484                  \n",
       "3                                              3029669                  \n",
       "4                                              1370423                  \n",
       "5                                             18673806                  \n",
       "..                                                 ...                  \n",
       "100                                            3949085                  \n",
       "101                                             783715                  \n",
       "102                                            3125976                  \n",
       "103                                             299351                  \n",
       "104                                            1247027                  \n",
       "\n",
       "0   Estimate!!EMPLOYMENT STATUS!!In labor force!!Civilian labor force  \\\n",
       "1                                              1071803                  \n",
       "2                                               171704                  \n",
       "3                                              1406746                  \n",
       "4                                               650944                  \n",
       "5                                              8574181                  \n",
       "..                                                 ...                  \n",
       "100                                            1813408                  \n",
       "101                                             367265                  \n",
       "102                                            1481070                  \n",
       "103                                             135128                  \n",
       "104                                             595811                  \n",
       "\n",
       "0   Estimate!!EMPLOYMENT STATUS!!In labor force!!Civilian labor force!!Employed  \\\n",
       "1                                              2017887                            \n",
       "2                                               341115                            \n",
       "3                                              2733537                            \n",
       "4                                              1253069                            \n",
       "5                                             16614362                            \n",
       "..                                                 ...                            \n",
       "100                                            3752076                            \n",
       "101                                             736212                            \n",
       "102                                            3020890                            \n",
       "103                                             287895                            \n",
       "104                                            1081330                            \n",
       "\n",
       "0   Estimate!!EMPLOYMENT STATUS!!In labor force!!Civilian labor force!!Employed  \\\n",
       "1                                               960434                            \n",
       "2                                               159818                            \n",
       "3                                              1278068                            \n",
       "4                                               597858                            \n",
       "5                                              7647135                            \n",
       "..                                                 ...                            \n",
       "100                                            1724257                            \n",
       "101                                             347455                            \n",
       "102                                            1435889                            \n",
       "103                                             130880                            \n",
       "104                                             516352                            \n",
       "\n",
       "0    ...  \\\n",
       "1    ...   \n",
       "2    ...   \n",
       "3    ...   \n",
       "4    ...   \n",
       "5    ...   \n",
       "..   ...   \n",
       "100  ...   \n",
       "101  ...   \n",
       "102  ...   \n",
       "103  ...   \n",
       "104  ...   \n",
       "\n",
       "0   Estimate!!PERCENTAGE OF FAMILIES AND PEOPLE WHOSE INCOME IN THE PAST 12 MONTHS IS BELOW THE POVERTY LEVEL!!All people  \\\n",
       "1                                                  (X)                                                                      \n",
       "2                                                  (X)                                                                      \n",
       "3                                                  (X)                                                                      \n",
       "4                                                  (X)                                                                      \n",
       "5                                                  (X)                                                                      \n",
       "..                                                 ...                                                                      \n",
       "100                                                (X)                                                                      \n",
       "101                                                (X)                                                                      \n",
       "102                                                (X)                                                                      \n",
       "103                                                (X)                                                                      \n",
       "104                                                (X)                                                                      \n",
       "\n",
       "0   Estimate!!PERCENTAGE OF FAMILIES AND PEOPLE WHOSE INCOME IN THE PAST 12 MONTHS IS BELOW THE POVERTY LEVEL!!Under 18 years  \\\n",
       "1                                                  (X)                                                                          \n",
       "2                                                  (X)                                                                          \n",
       "3                                                  (X)                                                                          \n",
       "4                                                  (X)                                                                          \n",
       "5                                                  (X)                                                                          \n",
       "..                                                 ...                                                                          \n",
       "100                                                (X)                                                                          \n",
       "101                                                (X)                                                                          \n",
       "102                                                (X)                                                                          \n",
       "103                                                (X)                                                                          \n",
       "104                                                (X)                                                                          \n",
       "\n",
       "0   Estimate!!PERCENTAGE OF FAMILIES AND PEOPLE WHOSE INCOME IN THE PAST 12 MONTHS IS BELOW THE POVERTY LEVEL!!Under 18 years!!Related children under 18 years  \\\n",
       "1                                                  (X)                                                                                                           \n",
       "2                                                  (X)                                                                                                           \n",
       "3                                                  (X)                                                                                                           \n",
       "4                                                  (X)                                                                                                           \n",
       "5                                                  (X)                                                                                                           \n",
       "..                                                 ...                                                                                                           \n",
       "100                                                (X)                                                                                                           \n",
       "101                                                (X)                                                                                                           \n",
       "102                                                (X)                                                                                                           \n",
       "103                                                (X)                                                                                                           \n",
       "104                                                (X)                                                                                                           \n",
       "\n",
       "0   Estimate!!PERCENTAGE OF FAMILIES AND PEOPLE WHOSE INCOME IN THE PAST 12 MONTHS IS BELOW THE POVERTY LEVEL!!Under 18 years!!Related children under 18 years!!Related children under 5 years  \\\n",
       "1                                                  (X)                                                                                                                                           \n",
       "2                                                  (X)                                                                                                                                           \n",
       "3                                                  (X)                                                                                                                                           \n",
       "4                                                  (X)                                                                                                                                           \n",
       "5                                                  (X)                                                                                                                                           \n",
       "..                                                 ...                                                                                                                                           \n",
       "100                                                (X)                                                                                                                                           \n",
       "101                                                (X)                                                                                                                                           \n",
       "102                                                (X)                                                                                                                                           \n",
       "103                                                (X)                                                                                                                                           \n",
       "104                                                (X)                                                                                                                                           \n",
       "\n",
       "0   Estimate!!PERCENTAGE OF FAMILIES AND PEOPLE WHOSE INCOME IN THE PAST 12 MONTHS IS BELOW THE POVERTY LEVEL!!Under 18 years!!Related children under 18 years!!Related children 5 to 17 years  \\\n",
       "1                                                  (X)                                                                                                                                           \n",
       "2                                                  (X)                                                                                                                                           \n",
       "3                                                  (X)                                                                                                                                           \n",
       "4                                                  (X)                                                                                                                                           \n",
       "5                                                  (X)                                                                                                                                           \n",
       "..                                                 ...                                                                                                                                           \n",
       "100                                                (X)                                                                                                                                           \n",
       "101                                                (X)                                                                                                                                           \n",
       "102                                                (X)                                                                                                                                           \n",
       "103                                                (X)                                                                                                                                           \n",
       "104                                                (X)                                                                                                                                           \n",
       "\n",
       "0   Estimate!!PERCENTAGE OF FAMILIES AND PEOPLE WHOSE INCOME IN THE PAST 12 MONTHS IS BELOW THE POVERTY LEVEL!!18 years and over  \\\n",
       "1                                                  (X)                                                                             \n",
       "2                                                  (X)                                                                             \n",
       "3                                                  (X)                                                                             \n",
       "4                                                  (X)                                                                             \n",
       "5                                                  (X)                                                                             \n",
       "..                                                 ...                                                                             \n",
       "100                                                (X)                                                                             \n",
       "101                                                (X)                                                                             \n",
       "102                                                (X)                                                                             \n",
       "103                                                (X)                                                                             \n",
       "104                                                (X)                                                                             \n",
       "\n",
       "0   Estimate!!PERCENTAGE OF FAMILIES AND PEOPLE WHOSE INCOME IN THE PAST 12 MONTHS IS BELOW THE POVERTY LEVEL!!18 years and over!!18 to 64 years  \\\n",
       "1                                                  (X)                                                                                             \n",
       "2                                                  (X)                                                                                             \n",
       "3                                                  (X)                                                                                             \n",
       "4                                                  (X)                                                                                             \n",
       "5                                                  (X)                                                                                             \n",
       "..                                                 ...                                                                                             \n",
       "100                                                (X)                                                                                             \n",
       "101                                                (X)                                                                                             \n",
       "102                                                (X)                                                                                             \n",
       "103                                                (X)                                                                                             \n",
       "104                                                (X)                                                                                             \n",
       "\n",
       "0   Estimate!!PERCENTAGE OF FAMILIES AND PEOPLE WHOSE INCOME IN THE PAST 12 MONTHS IS BELOW THE POVERTY LEVEL!!18 years and over!!65 years and over  \\\n",
       "1                                                  (X)                                                                                                \n",
       "2                                                  (X)                                                                                                \n",
       "3                                                  (X)                                                                                                \n",
       "4                                                  (X)                                                                                                \n",
       "5                                                  (X)                                                                                                \n",
       "..                                                 ...                                                                                                \n",
       "100                                                (X)                                                                                                \n",
       "101                                                (X)                                                                                                \n",
       "102                                                (X)                                                                                                \n",
       "103                                                (X)                                                                                                \n",
       "104                                                (X)                                                                                                \n",
       "\n",
       "0   Estimate!!PERCENTAGE OF FAMILIES AND PEOPLE WHOSE INCOME IN THE PAST 12 MONTHS IS BELOW THE POVERTY LEVEL!!People in families  \\\n",
       "1                                                  (X)                                                                              \n",
       "2                                                  (X)                                                                              \n",
       "3                                                  (X)                                                                              \n",
       "4                                                  (X)                                                                              \n",
       "5                                                  (X)                                                                              \n",
       "..                                                 ...                                                                              \n",
       "100                                                (X)                                                                              \n",
       "101                                                (X)                                                                              \n",
       "102                                                (X)                                                                              \n",
       "103                                                (X)                                                                              \n",
       "104                                                (X)                                                                              \n",
       "\n",
       "0   Estimate!!PERCENTAGE OF FAMILIES AND PEOPLE WHOSE INCOME IN THE PAST 12 MONTHS IS BELOW THE POVERTY LEVEL!!Unrelated individuals 15 years and over  \n",
       "1                                                  (X)                                                                                                  \n",
       "2                                                  (X)                                                                                                  \n",
       "3                                                  (X)                                                                                                  \n",
       "4                                                  (X)                                                                                                  \n",
       "5                                                  (X)                                                                                                  \n",
       "..                                                 ...                                                                                                  \n",
       "100                                                (X)                                                                                                  \n",
       "101                                                (X)                                                                                                  \n",
       "102                                                (X)                                                                                                  \n",
       "103                                                (X)                                                                                                  \n",
       "104                                                (X)                                                                                                  \n",
       "\n",
       "[104 rows x 170 columns]"
      ]
     },
     "execution_count": 8,
     "metadata": {},
     "output_type": "execute_result"
    }
   ],
   "source": [
    "acs_combined.columns = acs_combined.columns.astype(str)\n",
    "estimate_columns = [col for col in acs_combined.columns if col.startswith(\"Estimate\")]\n",
    "required_columns = [\"Geography\", \"Geographic Area Name\", \"Year\"] + estimate_columns\n",
    "acs_estimates = acs_combined.loc[:,required_columns]\n",
    "acs_estimates"
   ]
  },
  {
   "cell_type": "code",
   "execution_count": 9,
   "metadata": {},
   "outputs": [
    {
     "data": {
      "text/plain": [
       "['Geography',\n",
       " 'Geographic Area Name',\n",
       " 'Year',\n",
       " 'Estimate!!EMPLOYMENT STATUS!!Population 16 years and over',\n",
       " 'Estimate!!EMPLOYMENT STATUS!!In labor force',\n",
       " 'Estimate!!EMPLOYMENT STATUS!!In labor force',\n",
       " 'Estimate!!EMPLOYMENT STATUS!!In labor force!!Civilian labor force',\n",
       " 'Estimate!!EMPLOYMENT STATUS!!In labor force!!Civilian labor force',\n",
       " 'Estimate!!EMPLOYMENT STATUS!!In labor force!!Civilian labor force!!Employed',\n",
       " 'Estimate!!EMPLOYMENT STATUS!!In labor force!!Civilian labor force!!Employed',\n",
       " 'Estimate!!EMPLOYMENT STATUS!!In labor force!!Civilian labor force!!Unemployed',\n",
       " 'Estimate!!EMPLOYMENT STATUS!!In labor force!!Armed Forces',\n",
       " 'Estimate!!EMPLOYMENT STATUS!!Not in labor force',\n",
       " 'Estimate!!EMPLOYMENT STATUS!!Civilian labor force',\n",
       " 'Estimate!!EMPLOYMENT STATUS!!Percent Unemployed',\n",
       " 'Estimate!!EMPLOYMENT STATUS!!Females 16 years and over',\n",
       " 'Estimate!!EMPLOYMENT STATUS!!In labor force',\n",
       " 'Estimate!!EMPLOYMENT STATUS!!In labor force',\n",
       " 'Estimate!!EMPLOYMENT STATUS!!In labor force!!Civilian labor force',\n",
       " 'Estimate!!EMPLOYMENT STATUS!!In labor force!!Civilian labor force',\n",
       " 'Estimate!!EMPLOYMENT STATUS!!In labor force!!Civilian labor force!!Employed',\n",
       " 'Estimate!!EMPLOYMENT STATUS!!In labor force!!Civilian labor force!!Employed',\n",
       " 'Estimate!!EMPLOYMENT STATUS!!Own children under 6 years',\n",
       " 'Estimate!!EMPLOYMENT STATUS!!All parents in family in labor force',\n",
       " 'Estimate!!EMPLOYMENT STATUS!!All parents in family in labor force',\n",
       " 'Estimate!!EMPLOYMENT STATUS!!Own children 6 to 17 years',\n",
       " 'Estimate!!EMPLOYMENT STATUS!!All parents in family in labor force',\n",
       " 'Estimate!!EMPLOYMENT STATUS!!All parents in family in labor force',\n",
       " 'Estimate!!COMMUTING TO WORK!!Workers 16 years and over',\n",
       " 'Estimate!!COMMUTING TO WORK!!Car, truck, or van -- drove alone',\n",
       " 'Estimate!!COMMUTING TO WORK!!Car, truck, or van -- carpooled',\n",
       " 'Estimate!!COMMUTING TO WORK!!Public transportation (excluding taxicab)',\n",
       " 'Estimate!!COMMUTING TO WORK!!Walked',\n",
       " 'Estimate!!COMMUTING TO WORK!!Other means',\n",
       " 'Estimate!!COMMUTING TO WORK!!Worked at home',\n",
       " 'Estimate!!COMMUTING TO WORK!!Mean travel time to work (minutes)',\n",
       " 'Estimate!!OCCUPATION!!Civilian employed population 16 years and over',\n",
       " 'Estimate!!OCCUPATION!!Management, business, science, and arts occupations',\n",
       " 'Estimate!!OCCUPATION!!Service occupations',\n",
       " 'Estimate!!OCCUPATION!!Sales and office occupations',\n",
       " 'Estimate!!OCCUPATION!!Natural resources, construction, and maintenance occupations',\n",
       " 'Estimate!!OCCUPATION!!Production, transportation, and material moving occupations',\n",
       " 'Estimate!!INDUSTRY!!Civilian employed population 16 years and over',\n",
       " 'Estimate!!INDUSTRY!!Agriculture, forestry, fishing and hunting, and mining',\n",
       " 'Estimate!!INDUSTRY!!Construction',\n",
       " 'Estimate!!INDUSTRY!!Manufacturing',\n",
       " 'Estimate!!INDUSTRY!!Wholesale trade',\n",
       " 'Estimate!!INDUSTRY!!Retail trade',\n",
       " 'Estimate!!INDUSTRY!!Transportation and warehousing, and utilities',\n",
       " 'Estimate!!INDUSTRY!!Information',\n",
       " 'Estimate!!INDUSTRY!!Finance and insurance, and real estate and rental and leasing',\n",
       " 'Estimate!!INDUSTRY!!Professional, scientific, and management, and administrative and waste management services',\n",
       " 'Estimate!!INDUSTRY!!Educational services, and health care and social assistance',\n",
       " 'Estimate!!INDUSTRY!!Arts, entertainment, and recreation, and accommodation and food services',\n",
       " 'Estimate!!INDUSTRY!!Other services, except public administration',\n",
       " 'Estimate!!INDUSTRY!!Public administration',\n",
       " 'Estimate!!CLASS OF WORKER!!Civilian employed population 16 years and over',\n",
       " 'Estimate!!CLASS OF WORKER!!Private wage and salary workers',\n",
       " 'Estimate!!CLASS OF WORKER!!Government workers',\n",
       " 'Estimate!!CLASS OF WORKER!!Self-employed in own not incorporated business workers',\n",
       " 'Estimate!!CLASS OF WORKER!!Unpaid family workers',\n",
       " 'Estimate!!INCOME AND BENEFITS (IN 2012 INFLATION-ADJUSTED DOLLARS)!!Total households',\n",
       " 'Estimate!!INCOME AND BENEFITS (IN 2012 INFLATION-ADJUSTED DOLLARS)!!Less than $10,000',\n",
       " 'Estimate!!INCOME AND BENEFITS (IN 2012 INFLATION-ADJUSTED DOLLARS)!!Less than $10,000',\n",
       " 'Estimate!!INCOME AND BENEFITS (IN 2012 INFLATION-ADJUSTED DOLLARS)!!$10,000 to $14,999',\n",
       " 'Estimate!!INCOME AND BENEFITS (IN 2012 INFLATION-ADJUSTED DOLLARS)!!$10,000 to $14,999',\n",
       " 'Estimate!!INCOME AND BENEFITS (IN 2012 INFLATION-ADJUSTED DOLLARS)!!$15,000 to $24,999',\n",
       " 'Estimate!!INCOME AND BENEFITS (IN 2012 INFLATION-ADJUSTED DOLLARS)!!$15,000 to $24,999',\n",
       " 'Estimate!!INCOME AND BENEFITS (IN 2012 INFLATION-ADJUSTED DOLLARS)!!$25,000 to $34,999',\n",
       " 'Estimate!!INCOME AND BENEFITS (IN 2012 INFLATION-ADJUSTED DOLLARS)!!$25,000 to $34,999',\n",
       " 'Estimate!!INCOME AND BENEFITS (IN 2012 INFLATION-ADJUSTED DOLLARS)!!$35,000 to $49,999',\n",
       " 'Estimate!!INCOME AND BENEFITS (IN 2012 INFLATION-ADJUSTED DOLLARS)!!$35,000 to $49,999',\n",
       " 'Estimate!!INCOME AND BENEFITS (IN 2012 INFLATION-ADJUSTED DOLLARS)!!$50,000 to $74,999',\n",
       " 'Estimate!!INCOME AND BENEFITS (IN 2012 INFLATION-ADJUSTED DOLLARS)!!$50,000 to $74,999',\n",
       " 'Estimate!!INCOME AND BENEFITS (IN 2012 INFLATION-ADJUSTED DOLLARS)!!$75,000 to $99,999',\n",
       " 'Estimate!!INCOME AND BENEFITS (IN 2012 INFLATION-ADJUSTED DOLLARS)!!$75,000 to $99,999',\n",
       " 'Estimate!!INCOME AND BENEFITS (IN 2012 INFLATION-ADJUSTED DOLLARS)!!$100,000 to $149,999',\n",
       " 'Estimate!!INCOME AND BENEFITS (IN 2012 INFLATION-ADJUSTED DOLLARS)!!$100,000 to $149,999',\n",
       " 'Estimate!!INCOME AND BENEFITS (IN 2012 INFLATION-ADJUSTED DOLLARS)!!$150,000 to $199,999',\n",
       " 'Estimate!!INCOME AND BENEFITS (IN 2012 INFLATION-ADJUSTED DOLLARS)!!$150,000 to $199,999',\n",
       " 'Estimate!!INCOME AND BENEFITS (IN 2012 INFLATION-ADJUSTED DOLLARS)!!$200,000 or more',\n",
       " 'Estimate!!INCOME AND BENEFITS (IN 2012 INFLATION-ADJUSTED DOLLARS)!!$200,000 or more',\n",
       " 'Estimate!!INCOME AND BENEFITS (IN 2012 INFLATION-ADJUSTED DOLLARS)!!Median household income (dollars)',\n",
       " 'Estimate!!INCOME AND BENEFITS (IN 2012 INFLATION-ADJUSTED DOLLARS)!!Mean household income (dollars)',\n",
       " 'Estimate!!INCOME AND BENEFITS (IN 2012 INFLATION-ADJUSTED DOLLARS)!!With earnings',\n",
       " 'Estimate!!INCOME AND BENEFITS (IN 2012 INFLATION-ADJUSTED DOLLARS)!!With earnings!!Mean earnings (dollars)',\n",
       " 'Estimate!!INCOME AND BENEFITS (IN 2012 INFLATION-ADJUSTED DOLLARS)!!With Social Security',\n",
       " 'Estimate!!INCOME AND BENEFITS (IN 2012 INFLATION-ADJUSTED DOLLARS)!!With Social Security!!Mean Social Security income (dollars)',\n",
       " 'Estimate!!INCOME AND BENEFITS (IN 2012 INFLATION-ADJUSTED DOLLARS)!!With retirement income',\n",
       " 'Estimate!!INCOME AND BENEFITS (IN 2012 INFLATION-ADJUSTED DOLLARS)!!With retirement income!!Mean retirement income (dollars)',\n",
       " 'Estimate!!INCOME AND BENEFITS (IN 2012 INFLATION-ADJUSTED DOLLARS)!!With Supplemental Security Income',\n",
       " 'Estimate!!INCOME AND BENEFITS (IN 2012 INFLATION-ADJUSTED DOLLARS)!!With Supplemental Security Income!!Mean Supplemental Security Income (dollars)',\n",
       " 'Estimate!!INCOME AND BENEFITS (IN 2012 INFLATION-ADJUSTED DOLLARS)!!With cash public assistance income',\n",
       " 'Estimate!!INCOME AND BENEFITS (IN 2012 INFLATION-ADJUSTED DOLLARS)!!With cash public assistance income!!Mean cash public assistance income (dollars)',\n",
       " 'Estimate!!INCOME AND BENEFITS (IN 2012 INFLATION-ADJUSTED DOLLARS)!!With Food Stamp/SNAP benefits in the past 12 months',\n",
       " 'Estimate!!INCOME AND BENEFITS (IN 2012 INFLATION-ADJUSTED DOLLARS)!!Families',\n",
       " 'Estimate!!INCOME AND BENEFITS (IN 2012 INFLATION-ADJUSTED DOLLARS)!!Less than $10,000',\n",
       " 'Estimate!!INCOME AND BENEFITS (IN 2012 INFLATION-ADJUSTED DOLLARS)!!Less than $10,000',\n",
       " 'Estimate!!INCOME AND BENEFITS (IN 2012 INFLATION-ADJUSTED DOLLARS)!!$10,000 to $14,999',\n",
       " 'Estimate!!INCOME AND BENEFITS (IN 2012 INFLATION-ADJUSTED DOLLARS)!!$10,000 to $14,999',\n",
       " 'Estimate!!INCOME AND BENEFITS (IN 2012 INFLATION-ADJUSTED DOLLARS)!!$15,000 to $24,999',\n",
       " 'Estimate!!INCOME AND BENEFITS (IN 2012 INFLATION-ADJUSTED DOLLARS)!!$15,000 to $24,999',\n",
       " 'Estimate!!INCOME AND BENEFITS (IN 2012 INFLATION-ADJUSTED DOLLARS)!!$25,000 to $34,999',\n",
       " 'Estimate!!INCOME AND BENEFITS (IN 2012 INFLATION-ADJUSTED DOLLARS)!!$25,000 to $34,999',\n",
       " 'Estimate!!INCOME AND BENEFITS (IN 2012 INFLATION-ADJUSTED DOLLARS)!!$35,000 to $49,999',\n",
       " 'Estimate!!INCOME AND BENEFITS (IN 2012 INFLATION-ADJUSTED DOLLARS)!!$35,000 to $49,999',\n",
       " 'Estimate!!INCOME AND BENEFITS (IN 2012 INFLATION-ADJUSTED DOLLARS)!!$50,000 to $74,999',\n",
       " 'Estimate!!INCOME AND BENEFITS (IN 2012 INFLATION-ADJUSTED DOLLARS)!!$50,000 to $74,999',\n",
       " 'Estimate!!INCOME AND BENEFITS (IN 2012 INFLATION-ADJUSTED DOLLARS)!!$75,000 to $99,999',\n",
       " 'Estimate!!INCOME AND BENEFITS (IN 2012 INFLATION-ADJUSTED DOLLARS)!!$75,000 to $99,999',\n",
       " 'Estimate!!INCOME AND BENEFITS (IN 2012 INFLATION-ADJUSTED DOLLARS)!!$100,000 to $149,999',\n",
       " 'Estimate!!INCOME AND BENEFITS (IN 2012 INFLATION-ADJUSTED DOLLARS)!!$100,000 to $149,999',\n",
       " 'Estimate!!INCOME AND BENEFITS (IN 2012 INFLATION-ADJUSTED DOLLARS)!!$150,000 to $199,999',\n",
       " 'Estimate!!INCOME AND BENEFITS (IN 2012 INFLATION-ADJUSTED DOLLARS)!!$150,000 to $199,999',\n",
       " 'Estimate!!INCOME AND BENEFITS (IN 2012 INFLATION-ADJUSTED DOLLARS)!!$200,000 or more',\n",
       " 'Estimate!!INCOME AND BENEFITS (IN 2012 INFLATION-ADJUSTED DOLLARS)!!$200,000 or more',\n",
       " 'Estimate!!INCOME AND BENEFITS (IN 2012 INFLATION-ADJUSTED DOLLARS)!!Median family income (dollars)',\n",
       " 'Estimate!!INCOME AND BENEFITS (IN 2012 INFLATION-ADJUSTED DOLLARS)!!Mean family income (dollars)',\n",
       " 'Estimate!!INCOME AND BENEFITS (IN 2012 INFLATION-ADJUSTED DOLLARS)!!Per capita income (dollars)',\n",
       " 'Estimate!!INCOME AND BENEFITS (IN 2012 INFLATION-ADJUSTED DOLLARS)!!Nonfamily households',\n",
       " 'Estimate!!INCOME AND BENEFITS (IN 2012 INFLATION-ADJUSTED DOLLARS)!!Median nonfamily income (dollars)',\n",
       " 'Estimate!!INCOME AND BENEFITS (IN 2012 INFLATION-ADJUSTED DOLLARS)!!Mean nonfamily income (dollars)',\n",
       " 'Estimate!!INCOME AND BENEFITS (IN 2012 INFLATION-ADJUSTED DOLLARS)!!Median earnings for workers (dollars)',\n",
       " 'Estimate!!INCOME AND BENEFITS (IN 2012 INFLATION-ADJUSTED DOLLARS)!!Median earnings for male full-time, year-round workers (dollars)',\n",
       " 'Estimate!!INCOME AND BENEFITS (IN 2012 INFLATION-ADJUSTED DOLLARS)!!Median earnings for female full-time, year-round workers (dollars)',\n",
       " 'Estimate!!HEALTH INSURANCE COVERAGE!!Civilian noninstitutionalized population',\n",
       " 'Estimate!!HEALTH INSURANCE COVERAGE!!With health insurance coverage',\n",
       " 'Estimate!!HEALTH INSURANCE COVERAGE!!With health insurance coverage!!With private health insurance',\n",
       " 'Estimate!!HEALTH INSURANCE COVERAGE!!With health insurance coverage!!With public coverage',\n",
       " 'Estimate!!HEALTH INSURANCE COVERAGE!!No health insurance coverage',\n",
       " 'Estimate!!HEALTH INSURANCE COVERAGE!!No health insurance coverage',\n",
       " 'Estimate!!HEALTH INSURANCE COVERAGE!!Civilian noninstitutionalized population under 18 years',\n",
       " 'Estimate!!HEALTH INSURANCE COVERAGE!!No health insurance coverage',\n",
       " 'Estimate!!HEALTH INSURANCE COVERAGE!!No health insurance coverage',\n",
       " 'Estimate!!HEALTH INSURANCE COVERAGE!!Civilian noninstitutionalized population 18 to 64 years',\n",
       " 'Estimate!!HEALTH INSURANCE COVERAGE!!In labor force',\n",
       " 'Estimate!!HEALTH INSURANCE COVERAGE!!In labor force!!Employed',\n",
       " 'Estimate!!HEALTH INSURANCE COVERAGE!!In labor force!!Employed!!With health insurance coverage',\n",
       " 'Estimate!!HEALTH INSURANCE COVERAGE!!In labor force!!Employed!!With health insurance coverage!!With private health insurance',\n",
       " 'Estimate!!HEALTH INSURANCE COVERAGE!!In labor force!!Employed!!With health insurance coverage!!With public coverage',\n",
       " 'Estimate!!HEALTH INSURANCE COVERAGE!!In labor force!!Employed!!No health insurance coverage',\n",
       " 'Estimate!!HEALTH INSURANCE COVERAGE!!In labor force!!Unemployed',\n",
       " 'Estimate!!HEALTH INSURANCE COVERAGE!!In labor force!!Unemployed!!With health insurance coverage',\n",
       " 'Estimate!!HEALTH INSURANCE COVERAGE!!In labor force!!Unemployed!!With health insurance coverage!!With private health insurance',\n",
       " 'Estimate!!HEALTH INSURANCE COVERAGE!!In labor force!!Unemployed!!With health insurance coverage!!With public coverage',\n",
       " 'Estimate!!HEALTH INSURANCE COVERAGE!!In labor force!!Unemployed!!No health insurance coverage',\n",
       " 'Estimate!!HEALTH INSURANCE COVERAGE!!Not in labor force',\n",
       " 'Estimate!!HEALTH INSURANCE COVERAGE!!Not in labor force!!With health insurance coverage',\n",
       " 'Estimate!!HEALTH INSURANCE COVERAGE!!Not in labor force!!With health insurance coverage!!With private health insurance',\n",
       " 'Estimate!!HEALTH INSURANCE COVERAGE!!Not in labor force!!With health insurance coverage!!With public coverage',\n",
       " 'Estimate!!HEALTH INSURANCE COVERAGE!!Not in labor force!!No health insurance coverage',\n",
       " 'Estimate!!PERCENTAGE OF FAMILIES AND PEOPLE WHOSE INCOME IN THE PAST 12 MONTHS IS BELOW THE POVERTY LEVEL!!All families',\n",
       " 'Estimate!!PERCENTAGE OF FAMILIES AND PEOPLE WHOSE INCOME IN THE PAST 12 MONTHS IS BELOW THE POVERTY LEVEL!!All families!!With related children under 18 years',\n",
       " 'Estimate!!PERCENTAGE OF FAMILIES AND PEOPLE WHOSE INCOME IN THE PAST 12 MONTHS IS BELOW THE POVERTY LEVEL!!All families!!With related children under 18 years!!With related children under 5 years only',\n",
       " 'Estimate!!PERCENTAGE OF FAMILIES AND PEOPLE WHOSE INCOME IN THE PAST 12 MONTHS IS BELOW THE POVERTY LEVEL!!Married couple families',\n",
       " 'Estimate!!PERCENTAGE OF FAMILIES AND PEOPLE WHOSE INCOME IN THE PAST 12 MONTHS IS BELOW THE POVERTY LEVEL!!Married couple families!!With related children under 18 years',\n",
       " 'Estimate!!PERCENTAGE OF FAMILIES AND PEOPLE WHOSE INCOME IN THE PAST 12 MONTHS IS BELOW THE POVERTY LEVEL!!Married couple families!!With related children under 18 years!!With related children under 5 years only',\n",
       " 'Estimate!!PERCENTAGE OF FAMILIES AND PEOPLE WHOSE INCOME IN THE PAST 12 MONTHS IS BELOW THE POVERTY LEVEL!!Families with female householder, no husband present',\n",
       " 'Estimate!!PERCENTAGE OF FAMILIES AND PEOPLE WHOSE INCOME IN THE PAST 12 MONTHS IS BELOW THE POVERTY LEVEL!!Families with female householder, no husband present!!With related children under 18 years',\n",
       " 'Estimate!!PERCENTAGE OF FAMILIES AND PEOPLE WHOSE INCOME IN THE PAST 12 MONTHS IS BELOW THE POVERTY LEVEL!!Families with female householder, no husband present!!With related children under 18 years!!With related children under 5 years only',\n",
       " 'Estimate!!PERCENTAGE OF FAMILIES AND PEOPLE WHOSE INCOME IN THE PAST 12 MONTHS IS BELOW THE POVERTY LEVEL!!All people',\n",
       " 'Estimate!!PERCENTAGE OF FAMILIES AND PEOPLE WHOSE INCOME IN THE PAST 12 MONTHS IS BELOW THE POVERTY LEVEL!!Under 18 years',\n",
       " 'Estimate!!PERCENTAGE OF FAMILIES AND PEOPLE WHOSE INCOME IN THE PAST 12 MONTHS IS BELOW THE POVERTY LEVEL!!Under 18 years!!Related children under 18 years',\n",
       " 'Estimate!!PERCENTAGE OF FAMILIES AND PEOPLE WHOSE INCOME IN THE PAST 12 MONTHS IS BELOW THE POVERTY LEVEL!!Under 18 years!!Related children under 18 years!!Related children under 5 years',\n",
       " 'Estimate!!PERCENTAGE OF FAMILIES AND PEOPLE WHOSE INCOME IN THE PAST 12 MONTHS IS BELOW THE POVERTY LEVEL!!Under 18 years!!Related children under 18 years!!Related children 5 to 17 years',\n",
       " 'Estimate!!PERCENTAGE OF FAMILIES AND PEOPLE WHOSE INCOME IN THE PAST 12 MONTHS IS BELOW THE POVERTY LEVEL!!18 years and over',\n",
       " 'Estimate!!PERCENTAGE OF FAMILIES AND PEOPLE WHOSE INCOME IN THE PAST 12 MONTHS IS BELOW THE POVERTY LEVEL!!18 years and over!!18 to 64 years',\n",
       " 'Estimate!!PERCENTAGE OF FAMILIES AND PEOPLE WHOSE INCOME IN THE PAST 12 MONTHS IS BELOW THE POVERTY LEVEL!!18 years and over!!65 years and over',\n",
       " 'Estimate!!PERCENTAGE OF FAMILIES AND PEOPLE WHOSE INCOME IN THE PAST 12 MONTHS IS BELOW THE POVERTY LEVEL!!People in families',\n",
       " 'Estimate!!PERCENTAGE OF FAMILIES AND PEOPLE WHOSE INCOME IN THE PAST 12 MONTHS IS BELOW THE POVERTY LEVEL!!Unrelated individuals 15 years and over']"
      ]
     },
     "execution_count": 9,
     "metadata": {},
     "output_type": "execute_result"
    }
   ],
   "source": [
    "pd.set_option('display.max_columns', None)\n",
    "acs_estimates.columns.tolist()\n",
    "\n",
    "#pd.reset_option('display.max_columns')"
   ]
  },
  {
   "cell_type": "markdown",
   "metadata": {},
   "source": [
    "Next, let's filter it down further to retain only the column of relevance - Mean household income."
   ]
  },
  {
   "cell_type": "code",
   "execution_count": 10,
   "metadata": {},
   "outputs": [
    {
     "data": {
      "text/html": [
       "<div>\n",
       "<style scoped>\n",
       "    .dataframe tbody tr th:only-of-type {\n",
       "        vertical-align: middle;\n",
       "    }\n",
       "\n",
       "    .dataframe tbody tr th {\n",
       "        vertical-align: top;\n",
       "    }\n",
       "\n",
       "    .dataframe thead th {\n",
       "        text-align: right;\n",
       "    }\n",
       "</style>\n",
       "<table border=\"1\" class=\"dataframe\">\n",
       "  <thead>\n",
       "    <tr style=\"text-align: right;\">\n",
       "      <th></th>\n",
       "      <th>Geography</th>\n",
       "      <th>Geographic Area Name</th>\n",
       "      <th>Year</th>\n",
       "      <th>Estimate!!INCOME AND BENEFITS (IN 2012 INFLATION-ADJUSTED DOLLARS)!!Mean household income (dollars)</th>\n",
       "    </tr>\n",
       "  </thead>\n",
       "  <tbody>\n",
       "    <tr>\n",
       "      <th>1</th>\n",
       "      <td>0400000US01</td>\n",
       "      <td>Alabama</td>\n",
       "      <td>2012</td>\n",
       "      <td>59273</td>\n",
       "    </tr>\n",
       "    <tr>\n",
       "      <th>2</th>\n",
       "      <td>0400000US02</td>\n",
       "      <td>Alaska</td>\n",
       "      <td>2012</td>\n",
       "      <td>86208</td>\n",
       "    </tr>\n",
       "    <tr>\n",
       "      <th>3</th>\n",
       "      <td>0400000US04</td>\n",
       "      <td>Arizona</td>\n",
       "      <td>2012</td>\n",
       "      <td>67444</td>\n",
       "    </tr>\n",
       "    <tr>\n",
       "      <th>4</th>\n",
       "      <td>0400000US05</td>\n",
       "      <td>Arkansas</td>\n",
       "      <td>2012</td>\n",
       "      <td>55158</td>\n",
       "    </tr>\n",
       "    <tr>\n",
       "      <th>5</th>\n",
       "      <td>0400000US06</td>\n",
       "      <td>California</td>\n",
       "      <td>2012</td>\n",
       "      <td>85265</td>\n",
       "    </tr>\n",
       "    <tr>\n",
       "      <th>...</th>\n",
       "      <td>...</td>\n",
       "      <td>...</td>\n",
       "      <td>...</td>\n",
       "      <td>...</td>\n",
       "    </tr>\n",
       "    <tr>\n",
       "      <th>100</th>\n",
       "      <td>0400000US53</td>\n",
       "      <td>Washington</td>\n",
       "      <td>2022</td>\n",
       "      <td>122880</td>\n",
       "    </tr>\n",
       "    <tr>\n",
       "      <th>101</th>\n",
       "      <td>0400000US54</td>\n",
       "      <td>West Virginia</td>\n",
       "      <td>2022</td>\n",
       "      <td>75575</td>\n",
       "    </tr>\n",
       "    <tr>\n",
       "      <th>102</th>\n",
       "      <td>0400000US55</td>\n",
       "      <td>Wisconsin</td>\n",
       "      <td>2022</td>\n",
       "      <td>94995</td>\n",
       "    </tr>\n",
       "    <tr>\n",
       "      <th>103</th>\n",
       "      <td>0400000US56</td>\n",
       "      <td>Wyoming</td>\n",
       "      <td>2022</td>\n",
       "      <td>94901</td>\n",
       "    </tr>\n",
       "    <tr>\n",
       "      <th>104</th>\n",
       "      <td>0400000US72</td>\n",
       "      <td>Puerto Rico</td>\n",
       "      <td>2022</td>\n",
       "      <td>38227</td>\n",
       "    </tr>\n",
       "  </tbody>\n",
       "</table>\n",
       "<p>104 rows × 4 columns</p>\n",
       "</div>"
      ],
      "text/plain": [
       "0      Geography Geographic Area Name  Year  \\\n",
       "1    0400000US01              Alabama  2012   \n",
       "2    0400000US02               Alaska  2012   \n",
       "3    0400000US04              Arizona  2012   \n",
       "4    0400000US05             Arkansas  2012   \n",
       "5    0400000US06           California  2012   \n",
       "..           ...                  ...   ...   \n",
       "100  0400000US53           Washington  2022   \n",
       "101  0400000US54        West Virginia  2022   \n",
       "102  0400000US55            Wisconsin  2022   \n",
       "103  0400000US56              Wyoming  2022   \n",
       "104  0400000US72          Puerto Rico  2022   \n",
       "\n",
       "0   Estimate!!INCOME AND BENEFITS (IN 2012 INFLATION-ADJUSTED DOLLARS)!!Mean household income (dollars)  \n",
       "1                                                59273                                                   \n",
       "2                                                86208                                                   \n",
       "3                                                67444                                                   \n",
       "4                                                55158                                                   \n",
       "5                                                85265                                                   \n",
       "..                                                 ...                                                   \n",
       "100                                             122880                                                   \n",
       "101                                              75575                                                   \n",
       "102                                              94995                                                   \n",
       "103                                              94901                                                   \n",
       "104                                              38227                                                   \n",
       "\n",
       "[104 rows x 4 columns]"
      ]
     },
     "execution_count": 10,
     "metadata": {},
     "output_type": "execute_result"
    }
   ],
   "source": [
    "income_data = acs_estimates[[\"Geography\",\"Geographic Area Name\",\"Year\",\"Estimate!!INCOME AND BENEFITS (IN 2012 INFLATION-ADJUSTED DOLLARS)!!Mean household income (dollars)\"]]\n",
    "income_data"
   ]
  },
  {
   "cell_type": "markdown",
   "metadata": {},
   "source": [
    "Reshaping the data so we have the 2012 and 2022 incomes as columns in order to calculate the % change in income over the decade."
   ]
  },
  {
   "cell_type": "code",
   "execution_count": 11,
   "metadata": {},
   "outputs": [
    {
     "name": "stderr",
     "output_type": "stream",
     "text": [
      "/var/folders/pv/k_z3nhxx4wqdl8x6hkzw6xjr0000gn/T/ipykernel_7746/1275179638.py:2: SettingWithCopyWarning:\n",
      "\n",
      "\n",
      "A value is trying to be set on a copy of a slice from a DataFrame.\n",
      "Try using .loc[row_indexer,col_indexer] = value instead\n",
      "\n",
      "See the caveats in the documentation: https://pandas.pydata.org/pandas-docs/stable/user_guide/indexing.html#returning-a-view-versus-a-copy\n",
      "\n"
     ]
    },
    {
     "data": {
      "text/html": [
       "<div>\n",
       "<style scoped>\n",
       "    .dataframe tbody tr th:only-of-type {\n",
       "        vertical-align: middle;\n",
       "    }\n",
       "\n",
       "    .dataframe tbody tr th {\n",
       "        vertical-align: top;\n",
       "    }\n",
       "\n",
       "    .dataframe thead th {\n",
       "        text-align: right;\n",
       "    }\n",
       "</style>\n",
       "<table border=\"1\" class=\"dataframe\">\n",
       "  <thead>\n",
       "    <tr style=\"text-align: right;\">\n",
       "      <th>Year</th>\n",
       "      <th>Geography</th>\n",
       "      <th>Geographic Area Name</th>\n",
       "      <th>2012</th>\n",
       "      <th>2022</th>\n",
       "    </tr>\n",
       "  </thead>\n",
       "  <tbody>\n",
       "    <tr>\n",
       "      <th>0</th>\n",
       "      <td>0400000US01</td>\n",
       "      <td>Alabama</td>\n",
       "      <td>59273</td>\n",
       "      <td>82992</td>\n",
       "    </tr>\n",
       "    <tr>\n",
       "      <th>1</th>\n",
       "      <td>0400000US02</td>\n",
       "      <td>Alaska</td>\n",
       "      <td>86208</td>\n",
       "      <td>110602</td>\n",
       "    </tr>\n",
       "    <tr>\n",
       "      <th>2</th>\n",
       "      <td>0400000US04</td>\n",
       "      <td>Arizona</td>\n",
       "      <td>67444</td>\n",
       "      <td>98569</td>\n",
       "    </tr>\n",
       "    <tr>\n",
       "      <th>3</th>\n",
       "      <td>0400000US05</td>\n",
       "      <td>Arkansas</td>\n",
       "      <td>55158</td>\n",
       "      <td>79592</td>\n",
       "    </tr>\n",
       "    <tr>\n",
       "      <th>4</th>\n",
       "      <td>0400000US06</td>\n",
       "      <td>California</td>\n",
       "      <td>85265</td>\n",
       "      <td>130718</td>\n",
       "    </tr>\n",
       "    <tr>\n",
       "      <th>5</th>\n",
       "      <td>0400000US08</td>\n",
       "      <td>Colorado</td>\n",
       "      <td>77900</td>\n",
       "      <td>117508</td>\n",
       "    </tr>\n",
       "    <tr>\n",
       "      <th>6</th>\n",
       "      <td>0400000US09</td>\n",
       "      <td>Connecticut</td>\n",
       "      <td>97051</td>\n",
       "      <td>130601</td>\n",
       "    </tr>\n",
       "    <tr>\n",
       "      <th>7</th>\n",
       "      <td>0400000US10</td>\n",
       "      <td>Delaware</td>\n",
       "      <td>77453</td>\n",
       "      <td>104600</td>\n",
       "    </tr>\n",
       "    <tr>\n",
       "      <th>8</th>\n",
       "      <td>0400000US11</td>\n",
       "      <td>District of Columbia</td>\n",
       "      <td>99511</td>\n",
       "      <td>150292</td>\n",
       "    </tr>\n",
       "    <tr>\n",
       "      <th>9</th>\n",
       "      <td>0400000US12</td>\n",
       "      <td>Florida</td>\n",
       "      <td>66599</td>\n",
       "      <td>96992</td>\n",
       "    </tr>\n",
       "    <tr>\n",
       "      <th>10</th>\n",
       "      <td>0400000US13</td>\n",
       "      <td>Georgia</td>\n",
       "      <td>67659</td>\n",
       "      <td>99345</td>\n",
       "    </tr>\n",
       "    <tr>\n",
       "      <th>11</th>\n",
       "      <td>0400000US15</td>\n",
       "      <td>Hawaii</td>\n",
       "      <td>84466</td>\n",
       "      <td>122902</td>\n",
       "    </tr>\n",
       "    <tr>\n",
       "      <th>12</th>\n",
       "      <td>0400000US16</td>\n",
       "      <td>Idaho</td>\n",
       "      <td>59974</td>\n",
       "      <td>92780</td>\n",
       "    </tr>\n",
       "    <tr>\n",
       "      <th>13</th>\n",
       "      <td>0400000US17</td>\n",
       "      <td>Illinois</td>\n",
       "      <td>77163</td>\n",
       "      <td>108873</td>\n",
       "    </tr>\n",
       "    <tr>\n",
       "      <th>14</th>\n",
       "      <td>0400000US18</td>\n",
       "      <td>Indiana</td>\n",
       "      <td>62715</td>\n",
       "      <td>88805</td>\n",
       "    </tr>\n",
       "    <tr>\n",
       "      <th>15</th>\n",
       "      <td>0400000US19</td>\n",
       "      <td>Iowa</td>\n",
       "      <td>64881</td>\n",
       "      <td>92053</td>\n",
       "    </tr>\n",
       "    <tr>\n",
       "      <th>16</th>\n",
       "      <td>0400000US20</td>\n",
       "      <td>Kansas</td>\n",
       "      <td>67564</td>\n",
       "      <td>94263</td>\n",
       "    </tr>\n",
       "    <tr>\n",
       "      <th>17</th>\n",
       "      <td>0400000US21</td>\n",
       "      <td>Kentucky</td>\n",
       "      <td>57876</td>\n",
       "      <td>83093</td>\n",
       "    </tr>\n",
       "    <tr>\n",
       "      <th>18</th>\n",
       "      <td>0400000US22</td>\n",
       "      <td>Louisiana</td>\n",
       "      <td>62369</td>\n",
       "      <td>83169</td>\n",
       "    </tr>\n",
       "    <tr>\n",
       "      <th>19</th>\n",
       "      <td>0400000US23</td>\n",
       "      <td>Maine</td>\n",
       "      <td>62392</td>\n",
       "      <td>91599</td>\n",
       "    </tr>\n",
       "    <tr>\n",
       "      <th>20</th>\n",
       "      <td>0400000US24</td>\n",
       "      <td>Maryland</td>\n",
       "      <td>94941</td>\n",
       "      <td>129642</td>\n",
       "    </tr>\n",
       "    <tr>\n",
       "      <th>21</th>\n",
       "      <td>0400000US25</td>\n",
       "      <td>Massachusetts</td>\n",
       "      <td>89965</td>\n",
       "      <td>134568</td>\n",
       "    </tr>\n",
       "    <tr>\n",
       "      <th>22</th>\n",
       "      <td>0400000US26</td>\n",
       "      <td>Michigan</td>\n",
       "      <td>64538</td>\n",
       "      <td>92835</td>\n",
       "    </tr>\n",
       "    <tr>\n",
       "      <th>23</th>\n",
       "      <td>0400000US27</td>\n",
       "      <td>Minnesota</td>\n",
       "      <td>76372</td>\n",
       "      <td>111341</td>\n",
       "    </tr>\n",
       "    <tr>\n",
       "      <th>24</th>\n",
       "      <td>0400000US28</td>\n",
       "      <td>Mississippi</td>\n",
       "      <td>54176</td>\n",
       "      <td>74149</td>\n",
       "    </tr>\n",
       "    <tr>\n",
       "      <th>25</th>\n",
       "      <td>0400000US29</td>\n",
       "      <td>Missouri</td>\n",
       "      <td>63405</td>\n",
       "      <td>89952</td>\n",
       "    </tr>\n",
       "    <tr>\n",
       "      <th>26</th>\n",
       "      <td>0400000US30</td>\n",
       "      <td>Montana</td>\n",
       "      <td>59569</td>\n",
       "      <td>90142</td>\n",
       "    </tr>\n",
       "    <tr>\n",
       "      <th>27</th>\n",
       "      <td>0400000US31</td>\n",
       "      <td>Nebraska</td>\n",
       "      <td>65979</td>\n",
       "      <td>95547</td>\n",
       "    </tr>\n",
       "    <tr>\n",
       "      <th>28</th>\n",
       "      <td>0400000US32</td>\n",
       "      <td>Nevada</td>\n",
       "      <td>70775</td>\n",
       "      <td>97955</td>\n",
       "    </tr>\n",
       "    <tr>\n",
       "      <th>29</th>\n",
       "      <td>0400000US33</td>\n",
       "      <td>New Hampshire</td>\n",
       "      <td>82346</td>\n",
       "      <td>118118</td>\n",
       "    </tr>\n",
       "    <tr>\n",
       "      <th>30</th>\n",
       "      <td>0400000US34</td>\n",
       "      <td>New Jersey</td>\n",
       "      <td>96602</td>\n",
       "      <td>135170</td>\n",
       "    </tr>\n",
       "    <tr>\n",
       "      <th>31</th>\n",
       "      <td>0400000US35</td>\n",
       "      <td>New Mexico</td>\n",
       "      <td>61477</td>\n",
       "      <td>81035</td>\n",
       "    </tr>\n",
       "    <tr>\n",
       "      <th>32</th>\n",
       "      <td>0400000US36</td>\n",
       "      <td>New York</td>\n",
       "      <td>83578</td>\n",
       "      <td>120883</td>\n",
       "    </tr>\n",
       "    <tr>\n",
       "      <th>33</th>\n",
       "      <td>0400000US37</td>\n",
       "      <td>North Carolina</td>\n",
       "      <td>63562</td>\n",
       "      <td>92878</td>\n",
       "    </tr>\n",
       "    <tr>\n",
       "      <th>34</th>\n",
       "      <td>0400000US38</td>\n",
       "      <td>North Dakota</td>\n",
       "      <td>67426</td>\n",
       "      <td>97221</td>\n",
       "    </tr>\n",
       "    <tr>\n",
       "      <th>35</th>\n",
       "      <td>0400000US39</td>\n",
       "      <td>Ohio</td>\n",
       "      <td>63996</td>\n",
       "      <td>90958</td>\n",
       "    </tr>\n",
       "    <tr>\n",
       "      <th>36</th>\n",
       "      <td>0400000US40</td>\n",
       "      <td>Oklahoma</td>\n",
       "      <td>60788</td>\n",
       "      <td>84402</td>\n",
       "    </tr>\n",
       "    <tr>\n",
       "      <th>37</th>\n",
       "      <td>0400000US41</td>\n",
       "      <td>Oregon</td>\n",
       "      <td>66161</td>\n",
       "      <td>103330</td>\n",
       "    </tr>\n",
       "    <tr>\n",
       "      <th>38</th>\n",
       "      <td>0400000US42</td>\n",
       "      <td>Pennsylvania</td>\n",
       "      <td>70243</td>\n",
       "      <td>100837</td>\n",
       "    </tr>\n",
       "    <tr>\n",
       "      <th>39</th>\n",
       "      <td>0400000US44</td>\n",
       "      <td>Rhode Island</td>\n",
       "      <td>74605</td>\n",
       "      <td>106511</td>\n",
       "    </tr>\n",
       "    <tr>\n",
       "      <th>40</th>\n",
       "      <td>0400000US45</td>\n",
       "      <td>South Carolina</td>\n",
       "      <td>60416</td>\n",
       "      <td>88488</td>\n",
       "    </tr>\n",
       "    <tr>\n",
       "      <th>41</th>\n",
       "      <td>0400000US46</td>\n",
       "      <td>South Dakota</td>\n",
       "      <td>63453</td>\n",
       "      <td>90706</td>\n",
       "    </tr>\n",
       "    <tr>\n",
       "      <th>42</th>\n",
       "      <td>0400000US47</td>\n",
       "      <td>Tennessee</td>\n",
       "      <td>60861</td>\n",
       "      <td>89267</td>\n",
       "    </tr>\n",
       "    <tr>\n",
       "      <th>43</th>\n",
       "      <td>0400000US48</td>\n",
       "      <td>Texas</td>\n",
       "      <td>71651</td>\n",
       "      <td>102197</td>\n",
       "    </tr>\n",
       "    <tr>\n",
       "      <th>44</th>\n",
       "      <td>0400000US49</td>\n",
       "      <td>Utah</td>\n",
       "      <td>73002</td>\n",
       "      <td>111416</td>\n",
       "    </tr>\n",
       "    <tr>\n",
       "      <th>45</th>\n",
       "      <td>0400000US50</td>\n",
       "      <td>Vermont</td>\n",
       "      <td>69033</td>\n",
       "      <td>97810</td>\n",
       "    </tr>\n",
       "    <tr>\n",
       "      <th>46</th>\n",
       "      <td>0400000US51</td>\n",
       "      <td>Virginia</td>\n",
       "      <td>86343</td>\n",
       "      <td>120553</td>\n",
       "    </tr>\n",
       "    <tr>\n",
       "      <th>47</th>\n",
       "      <td>0400000US53</td>\n",
       "      <td>Washington</td>\n",
       "      <td>77232</td>\n",
       "      <td>122880</td>\n",
       "    </tr>\n",
       "    <tr>\n",
       "      <th>48</th>\n",
       "      <td>0400000US54</td>\n",
       "      <td>West Virginia</td>\n",
       "      <td>54072</td>\n",
       "      <td>75575</td>\n",
       "    </tr>\n",
       "    <tr>\n",
       "      <th>49</th>\n",
       "      <td>0400000US55</td>\n",
       "      <td>Wisconsin</td>\n",
       "      <td>67188</td>\n",
       "      <td>94995</td>\n",
       "    </tr>\n",
       "    <tr>\n",
       "      <th>50</th>\n",
       "      <td>0400000US56</td>\n",
       "      <td>Wyoming</td>\n",
       "      <td>70836</td>\n",
       "      <td>94901</td>\n",
       "    </tr>\n",
       "    <tr>\n",
       "      <th>51</th>\n",
       "      <td>0400000US72</td>\n",
       "      <td>Puerto Rico</td>\n",
       "      <td>30270</td>\n",
       "      <td>38227</td>\n",
       "    </tr>\n",
       "  </tbody>\n",
       "</table>\n",
       "</div>"
      ],
      "text/plain": [
       "Year    Geography  Geographic Area Name   2012    2022\n",
       "0     0400000US01               Alabama  59273   82992\n",
       "1     0400000US02                Alaska  86208  110602\n",
       "2     0400000US04               Arizona  67444   98569\n",
       "3     0400000US05              Arkansas  55158   79592\n",
       "4     0400000US06            California  85265  130718\n",
       "5     0400000US08              Colorado  77900  117508\n",
       "6     0400000US09           Connecticut  97051  130601\n",
       "7     0400000US10              Delaware  77453  104600\n",
       "8     0400000US11  District of Columbia  99511  150292\n",
       "9     0400000US12               Florida  66599   96992\n",
       "10    0400000US13               Georgia  67659   99345\n",
       "11    0400000US15                Hawaii  84466  122902\n",
       "12    0400000US16                 Idaho  59974   92780\n",
       "13    0400000US17              Illinois  77163  108873\n",
       "14    0400000US18               Indiana  62715   88805\n",
       "15    0400000US19                  Iowa  64881   92053\n",
       "16    0400000US20                Kansas  67564   94263\n",
       "17    0400000US21              Kentucky  57876   83093\n",
       "18    0400000US22             Louisiana  62369   83169\n",
       "19    0400000US23                 Maine  62392   91599\n",
       "20    0400000US24              Maryland  94941  129642\n",
       "21    0400000US25         Massachusetts  89965  134568\n",
       "22    0400000US26              Michigan  64538   92835\n",
       "23    0400000US27             Minnesota  76372  111341\n",
       "24    0400000US28           Mississippi  54176   74149\n",
       "25    0400000US29              Missouri  63405   89952\n",
       "26    0400000US30               Montana  59569   90142\n",
       "27    0400000US31              Nebraska  65979   95547\n",
       "28    0400000US32                Nevada  70775   97955\n",
       "29    0400000US33         New Hampshire  82346  118118\n",
       "30    0400000US34            New Jersey  96602  135170\n",
       "31    0400000US35            New Mexico  61477   81035\n",
       "32    0400000US36              New York  83578  120883\n",
       "33    0400000US37        North Carolina  63562   92878\n",
       "34    0400000US38          North Dakota  67426   97221\n",
       "35    0400000US39                  Ohio  63996   90958\n",
       "36    0400000US40              Oklahoma  60788   84402\n",
       "37    0400000US41                Oregon  66161  103330\n",
       "38    0400000US42          Pennsylvania  70243  100837\n",
       "39    0400000US44          Rhode Island  74605  106511\n",
       "40    0400000US45        South Carolina  60416   88488\n",
       "41    0400000US46          South Dakota  63453   90706\n",
       "42    0400000US47             Tennessee  60861   89267\n",
       "43    0400000US48                 Texas  71651  102197\n",
       "44    0400000US49                  Utah  73002  111416\n",
       "45    0400000US50               Vermont  69033   97810\n",
       "46    0400000US51              Virginia  86343  120553\n",
       "47    0400000US53            Washington  77232  122880\n",
       "48    0400000US54         West Virginia  54072   75575\n",
       "49    0400000US55             Wisconsin  67188   94995\n",
       "50    0400000US56               Wyoming  70836   94901\n",
       "51    0400000US72           Puerto Rico  30270   38227"
      ]
     },
     "execution_count": 11,
     "metadata": {},
     "output_type": "execute_result"
    }
   ],
   "source": [
    "column_name = \"Estimate!!INCOME AND BENEFITS (IN 2012 INFLATION-ADJUSTED DOLLARS)!!Mean household income (dollars)\"\n",
    "income_data[column_name] = pd.to_numeric(income_data[column_name])\n",
    "\n",
    "income_data = income_data.pivot(index=[\"Geography\",\"Geographic Area Name\"],\n",
    "    columns=\"Year\", \n",
    "    values=column_name)\n",
    "\n",
    "income_data.reset_index()"
   ]
  },
  {
   "cell_type": "markdown",
   "metadata": {},
   "source": [
    "### Step 4: Data Analysis\n",
    "\n",
    "Calculating the % change in per capita income over the past decade to identify the key winner and loser states."
   ]
  },
  {
   "cell_type": "code",
   "execution_count": 12,
   "metadata": {},
   "outputs": [
    {
     "data": {
      "text/html": [
       "<div>\n",
       "<style scoped>\n",
       "    .dataframe tbody tr th:only-of-type {\n",
       "        vertical-align: middle;\n",
       "    }\n",
       "\n",
       "    .dataframe tbody tr th {\n",
       "        vertical-align: top;\n",
       "    }\n",
       "\n",
       "    .dataframe thead th {\n",
       "        text-align: right;\n",
       "    }\n",
       "</style>\n",
       "<table border=\"1\" class=\"dataframe\">\n",
       "  <thead>\n",
       "    <tr style=\"text-align: right;\">\n",
       "      <th></th>\n",
       "      <th>Year</th>\n",
       "      <th>2012</th>\n",
       "      <th>2022</th>\n",
       "      <th>%Change in Income</th>\n",
       "    </tr>\n",
       "    <tr>\n",
       "      <th>Geography</th>\n",
       "      <th>Geographic Area Name</th>\n",
       "      <th></th>\n",
       "      <th></th>\n",
       "      <th></th>\n",
       "    </tr>\n",
       "  </thead>\n",
       "  <tbody>\n",
       "    <tr>\n",
       "      <th>0400000US53</th>\n",
       "      <th>Washington</th>\n",
       "      <td>77232</td>\n",
       "      <td>122880</td>\n",
       "      <td>59.105034</td>\n",
       "    </tr>\n",
       "    <tr>\n",
       "      <th>0400000US41</th>\n",
       "      <th>Oregon</th>\n",
       "      <td>66161</td>\n",
       "      <td>103330</td>\n",
       "      <td>56.179622</td>\n",
       "    </tr>\n",
       "    <tr>\n",
       "      <th>0400000US16</th>\n",
       "      <th>Idaho</th>\n",
       "      <td>59974</td>\n",
       "      <td>92780</td>\n",
       "      <td>54.700370</td>\n",
       "    </tr>\n",
       "    <tr>\n",
       "      <th>0400000US06</th>\n",
       "      <th>California</th>\n",
       "      <td>85265</td>\n",
       "      <td>130718</td>\n",
       "      <td>53.307922</td>\n",
       "    </tr>\n",
       "    <tr>\n",
       "      <th>0400000US49</th>\n",
       "      <th>Utah</th>\n",
       "      <td>73002</td>\n",
       "      <td>111416</td>\n",
       "      <td>52.620476</td>\n",
       "    </tr>\n",
       "    <tr>\n",
       "      <th>0400000US30</th>\n",
       "      <th>Montana</th>\n",
       "      <td>59569</td>\n",
       "      <td>90142</td>\n",
       "      <td>51.323675</td>\n",
       "    </tr>\n",
       "    <tr>\n",
       "      <th>0400000US11</th>\n",
       "      <th>District of Columbia</th>\n",
       "      <td>99511</td>\n",
       "      <td>150292</td>\n",
       "      <td>51.030539</td>\n",
       "    </tr>\n",
       "    <tr>\n",
       "      <th>0400000US08</th>\n",
       "      <th>Colorado</th>\n",
       "      <td>77900</td>\n",
       "      <td>117508</td>\n",
       "      <td>50.844673</td>\n",
       "    </tr>\n",
       "    <tr>\n",
       "      <th>0400000US25</th>\n",
       "      <th>Massachusetts</th>\n",
       "      <td>89965</td>\n",
       "      <td>134568</td>\n",
       "      <td>49.578169</td>\n",
       "    </tr>\n",
       "    <tr>\n",
       "      <th>0400000US13</th>\n",
       "      <th>Georgia</th>\n",
       "      <td>67659</td>\n",
       "      <td>99345</td>\n",
       "      <td>46.831907</td>\n",
       "    </tr>\n",
       "    <tr>\n",
       "      <th>0400000US23</th>\n",
       "      <th>Maine</th>\n",
       "      <td>62392</td>\n",
       "      <td>91599</td>\n",
       "      <td>46.812091</td>\n",
       "    </tr>\n",
       "    <tr>\n",
       "      <th>0400000US47</th>\n",
       "      <th>Tennessee</th>\n",
       "      <td>60861</td>\n",
       "      <td>89267</td>\n",
       "      <td>46.673568</td>\n",
       "    </tr>\n",
       "    <tr>\n",
       "      <th>0400000US45</th>\n",
       "      <th>South Carolina</th>\n",
       "      <td>60416</td>\n",
       "      <td>88488</td>\n",
       "      <td>46.464513</td>\n",
       "    </tr>\n",
       "    <tr>\n",
       "      <th>0400000US04</th>\n",
       "      <th>Arizona</th>\n",
       "      <td>67444</td>\n",
       "      <td>98569</td>\n",
       "      <td>46.149398</td>\n",
       "    </tr>\n",
       "    <tr>\n",
       "      <th>0400000US37</th>\n",
       "      <th>North Carolina</th>\n",
       "      <td>63562</td>\n",
       "      <td>92878</td>\n",
       "      <td>46.121897</td>\n",
       "    </tr>\n",
       "    <tr>\n",
       "      <th>0400000US27</th>\n",
       "      <th>Minnesota</th>\n",
       "      <td>76372</td>\n",
       "      <td>111341</td>\n",
       "      <td>45.787723</td>\n",
       "    </tr>\n",
       "    <tr>\n",
       "      <th>0400000US12</th>\n",
       "      <th>Florida</th>\n",
       "      <td>66599</td>\n",
       "      <td>96992</td>\n",
       "      <td>45.635820</td>\n",
       "    </tr>\n",
       "    <tr>\n",
       "      <th>0400000US15</th>\n",
       "      <th>Hawaii</th>\n",
       "      <td>84466</td>\n",
       "      <td>122902</td>\n",
       "      <td>45.504700</td>\n",
       "    </tr>\n",
       "    <tr>\n",
       "      <th>0400000US31</th>\n",
       "      <th>Nebraska</th>\n",
       "      <td>65979</td>\n",
       "      <td>95547</td>\n",
       "      <td>44.814259</td>\n",
       "    </tr>\n",
       "    <tr>\n",
       "      <th>0400000US36</th>\n",
       "      <th>New York</th>\n",
       "      <td>83578</td>\n",
       "      <td>120883</td>\n",
       "      <td>44.634952</td>\n",
       "    </tr>\n",
       "    <tr>\n",
       "      <th>0400000US05</th>\n",
       "      <th>Arkansas</th>\n",
       "      <td>55158</td>\n",
       "      <td>79592</td>\n",
       "      <td>44.298198</td>\n",
       "    </tr>\n",
       "    <tr>\n",
       "      <th>0400000US38</th>\n",
       "      <th>North Dakota</th>\n",
       "      <td>67426</td>\n",
       "      <td>97221</td>\n",
       "      <td>44.189185</td>\n",
       "    </tr>\n",
       "    <tr>\n",
       "      <th>0400000US26</th>\n",
       "      <th>Michigan</th>\n",
       "      <td>64538</td>\n",
       "      <td>92835</td>\n",
       "      <td>43.845486</td>\n",
       "    </tr>\n",
       "    <tr>\n",
       "      <th>0400000US21</th>\n",
       "      <th>Kentucky</th>\n",
       "      <td>57876</td>\n",
       "      <td>83093</td>\n",
       "      <td>43.570737</td>\n",
       "    </tr>\n",
       "    <tr>\n",
       "      <th>0400000US42</th>\n",
       "      <th>Pennsylvania</th>\n",
       "      <td>70243</td>\n",
       "      <td>100837</td>\n",
       "      <td>43.554518</td>\n",
       "    </tr>\n",
       "    <tr>\n",
       "      <th>0400000US33</th>\n",
       "      <th>New Hampshire</th>\n",
       "      <td>82346</td>\n",
       "      <td>118118</td>\n",
       "      <td>43.441090</td>\n",
       "    </tr>\n",
       "    <tr>\n",
       "      <th>0400000US46</th>\n",
       "      <th>South Dakota</th>\n",
       "      <td>63453</td>\n",
       "      <td>90706</td>\n",
       "      <td>42.949900</td>\n",
       "    </tr>\n",
       "    <tr>\n",
       "      <th>0400000US44</th>\n",
       "      <th>Rhode Island</th>\n",
       "      <td>74605</td>\n",
       "      <td>106511</td>\n",
       "      <td>42.766571</td>\n",
       "    </tr>\n",
       "    <tr>\n",
       "      <th>0400000US48</th>\n",
       "      <th>Texas</th>\n",
       "      <td>71651</td>\n",
       "      <td>102197</td>\n",
       "      <td>42.631645</td>\n",
       "    </tr>\n",
       "    <tr>\n",
       "      <th>0400000US39</th>\n",
       "      <th>Ohio</th>\n",
       "      <td>63996</td>\n",
       "      <td>90958</td>\n",
       "      <td>42.130758</td>\n",
       "    </tr>\n",
       "    <tr>\n",
       "      <th>0400000US19</th>\n",
       "      <th>Iowa</th>\n",
       "      <td>64881</td>\n",
       "      <td>92053</td>\n",
       "      <td>41.879749</td>\n",
       "    </tr>\n",
       "    <tr>\n",
       "      <th>0400000US29</th>\n",
       "      <th>Missouri</th>\n",
       "      <td>63405</td>\n",
       "      <td>89952</td>\n",
       "      <td>41.868938</td>\n",
       "    </tr>\n",
       "    <tr>\n",
       "      <th>0400000US50</th>\n",
       "      <th>Vermont</th>\n",
       "      <td>69033</td>\n",
       "      <td>97810</td>\n",
       "      <td>41.685860</td>\n",
       "    </tr>\n",
       "    <tr>\n",
       "      <th>0400000US18</th>\n",
       "      <th>Indiana</th>\n",
       "      <td>62715</td>\n",
       "      <td>88805</td>\n",
       "      <td>41.600893</td>\n",
       "    </tr>\n",
       "    <tr>\n",
       "      <th>0400000US55</th>\n",
       "      <th>Wisconsin</th>\n",
       "      <td>67188</td>\n",
       "      <td>94995</td>\n",
       "      <td>41.386855</td>\n",
       "    </tr>\n",
       "    <tr>\n",
       "      <th>0400000US17</th>\n",
       "      <th>Illinois</th>\n",
       "      <td>77163</td>\n",
       "      <td>108873</td>\n",
       "      <td>41.094825</td>\n",
       "    </tr>\n",
       "    <tr>\n",
       "      <th>0400000US01</th>\n",
       "      <th>Alabama</th>\n",
       "      <td>59273</td>\n",
       "      <td>82992</td>\n",
       "      <td>40.016534</td>\n",
       "    </tr>\n",
       "    <tr>\n",
       "      <th>0400000US34</th>\n",
       "      <th>New Jersey</th>\n",
       "      <td>96602</td>\n",
       "      <td>135170</td>\n",
       "      <td>39.924639</td>\n",
       "    </tr>\n",
       "    <tr>\n",
       "      <th>0400000US54</th>\n",
       "      <th>West Virginia</th>\n",
       "      <td>54072</td>\n",
       "      <td>75575</td>\n",
       "      <td>39.767347</td>\n",
       "    </tr>\n",
       "    <tr>\n",
       "      <th>0400000US51</th>\n",
       "      <th>Virginia</th>\n",
       "      <td>86343</td>\n",
       "      <td>120553</td>\n",
       "      <td>39.621046</td>\n",
       "    </tr>\n",
       "    <tr>\n",
       "      <th>0400000US20</th>\n",
       "      <th>Kansas</th>\n",
       "      <td>67564</td>\n",
       "      <td>94263</td>\n",
       "      <td>39.516606</td>\n",
       "    </tr>\n",
       "    <tr>\n",
       "      <th>0400000US40</th>\n",
       "      <th>Oklahoma</th>\n",
       "      <td>60788</td>\n",
       "      <td>84402</td>\n",
       "      <td>38.846483</td>\n",
       "    </tr>\n",
       "    <tr>\n",
       "      <th>0400000US32</th>\n",
       "      <th>Nevada</th>\n",
       "      <td>70775</td>\n",
       "      <td>97955</td>\n",
       "      <td>38.403391</td>\n",
       "    </tr>\n",
       "    <tr>\n",
       "      <th>0400000US28</th>\n",
       "      <th>Mississippi</th>\n",
       "      <td>54176</td>\n",
       "      <td>74149</td>\n",
       "      <td>36.866878</td>\n",
       "    </tr>\n",
       "    <tr>\n",
       "      <th>0400000US24</th>\n",
       "      <th>Maryland</th>\n",
       "      <td>94941</td>\n",
       "      <td>129642</td>\n",
       "      <td>36.550068</td>\n",
       "    </tr>\n",
       "    <tr>\n",
       "      <th>0400000US10</th>\n",
       "      <th>Delaware</th>\n",
       "      <td>77453</td>\n",
       "      <td>104600</td>\n",
       "      <td>35.049643</td>\n",
       "    </tr>\n",
       "    <tr>\n",
       "      <th>0400000US09</th>\n",
       "      <th>Connecticut</th>\n",
       "      <td>97051</td>\n",
       "      <td>130601</td>\n",
       "      <td>34.569453</td>\n",
       "    </tr>\n",
       "    <tr>\n",
       "      <th>0400000US56</th>\n",
       "      <th>Wyoming</th>\n",
       "      <td>70836</td>\n",
       "      <td>94901</td>\n",
       "      <td>33.972839</td>\n",
       "    </tr>\n",
       "    <tr>\n",
       "      <th>0400000US22</th>\n",
       "      <th>Louisiana</th>\n",
       "      <td>62369</td>\n",
       "      <td>83169</td>\n",
       "      <td>33.349901</td>\n",
       "    </tr>\n",
       "    <tr>\n",
       "      <th>0400000US35</th>\n",
       "      <th>New Mexico</th>\n",
       "      <td>61477</td>\n",
       "      <td>81035</td>\n",
       "      <td>31.813524</td>\n",
       "    </tr>\n",
       "    <tr>\n",
       "      <th>0400000US02</th>\n",
       "      <th>Alaska</th>\n",
       "      <td>86208</td>\n",
       "      <td>110602</td>\n",
       "      <td>28.296678</td>\n",
       "    </tr>\n",
       "    <tr>\n",
       "      <th>0400000US72</th>\n",
       "      <th>Puerto Rico</th>\n",
       "      <td>30270</td>\n",
       "      <td>38227</td>\n",
       "      <td>26.286753</td>\n",
       "    </tr>\n",
       "  </tbody>\n",
       "</table>\n",
       "</div>"
      ],
      "text/plain": [
       "Year                               2012    2022  %Change in Income\n",
       "Geography   Geographic Area Name                                  \n",
       "0400000US53 Washington            77232  122880          59.105034\n",
       "0400000US41 Oregon                66161  103330          56.179622\n",
       "0400000US16 Idaho                 59974   92780          54.700370\n",
       "0400000US06 California            85265  130718          53.307922\n",
       "0400000US49 Utah                  73002  111416          52.620476\n",
       "0400000US30 Montana               59569   90142          51.323675\n",
       "0400000US11 District of Columbia  99511  150292          51.030539\n",
       "0400000US08 Colorado              77900  117508          50.844673\n",
       "0400000US25 Massachusetts         89965  134568          49.578169\n",
       "0400000US13 Georgia               67659   99345          46.831907\n",
       "0400000US23 Maine                 62392   91599          46.812091\n",
       "0400000US47 Tennessee             60861   89267          46.673568\n",
       "0400000US45 South Carolina        60416   88488          46.464513\n",
       "0400000US04 Arizona               67444   98569          46.149398\n",
       "0400000US37 North Carolina        63562   92878          46.121897\n",
       "0400000US27 Minnesota             76372  111341          45.787723\n",
       "0400000US12 Florida               66599   96992          45.635820\n",
       "0400000US15 Hawaii                84466  122902          45.504700\n",
       "0400000US31 Nebraska              65979   95547          44.814259\n",
       "0400000US36 New York              83578  120883          44.634952\n",
       "0400000US05 Arkansas              55158   79592          44.298198\n",
       "0400000US38 North Dakota          67426   97221          44.189185\n",
       "0400000US26 Michigan              64538   92835          43.845486\n",
       "0400000US21 Kentucky              57876   83093          43.570737\n",
       "0400000US42 Pennsylvania          70243  100837          43.554518\n",
       "0400000US33 New Hampshire         82346  118118          43.441090\n",
       "0400000US46 South Dakota          63453   90706          42.949900\n",
       "0400000US44 Rhode Island          74605  106511          42.766571\n",
       "0400000US48 Texas                 71651  102197          42.631645\n",
       "0400000US39 Ohio                  63996   90958          42.130758\n",
       "0400000US19 Iowa                  64881   92053          41.879749\n",
       "0400000US29 Missouri              63405   89952          41.868938\n",
       "0400000US50 Vermont               69033   97810          41.685860\n",
       "0400000US18 Indiana               62715   88805          41.600893\n",
       "0400000US55 Wisconsin             67188   94995          41.386855\n",
       "0400000US17 Illinois              77163  108873          41.094825\n",
       "0400000US01 Alabama               59273   82992          40.016534\n",
       "0400000US34 New Jersey            96602  135170          39.924639\n",
       "0400000US54 West Virginia         54072   75575          39.767347\n",
       "0400000US51 Virginia              86343  120553          39.621046\n",
       "0400000US20 Kansas                67564   94263          39.516606\n",
       "0400000US40 Oklahoma              60788   84402          38.846483\n",
       "0400000US32 Nevada                70775   97955          38.403391\n",
       "0400000US28 Mississippi           54176   74149          36.866878\n",
       "0400000US24 Maryland              94941  129642          36.550068\n",
       "0400000US10 Delaware              77453  104600          35.049643\n",
       "0400000US09 Connecticut           97051  130601          34.569453\n",
       "0400000US56 Wyoming               70836   94901          33.972839\n",
       "0400000US22 Louisiana             62369   83169          33.349901\n",
       "0400000US35 New Mexico            61477   81035          31.813524\n",
       "0400000US02 Alaska                86208  110602          28.296678\n",
       "0400000US72 Puerto Rico           30270   38227          26.286753"
      ]
     },
     "execution_count": 12,
     "metadata": {},
     "output_type": "execute_result"
    }
   ],
   "source": [
    "income_data[\"%Change in Income\"] = ((income_data[2022]-income_data[2012])/income_data[2012])*100\n",
    "income_data.sort_values(by=\"%Change in Income\",ascending=False)"
   ]
  },
  {
   "cell_type": "markdown",
   "metadata": {},
   "source": [
    "The 3 states with top income growth of 54-57% are: Washington, Oregon, Idaho.\n",
    "\n",
    "The states lagging behind economically are: New Mexico, Alaska, Puerto Rico.\n",
    "\n",
    "Let's investigate what are the underlying causes for this heterogenous growth. \n",
    "The sectoral composition of the economy in the top and bottom states may point us towards which sectors drive productivity and therefore income growth for state residents."
   ]
  },
  {
   "cell_type": "code",
   "execution_count": 13,
   "metadata": {},
   "outputs": [
    {
     "data": {
      "text/html": [
       "<div>\n",
       "<style scoped>\n",
       "    .dataframe tbody tr th:only-of-type {\n",
       "        vertical-align: middle;\n",
       "    }\n",
       "\n",
       "    .dataframe tbody tr th {\n",
       "        vertical-align: top;\n",
       "    }\n",
       "\n",
       "    .dataframe thead th {\n",
       "        text-align: right;\n",
       "    }\n",
       "</style>\n",
       "<table border=\"1\" class=\"dataframe\">\n",
       "  <thead>\n",
       "    <tr style=\"text-align: right;\">\n",
       "      <th></th>\n",
       "      <th>Industry</th>\n",
       "      <th>Employment by Industry</th>\n",
       "    </tr>\n",
       "  </thead>\n",
       "  <tbody>\n",
       "    <tr>\n",
       "      <th>0</th>\n",
       "      <td>Estimate!!INDUSTRY!!Agriculture, forestry, fis...</td>\n",
       "      <td>92950</td>\n",
       "    </tr>\n",
       "    <tr>\n",
       "      <th>1</th>\n",
       "      <td>Estimate!!INDUSTRY!!Construction</td>\n",
       "      <td>269999</td>\n",
       "    </tr>\n",
       "    <tr>\n",
       "      <th>2</th>\n",
       "      <td>Estimate!!INDUSTRY!!Manufacturing</td>\n",
       "      <td>346299</td>\n",
       "    </tr>\n",
       "    <tr>\n",
       "      <th>3</th>\n",
       "      <td>Estimate!!INDUSTRY!!Wholesale trade</td>\n",
       "      <td>92595</td>\n",
       "    </tr>\n",
       "    <tr>\n",
       "      <th>4</th>\n",
       "      <td>Estimate!!INDUSTRY!!Retail trade</td>\n",
       "      <td>438819</td>\n",
       "    </tr>\n",
       "    <tr>\n",
       "      <th>5</th>\n",
       "      <td>Estimate!!INDUSTRY!!Transportation and warehou...</td>\n",
       "      <td>214143</td>\n",
       "    </tr>\n",
       "    <tr>\n",
       "      <th>6</th>\n",
       "      <td>Estimate!!INDUSTRY!!Information</td>\n",
       "      <td>88696</td>\n",
       "    </tr>\n",
       "    <tr>\n",
       "      <th>7</th>\n",
       "      <td>Estimate!!INDUSTRY!!Finance and insurance, and...</td>\n",
       "      <td>199104</td>\n",
       "    </tr>\n",
       "    <tr>\n",
       "      <th>8</th>\n",
       "      <td>Estimate!!INDUSTRY!!Professional, scientific, ...</td>\n",
       "      <td>534819</td>\n",
       "    </tr>\n",
       "    <tr>\n",
       "      <th>9</th>\n",
       "      <td>Estimate!!INDUSTRY!!Educational services, and ...</td>\n",
       "      <td>800574</td>\n",
       "    </tr>\n",
       "    <tr>\n",
       "      <th>10</th>\n",
       "      <td>Estimate!!INDUSTRY!!Arts, entertainment, and r...</td>\n",
       "      <td>323017</td>\n",
       "    </tr>\n",
       "    <tr>\n",
       "      <th>11</th>\n",
       "      <td>Estimate!!INDUSTRY!!Other services, except pub...</td>\n",
       "      <td>164780</td>\n",
       "    </tr>\n",
       "    <tr>\n",
       "      <th>12</th>\n",
       "      <td>Estimate!!INDUSTRY!!Public administration</td>\n",
       "      <td>186281</td>\n",
       "    </tr>\n",
       "  </tbody>\n",
       "</table>\n",
       "</div>"
      ],
      "text/plain": [
       "                                             Industry Employment by Industry\n",
       "0   Estimate!!INDUSTRY!!Agriculture, forestry, fis...                  92950\n",
       "1                    Estimate!!INDUSTRY!!Construction                 269999\n",
       "2                   Estimate!!INDUSTRY!!Manufacturing                 346299\n",
       "3                 Estimate!!INDUSTRY!!Wholesale trade                  92595\n",
       "4                    Estimate!!INDUSTRY!!Retail trade                 438819\n",
       "5   Estimate!!INDUSTRY!!Transportation and warehou...                 214143\n",
       "6                     Estimate!!INDUSTRY!!Information                  88696\n",
       "7   Estimate!!INDUSTRY!!Finance and insurance, and...                 199104\n",
       "8   Estimate!!INDUSTRY!!Professional, scientific, ...                 534819\n",
       "9   Estimate!!INDUSTRY!!Educational services, and ...                 800574\n",
       "10  Estimate!!INDUSTRY!!Arts, entertainment, and r...                 323017\n",
       "11  Estimate!!INDUSTRY!!Other services, except pub...                 164780\n",
       "12          Estimate!!INDUSTRY!!Public administration                 186281"
      ]
     },
     "execution_count": 13,
     "metadata": {},
     "output_type": "execute_result"
    }
   ],
   "source": [
    "washington_sectoral = acs_estimates.loc[100]\n",
    "washington_sectoral.to_frame().reset_index()\n",
    "industries = ['Estimate!!INDUSTRY!!Agriculture, forestry, fishing and hunting, and mining',\n",
    " 'Estimate!!INDUSTRY!!Construction',\n",
    " 'Estimate!!INDUSTRY!!Manufacturing',\n",
    " 'Estimate!!INDUSTRY!!Wholesale trade',\n",
    " 'Estimate!!INDUSTRY!!Retail trade',\n",
    " 'Estimate!!INDUSTRY!!Transportation and warehousing, and utilities',\n",
    " 'Estimate!!INDUSTRY!!Information',\n",
    " 'Estimate!!INDUSTRY!!Finance and insurance, and real estate and rental and leasing',\n",
    " 'Estimate!!INDUSTRY!!Professional, scientific, and management, and administrative and waste management services',\n",
    " 'Estimate!!INDUSTRY!!Educational services, and health care and social assistance',\n",
    " 'Estimate!!INDUSTRY!!Arts, entertainment, and recreation, and accommodation and food services',\n",
    " 'Estimate!!INDUSTRY!!Other services, except public administration',\n",
    " 'Estimate!!INDUSTRY!!Public administration',]\n",
    "\n",
    "washington_sectoral = washington_sectoral.loc[industries]\n",
    "washington_sectoral = washington_sectoral.to_frame().reset_index()\n",
    "washington_sectoral.rename(columns={0:\"Industry\",100:\"Employment by Industry\"},inplace=True)\n",
    "washington_sectoral"
   ]
  },
  {
   "cell_type": "code",
   "execution_count": 17,
   "metadata": {},
   "outputs": [
    {
     "data": {
      "application/vnd.plotly.v1+json": {
       "config": {
        "plotlyServerURL": "https://plot.ly"
       },
       "data": [
        {
         "domain": {
          "x": [
           0,
           1
          ],
          "y": [
           0,
           1
          ]
         },
         "hovertemplate": "Industry=%{label}<br>Employment by Industry=%{value}<extra></extra>",
         "labels": [
          "Estimate!!INDUSTRY!!Agriculture, forestry, fishing and hunting, and mining",
          "Estimate!!INDUSTRY!!Construction",
          "Estimate!!INDUSTRY!!Manufacturing",
          "Estimate!!INDUSTRY!!Wholesale trade",
          "Estimate!!INDUSTRY!!Retail trade",
          "Estimate!!INDUSTRY!!Transportation and warehousing, and utilities",
          "Estimate!!INDUSTRY!!Information",
          "Estimate!!INDUSTRY!!Finance and insurance, and real estate and rental and leasing",
          "Estimate!!INDUSTRY!!Professional, scientific, and management, and administrative and waste management services",
          "Estimate!!INDUSTRY!!Educational services, and health care and social assistance",
          "Estimate!!INDUSTRY!!Arts, entertainment, and recreation, and accommodation and food services",
          "Estimate!!INDUSTRY!!Other services, except public administration",
          "Estimate!!INDUSTRY!!Public administration"
         ],
         "legendgroup": "",
         "name": "",
         "showlegend": true,
         "type": "pie",
         "values": [
          "92950",
          "269999",
          "346299",
          "92595",
          "438819",
          "214143",
          "88696",
          "199104",
          "534819",
          "800574",
          "323017",
          "164780",
          "186281"
         ]
        }
       ],
       "layout": {
        "legend": {
         "tracegroupgap": 0
        },
        "margin": {
         "t": 60
        },
        "template": {
         "data": {
          "bar": [
           {
            "error_x": {
             "color": "#2a3f5f"
            },
            "error_y": {
             "color": "#2a3f5f"
            },
            "marker": {
             "line": {
              "color": "#E5ECF6",
              "width": 0.5
             },
             "pattern": {
              "fillmode": "overlay",
              "size": 10,
              "solidity": 0.2
             }
            },
            "type": "bar"
           }
          ],
          "barpolar": [
           {
            "marker": {
             "line": {
              "color": "#E5ECF6",
              "width": 0.5
             },
             "pattern": {
              "fillmode": "overlay",
              "size": 10,
              "solidity": 0.2
             }
            },
            "type": "barpolar"
           }
          ],
          "carpet": [
           {
            "aaxis": {
             "endlinecolor": "#2a3f5f",
             "gridcolor": "white",
             "linecolor": "white",
             "minorgridcolor": "white",
             "startlinecolor": "#2a3f5f"
            },
            "baxis": {
             "endlinecolor": "#2a3f5f",
             "gridcolor": "white",
             "linecolor": "white",
             "minorgridcolor": "white",
             "startlinecolor": "#2a3f5f"
            },
            "type": "carpet"
           }
          ],
          "choropleth": [
           {
            "colorbar": {
             "outlinewidth": 0,
             "ticks": ""
            },
            "type": "choropleth"
           }
          ],
          "contour": [
           {
            "colorbar": {
             "outlinewidth": 0,
             "ticks": ""
            },
            "colorscale": [
             [
              0,
              "#0d0887"
             ],
             [
              0.1111111111111111,
              "#46039f"
             ],
             [
              0.2222222222222222,
              "#7201a8"
             ],
             [
              0.3333333333333333,
              "#9c179e"
             ],
             [
              0.4444444444444444,
              "#bd3786"
             ],
             [
              0.5555555555555556,
              "#d8576b"
             ],
             [
              0.6666666666666666,
              "#ed7953"
             ],
             [
              0.7777777777777778,
              "#fb9f3a"
             ],
             [
              0.8888888888888888,
              "#fdca26"
             ],
             [
              1,
              "#f0f921"
             ]
            ],
            "type": "contour"
           }
          ],
          "contourcarpet": [
           {
            "colorbar": {
             "outlinewidth": 0,
             "ticks": ""
            },
            "type": "contourcarpet"
           }
          ],
          "heatmap": [
           {
            "colorbar": {
             "outlinewidth": 0,
             "ticks": ""
            },
            "colorscale": [
             [
              0,
              "#0d0887"
             ],
             [
              0.1111111111111111,
              "#46039f"
             ],
             [
              0.2222222222222222,
              "#7201a8"
             ],
             [
              0.3333333333333333,
              "#9c179e"
             ],
             [
              0.4444444444444444,
              "#bd3786"
             ],
             [
              0.5555555555555556,
              "#d8576b"
             ],
             [
              0.6666666666666666,
              "#ed7953"
             ],
             [
              0.7777777777777778,
              "#fb9f3a"
             ],
             [
              0.8888888888888888,
              "#fdca26"
             ],
             [
              1,
              "#f0f921"
             ]
            ],
            "type": "heatmap"
           }
          ],
          "heatmapgl": [
           {
            "colorbar": {
             "outlinewidth": 0,
             "ticks": ""
            },
            "colorscale": [
             [
              0,
              "#0d0887"
             ],
             [
              0.1111111111111111,
              "#46039f"
             ],
             [
              0.2222222222222222,
              "#7201a8"
             ],
             [
              0.3333333333333333,
              "#9c179e"
             ],
             [
              0.4444444444444444,
              "#bd3786"
             ],
             [
              0.5555555555555556,
              "#d8576b"
             ],
             [
              0.6666666666666666,
              "#ed7953"
             ],
             [
              0.7777777777777778,
              "#fb9f3a"
             ],
             [
              0.8888888888888888,
              "#fdca26"
             ],
             [
              1,
              "#f0f921"
             ]
            ],
            "type": "heatmapgl"
           }
          ],
          "histogram": [
           {
            "marker": {
             "pattern": {
              "fillmode": "overlay",
              "size": 10,
              "solidity": 0.2
             }
            },
            "type": "histogram"
           }
          ],
          "histogram2d": [
           {
            "colorbar": {
             "outlinewidth": 0,
             "ticks": ""
            },
            "colorscale": [
             [
              0,
              "#0d0887"
             ],
             [
              0.1111111111111111,
              "#46039f"
             ],
             [
              0.2222222222222222,
              "#7201a8"
             ],
             [
              0.3333333333333333,
              "#9c179e"
             ],
             [
              0.4444444444444444,
              "#bd3786"
             ],
             [
              0.5555555555555556,
              "#d8576b"
             ],
             [
              0.6666666666666666,
              "#ed7953"
             ],
             [
              0.7777777777777778,
              "#fb9f3a"
             ],
             [
              0.8888888888888888,
              "#fdca26"
             ],
             [
              1,
              "#f0f921"
             ]
            ],
            "type": "histogram2d"
           }
          ],
          "histogram2dcontour": [
           {
            "colorbar": {
             "outlinewidth": 0,
             "ticks": ""
            },
            "colorscale": [
             [
              0,
              "#0d0887"
             ],
             [
              0.1111111111111111,
              "#46039f"
             ],
             [
              0.2222222222222222,
              "#7201a8"
             ],
             [
              0.3333333333333333,
              "#9c179e"
             ],
             [
              0.4444444444444444,
              "#bd3786"
             ],
             [
              0.5555555555555556,
              "#d8576b"
             ],
             [
              0.6666666666666666,
              "#ed7953"
             ],
             [
              0.7777777777777778,
              "#fb9f3a"
             ],
             [
              0.8888888888888888,
              "#fdca26"
             ],
             [
              1,
              "#f0f921"
             ]
            ],
            "type": "histogram2dcontour"
           }
          ],
          "mesh3d": [
           {
            "colorbar": {
             "outlinewidth": 0,
             "ticks": ""
            },
            "type": "mesh3d"
           }
          ],
          "parcoords": [
           {
            "line": {
             "colorbar": {
              "outlinewidth": 0,
              "ticks": ""
             }
            },
            "type": "parcoords"
           }
          ],
          "pie": [
           {
            "automargin": true,
            "type": "pie"
           }
          ],
          "scatter": [
           {
            "fillpattern": {
             "fillmode": "overlay",
             "size": 10,
             "solidity": 0.2
            },
            "type": "scatter"
           }
          ],
          "scatter3d": [
           {
            "line": {
             "colorbar": {
              "outlinewidth": 0,
              "ticks": ""
             }
            },
            "marker": {
             "colorbar": {
              "outlinewidth": 0,
              "ticks": ""
             }
            },
            "type": "scatter3d"
           }
          ],
          "scattercarpet": [
           {
            "marker": {
             "colorbar": {
              "outlinewidth": 0,
              "ticks": ""
             }
            },
            "type": "scattercarpet"
           }
          ],
          "scattergeo": [
           {
            "marker": {
             "colorbar": {
              "outlinewidth": 0,
              "ticks": ""
             }
            },
            "type": "scattergeo"
           }
          ],
          "scattergl": [
           {
            "marker": {
             "colorbar": {
              "outlinewidth": 0,
              "ticks": ""
             }
            },
            "type": "scattergl"
           }
          ],
          "scattermapbox": [
           {
            "marker": {
             "colorbar": {
              "outlinewidth": 0,
              "ticks": ""
             }
            },
            "type": "scattermapbox"
           }
          ],
          "scatterpolar": [
           {
            "marker": {
             "colorbar": {
              "outlinewidth": 0,
              "ticks": ""
             }
            },
            "type": "scatterpolar"
           }
          ],
          "scatterpolargl": [
           {
            "marker": {
             "colorbar": {
              "outlinewidth": 0,
              "ticks": ""
             }
            },
            "type": "scatterpolargl"
           }
          ],
          "scatterternary": [
           {
            "marker": {
             "colorbar": {
              "outlinewidth": 0,
              "ticks": ""
             }
            },
            "type": "scatterternary"
           }
          ],
          "surface": [
           {
            "colorbar": {
             "outlinewidth": 0,
             "ticks": ""
            },
            "colorscale": [
             [
              0,
              "#0d0887"
             ],
             [
              0.1111111111111111,
              "#46039f"
             ],
             [
              0.2222222222222222,
              "#7201a8"
             ],
             [
              0.3333333333333333,
              "#9c179e"
             ],
             [
              0.4444444444444444,
              "#bd3786"
             ],
             [
              0.5555555555555556,
              "#d8576b"
             ],
             [
              0.6666666666666666,
              "#ed7953"
             ],
             [
              0.7777777777777778,
              "#fb9f3a"
             ],
             [
              0.8888888888888888,
              "#fdca26"
             ],
             [
              1,
              "#f0f921"
             ]
            ],
            "type": "surface"
           }
          ],
          "table": [
           {
            "cells": {
             "fill": {
              "color": "#EBF0F8"
             },
             "line": {
              "color": "white"
             }
            },
            "header": {
             "fill": {
              "color": "#C8D4E3"
             },
             "line": {
              "color": "white"
             }
            },
            "type": "table"
           }
          ]
         },
         "layout": {
          "annotationdefaults": {
           "arrowcolor": "#2a3f5f",
           "arrowhead": 0,
           "arrowwidth": 1
          },
          "autotypenumbers": "strict",
          "coloraxis": {
           "colorbar": {
            "outlinewidth": 0,
            "ticks": ""
           }
          },
          "colorscale": {
           "diverging": [
            [
             0,
             "#8e0152"
            ],
            [
             0.1,
             "#c51b7d"
            ],
            [
             0.2,
             "#de77ae"
            ],
            [
             0.3,
             "#f1b6da"
            ],
            [
             0.4,
             "#fde0ef"
            ],
            [
             0.5,
             "#f7f7f7"
            ],
            [
             0.6,
             "#e6f5d0"
            ],
            [
             0.7,
             "#b8e186"
            ],
            [
             0.8,
             "#7fbc41"
            ],
            [
             0.9,
             "#4d9221"
            ],
            [
             1,
             "#276419"
            ]
           ],
           "sequential": [
            [
             0,
             "#0d0887"
            ],
            [
             0.1111111111111111,
             "#46039f"
            ],
            [
             0.2222222222222222,
             "#7201a8"
            ],
            [
             0.3333333333333333,
             "#9c179e"
            ],
            [
             0.4444444444444444,
             "#bd3786"
            ],
            [
             0.5555555555555556,
             "#d8576b"
            ],
            [
             0.6666666666666666,
             "#ed7953"
            ],
            [
             0.7777777777777778,
             "#fb9f3a"
            ],
            [
             0.8888888888888888,
             "#fdca26"
            ],
            [
             1,
             "#f0f921"
            ]
           ],
           "sequentialminus": [
            [
             0,
             "#0d0887"
            ],
            [
             0.1111111111111111,
             "#46039f"
            ],
            [
             0.2222222222222222,
             "#7201a8"
            ],
            [
             0.3333333333333333,
             "#9c179e"
            ],
            [
             0.4444444444444444,
             "#bd3786"
            ],
            [
             0.5555555555555556,
             "#d8576b"
            ],
            [
             0.6666666666666666,
             "#ed7953"
            ],
            [
             0.7777777777777778,
             "#fb9f3a"
            ],
            [
             0.8888888888888888,
             "#fdca26"
            ],
            [
             1,
             "#f0f921"
            ]
           ]
          },
          "colorway": [
           "#636efa",
           "#EF553B",
           "#00cc96",
           "#ab63fa",
           "#FFA15A",
           "#19d3f3",
           "#FF6692",
           "#B6E880",
           "#FF97FF",
           "#FECB52"
          ],
          "font": {
           "color": "#2a3f5f"
          },
          "geo": {
           "bgcolor": "white",
           "lakecolor": "white",
           "landcolor": "#E5ECF6",
           "showlakes": true,
           "showland": true,
           "subunitcolor": "white"
          },
          "hoverlabel": {
           "align": "left"
          },
          "hovermode": "closest",
          "mapbox": {
           "style": "light"
          },
          "paper_bgcolor": "white",
          "plot_bgcolor": "#E5ECF6",
          "polar": {
           "angularaxis": {
            "gridcolor": "white",
            "linecolor": "white",
            "ticks": ""
           },
           "bgcolor": "#E5ECF6",
           "radialaxis": {
            "gridcolor": "white",
            "linecolor": "white",
            "ticks": ""
           }
          },
          "scene": {
           "xaxis": {
            "backgroundcolor": "#E5ECF6",
            "gridcolor": "white",
            "gridwidth": 2,
            "linecolor": "white",
            "showbackground": true,
            "ticks": "",
            "zerolinecolor": "white"
           },
           "yaxis": {
            "backgroundcolor": "#E5ECF6",
            "gridcolor": "white",
            "gridwidth": 2,
            "linecolor": "white",
            "showbackground": true,
            "ticks": "",
            "zerolinecolor": "white"
           },
           "zaxis": {
            "backgroundcolor": "#E5ECF6",
            "gridcolor": "white",
            "gridwidth": 2,
            "linecolor": "white",
            "showbackground": true,
            "ticks": "",
            "zerolinecolor": "white"
           }
          },
          "shapedefaults": {
           "line": {
            "color": "#2a3f5f"
           }
          },
          "ternary": {
           "aaxis": {
            "gridcolor": "white",
            "linecolor": "white",
            "ticks": ""
           },
           "baxis": {
            "gridcolor": "white",
            "linecolor": "white",
            "ticks": ""
           },
           "bgcolor": "#E5ECF6",
           "caxis": {
            "gridcolor": "white",
            "linecolor": "white",
            "ticks": ""
           }
          },
          "title": {
           "x": 0.05
          },
          "xaxis": {
           "automargin": true,
           "gridcolor": "white",
           "linecolor": "white",
           "ticks": "",
           "title": {
            "standoff": 15
           },
           "zerolinecolor": "white",
           "zerolinewidth": 2
          },
          "yaxis": {
           "automargin": true,
           "gridcolor": "white",
           "linecolor": "white",
           "ticks": "",
           "title": {
            "standoff": 15
           },
           "zerolinecolor": "white",
           "zerolinewidth": 2
          }
         }
        }
       }
      },
      "text/html": [
       "<div>                            <div id=\"79d97dce-dce2-4ef3-85fd-450b16aa5b87\" class=\"plotly-graph-div\" style=\"height:525px; width:100%;\"></div>            <script type=\"text/javascript\">                require([\"plotly\"], function(Plotly) {                    window.PLOTLYENV=window.PLOTLYENV || {};                                    if (document.getElementById(\"79d97dce-dce2-4ef3-85fd-450b16aa5b87\")) {                    Plotly.newPlot(                        \"79d97dce-dce2-4ef3-85fd-450b16aa5b87\",                        [{\"domain\":{\"x\":[0.0,1.0],\"y\":[0.0,1.0]},\"hovertemplate\":\"Industry=%{label}\\u003cbr\\u003eEmployment by Industry=%{value}\\u003cextra\\u003e\\u003c\\u002fextra\\u003e\",\"labels\":[\"Estimate!!INDUSTRY!!Agriculture, forestry, fishing and hunting, and mining\",\"Estimate!!INDUSTRY!!Construction\",\"Estimate!!INDUSTRY!!Manufacturing\",\"Estimate!!INDUSTRY!!Wholesale trade\",\"Estimate!!INDUSTRY!!Retail trade\",\"Estimate!!INDUSTRY!!Transportation and warehousing, and utilities\",\"Estimate!!INDUSTRY!!Information\",\"Estimate!!INDUSTRY!!Finance and insurance, and real estate and rental and leasing\",\"Estimate!!INDUSTRY!!Professional, scientific, and management, and administrative and waste management services\",\"Estimate!!INDUSTRY!!Educational services, and health care and social assistance\",\"Estimate!!INDUSTRY!!Arts, entertainment, and recreation, and accommodation and food services\",\"Estimate!!INDUSTRY!!Other services, except public administration\",\"Estimate!!INDUSTRY!!Public administration\"],\"legendgroup\":\"\",\"name\":\"\",\"showlegend\":true,\"values\":[\"92950\",\"269999\",\"346299\",\"92595\",\"438819\",\"214143\",\"88696\",\"199104\",\"534819\",\"800574\",\"323017\",\"164780\",\"186281\"],\"type\":\"pie\"}],                        {\"template\":{\"data\":{\"histogram2dcontour\":[{\"type\":\"histogram2dcontour\",\"colorbar\":{\"outlinewidth\":0,\"ticks\":\"\"},\"colorscale\":[[0.0,\"#0d0887\"],[0.1111111111111111,\"#46039f\"],[0.2222222222222222,\"#7201a8\"],[0.3333333333333333,\"#9c179e\"],[0.4444444444444444,\"#bd3786\"],[0.5555555555555556,\"#d8576b\"],[0.6666666666666666,\"#ed7953\"],[0.7777777777777778,\"#fb9f3a\"],[0.8888888888888888,\"#fdca26\"],[1.0,\"#f0f921\"]]}],\"choropleth\":[{\"type\":\"choropleth\",\"colorbar\":{\"outlinewidth\":0,\"ticks\":\"\"}}],\"histogram2d\":[{\"type\":\"histogram2d\",\"colorbar\":{\"outlinewidth\":0,\"ticks\":\"\"},\"colorscale\":[[0.0,\"#0d0887\"],[0.1111111111111111,\"#46039f\"],[0.2222222222222222,\"#7201a8\"],[0.3333333333333333,\"#9c179e\"],[0.4444444444444444,\"#bd3786\"],[0.5555555555555556,\"#d8576b\"],[0.6666666666666666,\"#ed7953\"],[0.7777777777777778,\"#fb9f3a\"],[0.8888888888888888,\"#fdca26\"],[1.0,\"#f0f921\"]]}],\"heatmap\":[{\"type\":\"heatmap\",\"colorbar\":{\"outlinewidth\":0,\"ticks\":\"\"},\"colorscale\":[[0.0,\"#0d0887\"],[0.1111111111111111,\"#46039f\"],[0.2222222222222222,\"#7201a8\"],[0.3333333333333333,\"#9c179e\"],[0.4444444444444444,\"#bd3786\"],[0.5555555555555556,\"#d8576b\"],[0.6666666666666666,\"#ed7953\"],[0.7777777777777778,\"#fb9f3a\"],[0.8888888888888888,\"#fdca26\"],[1.0,\"#f0f921\"]]}],\"heatmapgl\":[{\"type\":\"heatmapgl\",\"colorbar\":{\"outlinewidth\":0,\"ticks\":\"\"},\"colorscale\":[[0.0,\"#0d0887\"],[0.1111111111111111,\"#46039f\"],[0.2222222222222222,\"#7201a8\"],[0.3333333333333333,\"#9c179e\"],[0.4444444444444444,\"#bd3786\"],[0.5555555555555556,\"#d8576b\"],[0.6666666666666666,\"#ed7953\"],[0.7777777777777778,\"#fb9f3a\"],[0.8888888888888888,\"#fdca26\"],[1.0,\"#f0f921\"]]}],\"contourcarpet\":[{\"type\":\"contourcarpet\",\"colorbar\":{\"outlinewidth\":0,\"ticks\":\"\"}}],\"contour\":[{\"type\":\"contour\",\"colorbar\":{\"outlinewidth\":0,\"ticks\":\"\"},\"colorscale\":[[0.0,\"#0d0887\"],[0.1111111111111111,\"#46039f\"],[0.2222222222222222,\"#7201a8\"],[0.3333333333333333,\"#9c179e\"],[0.4444444444444444,\"#bd3786\"],[0.5555555555555556,\"#d8576b\"],[0.6666666666666666,\"#ed7953\"],[0.7777777777777778,\"#fb9f3a\"],[0.8888888888888888,\"#fdca26\"],[1.0,\"#f0f921\"]]}],\"surface\":[{\"type\":\"surface\",\"colorbar\":{\"outlinewidth\":0,\"ticks\":\"\"},\"colorscale\":[[0.0,\"#0d0887\"],[0.1111111111111111,\"#46039f\"],[0.2222222222222222,\"#7201a8\"],[0.3333333333333333,\"#9c179e\"],[0.4444444444444444,\"#bd3786\"],[0.5555555555555556,\"#d8576b\"],[0.6666666666666666,\"#ed7953\"],[0.7777777777777778,\"#fb9f3a\"],[0.8888888888888888,\"#fdca26\"],[1.0,\"#f0f921\"]]}],\"mesh3d\":[{\"type\":\"mesh3d\",\"colorbar\":{\"outlinewidth\":0,\"ticks\":\"\"}}],\"scatter\":[{\"fillpattern\":{\"fillmode\":\"overlay\",\"size\":10,\"solidity\":0.2},\"type\":\"scatter\"}],\"parcoords\":[{\"type\":\"parcoords\",\"line\":{\"colorbar\":{\"outlinewidth\":0,\"ticks\":\"\"}}}],\"scatterpolargl\":[{\"type\":\"scatterpolargl\",\"marker\":{\"colorbar\":{\"outlinewidth\":0,\"ticks\":\"\"}}}],\"bar\":[{\"error_x\":{\"color\":\"#2a3f5f\"},\"error_y\":{\"color\":\"#2a3f5f\"},\"marker\":{\"line\":{\"color\":\"#E5ECF6\",\"width\":0.5},\"pattern\":{\"fillmode\":\"overlay\",\"size\":10,\"solidity\":0.2}},\"type\":\"bar\"}],\"scattergeo\":[{\"type\":\"scattergeo\",\"marker\":{\"colorbar\":{\"outlinewidth\":0,\"ticks\":\"\"}}}],\"scatterpolar\":[{\"type\":\"scatterpolar\",\"marker\":{\"colorbar\":{\"outlinewidth\":0,\"ticks\":\"\"}}}],\"histogram\":[{\"marker\":{\"pattern\":{\"fillmode\":\"overlay\",\"size\":10,\"solidity\":0.2}},\"type\":\"histogram\"}],\"scattergl\":[{\"type\":\"scattergl\",\"marker\":{\"colorbar\":{\"outlinewidth\":0,\"ticks\":\"\"}}}],\"scatter3d\":[{\"type\":\"scatter3d\",\"line\":{\"colorbar\":{\"outlinewidth\":0,\"ticks\":\"\"}},\"marker\":{\"colorbar\":{\"outlinewidth\":0,\"ticks\":\"\"}}}],\"scattermapbox\":[{\"type\":\"scattermapbox\",\"marker\":{\"colorbar\":{\"outlinewidth\":0,\"ticks\":\"\"}}}],\"scatterternary\":[{\"type\":\"scatterternary\",\"marker\":{\"colorbar\":{\"outlinewidth\":0,\"ticks\":\"\"}}}],\"scattercarpet\":[{\"type\":\"scattercarpet\",\"marker\":{\"colorbar\":{\"outlinewidth\":0,\"ticks\":\"\"}}}],\"carpet\":[{\"aaxis\":{\"endlinecolor\":\"#2a3f5f\",\"gridcolor\":\"white\",\"linecolor\":\"white\",\"minorgridcolor\":\"white\",\"startlinecolor\":\"#2a3f5f\"},\"baxis\":{\"endlinecolor\":\"#2a3f5f\",\"gridcolor\":\"white\",\"linecolor\":\"white\",\"minorgridcolor\":\"white\",\"startlinecolor\":\"#2a3f5f\"},\"type\":\"carpet\"}],\"table\":[{\"cells\":{\"fill\":{\"color\":\"#EBF0F8\"},\"line\":{\"color\":\"white\"}},\"header\":{\"fill\":{\"color\":\"#C8D4E3\"},\"line\":{\"color\":\"white\"}},\"type\":\"table\"}],\"barpolar\":[{\"marker\":{\"line\":{\"color\":\"#E5ECF6\",\"width\":0.5},\"pattern\":{\"fillmode\":\"overlay\",\"size\":10,\"solidity\":0.2}},\"type\":\"barpolar\"}],\"pie\":[{\"automargin\":true,\"type\":\"pie\"}]},\"layout\":{\"autotypenumbers\":\"strict\",\"colorway\":[\"#636efa\",\"#EF553B\",\"#00cc96\",\"#ab63fa\",\"#FFA15A\",\"#19d3f3\",\"#FF6692\",\"#B6E880\",\"#FF97FF\",\"#FECB52\"],\"font\":{\"color\":\"#2a3f5f\"},\"hovermode\":\"closest\",\"hoverlabel\":{\"align\":\"left\"},\"paper_bgcolor\":\"white\",\"plot_bgcolor\":\"#E5ECF6\",\"polar\":{\"bgcolor\":\"#E5ECF6\",\"angularaxis\":{\"gridcolor\":\"white\",\"linecolor\":\"white\",\"ticks\":\"\"},\"radialaxis\":{\"gridcolor\":\"white\",\"linecolor\":\"white\",\"ticks\":\"\"}},\"ternary\":{\"bgcolor\":\"#E5ECF6\",\"aaxis\":{\"gridcolor\":\"white\",\"linecolor\":\"white\",\"ticks\":\"\"},\"baxis\":{\"gridcolor\":\"white\",\"linecolor\":\"white\",\"ticks\":\"\"},\"caxis\":{\"gridcolor\":\"white\",\"linecolor\":\"white\",\"ticks\":\"\"}},\"coloraxis\":{\"colorbar\":{\"outlinewidth\":0,\"ticks\":\"\"}},\"colorscale\":{\"sequential\":[[0.0,\"#0d0887\"],[0.1111111111111111,\"#46039f\"],[0.2222222222222222,\"#7201a8\"],[0.3333333333333333,\"#9c179e\"],[0.4444444444444444,\"#bd3786\"],[0.5555555555555556,\"#d8576b\"],[0.6666666666666666,\"#ed7953\"],[0.7777777777777778,\"#fb9f3a\"],[0.8888888888888888,\"#fdca26\"],[1.0,\"#f0f921\"]],\"sequentialminus\":[[0.0,\"#0d0887\"],[0.1111111111111111,\"#46039f\"],[0.2222222222222222,\"#7201a8\"],[0.3333333333333333,\"#9c179e\"],[0.4444444444444444,\"#bd3786\"],[0.5555555555555556,\"#d8576b\"],[0.6666666666666666,\"#ed7953\"],[0.7777777777777778,\"#fb9f3a\"],[0.8888888888888888,\"#fdca26\"],[1.0,\"#f0f921\"]],\"diverging\":[[0,\"#8e0152\"],[0.1,\"#c51b7d\"],[0.2,\"#de77ae\"],[0.3,\"#f1b6da\"],[0.4,\"#fde0ef\"],[0.5,\"#f7f7f7\"],[0.6,\"#e6f5d0\"],[0.7,\"#b8e186\"],[0.8,\"#7fbc41\"],[0.9,\"#4d9221\"],[1,\"#276419\"]]},\"xaxis\":{\"gridcolor\":\"white\",\"linecolor\":\"white\",\"ticks\":\"\",\"title\":{\"standoff\":15},\"zerolinecolor\":\"white\",\"automargin\":true,\"zerolinewidth\":2},\"yaxis\":{\"gridcolor\":\"white\",\"linecolor\":\"white\",\"ticks\":\"\",\"title\":{\"standoff\":15},\"zerolinecolor\":\"white\",\"automargin\":true,\"zerolinewidth\":2},\"scene\":{\"xaxis\":{\"backgroundcolor\":\"#E5ECF6\",\"gridcolor\":\"white\",\"linecolor\":\"white\",\"showbackground\":true,\"ticks\":\"\",\"zerolinecolor\":\"white\",\"gridwidth\":2},\"yaxis\":{\"backgroundcolor\":\"#E5ECF6\",\"gridcolor\":\"white\",\"linecolor\":\"white\",\"showbackground\":true,\"ticks\":\"\",\"zerolinecolor\":\"white\",\"gridwidth\":2},\"zaxis\":{\"backgroundcolor\":\"#E5ECF6\",\"gridcolor\":\"white\",\"linecolor\":\"white\",\"showbackground\":true,\"ticks\":\"\",\"zerolinecolor\":\"white\",\"gridwidth\":2}},\"shapedefaults\":{\"line\":{\"color\":\"#2a3f5f\"}},\"annotationdefaults\":{\"arrowcolor\":\"#2a3f5f\",\"arrowhead\":0,\"arrowwidth\":1},\"geo\":{\"bgcolor\":\"white\",\"landcolor\":\"#E5ECF6\",\"subunitcolor\":\"white\",\"showland\":true,\"showlakes\":true,\"lakecolor\":\"white\"},\"title\":{\"x\":0.05},\"mapbox\":{\"style\":\"light\"}}},\"legend\":{\"tracegroupgap\":0},\"margin\":{\"t\":60}},                        {\"responsive\": true}                    ).then(function(){\n",
       "                            \n",
       "var gd = document.getElementById('79d97dce-dce2-4ef3-85fd-450b16aa5b87');\n",
       "var x = new MutationObserver(function (mutations, observer) {{\n",
       "        var display = window.getComputedStyle(gd).display;\n",
       "        if (!display || display === 'none') {{\n",
       "            console.log([gd, 'removed!']);\n",
       "            Plotly.purge(gd);\n",
       "            observer.disconnect();\n",
       "        }}\n",
       "}});\n",
       "\n",
       "// Listen for the removal of the full notebook cells\n",
       "var notebookContainer = gd.closest('#notebook-container');\n",
       "if (notebookContainer) {{\n",
       "    x.observe(notebookContainer, {childList: true});\n",
       "}}\n",
       "\n",
       "// Listen for the clearing of the current output cell\n",
       "var outputEl = gd.closest('.output');\n",
       "if (outputEl) {{\n",
       "    x.observe(outputEl, {childList: true});\n",
       "}}\n",
       "\n",
       "                        })                };                });            </script>        </div>"
      ]
     },
     "metadata": {},
     "output_type": "display_data"
    }
   ],
   "source": [
    "fig1 = px.pie(washington_sectoral,names=\"Industry\",values=\"Employment by Industry\")\n",
    "fig1.show()"
   ]
  },
  {
   "cell_type": "code",
   "execution_count": 15,
   "metadata": {},
   "outputs": [
    {
     "data": {
      "text/html": [
       "<div>\n",
       "<style scoped>\n",
       "    .dataframe tbody tr th:only-of-type {\n",
       "        vertical-align: middle;\n",
       "    }\n",
       "\n",
       "    .dataframe tbody tr th {\n",
       "        vertical-align: top;\n",
       "    }\n",
       "\n",
       "    .dataframe thead th {\n",
       "        text-align: right;\n",
       "    }\n",
       "</style>\n",
       "<table border=\"1\" class=\"dataframe\">\n",
       "  <thead>\n",
       "    <tr style=\"text-align: right;\">\n",
       "      <th></th>\n",
       "      <th>Industry</th>\n",
       "      <th>Employment by Industry</th>\n",
       "    </tr>\n",
       "  </thead>\n",
       "  <tbody>\n",
       "    <tr>\n",
       "      <th>0</th>\n",
       "      <td>Estimate!!INDUSTRY!!Agriculture, forestry, fis...</td>\n",
       "      <td>14546</td>\n",
       "    </tr>\n",
       "    <tr>\n",
       "      <th>1</th>\n",
       "      <td>Estimate!!INDUSTRY!!Construction</td>\n",
       "      <td>65125</td>\n",
       "    </tr>\n",
       "    <tr>\n",
       "      <th>2</th>\n",
       "      <td>Estimate!!INDUSTRY!!Manufacturing</td>\n",
       "      <td>97168</td>\n",
       "    </tr>\n",
       "    <tr>\n",
       "      <th>3</th>\n",
       "      <td>Estimate!!INDUSTRY!!Wholesale trade</td>\n",
       "      <td>30551</td>\n",
       "    </tr>\n",
       "    <tr>\n",
       "      <th>4</th>\n",
       "      <td>Estimate!!INDUSTRY!!Retail trade</td>\n",
       "      <td>145326</td>\n",
       "    </tr>\n",
       "    <tr>\n",
       "      <th>5</th>\n",
       "      <td>Estimate!!INDUSTRY!!Transportation and warehou...</td>\n",
       "      <td>41105</td>\n",
       "    </tr>\n",
       "    <tr>\n",
       "      <th>6</th>\n",
       "      <td>Estimate!!INDUSTRY!!Information</td>\n",
       "      <td>17111</td>\n",
       "    </tr>\n",
       "    <tr>\n",
       "      <th>7</th>\n",
       "      <td>Estimate!!INDUSTRY!!Finance and insurance, and...</td>\n",
       "      <td>58970</td>\n",
       "    </tr>\n",
       "    <tr>\n",
       "      <th>8</th>\n",
       "      <td>Estimate!!INDUSTRY!!Professional, scientific, ...</td>\n",
       "      <td>115411</td>\n",
       "    </tr>\n",
       "    <tr>\n",
       "      <th>9</th>\n",
       "      <td>Estimate!!INDUSTRY!!Educational services, and ...</td>\n",
       "      <td>238783</td>\n",
       "    </tr>\n",
       "    <tr>\n",
       "      <th>10</th>\n",
       "      <td>Estimate!!INDUSTRY!!Arts, entertainment, and r...</td>\n",
       "      <td>102550</td>\n",
       "    </tr>\n",
       "    <tr>\n",
       "      <th>11</th>\n",
       "      <td>Estimate!!INDUSTRY!!Other services, except pub...</td>\n",
       "      <td>62972</td>\n",
       "    </tr>\n",
       "    <tr>\n",
       "      <th>12</th>\n",
       "      <td>Estimate!!INDUSTRY!!Public administration</td>\n",
       "      <td>91712</td>\n",
       "    </tr>\n",
       "  </tbody>\n",
       "</table>\n",
       "</div>"
      ],
      "text/plain": [
       "                                             Industry Employment by Industry\n",
       "0   Estimate!!INDUSTRY!!Agriculture, forestry, fis...                  14546\n",
       "1                    Estimate!!INDUSTRY!!Construction                  65125\n",
       "2                   Estimate!!INDUSTRY!!Manufacturing                  97168\n",
       "3                 Estimate!!INDUSTRY!!Wholesale trade                  30551\n",
       "4                    Estimate!!INDUSTRY!!Retail trade                 145326\n",
       "5   Estimate!!INDUSTRY!!Transportation and warehou...                  41105\n",
       "6                     Estimate!!INDUSTRY!!Information                  17111\n",
       "7   Estimate!!INDUSTRY!!Finance and insurance, and...                  58970\n",
       "8   Estimate!!INDUSTRY!!Professional, scientific, ...                 115411\n",
       "9   Estimate!!INDUSTRY!!Educational services, and ...                 238783\n",
       "10  Estimate!!INDUSTRY!!Arts, entertainment, and r...                 102550\n",
       "11  Estimate!!INDUSTRY!!Other services, except pub...                  62972\n",
       "12          Estimate!!INDUSTRY!!Public administration                  91712"
      ]
     },
     "execution_count": 15,
     "metadata": {},
     "output_type": "execute_result"
    }
   ],
   "source": [
    "p_rico_sectoral = acs_estimates.loc[104]\n",
    "p_rico_sectoral.to_frame().reset_index()\n",
    "\n",
    "p_rico_sectoral = p_rico_sectoral.loc[industries]\n",
    "p_rico_sectoral = p_rico_sectoral.to_frame().reset_index()\n",
    "p_rico_sectoral.rename(columns={0:\"Industry\",104:\"Employment by Industry\"},inplace=True)\n",
    "p_rico_sectoral"
   ]
  },
  {
   "cell_type": "code",
   "execution_count": 16,
   "metadata": {},
   "outputs": [
    {
     "data": {
      "application/vnd.plotly.v1+json": {
       "config": {
        "plotlyServerURL": "https://plot.ly"
       },
       "data": [
        {
         "domain": {
          "x": [
           0,
           1
          ],
          "y": [
           0,
           1
          ]
         },
         "hovertemplate": "Industry=%{label}<br>Employment by Industry=%{value}<extra></extra>",
         "labels": [
          "Estimate!!INDUSTRY!!Agriculture, forestry, fishing and hunting, and mining",
          "Estimate!!INDUSTRY!!Construction",
          "Estimate!!INDUSTRY!!Manufacturing",
          "Estimate!!INDUSTRY!!Wholesale trade",
          "Estimate!!INDUSTRY!!Retail trade",
          "Estimate!!INDUSTRY!!Transportation and warehousing, and utilities",
          "Estimate!!INDUSTRY!!Information",
          "Estimate!!INDUSTRY!!Finance and insurance, and real estate and rental and leasing",
          "Estimate!!INDUSTRY!!Professional, scientific, and management, and administrative and waste management services",
          "Estimate!!INDUSTRY!!Educational services, and health care and social assistance",
          "Estimate!!INDUSTRY!!Arts, entertainment, and recreation, and accommodation and food services",
          "Estimate!!INDUSTRY!!Other services, except public administration",
          "Estimate!!INDUSTRY!!Public administration"
         ],
         "legendgroup": "",
         "name": "",
         "showlegend": true,
         "type": "pie",
         "values": [
          "14546",
          "65125",
          "97168",
          "30551",
          "145326",
          "41105",
          "17111",
          "58970",
          "115411",
          "238783",
          "102550",
          "62972",
          "91712"
         ]
        }
       ],
       "layout": {
        "legend": {
         "tracegroupgap": 0
        },
        "margin": {
         "t": 60
        },
        "template": {
         "data": {
          "bar": [
           {
            "error_x": {
             "color": "#2a3f5f"
            },
            "error_y": {
             "color": "#2a3f5f"
            },
            "marker": {
             "line": {
              "color": "#E5ECF6",
              "width": 0.5
             },
             "pattern": {
              "fillmode": "overlay",
              "size": 10,
              "solidity": 0.2
             }
            },
            "type": "bar"
           }
          ],
          "barpolar": [
           {
            "marker": {
             "line": {
              "color": "#E5ECF6",
              "width": 0.5
             },
             "pattern": {
              "fillmode": "overlay",
              "size": 10,
              "solidity": 0.2
             }
            },
            "type": "barpolar"
           }
          ],
          "carpet": [
           {
            "aaxis": {
             "endlinecolor": "#2a3f5f",
             "gridcolor": "white",
             "linecolor": "white",
             "minorgridcolor": "white",
             "startlinecolor": "#2a3f5f"
            },
            "baxis": {
             "endlinecolor": "#2a3f5f",
             "gridcolor": "white",
             "linecolor": "white",
             "minorgridcolor": "white",
             "startlinecolor": "#2a3f5f"
            },
            "type": "carpet"
           }
          ],
          "choropleth": [
           {
            "colorbar": {
             "outlinewidth": 0,
             "ticks": ""
            },
            "type": "choropleth"
           }
          ],
          "contour": [
           {
            "colorbar": {
             "outlinewidth": 0,
             "ticks": ""
            },
            "colorscale": [
             [
              0,
              "#0d0887"
             ],
             [
              0.1111111111111111,
              "#46039f"
             ],
             [
              0.2222222222222222,
              "#7201a8"
             ],
             [
              0.3333333333333333,
              "#9c179e"
             ],
             [
              0.4444444444444444,
              "#bd3786"
             ],
             [
              0.5555555555555556,
              "#d8576b"
             ],
             [
              0.6666666666666666,
              "#ed7953"
             ],
             [
              0.7777777777777778,
              "#fb9f3a"
             ],
             [
              0.8888888888888888,
              "#fdca26"
             ],
             [
              1,
              "#f0f921"
             ]
            ],
            "type": "contour"
           }
          ],
          "contourcarpet": [
           {
            "colorbar": {
             "outlinewidth": 0,
             "ticks": ""
            },
            "type": "contourcarpet"
           }
          ],
          "heatmap": [
           {
            "colorbar": {
             "outlinewidth": 0,
             "ticks": ""
            },
            "colorscale": [
             [
              0,
              "#0d0887"
             ],
             [
              0.1111111111111111,
              "#46039f"
             ],
             [
              0.2222222222222222,
              "#7201a8"
             ],
             [
              0.3333333333333333,
              "#9c179e"
             ],
             [
              0.4444444444444444,
              "#bd3786"
             ],
             [
              0.5555555555555556,
              "#d8576b"
             ],
             [
              0.6666666666666666,
              "#ed7953"
             ],
             [
              0.7777777777777778,
              "#fb9f3a"
             ],
             [
              0.8888888888888888,
              "#fdca26"
             ],
             [
              1,
              "#f0f921"
             ]
            ],
            "type": "heatmap"
           }
          ],
          "heatmapgl": [
           {
            "colorbar": {
             "outlinewidth": 0,
             "ticks": ""
            },
            "colorscale": [
             [
              0,
              "#0d0887"
             ],
             [
              0.1111111111111111,
              "#46039f"
             ],
             [
              0.2222222222222222,
              "#7201a8"
             ],
             [
              0.3333333333333333,
              "#9c179e"
             ],
             [
              0.4444444444444444,
              "#bd3786"
             ],
             [
              0.5555555555555556,
              "#d8576b"
             ],
             [
              0.6666666666666666,
              "#ed7953"
             ],
             [
              0.7777777777777778,
              "#fb9f3a"
             ],
             [
              0.8888888888888888,
              "#fdca26"
             ],
             [
              1,
              "#f0f921"
             ]
            ],
            "type": "heatmapgl"
           }
          ],
          "histogram": [
           {
            "marker": {
             "pattern": {
              "fillmode": "overlay",
              "size": 10,
              "solidity": 0.2
             }
            },
            "type": "histogram"
           }
          ],
          "histogram2d": [
           {
            "colorbar": {
             "outlinewidth": 0,
             "ticks": ""
            },
            "colorscale": [
             [
              0,
              "#0d0887"
             ],
             [
              0.1111111111111111,
              "#46039f"
             ],
             [
              0.2222222222222222,
              "#7201a8"
             ],
             [
              0.3333333333333333,
              "#9c179e"
             ],
             [
              0.4444444444444444,
              "#bd3786"
             ],
             [
              0.5555555555555556,
              "#d8576b"
             ],
             [
              0.6666666666666666,
              "#ed7953"
             ],
             [
              0.7777777777777778,
              "#fb9f3a"
             ],
             [
              0.8888888888888888,
              "#fdca26"
             ],
             [
              1,
              "#f0f921"
             ]
            ],
            "type": "histogram2d"
           }
          ],
          "histogram2dcontour": [
           {
            "colorbar": {
             "outlinewidth": 0,
             "ticks": ""
            },
            "colorscale": [
             [
              0,
              "#0d0887"
             ],
             [
              0.1111111111111111,
              "#46039f"
             ],
             [
              0.2222222222222222,
              "#7201a8"
             ],
             [
              0.3333333333333333,
              "#9c179e"
             ],
             [
              0.4444444444444444,
              "#bd3786"
             ],
             [
              0.5555555555555556,
              "#d8576b"
             ],
             [
              0.6666666666666666,
              "#ed7953"
             ],
             [
              0.7777777777777778,
              "#fb9f3a"
             ],
             [
              0.8888888888888888,
              "#fdca26"
             ],
             [
              1,
              "#f0f921"
             ]
            ],
            "type": "histogram2dcontour"
           }
          ],
          "mesh3d": [
           {
            "colorbar": {
             "outlinewidth": 0,
             "ticks": ""
            },
            "type": "mesh3d"
           }
          ],
          "parcoords": [
           {
            "line": {
             "colorbar": {
              "outlinewidth": 0,
              "ticks": ""
             }
            },
            "type": "parcoords"
           }
          ],
          "pie": [
           {
            "automargin": true,
            "type": "pie"
           }
          ],
          "scatter": [
           {
            "fillpattern": {
             "fillmode": "overlay",
             "size": 10,
             "solidity": 0.2
            },
            "type": "scatter"
           }
          ],
          "scatter3d": [
           {
            "line": {
             "colorbar": {
              "outlinewidth": 0,
              "ticks": ""
             }
            },
            "marker": {
             "colorbar": {
              "outlinewidth": 0,
              "ticks": ""
             }
            },
            "type": "scatter3d"
           }
          ],
          "scattercarpet": [
           {
            "marker": {
             "colorbar": {
              "outlinewidth": 0,
              "ticks": ""
             }
            },
            "type": "scattercarpet"
           }
          ],
          "scattergeo": [
           {
            "marker": {
             "colorbar": {
              "outlinewidth": 0,
              "ticks": ""
             }
            },
            "type": "scattergeo"
           }
          ],
          "scattergl": [
           {
            "marker": {
             "colorbar": {
              "outlinewidth": 0,
              "ticks": ""
             }
            },
            "type": "scattergl"
           }
          ],
          "scattermapbox": [
           {
            "marker": {
             "colorbar": {
              "outlinewidth": 0,
              "ticks": ""
             }
            },
            "type": "scattermapbox"
           }
          ],
          "scatterpolar": [
           {
            "marker": {
             "colorbar": {
              "outlinewidth": 0,
              "ticks": ""
             }
            },
            "type": "scatterpolar"
           }
          ],
          "scatterpolargl": [
           {
            "marker": {
             "colorbar": {
              "outlinewidth": 0,
              "ticks": ""
             }
            },
            "type": "scatterpolargl"
           }
          ],
          "scatterternary": [
           {
            "marker": {
             "colorbar": {
              "outlinewidth": 0,
              "ticks": ""
             }
            },
            "type": "scatterternary"
           }
          ],
          "surface": [
           {
            "colorbar": {
             "outlinewidth": 0,
             "ticks": ""
            },
            "colorscale": [
             [
              0,
              "#0d0887"
             ],
             [
              0.1111111111111111,
              "#46039f"
             ],
             [
              0.2222222222222222,
              "#7201a8"
             ],
             [
              0.3333333333333333,
              "#9c179e"
             ],
             [
              0.4444444444444444,
              "#bd3786"
             ],
             [
              0.5555555555555556,
              "#d8576b"
             ],
             [
              0.6666666666666666,
              "#ed7953"
             ],
             [
              0.7777777777777778,
              "#fb9f3a"
             ],
             [
              0.8888888888888888,
              "#fdca26"
             ],
             [
              1,
              "#f0f921"
             ]
            ],
            "type": "surface"
           }
          ],
          "table": [
           {
            "cells": {
             "fill": {
              "color": "#EBF0F8"
             },
             "line": {
              "color": "white"
             }
            },
            "header": {
             "fill": {
              "color": "#C8D4E3"
             },
             "line": {
              "color": "white"
             }
            },
            "type": "table"
           }
          ]
         },
         "layout": {
          "annotationdefaults": {
           "arrowcolor": "#2a3f5f",
           "arrowhead": 0,
           "arrowwidth": 1
          },
          "autotypenumbers": "strict",
          "coloraxis": {
           "colorbar": {
            "outlinewidth": 0,
            "ticks": ""
           }
          },
          "colorscale": {
           "diverging": [
            [
             0,
             "#8e0152"
            ],
            [
             0.1,
             "#c51b7d"
            ],
            [
             0.2,
             "#de77ae"
            ],
            [
             0.3,
             "#f1b6da"
            ],
            [
             0.4,
             "#fde0ef"
            ],
            [
             0.5,
             "#f7f7f7"
            ],
            [
             0.6,
             "#e6f5d0"
            ],
            [
             0.7,
             "#b8e186"
            ],
            [
             0.8,
             "#7fbc41"
            ],
            [
             0.9,
             "#4d9221"
            ],
            [
             1,
             "#276419"
            ]
           ],
           "sequential": [
            [
             0,
             "#0d0887"
            ],
            [
             0.1111111111111111,
             "#46039f"
            ],
            [
             0.2222222222222222,
             "#7201a8"
            ],
            [
             0.3333333333333333,
             "#9c179e"
            ],
            [
             0.4444444444444444,
             "#bd3786"
            ],
            [
             0.5555555555555556,
             "#d8576b"
            ],
            [
             0.6666666666666666,
             "#ed7953"
            ],
            [
             0.7777777777777778,
             "#fb9f3a"
            ],
            [
             0.8888888888888888,
             "#fdca26"
            ],
            [
             1,
             "#f0f921"
            ]
           ],
           "sequentialminus": [
            [
             0,
             "#0d0887"
            ],
            [
             0.1111111111111111,
             "#46039f"
            ],
            [
             0.2222222222222222,
             "#7201a8"
            ],
            [
             0.3333333333333333,
             "#9c179e"
            ],
            [
             0.4444444444444444,
             "#bd3786"
            ],
            [
             0.5555555555555556,
             "#d8576b"
            ],
            [
             0.6666666666666666,
             "#ed7953"
            ],
            [
             0.7777777777777778,
             "#fb9f3a"
            ],
            [
             0.8888888888888888,
             "#fdca26"
            ],
            [
             1,
             "#f0f921"
            ]
           ]
          },
          "colorway": [
           "#636efa",
           "#EF553B",
           "#00cc96",
           "#ab63fa",
           "#FFA15A",
           "#19d3f3",
           "#FF6692",
           "#B6E880",
           "#FF97FF",
           "#FECB52"
          ],
          "font": {
           "color": "#2a3f5f"
          },
          "geo": {
           "bgcolor": "white",
           "lakecolor": "white",
           "landcolor": "#E5ECF6",
           "showlakes": true,
           "showland": true,
           "subunitcolor": "white"
          },
          "hoverlabel": {
           "align": "left"
          },
          "hovermode": "closest",
          "mapbox": {
           "style": "light"
          },
          "paper_bgcolor": "white",
          "plot_bgcolor": "#E5ECF6",
          "polar": {
           "angularaxis": {
            "gridcolor": "white",
            "linecolor": "white",
            "ticks": ""
           },
           "bgcolor": "#E5ECF6",
           "radialaxis": {
            "gridcolor": "white",
            "linecolor": "white",
            "ticks": ""
           }
          },
          "scene": {
           "xaxis": {
            "backgroundcolor": "#E5ECF6",
            "gridcolor": "white",
            "gridwidth": 2,
            "linecolor": "white",
            "showbackground": true,
            "ticks": "",
            "zerolinecolor": "white"
           },
           "yaxis": {
            "backgroundcolor": "#E5ECF6",
            "gridcolor": "white",
            "gridwidth": 2,
            "linecolor": "white",
            "showbackground": true,
            "ticks": "",
            "zerolinecolor": "white"
           },
           "zaxis": {
            "backgroundcolor": "#E5ECF6",
            "gridcolor": "white",
            "gridwidth": 2,
            "linecolor": "white",
            "showbackground": true,
            "ticks": "",
            "zerolinecolor": "white"
           }
          },
          "shapedefaults": {
           "line": {
            "color": "#2a3f5f"
           }
          },
          "ternary": {
           "aaxis": {
            "gridcolor": "white",
            "linecolor": "white",
            "ticks": ""
           },
           "baxis": {
            "gridcolor": "white",
            "linecolor": "white",
            "ticks": ""
           },
           "bgcolor": "#E5ECF6",
           "caxis": {
            "gridcolor": "white",
            "linecolor": "white",
            "ticks": ""
           }
          },
          "title": {
           "x": 0.05
          },
          "xaxis": {
           "automargin": true,
           "gridcolor": "white",
           "linecolor": "white",
           "ticks": "",
           "title": {
            "standoff": 15
           },
           "zerolinecolor": "white",
           "zerolinewidth": 2
          },
          "yaxis": {
           "automargin": true,
           "gridcolor": "white",
           "linecolor": "white",
           "ticks": "",
           "title": {
            "standoff": 15
           },
           "zerolinecolor": "white",
           "zerolinewidth": 2
          }
         }
        }
       }
      },
      "text/html": [
       "<div>                            <div id=\"6ecefe09-ecbb-4814-b8ee-9ae7fdf4d19b\" class=\"plotly-graph-div\" style=\"height:525px; width:100%;\"></div>            <script type=\"text/javascript\">                require([\"plotly\"], function(Plotly) {                    window.PLOTLYENV=window.PLOTLYENV || {};                                    if (document.getElementById(\"6ecefe09-ecbb-4814-b8ee-9ae7fdf4d19b\")) {                    Plotly.newPlot(                        \"6ecefe09-ecbb-4814-b8ee-9ae7fdf4d19b\",                        [{\"domain\":{\"x\":[0.0,1.0],\"y\":[0.0,1.0]},\"hovertemplate\":\"Industry=%{label}\\u003cbr\\u003eEmployment by Industry=%{value}\\u003cextra\\u003e\\u003c\\u002fextra\\u003e\",\"labels\":[\"Estimate!!INDUSTRY!!Agriculture, forestry, fishing and hunting, and mining\",\"Estimate!!INDUSTRY!!Construction\",\"Estimate!!INDUSTRY!!Manufacturing\",\"Estimate!!INDUSTRY!!Wholesale trade\",\"Estimate!!INDUSTRY!!Retail trade\",\"Estimate!!INDUSTRY!!Transportation and warehousing, and utilities\",\"Estimate!!INDUSTRY!!Information\",\"Estimate!!INDUSTRY!!Finance and insurance, and real estate and rental and leasing\",\"Estimate!!INDUSTRY!!Professional, scientific, and management, and administrative and waste management services\",\"Estimate!!INDUSTRY!!Educational services, and health care and social assistance\",\"Estimate!!INDUSTRY!!Arts, entertainment, and recreation, and accommodation and food services\",\"Estimate!!INDUSTRY!!Other services, except public administration\",\"Estimate!!INDUSTRY!!Public administration\"],\"legendgroup\":\"\",\"name\":\"\",\"showlegend\":true,\"values\":[\"14546\",\"65125\",\"97168\",\"30551\",\"145326\",\"41105\",\"17111\",\"58970\",\"115411\",\"238783\",\"102550\",\"62972\",\"91712\"],\"type\":\"pie\"}],                        {\"template\":{\"data\":{\"histogram2dcontour\":[{\"type\":\"histogram2dcontour\",\"colorbar\":{\"outlinewidth\":0,\"ticks\":\"\"},\"colorscale\":[[0.0,\"#0d0887\"],[0.1111111111111111,\"#46039f\"],[0.2222222222222222,\"#7201a8\"],[0.3333333333333333,\"#9c179e\"],[0.4444444444444444,\"#bd3786\"],[0.5555555555555556,\"#d8576b\"],[0.6666666666666666,\"#ed7953\"],[0.7777777777777778,\"#fb9f3a\"],[0.8888888888888888,\"#fdca26\"],[1.0,\"#f0f921\"]]}],\"choropleth\":[{\"type\":\"choropleth\",\"colorbar\":{\"outlinewidth\":0,\"ticks\":\"\"}}],\"histogram2d\":[{\"type\":\"histogram2d\",\"colorbar\":{\"outlinewidth\":0,\"ticks\":\"\"},\"colorscale\":[[0.0,\"#0d0887\"],[0.1111111111111111,\"#46039f\"],[0.2222222222222222,\"#7201a8\"],[0.3333333333333333,\"#9c179e\"],[0.4444444444444444,\"#bd3786\"],[0.5555555555555556,\"#d8576b\"],[0.6666666666666666,\"#ed7953\"],[0.7777777777777778,\"#fb9f3a\"],[0.8888888888888888,\"#fdca26\"],[1.0,\"#f0f921\"]]}],\"heatmap\":[{\"type\":\"heatmap\",\"colorbar\":{\"outlinewidth\":0,\"ticks\":\"\"},\"colorscale\":[[0.0,\"#0d0887\"],[0.1111111111111111,\"#46039f\"],[0.2222222222222222,\"#7201a8\"],[0.3333333333333333,\"#9c179e\"],[0.4444444444444444,\"#bd3786\"],[0.5555555555555556,\"#d8576b\"],[0.6666666666666666,\"#ed7953\"],[0.7777777777777778,\"#fb9f3a\"],[0.8888888888888888,\"#fdca26\"],[1.0,\"#f0f921\"]]}],\"heatmapgl\":[{\"type\":\"heatmapgl\",\"colorbar\":{\"outlinewidth\":0,\"ticks\":\"\"},\"colorscale\":[[0.0,\"#0d0887\"],[0.1111111111111111,\"#46039f\"],[0.2222222222222222,\"#7201a8\"],[0.3333333333333333,\"#9c179e\"],[0.4444444444444444,\"#bd3786\"],[0.5555555555555556,\"#d8576b\"],[0.6666666666666666,\"#ed7953\"],[0.7777777777777778,\"#fb9f3a\"],[0.8888888888888888,\"#fdca26\"],[1.0,\"#f0f921\"]]}],\"contourcarpet\":[{\"type\":\"contourcarpet\",\"colorbar\":{\"outlinewidth\":0,\"ticks\":\"\"}}],\"contour\":[{\"type\":\"contour\",\"colorbar\":{\"outlinewidth\":0,\"ticks\":\"\"},\"colorscale\":[[0.0,\"#0d0887\"],[0.1111111111111111,\"#46039f\"],[0.2222222222222222,\"#7201a8\"],[0.3333333333333333,\"#9c179e\"],[0.4444444444444444,\"#bd3786\"],[0.5555555555555556,\"#d8576b\"],[0.6666666666666666,\"#ed7953\"],[0.7777777777777778,\"#fb9f3a\"],[0.8888888888888888,\"#fdca26\"],[1.0,\"#f0f921\"]]}],\"surface\":[{\"type\":\"surface\",\"colorbar\":{\"outlinewidth\":0,\"ticks\":\"\"},\"colorscale\":[[0.0,\"#0d0887\"],[0.1111111111111111,\"#46039f\"],[0.2222222222222222,\"#7201a8\"],[0.3333333333333333,\"#9c179e\"],[0.4444444444444444,\"#bd3786\"],[0.5555555555555556,\"#d8576b\"],[0.6666666666666666,\"#ed7953\"],[0.7777777777777778,\"#fb9f3a\"],[0.8888888888888888,\"#fdca26\"],[1.0,\"#f0f921\"]]}],\"mesh3d\":[{\"type\":\"mesh3d\",\"colorbar\":{\"outlinewidth\":0,\"ticks\":\"\"}}],\"scatter\":[{\"fillpattern\":{\"fillmode\":\"overlay\",\"size\":10,\"solidity\":0.2},\"type\":\"scatter\"}],\"parcoords\":[{\"type\":\"parcoords\",\"line\":{\"colorbar\":{\"outlinewidth\":0,\"ticks\":\"\"}}}],\"scatterpolargl\":[{\"type\":\"scatterpolargl\",\"marker\":{\"colorbar\":{\"outlinewidth\":0,\"ticks\":\"\"}}}],\"bar\":[{\"error_x\":{\"color\":\"#2a3f5f\"},\"error_y\":{\"color\":\"#2a3f5f\"},\"marker\":{\"line\":{\"color\":\"#E5ECF6\",\"width\":0.5},\"pattern\":{\"fillmode\":\"overlay\",\"size\":10,\"solidity\":0.2}},\"type\":\"bar\"}],\"scattergeo\":[{\"type\":\"scattergeo\",\"marker\":{\"colorbar\":{\"outlinewidth\":0,\"ticks\":\"\"}}}],\"scatterpolar\":[{\"type\":\"scatterpolar\",\"marker\":{\"colorbar\":{\"outlinewidth\":0,\"ticks\":\"\"}}}],\"histogram\":[{\"marker\":{\"pattern\":{\"fillmode\":\"overlay\",\"size\":10,\"solidity\":0.2}},\"type\":\"histogram\"}],\"scattergl\":[{\"type\":\"scattergl\",\"marker\":{\"colorbar\":{\"outlinewidth\":0,\"ticks\":\"\"}}}],\"scatter3d\":[{\"type\":\"scatter3d\",\"line\":{\"colorbar\":{\"outlinewidth\":0,\"ticks\":\"\"}},\"marker\":{\"colorbar\":{\"outlinewidth\":0,\"ticks\":\"\"}}}],\"scattermapbox\":[{\"type\":\"scattermapbox\",\"marker\":{\"colorbar\":{\"outlinewidth\":0,\"ticks\":\"\"}}}],\"scatterternary\":[{\"type\":\"scatterternary\",\"marker\":{\"colorbar\":{\"outlinewidth\":0,\"ticks\":\"\"}}}],\"scattercarpet\":[{\"type\":\"scattercarpet\",\"marker\":{\"colorbar\":{\"outlinewidth\":0,\"ticks\":\"\"}}}],\"carpet\":[{\"aaxis\":{\"endlinecolor\":\"#2a3f5f\",\"gridcolor\":\"white\",\"linecolor\":\"white\",\"minorgridcolor\":\"white\",\"startlinecolor\":\"#2a3f5f\"},\"baxis\":{\"endlinecolor\":\"#2a3f5f\",\"gridcolor\":\"white\",\"linecolor\":\"white\",\"minorgridcolor\":\"white\",\"startlinecolor\":\"#2a3f5f\"},\"type\":\"carpet\"}],\"table\":[{\"cells\":{\"fill\":{\"color\":\"#EBF0F8\"},\"line\":{\"color\":\"white\"}},\"header\":{\"fill\":{\"color\":\"#C8D4E3\"},\"line\":{\"color\":\"white\"}},\"type\":\"table\"}],\"barpolar\":[{\"marker\":{\"line\":{\"color\":\"#E5ECF6\",\"width\":0.5},\"pattern\":{\"fillmode\":\"overlay\",\"size\":10,\"solidity\":0.2}},\"type\":\"barpolar\"}],\"pie\":[{\"automargin\":true,\"type\":\"pie\"}]},\"layout\":{\"autotypenumbers\":\"strict\",\"colorway\":[\"#636efa\",\"#EF553B\",\"#00cc96\",\"#ab63fa\",\"#FFA15A\",\"#19d3f3\",\"#FF6692\",\"#B6E880\",\"#FF97FF\",\"#FECB52\"],\"font\":{\"color\":\"#2a3f5f\"},\"hovermode\":\"closest\",\"hoverlabel\":{\"align\":\"left\"},\"paper_bgcolor\":\"white\",\"plot_bgcolor\":\"#E5ECF6\",\"polar\":{\"bgcolor\":\"#E5ECF6\",\"angularaxis\":{\"gridcolor\":\"white\",\"linecolor\":\"white\",\"ticks\":\"\"},\"radialaxis\":{\"gridcolor\":\"white\",\"linecolor\":\"white\",\"ticks\":\"\"}},\"ternary\":{\"bgcolor\":\"#E5ECF6\",\"aaxis\":{\"gridcolor\":\"white\",\"linecolor\":\"white\",\"ticks\":\"\"},\"baxis\":{\"gridcolor\":\"white\",\"linecolor\":\"white\",\"ticks\":\"\"},\"caxis\":{\"gridcolor\":\"white\",\"linecolor\":\"white\",\"ticks\":\"\"}},\"coloraxis\":{\"colorbar\":{\"outlinewidth\":0,\"ticks\":\"\"}},\"colorscale\":{\"sequential\":[[0.0,\"#0d0887\"],[0.1111111111111111,\"#46039f\"],[0.2222222222222222,\"#7201a8\"],[0.3333333333333333,\"#9c179e\"],[0.4444444444444444,\"#bd3786\"],[0.5555555555555556,\"#d8576b\"],[0.6666666666666666,\"#ed7953\"],[0.7777777777777778,\"#fb9f3a\"],[0.8888888888888888,\"#fdca26\"],[1.0,\"#f0f921\"]],\"sequentialminus\":[[0.0,\"#0d0887\"],[0.1111111111111111,\"#46039f\"],[0.2222222222222222,\"#7201a8\"],[0.3333333333333333,\"#9c179e\"],[0.4444444444444444,\"#bd3786\"],[0.5555555555555556,\"#d8576b\"],[0.6666666666666666,\"#ed7953\"],[0.7777777777777778,\"#fb9f3a\"],[0.8888888888888888,\"#fdca26\"],[1.0,\"#f0f921\"]],\"diverging\":[[0,\"#8e0152\"],[0.1,\"#c51b7d\"],[0.2,\"#de77ae\"],[0.3,\"#f1b6da\"],[0.4,\"#fde0ef\"],[0.5,\"#f7f7f7\"],[0.6,\"#e6f5d0\"],[0.7,\"#b8e186\"],[0.8,\"#7fbc41\"],[0.9,\"#4d9221\"],[1,\"#276419\"]]},\"xaxis\":{\"gridcolor\":\"white\",\"linecolor\":\"white\",\"ticks\":\"\",\"title\":{\"standoff\":15},\"zerolinecolor\":\"white\",\"automargin\":true,\"zerolinewidth\":2},\"yaxis\":{\"gridcolor\":\"white\",\"linecolor\":\"white\",\"ticks\":\"\",\"title\":{\"standoff\":15},\"zerolinecolor\":\"white\",\"automargin\":true,\"zerolinewidth\":2},\"scene\":{\"xaxis\":{\"backgroundcolor\":\"#E5ECF6\",\"gridcolor\":\"white\",\"linecolor\":\"white\",\"showbackground\":true,\"ticks\":\"\",\"zerolinecolor\":\"white\",\"gridwidth\":2},\"yaxis\":{\"backgroundcolor\":\"#E5ECF6\",\"gridcolor\":\"white\",\"linecolor\":\"white\",\"showbackground\":true,\"ticks\":\"\",\"zerolinecolor\":\"white\",\"gridwidth\":2},\"zaxis\":{\"backgroundcolor\":\"#E5ECF6\",\"gridcolor\":\"white\",\"linecolor\":\"white\",\"showbackground\":true,\"ticks\":\"\",\"zerolinecolor\":\"white\",\"gridwidth\":2}},\"shapedefaults\":{\"line\":{\"color\":\"#2a3f5f\"}},\"annotationdefaults\":{\"arrowcolor\":\"#2a3f5f\",\"arrowhead\":0,\"arrowwidth\":1},\"geo\":{\"bgcolor\":\"white\",\"landcolor\":\"#E5ECF6\",\"subunitcolor\":\"white\",\"showland\":true,\"showlakes\":true,\"lakecolor\":\"white\"},\"title\":{\"x\":0.05},\"mapbox\":{\"style\":\"light\"}}},\"legend\":{\"tracegroupgap\":0},\"margin\":{\"t\":60}},                        {\"responsive\": true}                    ).then(function(){\n",
       "                            \n",
       "var gd = document.getElementById('6ecefe09-ecbb-4814-b8ee-9ae7fdf4d19b');\n",
       "var x = new MutationObserver(function (mutations, observer) {{\n",
       "        var display = window.getComputedStyle(gd).display;\n",
       "        if (!display || display === 'none') {{\n",
       "            console.log([gd, 'removed!']);\n",
       "            Plotly.purge(gd);\n",
       "            observer.disconnect();\n",
       "        }}\n",
       "}});\n",
       "\n",
       "// Listen for the removal of the full notebook cells\n",
       "var notebookContainer = gd.closest('#notebook-container');\n",
       "if (notebookContainer) {{\n",
       "    x.observe(notebookContainer, {childList: true});\n",
       "}}\n",
       "\n",
       "// Listen for the clearing of the current output cell\n",
       "var outputEl = gd.closest('.output');\n",
       "if (outputEl) {{\n",
       "    x.observe(outputEl, {childList: true});\n",
       "}}\n",
       "\n",
       "                        })                };                });            </script>        </div>"
      ]
     },
     "metadata": {},
     "output_type": "display_data"
    }
   ],
   "source": [
    "fig2 = px.pie(p_rico_sectoral,names=\"Industry\",values=\"Employment by Industry\")\n",
    "fig2.show()"
   ]
  }
 ],
 "metadata": {
  "kernelspec": {
   "display_name": "Python 3",
   "language": "python",
   "name": "python3"
  },
  "language_info": {
   "codemirror_mode": {
    "name": "ipython",
    "version": 3
   },
   "file_extension": ".py",
   "mimetype": "text/x-python",
   "name": "python",
   "nbconvert_exporter": "python",
   "pygments_lexer": "ipython3",
   "version": "3.12.2"
  }
 },
 "nbformat": 4,
 "nbformat_minor": 4
}
