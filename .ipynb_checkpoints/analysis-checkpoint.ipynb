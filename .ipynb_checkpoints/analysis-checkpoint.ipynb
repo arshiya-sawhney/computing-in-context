{
  "cells": [
    {
      "cell_type": "markdown",
      "metadata": {},
      "source": [
        "# Project 3: Data Analysis and Hypothesis Testing\n",
        "\n",
        "## Research Question\n",
        "\n",
        "<!-- Fill in your research question here -->\n",
        "\n",
        "## Dataset Description\n",
        "\n",
        "<!-- Describe your dataset here -->\n",
        "\n",
        "## Hypothesis\n",
        "\n",
        "<!-- State your hypothesis here -->\n",
        "\n",
        "## Methodology\n",
        "\n",
        "<!-- Describe your approach here -->"
      ]
    },
    {
      "cell_type": "code",
      "execution_count": null,
      "metadata": {},
      "source": [
        "import pandas as pd\n",
        "import numpy as np\n",
        "import plotly.io as pio\n",
        "import plotly.express as px\n",
        "import plotly.graph_objects as go\n",
        "\n",
        "# Set the default renderer for Plotly\n",
        "pio.renderers.default = \"vscode+jupyterlab+notebook_connected\""
      ]
    }
  ],
  "metadata": {
    "kernelspec": {
      "display_name": "Python 3",
      "language": "python",
      "name": "python3"
    },
    "language_info": {
      "codemirror_mode": {
        "name": "ipython",
        "version": 3
      },
      "file_extension": ".py",
      "mimetype": "text/x-python",
      "name": "python",
      "nbconvert_exporter": "python",
      "pygments_lexer": "ipython3",
      "version": "3.9.0"
    }
  },
  "nbformat": 4,
  "nbformat_minor": 4
}
