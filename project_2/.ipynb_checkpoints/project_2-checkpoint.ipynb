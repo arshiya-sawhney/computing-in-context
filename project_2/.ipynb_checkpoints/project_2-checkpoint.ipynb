{
 "cells": [
  {
   "cell_type": "markdown",
   "id": "da93e649-27ef-4dd9-8f2b-f4c14380a8c9",
   "metadata": {},
   "source": [
    "## Project 2\n",
    "The aim of this project is to use 2 datasets and create a visualization which shows the correlation between 2 variables."
   ]
  },
  {
   "cell_type": "markdown",
   "id": "f07be494-b720-40b2-ae07-9e08749f238d",
   "metadata": {},
   "source": [
    "### Dataset 1: School Spending"
   ]
  },
  {
   "cell_type": "markdown",
   "id": "dd29d218-92c4-4c1d-82d7-ed191ca55018",
   "metadata": {},
   "source": [
    "Step 1: Loading in the school spending dataset, and narrowing it down to columns of interest."
   ]
  },
  {
   "cell_type": "code",
   "execution_count": 221,
   "id": "40d04c33-83d2-433b-93c1-a041ed20e7a9",
   "metadata": {},
   "outputs": [],
   "source": [
    "import pandas as pd"
   ]
  },
  {
   "cell_type": "code",
   "execution_count": 222,
   "id": "16159375-c1e8-4ef8-b32e-044258e6bc9c",
   "metadata": {},
   "outputs": [
    {
     "data": {
      "text/html": [
       "<div>\n",
       "<style scoped>\n",
       "    .dataframe tbody tr th:only-of-type {\n",
       "        vertical-align: middle;\n",
       "    }\n",
       "\n",
       "    .dataframe tbody tr th {\n",
       "        vertical-align: top;\n",
       "    }\n",
       "\n",
       "    .dataframe thead th {\n",
       "        text-align: right;\n",
       "    }\n",
       "</style>\n",
       "<table border=\"1\" class=\"dataframe\">\n",
       "  <thead>\n",
       "    <tr style=\"text-align: right;\">\n",
       "      <th></th>\n",
       "      <th>Category</th>\n",
       "      <th>1990</th>\n",
       "      <th>1991</th>\n",
       "      <th>1992</th>\n",
       "      <th>1993</th>\n",
       "      <th>1994</th>\n",
       "      <th>1995</th>\n",
       "      <th>1996</th>\n",
       "      <th>1997</th>\n",
       "      <th>1998</th>\n",
       "      <th>...</th>\n",
       "      <th>2008</th>\n",
       "      <th>2009</th>\n",
       "      <th>2010</th>\n",
       "      <th>2011</th>\n",
       "      <th>2012</th>\n",
       "      <th>2013</th>\n",
       "      <th>2014</th>\n",
       "      <th>2015</th>\n",
       "      <th>2016</th>\n",
       "      <th>2017</th>\n",
       "    </tr>\n",
       "  </thead>\n",
       "  <tbody>\n",
       "    <tr>\n",
       "      <th>0</th>\n",
       "      <td>DOE expense budget funding (millions of 2017 d...</td>\n",
       "      <td>NaN</td>\n",
       "      <td>NaN</td>\n",
       "      <td>NaN</td>\n",
       "      <td>NaN</td>\n",
       "      <td>NaN</td>\n",
       "      <td>NaN</td>\n",
       "      <td>NaN</td>\n",
       "      <td>NaN</td>\n",
       "      <td>NaN</td>\n",
       "      <td>...</td>\n",
       "      <td>NaN</td>\n",
       "      <td>NaN</td>\n",
       "      <td>NaN</td>\n",
       "      <td>NaN</td>\n",
       "      <td>NaN</td>\n",
       "      <td>NaN</td>\n",
       "      <td>NaN</td>\n",
       "      <td>NaN</td>\n",
       "      <td>NaN</td>\n",
       "      <td>NaN</td>\n",
       "    </tr>\n",
       "    <tr>\n",
       "      <th>1</th>\n",
       "      <td>City funds (estimated)</td>\n",
       "      <td>$   6,812</td>\n",
       "      <td>$   6,527</td>\n",
       "      <td>$   6,483</td>\n",
       "      <td>$   6,495</td>\n",
       "      <td>$   6,812</td>\n",
       "      <td>$   6,504</td>\n",
       "      <td>$   6,300</td>\n",
       "      <td>$   6,174</td>\n",
       "      <td>$   6,904</td>\n",
       "      <td>...</td>\n",
       "      <td>$   8,676</td>\n",
       "      <td>$   8,723</td>\n",
       "      <td>$   8,360</td>\n",
       "      <td>$   8,882</td>\n",
       "      <td>$   10,206</td>\n",
       "      <td>$   10,024</td>\n",
       "      <td>$   10,255</td>\n",
       "      <td>$   10,232</td>\n",
       "      <td>$   10,937</td>\n",
       "      <td>$   11,128</td>\n",
       "    </tr>\n",
       "    <tr>\n",
       "      <th>2</th>\n",
       "      <td>State aid</td>\n",
       "      <td>$   7,695</td>\n",
       "      <td>$   7,713</td>\n",
       "      <td>$   6,945</td>\n",
       "      <td>$   7,072</td>\n",
       "      <td>$   7,023</td>\n",
       "      <td>$   7,585</td>\n",
       "      <td>$   7,331</td>\n",
       "      <td>$   7,449</td>\n",
       "      <td>$   7,671</td>\n",
       "      <td>...</td>\n",
       "      <td>$   9,941</td>\n",
       "      <td>$   10,330</td>\n",
       "      <td>$   9,369</td>\n",
       "      <td>$   9,221</td>\n",
       "      <td>$   8,965</td>\n",
       "      <td>$   8,716</td>\n",
       "      <td>$   9,027</td>\n",
       "      <td>$   9,539</td>\n",
       "      <td>$   9,912</td>\n",
       "      <td>$   10,239</td>\n",
       "    </tr>\n",
       "    <tr>\n",
       "      <th>3</th>\n",
       "      <td>Federal aid</td>\n",
       "      <td>$   1,530</td>\n",
       "      <td>$   1,579</td>\n",
       "      <td>$   1,665</td>\n",
       "      <td>$   1,854</td>\n",
       "      <td>$   1,822</td>\n",
       "      <td>$   1,717</td>\n",
       "      <td>$   1,734</td>\n",
       "      <td>$   1,768</td>\n",
       "      <td>$   1,856</td>\n",
       "      <td>...</td>\n",
       "      <td>$   2,216</td>\n",
       "      <td>$   2,072</td>\n",
       "      <td>$   3,438</td>\n",
       "      <td>$   3,173</td>\n",
       "      <td>$   2,141</td>\n",
       "      <td>$   2,069</td>\n",
       "      <td>$   1,825</td>\n",
       "      <td>$   1,781</td>\n",
       "      <td>$   1,776</td>\n",
       "      <td>$   1,717</td>\n",
       "    </tr>\n",
       "    <tr>\n",
       "      <th>4</th>\n",
       "      <td>Private and non-governmental aid</td>\n",
       "      <td>$   21</td>\n",
       "      <td>$   52</td>\n",
       "      <td>$   53</td>\n",
       "      <td>$   64</td>\n",
       "      <td>$   43</td>\n",
       "      <td>$   36</td>\n",
       "      <td>$   54</td>\n",
       "      <td>$   32</td>\n",
       "      <td>$   29</td>\n",
       "      <td>...</td>\n",
       "      <td>$   100</td>\n",
       "      <td>$   257</td>\n",
       "      <td>$   311</td>\n",
       "      <td>$   230</td>\n",
       "      <td>$   216</td>\n",
       "      <td>$   199</td>\n",
       "      <td>$   281</td>\n",
       "      <td>$   253</td>\n",
       "      <td>$   205</td>\n",
       "      <td>$   106</td>\n",
       "    </tr>\n",
       "  </tbody>\n",
       "</table>\n",
       "<p>5 rows × 29 columns</p>\n",
       "</div>"
      ],
      "text/plain": [
       "                                            Category       1990       1991  \\\n",
       "0  DOE expense budget funding (millions of 2017 d...        NaN        NaN   \n",
       "1                             City funds (estimated)  $   6,812  $   6,527   \n",
       "2                                          State aid  $   7,695  $   7,713   \n",
       "3                                        Federal aid  $   1,530  $   1,579   \n",
       "4                   Private and non-governmental aid     $   21     $   52   \n",
       "\n",
       "        1992       1993       1994       1995       1996       1997  \\\n",
       "0        NaN        NaN        NaN        NaN        NaN        NaN   \n",
       "1  $   6,483  $   6,495  $   6,812  $   6,504  $   6,300  $   6,174   \n",
       "2  $   6,945  $   7,072  $   7,023  $   7,585  $   7,331  $   7,449   \n",
       "3  $   1,665  $   1,854  $   1,822  $   1,717  $   1,734  $   1,768   \n",
       "4     $   53     $   64     $   43     $   36     $   54     $   32   \n",
       "\n",
       "        1998  ...       2008        2009       2010       2011        2012  \\\n",
       "0        NaN  ...        NaN         NaN        NaN        NaN         NaN   \n",
       "1  $   6,904  ...  $   8,676   $   8,723  $   8,360  $   8,882  $   10,206   \n",
       "2  $   7,671  ...  $   9,941  $   10,330  $   9,369  $   9,221   $   8,965   \n",
       "3  $   1,856  ...  $   2,216   $   2,072  $   3,438  $   3,173   $   2,141   \n",
       "4     $   29  ...    $   100     $   257    $   311    $   230     $   216   \n",
       "\n",
       "         2013        2014        2015        2016        2017  \n",
       "0         NaN         NaN         NaN         NaN         NaN  \n",
       "1  $   10,024  $   10,255  $   10,232  $   10,937  $   11,128  \n",
       "2   $   8,716   $   9,027   $   9,539   $   9,912  $   10,239  \n",
       "3   $   2,069   $   1,825   $   1,781   $   1,776   $   1,717  \n",
       "4     $   199     $   281     $   253     $   205     $   106  \n",
       "\n",
       "[5 rows x 29 columns]"
      ]
     },
     "execution_count": 222,
     "metadata": {},
     "output_type": "execute_result"
    }
   ],
   "source": [
    "school_spending = pd.read_csv(\"School_Spending_Since_1990_20241125.csv\")\n",
    "school_spending.head()"
   ]
  },
  {
   "cell_type": "markdown",
   "id": "0ad617b0-f50f-478a-8dc7-919edcb5efb0",
   "metadata": {},
   "source": [
    "The filtered_columns variable specifies the criteria for which columns are to be retained. \n",
    "We only keep years 2005-2015 since these are the ones that overlap with the graduation dataset."
   ]
  },
  {
   "cell_type": "code",
   "execution_count": 224,
   "id": "e2f7b38b-b6f3-42b3-b985-614deb6daa31",
   "metadata": {},
   "outputs": [
    {
     "data": {
      "text/html": [
       "<div>\n",
       "<style scoped>\n",
       "    .dataframe tbody tr th:only-of-type {\n",
       "        vertical-align: middle;\n",
       "    }\n",
       "\n",
       "    .dataframe tbody tr th {\n",
       "        vertical-align: top;\n",
       "    }\n",
       "\n",
       "    .dataframe thead th {\n",
       "        text-align: right;\n",
       "    }\n",
       "</style>\n",
       "<table border=\"1\" class=\"dataframe\">\n",
       "  <thead>\n",
       "    <tr style=\"text-align: right;\">\n",
       "      <th></th>\n",
       "      <th>Category</th>\n",
       "      <th>2005</th>\n",
       "      <th>2006</th>\n",
       "      <th>2007</th>\n",
       "      <th>2008</th>\n",
       "      <th>2009</th>\n",
       "      <th>2010</th>\n",
       "      <th>2011</th>\n",
       "      <th>2012</th>\n",
       "      <th>2013</th>\n",
       "      <th>2014</th>\n",
       "      <th>2015</th>\n",
       "    </tr>\n",
       "  </thead>\n",
       "  <tbody>\n",
       "    <tr>\n",
       "      <th>0</th>\n",
       "      <td>DOE expense budget funding (millions of 2017 d...</td>\n",
       "      <td>NaN</td>\n",
       "      <td>NaN</td>\n",
       "      <td>NaN</td>\n",
       "      <td>NaN</td>\n",
       "      <td>NaN</td>\n",
       "      <td>NaN</td>\n",
       "      <td>NaN</td>\n",
       "      <td>NaN</td>\n",
       "      <td>NaN</td>\n",
       "      <td>NaN</td>\n",
       "      <td>NaN</td>\n",
       "    </tr>\n",
       "    <tr>\n",
       "      <th>1</th>\n",
       "      <td>City funds (estimated)</td>\n",
       "      <td>$   7,709</td>\n",
       "      <td>$   8,267</td>\n",
       "      <td>$   8,735</td>\n",
       "      <td>$   8,676</td>\n",
       "      <td>$   8,723</td>\n",
       "      <td>$   8,360</td>\n",
       "      <td>$   8,882</td>\n",
       "      <td>$   10,206</td>\n",
       "      <td>$   10,024</td>\n",
       "      <td>$   10,255</td>\n",
       "      <td>$   10,232</td>\n",
       "    </tr>\n",
       "    <tr>\n",
       "      <th>2</th>\n",
       "      <td>State aid</td>\n",
       "      <td>$   8,680</td>\n",
       "      <td>$   8,988</td>\n",
       "      <td>$   9,202</td>\n",
       "      <td>$   9,941</td>\n",
       "      <td>$   10,330</td>\n",
       "      <td>$   9,369</td>\n",
       "      <td>$   9,221</td>\n",
       "      <td>$   8,965</td>\n",
       "      <td>$   8,716</td>\n",
       "      <td>$   9,027</td>\n",
       "      <td>$   9,539</td>\n",
       "    </tr>\n",
       "    <tr>\n",
       "      <th>3</th>\n",
       "      <td>Federal aid</td>\n",
       "      <td>$   2,687</td>\n",
       "      <td>$   2,493</td>\n",
       "      <td>$   2,361</td>\n",
       "      <td>$   2,216</td>\n",
       "      <td>$   2,072</td>\n",
       "      <td>$   3,438</td>\n",
       "      <td>$   3,173</td>\n",
       "      <td>$   2,141</td>\n",
       "      <td>$   2,069</td>\n",
       "      <td>$   1,825</td>\n",
       "      <td>$   1,781</td>\n",
       "    </tr>\n",
       "    <tr>\n",
       "      <th>4</th>\n",
       "      <td>Private and non-governmental aid</td>\n",
       "      <td>$   91</td>\n",
       "      <td>$   62</td>\n",
       "      <td>$   72</td>\n",
       "      <td>$   100</td>\n",
       "      <td>$   257</td>\n",
       "      <td>$   311</td>\n",
       "      <td>$   230</td>\n",
       "      <td>$   216</td>\n",
       "      <td>$   199</td>\n",
       "      <td>$   281</td>\n",
       "      <td>$   253</td>\n",
       "    </tr>\n",
       "    <tr>\n",
       "      <th>5</th>\n",
       "      <td>Total for all funds</td>\n",
       "      <td>19,166</td>\n",
       "      <td>19,810</td>\n",
       "      <td>20,370</td>\n",
       "      <td>20,934</td>\n",
       "      <td>21,381</td>\n",
       "      <td>21,478</td>\n",
       "      <td>21,507</td>\n",
       "      <td>21,528</td>\n",
       "      <td>21,008</td>\n",
       "      <td>21,387</td>\n",
       "      <td>21,805</td>\n",
       "    </tr>\n",
       "    <tr>\n",
       "      <th>6</th>\n",
       "      <td>Estimated city share of DOE operations</td>\n",
       "      <td>40.2%</td>\n",
       "      <td>41.7%</td>\n",
       "      <td>42.9%</td>\n",
       "      <td>41.4%</td>\n",
       "      <td>40.8%</td>\n",
       "      <td>38.9%</td>\n",
       "      <td>41.3%</td>\n",
       "      <td>47.4%</td>\n",
       "      <td>47.7%</td>\n",
       "      <td>47.9%</td>\n",
       "      <td>46.9%</td>\n",
       "    </tr>\n",
       "    <tr>\n",
       "      <th>7</th>\n",
       "      <td>DOE Expenditures (millions of 2017 dollars)</td>\n",
       "      <td>NaN</td>\n",
       "      <td>NaN</td>\n",
       "      <td>NaN</td>\n",
       "      <td>NaN</td>\n",
       "      <td>NaN</td>\n",
       "      <td>NaN</td>\n",
       "      <td>NaN</td>\n",
       "      <td>NaN</td>\n",
       "      <td>NaN</td>\n",
       "      <td>NaN</td>\n",
       "      <td>NaN</td>\n",
       "    </tr>\n",
       "    <tr>\n",
       "      <th>8</th>\n",
       "      <td>DOE operations (all funds)</td>\n",
       "      <td>$   19,166</td>\n",
       "      <td>$   19,810</td>\n",
       "      <td>$   20,370</td>\n",
       "      <td>$   20,934</td>\n",
       "      <td>$   21,381</td>\n",
       "      <td>$   21,478</td>\n",
       "      <td>$   21,507</td>\n",
       "      <td>$   21,528</td>\n",
       "      <td>$   21,008</td>\n",
       "      <td>$   21,387</td>\n",
       "      <td>$   21,805</td>\n",
       "    </tr>\n",
       "    <tr>\n",
       "      <th>9</th>\n",
       "      <td>Other expenditures (all funds)</td>\n",
       "      <td>NaN</td>\n",
       "      <td>NaN</td>\n",
       "      <td>NaN</td>\n",
       "      <td>NaN</td>\n",
       "      <td>NaN</td>\n",
       "      <td>NaN</td>\n",
       "      <td>NaN</td>\n",
       "      <td>NaN</td>\n",
       "      <td>NaN</td>\n",
       "      <td>NaN</td>\n",
       "      <td>NaN</td>\n",
       "    </tr>\n",
       "    <tr>\n",
       "      <th>10</th>\n",
       "      <td>Debt service</td>\n",
       "      <td>$   1,153</td>\n",
       "      <td>$   1,420</td>\n",
       "      <td>$   1,382</td>\n",
       "      <td>$   1,595</td>\n",
       "      <td>$   1,617</td>\n",
       "      <td>$   1,827</td>\n",
       "      <td>$   1,882</td>\n",
       "      <td>$   1,927</td>\n",
       "      <td>$   1,927</td>\n",
       "      <td>$   1,918</td>\n",
       "      <td>$   2,008</td>\n",
       "    </tr>\n",
       "    <tr>\n",
       "      <th>11</th>\n",
       "      <td>Additional pension contributions</td>\n",
       "      <td>$   1,618</td>\n",
       "      <td>$   1,668</td>\n",
       "      <td>$   2,017</td>\n",
       "      <td>$   2,336</td>\n",
       "      <td>$   2,614</td>\n",
       "      <td>$   2,847</td>\n",
       "      <td>$   2,790</td>\n",
       "      <td>$   2,983</td>\n",
       "      <td>$   3,091</td>\n",
       "      <td>$   3,163</td>\n",
       "      <td>$   3,399</td>\n",
       "    </tr>\n",
       "    <tr>\n",
       "      <th>12</th>\n",
       "      <td>Less intracity sales/interfund agreements</td>\n",
       "      <td>$   (20)</td>\n",
       "      <td>$   (18)</td>\n",
       "      <td>$   (16)</td>\n",
       "      <td>$   (20)</td>\n",
       "      <td>$   (17)</td>\n",
       "      <td>$   (32)</td>\n",
       "      <td>$   (35)</td>\n",
       "      <td>$   (47)</td>\n",
       "      <td>$   (33)</td>\n",
       "      <td>$   (38)</td>\n",
       "      <td>$   (47)</td>\n",
       "    </tr>\n",
       "    <tr>\n",
       "      <th>13</th>\n",
       "      <td>Total funds committed to DOE</td>\n",
       "      <td>21,918</td>\n",
       "      <td>22,880</td>\n",
       "      <td>23,754</td>\n",
       "      <td>24,844</td>\n",
       "      <td>25,595</td>\n",
       "      <td>26,121</td>\n",
       "      <td>26,143</td>\n",
       "      <td>26,391</td>\n",
       "      <td>25,994</td>\n",
       "      <td>26,431</td>\n",
       "      <td>27,165</td>\n",
       "    </tr>\n",
       "    <tr>\n",
       "      <th>14</th>\n",
       "      <td>Total Funds Committed to DOE  (millions of 201...</td>\n",
       "      <td>NaN</td>\n",
       "      <td>NaN</td>\n",
       "      <td>NaN</td>\n",
       "      <td>NaN</td>\n",
       "      <td>NaN</td>\n",
       "      <td>NaN</td>\n",
       "      <td>NaN</td>\n",
       "      <td>NaN</td>\n",
       "      <td>NaN</td>\n",
       "      <td>NaN</td>\n",
       "      <td>NaN</td>\n",
       "    </tr>\n",
       "    <tr>\n",
       "      <th>15</th>\n",
       "      <td>City funds (estimated)</td>\n",
       "      <td>$   10,457</td>\n",
       "      <td>$   11,333</td>\n",
       "      <td>$   12,115</td>\n",
       "      <td>$   12,584</td>\n",
       "      <td>$   12,934</td>\n",
       "      <td>$   13,000</td>\n",
       "      <td>$   13,516</td>\n",
       "      <td>$   15,067</td>\n",
       "      <td>$   15,007</td>\n",
       "      <td>$   15,295</td>\n",
       "      <td>$   15,589</td>\n",
       "    </tr>\n",
       "    <tr>\n",
       "      <th>16</th>\n",
       "      <td>State aid</td>\n",
       "      <td>$   8,683</td>\n",
       "      <td>$   8,992</td>\n",
       "      <td>$   9,206</td>\n",
       "      <td>$   9,944</td>\n",
       "      <td>$   10,333</td>\n",
       "      <td>$   9,372</td>\n",
       "      <td>$   9,224</td>\n",
       "      <td>$   8,968</td>\n",
       "      <td>$   8,719</td>\n",
       "      <td>$   9,029</td>\n",
       "      <td>$   9,542</td>\n",
       "    </tr>\n",
       "    <tr>\n",
       "      <th>17</th>\n",
       "      <td>Federal aid</td>\n",
       "      <td>$   2,687</td>\n",
       "      <td>$   2,493</td>\n",
       "      <td>$   2,361</td>\n",
       "      <td>$   2,216</td>\n",
       "      <td>$   2,072</td>\n",
       "      <td>$   3,438</td>\n",
       "      <td>$   3,173</td>\n",
       "      <td>$   2,141</td>\n",
       "      <td>$   2,069</td>\n",
       "      <td>$   1,825</td>\n",
       "      <td>$   1,781</td>\n",
       "    </tr>\n",
       "    <tr>\n",
       "      <th>18</th>\n",
       "      <td>Private and non-governmental aid</td>\n",
       "      <td>$   91</td>\n",
       "      <td>$   62</td>\n",
       "      <td>$   72</td>\n",
       "      <td>$   100</td>\n",
       "      <td>$   257</td>\n",
       "      <td>$   311</td>\n",
       "      <td>$   230</td>\n",
       "      <td>$   216</td>\n",
       "      <td>$   199</td>\n",
       "      <td>$   281</td>\n",
       "      <td>$   253</td>\n",
       "    </tr>\n",
       "    <tr>\n",
       "      <th>19</th>\n",
       "      <td>Total for all funds</td>\n",
       "      <td>21,918</td>\n",
       "      <td>22,880</td>\n",
       "      <td>23,754</td>\n",
       "      <td>24,844</td>\n",
       "      <td>25,595</td>\n",
       "      <td>26,121</td>\n",
       "      <td>26,143</td>\n",
       "      <td>26,391</td>\n",
       "      <td>25,994</td>\n",
       "      <td>26,431</td>\n",
       "      <td>27,165</td>\n",
       "    </tr>\n",
       "    <tr>\n",
       "      <th>20</th>\n",
       "      <td>Estimated share of total funds committed to DOE</td>\n",
       "      <td>NaN</td>\n",
       "      <td>NaN</td>\n",
       "      <td>NaN</td>\n",
       "      <td>NaN</td>\n",
       "      <td>NaN</td>\n",
       "      <td>NaN</td>\n",
       "      <td>NaN</td>\n",
       "      <td>NaN</td>\n",
       "      <td>NaN</td>\n",
       "      <td>NaN</td>\n",
       "      <td>NaN</td>\n",
       "    </tr>\n",
       "    <tr>\n",
       "      <th>21</th>\n",
       "      <td>City</td>\n",
       "      <td>47.7%</td>\n",
       "      <td>49.5%</td>\n",
       "      <td>51.0%</td>\n",
       "      <td>50.7%</td>\n",
       "      <td>50.5%</td>\n",
       "      <td>49.8%</td>\n",
       "      <td>51.7%</td>\n",
       "      <td>57.1%</td>\n",
       "      <td>57.7%</td>\n",
       "      <td>57.9%</td>\n",
       "      <td>57.4%</td>\n",
       "    </tr>\n",
       "    <tr>\n",
       "      <th>22</th>\n",
       "      <td>State</td>\n",
       "      <td>39.6%</td>\n",
       "      <td>39.3%</td>\n",
       "      <td>38.8%</td>\n",
       "      <td>40.0%</td>\n",
       "      <td>40.4%</td>\n",
       "      <td>35.9%</td>\n",
       "      <td>35.3%</td>\n",
       "      <td>34.0%</td>\n",
       "      <td>33.5%</td>\n",
       "      <td>34.2%</td>\n",
       "      <td>35.1%</td>\n",
       "    </tr>\n",
       "    <tr>\n",
       "      <th>23</th>\n",
       "      <td>Federal</td>\n",
       "      <td>12.3%</td>\n",
       "      <td>10.9%</td>\n",
       "      <td>9.9%</td>\n",
       "      <td>8.9%</td>\n",
       "      <td>8.1%</td>\n",
       "      <td>13.2%</td>\n",
       "      <td>12.1%</td>\n",
       "      <td>8.1%</td>\n",
       "      <td>8.0%</td>\n",
       "      <td>6.9%</td>\n",
       "      <td>6.6%</td>\n",
       "    </tr>\n",
       "    <tr>\n",
       "      <th>24</th>\n",
       "      <td>Private and non-governmental aid</td>\n",
       "      <td>0.4%</td>\n",
       "      <td>0.3%</td>\n",
       "      <td>0.3%</td>\n",
       "      <td>0.4%</td>\n",
       "      <td>1.0%</td>\n",
       "      <td>1.2%</td>\n",
       "      <td>0.9%</td>\n",
       "      <td>0.8%</td>\n",
       "      <td>0.8%</td>\n",
       "      <td>1.1%</td>\n",
       "      <td>0.9%</td>\n",
       "    </tr>\n",
       "    <tr>\n",
       "      <th>25</th>\n",
       "      <td>Total funds committed to DOE (millions of 2017...</td>\n",
       "      <td>$   21,918</td>\n",
       "      <td>$   22,880</td>\n",
       "      <td>$   23,754</td>\n",
       "      <td>$   24,844</td>\n",
       "      <td>$   25,595</td>\n",
       "      <td>$   26,121</td>\n",
       "      <td>$   26,143</td>\n",
       "      <td>$   26,391</td>\n",
       "      <td>$   25,994</td>\n",
       "      <td>$   26,431</td>\n",
       "      <td>$   27,165</td>\n",
       "    </tr>\n",
       "    <tr>\n",
       "      <th>26</th>\n",
       "      <td>Less pass throughs to nonpublic schools</td>\n",
       "      <td>$   (1,146)</td>\n",
       "      <td>$   (1,179)</td>\n",
       "      <td>$   (1,227)</td>\n",
       "      <td>$   (1,360)</td>\n",
       "      <td>$   (1,498)</td>\n",
       "      <td>$   (1,723)</td>\n",
       "      <td>$   (1,820)</td>\n",
       "      <td>$   (2,060)</td>\n",
       "      <td>$   (1,800)</td>\n",
       "      <td>$   (1,604)</td>\n",
       "      <td>$   (1,611)</td>\n",
       "    </tr>\n",
       "    <tr>\n",
       "      <th>27</th>\n",
       "      <td>Total funds committed to NYC public &amp; charter ...</td>\n",
       "      <td>20,773</td>\n",
       "      <td>21,701</td>\n",
       "      <td>22,526</td>\n",
       "      <td>23,484</td>\n",
       "      <td>24,097</td>\n",
       "      <td>24,398</td>\n",
       "      <td>24,323</td>\n",
       "      <td>24,331</td>\n",
       "      <td>24,194</td>\n",
       "      <td>24,827</td>\n",
       "      <td>25,554</td>\n",
       "    </tr>\n",
       "    <tr>\n",
       "      <th>28</th>\n",
       "      <td>Total enrollment</td>\n",
       "      <td>1,092,657</td>\n",
       "      <td>1,078,872</td>\n",
       "      <td>1,079,970</td>\n",
       "      <td>1,081,831</td>\n",
       "      <td>1,080,787</td>\n",
       "      <td>1,103,650</td>\n",
       "      <td>1,116,517</td>\n",
       "      <td>1,123,883</td>\n",
       "      <td>1,129,046</td>\n",
       "      <td>1,139,737</td>\n",
       "      <td>1,159,441</td>\n",
       "    </tr>\n",
       "    <tr>\n",
       "      <th>29</th>\n",
       "      <td>Per pupil spending</td>\n",
       "      <td>NaN</td>\n",
       "      <td>NaN</td>\n",
       "      <td>NaN</td>\n",
       "      <td>NaN</td>\n",
       "      <td>NaN</td>\n",
       "      <td>NaN</td>\n",
       "      <td>NaN</td>\n",
       "      <td>NaN</td>\n",
       "      <td>NaN</td>\n",
       "      <td>NaN</td>\n",
       "      <td>NaN</td>\n",
       "    </tr>\n",
       "    <tr>\n",
       "      <th>30</th>\n",
       "      <td>Nominal per pupil spending</td>\n",
       "      <td>NaN</td>\n",
       "      <td>NaN</td>\n",
       "      <td>NaN</td>\n",
       "      <td>NaN</td>\n",
       "      <td>NaN</td>\n",
       "      <td>NaN</td>\n",
       "      <td>NaN</td>\n",
       "      <td>NaN</td>\n",
       "      <td>NaN</td>\n",
       "      <td>NaN</td>\n",
       "      <td>NaN</td>\n",
       "    </tr>\n",
       "    <tr>\n",
       "      <th>31</th>\n",
       "      <td>City funds</td>\n",
       "      <td>$   6,875</td>\n",
       "      <td>$   7,845</td>\n",
       "      <td>$   8,748</td>\n",
       "      <td>$   9,434</td>\n",
       "      <td>$   10,020</td>\n",
       "      <td>$   10,145</td>\n",
       "      <td>$   10,660</td>\n",
       "      <td>$   12,008</td>\n",
       "      <td>$   12,168</td>\n",
       "      <td>$   12,603</td>\n",
       "      <td>$   12,948</td>\n",
       "    </tr>\n",
       "    <tr>\n",
       "      <th>32</th>\n",
       "      <td>State aid</td>\n",
       "      <td>$   5,709</td>\n",
       "      <td>$   6,224</td>\n",
       "      <td>$   6,647</td>\n",
       "      <td>$   7,454</td>\n",
       "      <td>$   8,005</td>\n",
       "      <td>$   7,314</td>\n",
       "      <td>$   7,275</td>\n",
       "      <td>$   7,147</td>\n",
       "      <td>$   7,069</td>\n",
       "      <td>$   7,440</td>\n",
       "      <td>$   7,926</td>\n",
       "    </tr>\n",
       "    <tr>\n",
       "      <th>33</th>\n",
       "      <td>Federal &amp; other funds</td>\n",
       "      <td>$   1,826</td>\n",
       "      <td>$   1,769</td>\n",
       "      <td>$   1,757</td>\n",
       "      <td>$   1,736</td>\n",
       "      <td>$   1,804</td>\n",
       "      <td>$   2,926</td>\n",
       "      <td>$   2,684</td>\n",
       "      <td>$   1,879</td>\n",
       "      <td>$   1,839</td>\n",
       "      <td>$   1,735</td>\n",
       "      <td>$   1,690</td>\n",
       "    </tr>\n",
       "    <tr>\n",
       "      <th>34</th>\n",
       "      <td>Total Commitment to DOE</td>\n",
       "      <td>$   14,411</td>\n",
       "      <td>$   15,837</td>\n",
       "      <td>$   17,151</td>\n",
       "      <td>$   18,625</td>\n",
       "      <td>$   19,829</td>\n",
       "      <td>$   20,384</td>\n",
       "      <td>$   20,619</td>\n",
       "      <td>$   21,034</td>\n",
       "      <td>$   21,077</td>\n",
       "      <td>$   21,778</td>\n",
       "      <td>$   22,563</td>\n",
       "    </tr>\n",
       "    <tr>\n",
       "      <th>35</th>\n",
       "      <td>Real per pupil spending (2017 dollars)</td>\n",
       "      <td>NaN</td>\n",
       "      <td>NaN</td>\n",
       "      <td>NaN</td>\n",
       "      <td>NaN</td>\n",
       "      <td>NaN</td>\n",
       "      <td>NaN</td>\n",
       "      <td>NaN</td>\n",
       "      <td>NaN</td>\n",
       "      <td>NaN</td>\n",
       "      <td>NaN</td>\n",
       "      <td>NaN</td>\n",
       "    </tr>\n",
       "    <tr>\n",
       "      <th>36</th>\n",
       "      <td>City funds</td>\n",
       "      <td>$   9,571</td>\n",
       "      <td>$   10,505</td>\n",
       "      <td>$   11,218</td>\n",
       "      <td>$   11,632</td>\n",
       "      <td>$   11,967</td>\n",
       "      <td>$   11,779</td>\n",
       "      <td>$   12,106</td>\n",
       "      <td>$   13,406</td>\n",
       "      <td>$   13,292</td>\n",
       "      <td>$   13,420</td>\n",
       "      <td>$   13,445</td>\n",
       "    </tr>\n",
       "    <tr>\n",
       "      <th>37</th>\n",
       "      <td>State aid</td>\n",
       "      <td>$   7,947</td>\n",
       "      <td>$   8,334</td>\n",
       "      <td>$   8,524</td>\n",
       "      <td>$   9,192</td>\n",
       "      <td>$   9,560</td>\n",
       "      <td>$   8,492</td>\n",
       "      <td>$   8,262</td>\n",
       "      <td>$   7,979</td>\n",
       "      <td>$   7,722</td>\n",
       "      <td>$   7,922</td>\n",
       "      <td>$   8,230</td>\n",
       "    </tr>\n",
       "    <tr>\n",
       "      <th>38</th>\n",
       "      <td>Federal &amp; other funds</td>\n",
       "      <td>$   2,542</td>\n",
       "      <td>$   2,368</td>\n",
       "      <td>$   2,253</td>\n",
       "      <td>$   2,141</td>\n",
       "      <td>$   2,154</td>\n",
       "      <td>$   3,397</td>\n",
       "      <td>$   3,048</td>\n",
       "      <td>$   2,097</td>\n",
       "      <td>$   2,009</td>\n",
       "      <td>$   1,848</td>\n",
       "      <td>$   1,755</td>\n",
       "    </tr>\n",
       "    <tr>\n",
       "      <th>39</th>\n",
       "      <td>Total Commitment to DOE</td>\n",
       "      <td>$   20,060</td>\n",
       "      <td>$   21,207</td>\n",
       "      <td>$   21,995</td>\n",
       "      <td>$   22,965</td>\n",
       "      <td>$   23,682</td>\n",
       "      <td>$   23,668</td>\n",
       "      <td>$   23,415</td>\n",
       "      <td>$   23,482</td>\n",
       "      <td>$   23,023</td>\n",
       "      <td>$   23,190</td>\n",
       "      <td>$   23,429</td>\n",
       "    </tr>\n",
       "    <tr>\n",
       "      <th>40</th>\n",
       "      <td>Pedagogic staff</td>\n",
       "      <td>108,717</td>\n",
       "      <td>109,250</td>\n",
       "      <td>110,655</td>\n",
       "      <td>112,852</td>\n",
       "      <td>112,993</td>\n",
       "      <td>110,389</td>\n",
       "      <td>108,343</td>\n",
       "      <td>107,625</td>\n",
       "      <td>108,416</td>\n",
       "      <td>109,901</td>\n",
       "      <td>112,272</td>\n",
       "    </tr>\n",
       "    <tr>\n",
       "      <th>41</th>\n",
       "      <td>Pupils to Pedagogic Staff</td>\n",
       "      <td>10.1</td>\n",
       "      <td>9.9</td>\n",
       "      <td>9.8</td>\n",
       "      <td>9.6</td>\n",
       "      <td>9.6</td>\n",
       "      <td>10.0</td>\n",
       "      <td>10.3</td>\n",
       "      <td>10.4</td>\n",
       "      <td>10.4</td>\n",
       "      <td>10.4</td>\n",
       "      <td>10.3</td>\n",
       "    </tr>\n",
       "  </tbody>\n",
       "</table>\n",
       "</div>"
      ],
      "text/plain": [
       "                                             Category         2005  \\\n",
       "0   DOE expense budget funding (millions of 2017 d...          NaN   \n",
       "1                              City funds (estimated)    $   7,709   \n",
       "2                                           State aid    $   8,680   \n",
       "3                                         Federal aid    $   2,687   \n",
       "4                    Private and non-governmental aid       $   91   \n",
       "5                                 Total for all funds       19,166   \n",
       "6              Estimated city share of DOE operations        40.2%   \n",
       "7         DOE Expenditures (millions of 2017 dollars)          NaN   \n",
       "8                          DOE operations (all funds)   $   19,166   \n",
       "9                      Other expenditures (all funds)          NaN   \n",
       "10                                       Debt service    $   1,153   \n",
       "11                   Additional pension contributions    $   1,618   \n",
       "12          Less intracity sales/interfund agreements     $   (20)   \n",
       "13                       Total funds committed to DOE       21,918   \n",
       "14  Total Funds Committed to DOE  (millions of 201...          NaN   \n",
       "15                             City funds (estimated)   $   10,457   \n",
       "16                                          State aid    $   8,683   \n",
       "17                                        Federal aid    $   2,687   \n",
       "18                   Private and non-governmental aid       $   91   \n",
       "19                                Total for all funds       21,918   \n",
       "20    Estimated share of total funds committed to DOE          NaN   \n",
       "21                                               City        47.7%   \n",
       "22                                              State        39.6%   \n",
       "23                                            Federal        12.3%   \n",
       "24                   Private and non-governmental aid         0.4%   \n",
       "25  Total funds committed to DOE (millions of 2017...   $   21,918   \n",
       "26            Less pass throughs to nonpublic schools  $   (1,146)   \n",
       "27  Total funds committed to NYC public & charter ...       20,773   \n",
       "28                                   Total enrollment    1,092,657   \n",
       "29                                 Per pupil spending          NaN   \n",
       "30                         Nominal per pupil spending          NaN   \n",
       "31                                         City funds    $   6,875   \n",
       "32                                          State aid    $   5,709   \n",
       "33                              Federal & other funds    $   1,826   \n",
       "34                            Total Commitment to DOE   $   14,411   \n",
       "35             Real per pupil spending (2017 dollars)          NaN   \n",
       "36                                         City funds    $   9,571   \n",
       "37                                          State aid    $   7,947   \n",
       "38                              Federal & other funds    $   2,542   \n",
       "39                            Total Commitment to DOE   $   20,060   \n",
       "40                                    Pedagogic staff      108,717   \n",
       "41                          Pupils to Pedagogic Staff         10.1   \n",
       "\n",
       "           2006         2007         2008         2009         2010  \\\n",
       "0           NaN          NaN          NaN          NaN          NaN   \n",
       "1     $   8,267    $   8,735    $   8,676    $   8,723    $   8,360   \n",
       "2     $   8,988    $   9,202    $   9,941   $   10,330    $   9,369   \n",
       "3     $   2,493    $   2,361    $   2,216    $   2,072    $   3,438   \n",
       "4        $   62       $   72      $   100      $   257      $   311   \n",
       "5        19,810       20,370       20,934       21,381       21,478   \n",
       "6         41.7%        42.9%        41.4%        40.8%        38.9%   \n",
       "7           NaN          NaN          NaN          NaN          NaN   \n",
       "8    $   19,810   $   20,370   $   20,934   $   21,381   $   21,478   \n",
       "9           NaN          NaN          NaN          NaN          NaN   \n",
       "10    $   1,420    $   1,382    $   1,595    $   1,617    $   1,827   \n",
       "11    $   1,668    $   2,017    $   2,336    $   2,614    $   2,847   \n",
       "12     $   (18)     $   (16)     $   (20)     $   (17)     $   (32)   \n",
       "13       22,880       23,754       24,844       25,595       26,121   \n",
       "14          NaN          NaN          NaN          NaN          NaN   \n",
       "15   $   11,333   $   12,115   $   12,584   $   12,934   $   13,000   \n",
       "16    $   8,992    $   9,206    $   9,944   $   10,333    $   9,372   \n",
       "17    $   2,493    $   2,361    $   2,216    $   2,072    $   3,438   \n",
       "18       $   62       $   72      $   100      $   257      $   311   \n",
       "19       22,880       23,754       24,844       25,595       26,121   \n",
       "20          NaN          NaN          NaN          NaN          NaN   \n",
       "21        49.5%        51.0%        50.7%        50.5%        49.8%   \n",
       "22        39.3%        38.8%        40.0%        40.4%        35.9%   \n",
       "23        10.9%         9.9%         8.9%         8.1%        13.2%   \n",
       "24         0.3%         0.3%         0.4%         1.0%         1.2%   \n",
       "25   $   22,880   $   23,754   $   24,844   $   25,595   $   26,121   \n",
       "26  $   (1,179)  $   (1,227)  $   (1,360)  $   (1,498)  $   (1,723)   \n",
       "27       21,701       22,526       23,484       24,097       24,398   \n",
       "28    1,078,872    1,079,970    1,081,831    1,080,787    1,103,650   \n",
       "29          NaN          NaN          NaN          NaN          NaN   \n",
       "30          NaN          NaN          NaN          NaN          NaN   \n",
       "31    $   7,845    $   8,748    $   9,434   $   10,020   $   10,145   \n",
       "32    $   6,224    $   6,647    $   7,454    $   8,005    $   7,314   \n",
       "33    $   1,769    $   1,757    $   1,736    $   1,804    $   2,926   \n",
       "34   $   15,837   $   17,151   $   18,625   $   19,829   $   20,384   \n",
       "35          NaN          NaN          NaN          NaN          NaN   \n",
       "36   $   10,505   $   11,218   $   11,632   $   11,967   $   11,779   \n",
       "37    $   8,334    $   8,524    $   9,192    $   9,560    $   8,492   \n",
       "38    $   2,368    $   2,253    $   2,141    $   2,154    $   3,397   \n",
       "39   $   21,207   $   21,995   $   22,965   $   23,682   $   23,668   \n",
       "40      109,250      110,655      112,852      112,993      110,389   \n",
       "41          9.9          9.8          9.6          9.6         10.0   \n",
       "\n",
       "           2011         2012         2013         2014         2015  \n",
       "0           NaN          NaN          NaN          NaN          NaN  \n",
       "1     $   8,882   $   10,206   $   10,024   $   10,255   $   10,232  \n",
       "2     $   9,221    $   8,965    $   8,716    $   9,027    $   9,539  \n",
       "3     $   3,173    $   2,141    $   2,069    $   1,825    $   1,781  \n",
       "4       $   230      $   216      $   199      $   281      $   253  \n",
       "5        21,507       21,528       21,008       21,387       21,805  \n",
       "6         41.3%        47.4%        47.7%        47.9%        46.9%  \n",
       "7           NaN          NaN          NaN          NaN          NaN  \n",
       "8    $   21,507   $   21,528   $   21,008   $   21,387   $   21,805  \n",
       "9           NaN          NaN          NaN          NaN          NaN  \n",
       "10    $   1,882    $   1,927    $   1,927    $   1,918    $   2,008  \n",
       "11    $   2,790    $   2,983    $   3,091    $   3,163    $   3,399  \n",
       "12     $   (35)     $   (47)     $   (33)     $   (38)     $   (47)  \n",
       "13       26,143       26,391       25,994       26,431       27,165  \n",
       "14          NaN          NaN          NaN          NaN          NaN  \n",
       "15   $   13,516   $   15,067   $   15,007   $   15,295   $   15,589  \n",
       "16    $   9,224    $   8,968    $   8,719    $   9,029    $   9,542  \n",
       "17    $   3,173    $   2,141    $   2,069    $   1,825    $   1,781  \n",
       "18      $   230      $   216      $   199      $   281      $   253  \n",
       "19       26,143       26,391       25,994       26,431       27,165  \n",
       "20          NaN          NaN          NaN          NaN          NaN  \n",
       "21        51.7%        57.1%        57.7%        57.9%        57.4%  \n",
       "22        35.3%        34.0%        33.5%        34.2%        35.1%  \n",
       "23        12.1%         8.1%         8.0%         6.9%         6.6%  \n",
       "24         0.9%         0.8%         0.8%         1.1%         0.9%  \n",
       "25   $   26,143   $   26,391   $   25,994   $   26,431   $   27,165  \n",
       "26  $   (1,820)  $   (2,060)  $   (1,800)  $   (1,604)  $   (1,611)  \n",
       "27       24,323       24,331       24,194       24,827       25,554  \n",
       "28    1,116,517    1,123,883    1,129,046    1,139,737    1,159,441  \n",
       "29          NaN          NaN          NaN          NaN          NaN  \n",
       "30          NaN          NaN          NaN          NaN          NaN  \n",
       "31   $   10,660   $   12,008   $   12,168   $   12,603   $   12,948  \n",
       "32    $   7,275    $   7,147    $   7,069    $   7,440    $   7,926  \n",
       "33    $   2,684    $   1,879    $   1,839    $   1,735    $   1,690  \n",
       "34   $   20,619   $   21,034   $   21,077   $   21,778   $   22,563  \n",
       "35          NaN          NaN          NaN          NaN          NaN  \n",
       "36   $   12,106   $   13,406   $   13,292   $   13,420   $   13,445  \n",
       "37    $   8,262    $   7,979    $   7,722    $   7,922    $   8,230  \n",
       "38    $   3,048    $   2,097    $   2,009    $   1,848    $   1,755  \n",
       "39   $   23,415   $   23,482   $   23,023   $   23,190   $   23,429  \n",
       "40      108,343      107,625      108,416      109,901      112,272  \n",
       "41         10.3         10.4         10.4         10.4         10.3  "
      ]
     },
     "execution_count": 224,
     "metadata": {},
     "output_type": "execute_result"
    }
   ],
   "source": [
    "filtered_columns = ['Category'] + [col for col in school_spending.columns if (col.isdigit() and int(col) >= 2005 and int(col)<2016)]\n",
    "school_spend_filtered = school_spending[filtered_columns]\n",
    "\n",
    "school_spend_filtered"
   ]
  },
  {
   "cell_type": "markdown",
   "id": "09e21598-b32f-4a42-998b-eb42a371f591",
   "metadata": {},
   "source": [
    "There are still many rows in the dataset we do not need. To clean it up, let's only keep the \"City funds\" row under the \"Real per pupil spending (2017 dollars)\" sub-section - i.e. row 36 - which I intend to use for the visualization."
   ]
  },
  {
   "cell_type": "code",
   "execution_count": 226,
   "id": "ef00ec96-5864-4ef1-a555-c2c67b8df815",
   "metadata": {},
   "outputs": [
    {
     "data": {
      "text/html": [
       "<div>\n",
       "<style scoped>\n",
       "    .dataframe tbody tr th:only-of-type {\n",
       "        vertical-align: middle;\n",
       "    }\n",
       "\n",
       "    .dataframe tbody tr th {\n",
       "        vertical-align: top;\n",
       "    }\n",
       "\n",
       "    .dataframe thead th {\n",
       "        text-align: right;\n",
       "    }\n",
       "</style>\n",
       "<table border=\"1\" class=\"dataframe\">\n",
       "  <thead>\n",
       "    <tr style=\"text-align: right;\">\n",
       "      <th></th>\n",
       "      <th>Cohort Year</th>\n",
       "      <th>City Funds</th>\n",
       "    </tr>\n",
       "  </thead>\n",
       "  <tbody>\n",
       "    <tr>\n",
       "      <th>1</th>\n",
       "      <td>2005</td>\n",
       "      <td>$   9,571</td>\n",
       "    </tr>\n",
       "    <tr>\n",
       "      <th>2</th>\n",
       "      <td>2006</td>\n",
       "      <td>$   10,505</td>\n",
       "    </tr>\n",
       "    <tr>\n",
       "      <th>3</th>\n",
       "      <td>2007</td>\n",
       "      <td>$   11,218</td>\n",
       "    </tr>\n",
       "    <tr>\n",
       "      <th>4</th>\n",
       "      <td>2008</td>\n",
       "      <td>$   11,632</td>\n",
       "    </tr>\n",
       "    <tr>\n",
       "      <th>5</th>\n",
       "      <td>2009</td>\n",
       "      <td>$   11,967</td>\n",
       "    </tr>\n",
       "    <tr>\n",
       "      <th>6</th>\n",
       "      <td>2010</td>\n",
       "      <td>$   11,779</td>\n",
       "    </tr>\n",
       "    <tr>\n",
       "      <th>7</th>\n",
       "      <td>2011</td>\n",
       "      <td>$   12,106</td>\n",
       "    </tr>\n",
       "    <tr>\n",
       "      <th>8</th>\n",
       "      <td>2012</td>\n",
       "      <td>$   13,406</td>\n",
       "    </tr>\n",
       "    <tr>\n",
       "      <th>9</th>\n",
       "      <td>2013</td>\n",
       "      <td>$   13,292</td>\n",
       "    </tr>\n",
       "    <tr>\n",
       "      <th>10</th>\n",
       "      <td>2014</td>\n",
       "      <td>$   13,420</td>\n",
       "    </tr>\n",
       "    <tr>\n",
       "      <th>11</th>\n",
       "      <td>2015</td>\n",
       "      <td>$   13,445</td>\n",
       "    </tr>\n",
       "  </tbody>\n",
       "</table>\n",
       "</div>"
      ],
      "text/plain": [
       "   Cohort Year  City Funds\n",
       "1         2005   $   9,571\n",
       "2         2006  $   10,505\n",
       "3         2007  $   11,218\n",
       "4         2008  $   11,632\n",
       "5         2009  $   11,967\n",
       "6         2010  $   11,779\n",
       "7         2011  $   12,106\n",
       "8         2012  $   13,406\n",
       "9         2013  $   13,292\n",
       "10        2014  $   13,420\n",
       "11        2015  $   13,445"
      ]
     },
     "execution_count": 226,
     "metadata": {},
     "output_type": "execute_result"
    }
   ],
   "source": [
    "school_spend_filtered = school_spend_filtered.iloc[36].reset_index()\n",
    "school_spend_filtered = pd.DataFrame(school_spend_filtered)\n",
    "school_spend_filtered = school_spend_filtered.iloc[1:12]\n",
    "school_spend_filtered.columns = [\"Cohort Year\", \"City Funds\"]\n",
    "\n",
    "school_spend_filtered"
   ]
  },
  {
   "cell_type": "markdown",
   "id": "069ec2b1-daf2-4dd9-a7c6-7c136068907f",
   "metadata": {},
   "source": [
    "Let's also remove any non-numeric characters ($ and ,) from the monetary values in the City Funds column, and converted it to a numeric data type. This will allow us to perform arithmetic/ graph it later on."
   ]
  },
  {
   "cell_type": "code",
   "execution_count": 282,
   "id": "396c7adf-6977-4d16-a466-dd4d1c9a8412",
   "metadata": {},
   "outputs": [
    {
     "data": {
      "text/html": [
       "<div>\n",
       "<style scoped>\n",
       "    .dataframe tbody tr th:only-of-type {\n",
       "        vertical-align: middle;\n",
       "    }\n",
       "\n",
       "    .dataframe tbody tr th {\n",
       "        vertical-align: top;\n",
       "    }\n",
       "\n",
       "    .dataframe thead th {\n",
       "        text-align: right;\n",
       "    }\n",
       "</style>\n",
       "<table border=\"1\" class=\"dataframe\">\n",
       "  <thead>\n",
       "    <tr style=\"text-align: right;\">\n",
       "      <th></th>\n",
       "      <th>Cohort Year</th>\n",
       "      <th>City Funds</th>\n",
       "    </tr>\n",
       "  </thead>\n",
       "  <tbody>\n",
       "    <tr>\n",
       "      <th>1</th>\n",
       "      <td>2005</td>\n",
       "      <td>9571</td>\n",
       "    </tr>\n",
       "    <tr>\n",
       "      <th>2</th>\n",
       "      <td>2006</td>\n",
       "      <td>10505</td>\n",
       "    </tr>\n",
       "    <tr>\n",
       "      <th>3</th>\n",
       "      <td>2007</td>\n",
       "      <td>11218</td>\n",
       "    </tr>\n",
       "    <tr>\n",
       "      <th>4</th>\n",
       "      <td>2008</td>\n",
       "      <td>11632</td>\n",
       "    </tr>\n",
       "    <tr>\n",
       "      <th>5</th>\n",
       "      <td>2009</td>\n",
       "      <td>11967</td>\n",
       "    </tr>\n",
       "    <tr>\n",
       "      <th>6</th>\n",
       "      <td>2010</td>\n",
       "      <td>11779</td>\n",
       "    </tr>\n",
       "    <tr>\n",
       "      <th>7</th>\n",
       "      <td>2011</td>\n",
       "      <td>12106</td>\n",
       "    </tr>\n",
       "    <tr>\n",
       "      <th>8</th>\n",
       "      <td>2012</td>\n",
       "      <td>13406</td>\n",
       "    </tr>\n",
       "    <tr>\n",
       "      <th>9</th>\n",
       "      <td>2013</td>\n",
       "      <td>13292</td>\n",
       "    </tr>\n",
       "    <tr>\n",
       "      <th>10</th>\n",
       "      <td>2014</td>\n",
       "      <td>13420</td>\n",
       "    </tr>\n",
       "    <tr>\n",
       "      <th>11</th>\n",
       "      <td>2015</td>\n",
       "      <td>13445</td>\n",
       "    </tr>\n",
       "  </tbody>\n",
       "</table>\n",
       "</div>"
      ],
      "text/plain": [
       "    Cohort Year  City Funds\n",
       "1          2005        9571\n",
       "2          2006       10505\n",
       "3          2007       11218\n",
       "4          2008       11632\n",
       "5          2009       11967\n",
       "6          2010       11779\n",
       "7          2011       12106\n",
       "8          2012       13406\n",
       "9          2013       13292\n",
       "10         2014       13420\n",
       "11         2015       13445"
      ]
     },
     "execution_count": 282,
     "metadata": {},
     "output_type": "execute_result"
    }
   ],
   "source": [
    "school_spend_filtered[\"City Funds\"] = school_spend_filtered[\"City Funds\"].str.replace('$', '').str.replace(',', '')\n",
    "school_spend_filtered[\"City Funds\"] = pd.to_numeric(school_spend_filtered[\"City Funds\"])\n",
    "pd.DataFrame(school_spend_filtered)"
   ]
  },
  {
   "cell_type": "markdown",
   "id": "95f5cc96-3758-4697-9f8a-845ae0b8a599",
   "metadata": {},
   "source": [
    "### Dataset 2: Graduation Rates"
   ]
  },
  {
   "cell_type": "markdown",
   "id": "f3ca14a3-41c2-42dd-8b2a-c1b74ed109ab",
   "metadata": {},
   "source": [
    "Next, moving on to the graduation dataset and reading it in."
   ]
  },
  {
   "cell_type": "code",
   "execution_count": 229,
   "id": "aedcd5f3-7cce-4aa2-ae5c-3e29a2d29290",
   "metadata": {},
   "outputs": [
    {
     "data": {
      "text/html": [
       "<div>\n",
       "<style scoped>\n",
       "    .dataframe tbody tr th:only-of-type {\n",
       "        vertical-align: middle;\n",
       "    }\n",
       "\n",
       "    .dataframe tbody tr th {\n",
       "        vertical-align: top;\n",
       "    }\n",
       "\n",
       "    .dataframe thead th {\n",
       "        text-align: right;\n",
       "    }\n",
       "</style>\n",
       "<table border=\"1\" class=\"dataframe\">\n",
       "  <thead>\n",
       "    <tr style=\"text-align: right;\">\n",
       "      <th></th>\n",
       "      <th>District</th>\n",
       "      <th>Category</th>\n",
       "      <th>Cohort Year</th>\n",
       "      <th>Cohort</th>\n",
       "      <th># Total Cohort</th>\n",
       "      <th># Grads</th>\n",
       "      <th>% Grads</th>\n",
       "      <th># Total Regents</th>\n",
       "      <th>% Total Regents of Cohort</th>\n",
       "      <th>% Total Regents of Grads</th>\n",
       "      <th>...</th>\n",
       "      <th>% Local of Cohort</th>\n",
       "      <th>% Local of Grads</th>\n",
       "      <th># Still Enrolled</th>\n",
       "      <th>% Still Enrolled</th>\n",
       "      <th># Dropout</th>\n",
       "      <th>% Dropout</th>\n",
       "      <th># SACC (IEP Diploma)</th>\n",
       "      <th>% SACC (IEP Diploma) of Cohort</th>\n",
       "      <th># TASC (GED)</th>\n",
       "      <th>% TASC (GED) of Cohort</th>\n",
       "    </tr>\n",
       "  </thead>\n",
       "  <tbody>\n",
       "    <tr>\n",
       "      <th>0</th>\n",
       "      <td>1</td>\n",
       "      <td>All Students</td>\n",
       "      <td>2015</td>\n",
       "      <td>4 year August</td>\n",
       "      <td>1006</td>\n",
       "      <td>689</td>\n",
       "      <td>68.5</td>\n",
       "      <td>641</td>\n",
       "      <td>63.7</td>\n",
       "      <td>93.0</td>\n",
       "      <td>...</td>\n",
       "      <td>4.8</td>\n",
       "      <td>7.0</td>\n",
       "      <td>206</td>\n",
       "      <td>20.5</td>\n",
       "      <td>106</td>\n",
       "      <td>10.5</td>\n",
       "      <td>0</td>\n",
       "      <td>0.0</td>\n",
       "      <td>5</td>\n",
       "      <td>0.5</td>\n",
       "    </tr>\n",
       "    <tr>\n",
       "      <th>1</th>\n",
       "      <td>1</td>\n",
       "      <td>All Students</td>\n",
       "      <td>2014</td>\n",
       "      <td>4 year August</td>\n",
       "      <td>957</td>\n",
       "      <td>631</td>\n",
       "      <td>65.9</td>\n",
       "      <td>597</td>\n",
       "      <td>62.4</td>\n",
       "      <td>94.6</td>\n",
       "      <td>...</td>\n",
       "      <td>3.6</td>\n",
       "      <td>5.4</td>\n",
       "      <td>202</td>\n",
       "      <td>21.1</td>\n",
       "      <td>112</td>\n",
       "      <td>11.7</td>\n",
       "      <td>2</td>\n",
       "      <td>0.2</td>\n",
       "      <td>8</td>\n",
       "      <td>0.8</td>\n",
       "    </tr>\n",
       "    <tr>\n",
       "      <th>2</th>\n",
       "      <td>1</td>\n",
       "      <td>All Students</td>\n",
       "      <td>2013</td>\n",
       "      <td>4 year August</td>\n",
       "      <td>1043</td>\n",
       "      <td>639</td>\n",
       "      <td>61.3</td>\n",
       "      <td>608</td>\n",
       "      <td>58.3</td>\n",
       "      <td>95.1</td>\n",
       "      <td>...</td>\n",
       "      <td>3.0</td>\n",
       "      <td>4.9</td>\n",
       "      <td>258</td>\n",
       "      <td>24.7</td>\n",
       "      <td>121</td>\n",
       "      <td>11.6</td>\n",
       "      <td>7</td>\n",
       "      <td>0.7</td>\n",
       "      <td>17</td>\n",
       "      <td>1.6</td>\n",
       "    </tr>\n",
       "    <tr>\n",
       "      <th>3</th>\n",
       "      <td>1</td>\n",
       "      <td>All Students</td>\n",
       "      <td>2012</td>\n",
       "      <td>4 year August</td>\n",
       "      <td>1069</td>\n",
       "      <td>652</td>\n",
       "      <td>61.0</td>\n",
       "      <td>641</td>\n",
       "      <td>60.0</td>\n",
       "      <td>98.3</td>\n",
       "      <td>...</td>\n",
       "      <td>1.0</td>\n",
       "      <td>1.7</td>\n",
       "      <td>258</td>\n",
       "      <td>24.1</td>\n",
       "      <td>148</td>\n",
       "      <td>13.8</td>\n",
       "      <td>7</td>\n",
       "      <td>0.7</td>\n",
       "      <td>3</td>\n",
       "      <td>0.3</td>\n",
       "    </tr>\n",
       "    <tr>\n",
       "      <th>4</th>\n",
       "      <td>1</td>\n",
       "      <td>All Students</td>\n",
       "      <td>2011</td>\n",
       "      <td>4 year August</td>\n",
       "      <td>1128</td>\n",
       "      <td>665</td>\n",
       "      <td>59.0</td>\n",
       "      <td>635</td>\n",
       "      <td>56.3</td>\n",
       "      <td>95.5</td>\n",
       "      <td>...</td>\n",
       "      <td>2.7</td>\n",
       "      <td>4.5</td>\n",
       "      <td>303</td>\n",
       "      <td>26.9</td>\n",
       "      <td>143</td>\n",
       "      <td>12.7</td>\n",
       "      <td>10</td>\n",
       "      <td>0.9</td>\n",
       "      <td>5</td>\n",
       "      <td>0.4</td>\n",
       "    </tr>\n",
       "  </tbody>\n",
       "</table>\n",
       "<p>5 rows × 27 columns</p>\n",
       "</div>"
      ],
      "text/plain": [
       "   District      Category  Cohort Year         Cohort  # Total Cohort  \\\n",
       "0         1  All Students         2015  4 year August            1006   \n",
       "1         1  All Students         2014  4 year August             957   \n",
       "2         1  All Students         2013  4 year August            1043   \n",
       "3         1  All Students         2012  4 year August            1069   \n",
       "4         1  All Students         2011  4 year August            1128   \n",
       "\n",
       "   # Grads  % Grads  # Total Regents  % Total Regents of Cohort  \\\n",
       "0      689     68.5              641                       63.7   \n",
       "1      631     65.9              597                       62.4   \n",
       "2      639     61.3              608                       58.3   \n",
       "3      652     61.0              641                       60.0   \n",
       "4      665     59.0              635                       56.3   \n",
       "\n",
       "   % Total Regents of Grads  ...  % Local of Cohort  % Local of Grads  \\\n",
       "0                      93.0  ...                4.8               7.0   \n",
       "1                      94.6  ...                3.6               5.4   \n",
       "2                      95.1  ...                3.0               4.9   \n",
       "3                      98.3  ...                1.0               1.7   \n",
       "4                      95.5  ...                2.7               4.5   \n",
       "\n",
       "   # Still Enrolled  % Still Enrolled  # Dropout  % Dropout  \\\n",
       "0               206              20.5        106       10.5   \n",
       "1               202              21.1        112       11.7   \n",
       "2               258              24.7        121       11.6   \n",
       "3               258              24.1        148       13.8   \n",
       "4               303              26.9        143       12.7   \n",
       "\n",
       "   # SACC (IEP Diploma)  % SACC (IEP Diploma) of Cohort  # TASC (GED)  \\\n",
       "0                     0                             0.0             5   \n",
       "1                     2                             0.2             8   \n",
       "2                     7                             0.7            17   \n",
       "3                     7                             0.7             3   \n",
       "4                    10                             0.9             5   \n",
       "\n",
       "   % TASC (GED) of Cohort  \n",
       "0                     0.5  \n",
       "1                     0.8  \n",
       "2                     1.6  \n",
       "3                     0.3  \n",
       "4                     0.4  \n",
       "\n",
       "[5 rows x 27 columns]"
      ]
     },
     "execution_count": 229,
     "metadata": {},
     "output_type": "execute_result"
    }
   ],
   "source": [
    "grad_rates = pd.read_csv(\"2005-2019_Graduation_Rates_District_-_All_20241125.csv\")\n",
    "grad_rates.head(5)"
   ]
  },
  {
   "cell_type": "markdown",
   "id": "ab5ded43-7b93-46ce-9574-8619cdeae3a7",
   "metadata": {},
   "source": [
    "Again, narrowing it down to the columns of interest - this time there are not that many. So instead of creating a new variable with the criteria, we can directly pass them in."
   ]
  },
  {
   "cell_type": "code",
   "execution_count": 257,
   "id": "75de5d20-e605-4557-8cc8-b0d01daf5666",
   "metadata": {},
   "outputs": [
    {
     "data": {
      "text/html": [
       "<div>\n",
       "<style scoped>\n",
       "    .dataframe tbody tr th:only-of-type {\n",
       "        vertical-align: middle;\n",
       "    }\n",
       "\n",
       "    .dataframe tbody tr th {\n",
       "        vertical-align: top;\n",
       "    }\n",
       "\n",
       "    .dataframe thead th {\n",
       "        text-align: right;\n",
       "    }\n",
       "</style>\n",
       "<table border=\"1\" class=\"dataframe\">\n",
       "  <thead>\n",
       "    <tr style=\"text-align: right;\">\n",
       "      <th></th>\n",
       "      <th>District</th>\n",
       "      <th>Category</th>\n",
       "      <th>Cohort Year</th>\n",
       "      <th>Cohort</th>\n",
       "      <th># Total Cohort</th>\n",
       "      <th># Grads</th>\n",
       "      <th>% Grads</th>\n",
       "    </tr>\n",
       "  </thead>\n",
       "  <tbody>\n",
       "    <tr>\n",
       "      <th>0</th>\n",
       "      <td>1</td>\n",
       "      <td>All Students</td>\n",
       "      <td>2015</td>\n",
       "      <td>4 year August</td>\n",
       "      <td>1006</td>\n",
       "      <td>689</td>\n",
       "      <td>68.5</td>\n",
       "    </tr>\n",
       "    <tr>\n",
       "      <th>1</th>\n",
       "      <td>1</td>\n",
       "      <td>All Students</td>\n",
       "      <td>2014</td>\n",
       "      <td>4 year August</td>\n",
       "      <td>957</td>\n",
       "      <td>631</td>\n",
       "      <td>65.9</td>\n",
       "    </tr>\n",
       "    <tr>\n",
       "      <th>2</th>\n",
       "      <td>1</td>\n",
       "      <td>All Students</td>\n",
       "      <td>2013</td>\n",
       "      <td>4 year August</td>\n",
       "      <td>1043</td>\n",
       "      <td>639</td>\n",
       "      <td>61.3</td>\n",
       "    </tr>\n",
       "    <tr>\n",
       "      <th>3</th>\n",
       "      <td>1</td>\n",
       "      <td>All Students</td>\n",
       "      <td>2012</td>\n",
       "      <td>4 year August</td>\n",
       "      <td>1069</td>\n",
       "      <td>652</td>\n",
       "      <td>61.0</td>\n",
       "    </tr>\n",
       "    <tr>\n",
       "      <th>4</th>\n",
       "      <td>1</td>\n",
       "      <td>All Students</td>\n",
       "      <td>2011</td>\n",
       "      <td>4 year August</td>\n",
       "      <td>1128</td>\n",
       "      <td>665</td>\n",
       "      <td>59.0</td>\n",
       "    </tr>\n",
       "    <tr>\n",
       "      <th>...</th>\n",
       "      <td>...</td>\n",
       "      <td>...</td>\n",
       "      <td>...</td>\n",
       "      <td>...</td>\n",
       "      <td>...</td>\n",
       "      <td>...</td>\n",
       "      <td>...</td>\n",
       "    </tr>\n",
       "    <tr>\n",
       "      <th>1996</th>\n",
       "      <td>79</td>\n",
       "      <td>All Students</td>\n",
       "      <td>2001</td>\n",
       "      <td>5 year June</td>\n",
       "      <td>5953</td>\n",
       "      <td>1055</td>\n",
       "      <td>17.7</td>\n",
       "    </tr>\n",
       "    <tr>\n",
       "      <th>1997</th>\n",
       "      <td>79</td>\n",
       "      <td>All Students</td>\n",
       "      <td>2004</td>\n",
       "      <td>6 year June</td>\n",
       "      <td>239</td>\n",
       "      <td>68</td>\n",
       "      <td>28.5</td>\n",
       "    </tr>\n",
       "    <tr>\n",
       "      <th>1998</th>\n",
       "      <td>79</td>\n",
       "      <td>All Students</td>\n",
       "      <td>2003</td>\n",
       "      <td>6 year June</td>\n",
       "      <td>1388</td>\n",
       "      <td>550</td>\n",
       "      <td>39.6</td>\n",
       "    </tr>\n",
       "    <tr>\n",
       "      <th>1999</th>\n",
       "      <td>79</td>\n",
       "      <td>All Students</td>\n",
       "      <td>2002</td>\n",
       "      <td>6 year June</td>\n",
       "      <td>3942</td>\n",
       "      <td>1163</td>\n",
       "      <td>29.5</td>\n",
       "    </tr>\n",
       "    <tr>\n",
       "      <th>2000</th>\n",
       "      <td>79</td>\n",
       "      <td>All Students</td>\n",
       "      <td>2001</td>\n",
       "      <td>6 year June</td>\n",
       "      <td>5953</td>\n",
       "      <td>1450</td>\n",
       "      <td>24.4</td>\n",
       "    </tr>\n",
       "  </tbody>\n",
       "</table>\n",
       "<p>2001 rows × 7 columns</p>\n",
       "</div>"
      ],
      "text/plain": [
       "      District      Category  Cohort Year         Cohort  # Total Cohort  \\\n",
       "0            1  All Students         2015  4 year August            1006   \n",
       "1            1  All Students         2014  4 year August             957   \n",
       "2            1  All Students         2013  4 year August            1043   \n",
       "3            1  All Students         2012  4 year August            1069   \n",
       "4            1  All Students         2011  4 year August            1128   \n",
       "...        ...           ...          ...            ...             ...   \n",
       "1996        79  All Students         2001    5 year June            5953   \n",
       "1997        79  All Students         2004    6 year June             239   \n",
       "1998        79  All Students         2003    6 year June            1388   \n",
       "1999        79  All Students         2002    6 year June            3942   \n",
       "2000        79  All Students         2001    6 year June            5953   \n",
       "\n",
       "      # Grads  % Grads  \n",
       "0         689     68.5  \n",
       "1         631     65.9  \n",
       "2         639     61.3  \n",
       "3         652     61.0  \n",
       "4         665     59.0  \n",
       "...       ...      ...  \n",
       "1996     1055     17.7  \n",
       "1997       68     28.5  \n",
       "1998      550     39.6  \n",
       "1999     1163     29.5  \n",
       "2000     1450     24.4  \n",
       "\n",
       "[2001 rows x 7 columns]"
      ]
     },
     "execution_count": 257,
     "metadata": {},
     "output_type": "execute_result"
    }
   ],
   "source": [
    "grad_rates_filtered = grad_rates[[\"District\",\"Category\",\"Cohort Year\",\"Cohort\",\"# Total Cohort\",\"# Grads\",\"% Grads\"]]\n",
    "grad_rates_filtered"
   ]
  },
  {
   "cell_type": "markdown",
   "id": "394d4e48-64a7-47c4-9b2b-f0ae755238fc",
   "metadata": {},
   "source": [
    "Next, I want to calculate the average graduation % for each year. Before I do this, I need to check the data in that column is the right type (i.e. numeric/ integer)."
   ]
  },
  {
   "cell_type": "code",
   "execution_count": 270,
   "id": "fbfc040d-5bc5-4b36-9d2e-45f66d6c9305",
   "metadata": {},
   "outputs": [
    {
     "name": "stdout",
     "output_type": "stream",
     "text": [
      "<class 'pandas.core.frame.DataFrame'>\n",
      "RangeIndex: 2001 entries, 0 to 2000\n",
      "Data columns (total 7 columns):\n",
      " #   Column          Non-Null Count  Dtype  \n",
      "---  ------          --------------  -----  \n",
      " 0   District        2001 non-null   int64  \n",
      " 1   Category        2001 non-null   object \n",
      " 2   Cohort Year     2001 non-null   int64  \n",
      " 3   Cohort          2001 non-null   object \n",
      " 4   # Total Cohort  2001 non-null   int64  \n",
      " 5   # Grads         2001 non-null   int64  \n",
      " 6   % Grads         2001 non-null   float64\n",
      "dtypes: float64(1), int64(4), object(2)\n",
      "memory usage: 109.6+ KB\n"
     ]
    }
   ],
   "source": [
    "grad_rates_filtered.info()"
   ]
  },
  {
   "cell_type": "markdown",
   "id": "78dbe214-3ad8-4dad-9e8d-1ff23372d2fd",
   "metadata": {},
   "source": [
    "This variable is already a float as we can see above, so now we can move on to the averaging, using the following steps:\n",
    "1) We group the data by Cohort Year\n",
    "2) For each year, we take the mean of the datapoints in the % Grad column\n",
    "3) Once again, since 2005-2015 are the only years that overlap between the 2 datasets, we filter the dataset down to keep these years only."
   ]
  },
  {
   "cell_type": "code",
   "execution_count": 277,
   "id": "d18b8097-72a4-40c6-8b4f-7d739b6e2134",
   "metadata": {},
   "outputs": [
    {
     "data": {
      "text/html": [
       "<div>\n",
       "<style scoped>\n",
       "    .dataframe tbody tr th:only-of-type {\n",
       "        vertical-align: middle;\n",
       "    }\n",
       "\n",
       "    .dataframe tbody tr th {\n",
       "        vertical-align: top;\n",
       "    }\n",
       "\n",
       "    .dataframe thead th {\n",
       "        text-align: right;\n",
       "    }\n",
       "</style>\n",
       "<table border=\"1\" class=\"dataframe\">\n",
       "  <thead>\n",
       "    <tr style=\"text-align: right;\">\n",
       "      <th></th>\n",
       "      <th>Cohort Year</th>\n",
       "      <th>Average % Grads</th>\n",
       "    </tr>\n",
       "  </thead>\n",
       "  <tbody>\n",
       "    <tr>\n",
       "      <th>4</th>\n",
       "      <td>2005</td>\n",
       "      <td>62.930534</td>\n",
       "    </tr>\n",
       "    <tr>\n",
       "      <th>5</th>\n",
       "      <td>2006</td>\n",
       "      <td>64.653704</td>\n",
       "    </tr>\n",
       "    <tr>\n",
       "      <th>6</th>\n",
       "      <td>2007</td>\n",
       "      <td>65.546875</td>\n",
       "    </tr>\n",
       "    <tr>\n",
       "      <th>7</th>\n",
       "      <td>2008</td>\n",
       "      <td>64.581875</td>\n",
       "    </tr>\n",
       "    <tr>\n",
       "      <th>8</th>\n",
       "      <td>2009</td>\n",
       "      <td>66.518125</td>\n",
       "    </tr>\n",
       "    <tr>\n",
       "      <th>9</th>\n",
       "      <td>2010</td>\n",
       "      <td>68.511250</td>\n",
       "    </tr>\n",
       "    <tr>\n",
       "      <th>10</th>\n",
       "      <td>2011</td>\n",
       "      <td>70.646250</td>\n",
       "    </tr>\n",
       "    <tr>\n",
       "      <th>11</th>\n",
       "      <td>2012</td>\n",
       "      <td>72.631250</td>\n",
       "    </tr>\n",
       "    <tr>\n",
       "      <th>12</th>\n",
       "      <td>2013</td>\n",
       "      <td>74.121875</td>\n",
       "    </tr>\n",
       "    <tr>\n",
       "      <th>13</th>\n",
       "      <td>2014</td>\n",
       "      <td>74.577344</td>\n",
       "    </tr>\n",
       "    <tr>\n",
       "      <th>14</th>\n",
       "      <td>2015</td>\n",
       "      <td>72.631250</td>\n",
       "    </tr>\n",
       "  </tbody>\n",
       "</table>\n",
       "</div>"
      ],
      "text/plain": [
       "    Cohort Year  Average % Grads\n",
       "4          2005        62.930534\n",
       "5          2006        64.653704\n",
       "6          2007        65.546875\n",
       "7          2008        64.581875\n",
       "8          2009        66.518125\n",
       "9          2010        68.511250\n",
       "10         2011        70.646250\n",
       "11         2012        72.631250\n",
       "12         2013        74.121875\n",
       "13         2014        74.577344\n",
       "14         2015        72.631250"
      ]
     },
     "execution_count": 277,
     "metadata": {},
     "output_type": "execute_result"
    }
   ],
   "source": [
    "avg_grad_per_year = grad_rates_filtered.groupby(\"Cohort Year\")[\"% Grads\"].mean().reset_index()\n",
    "avg_grad_per_year.columns = [\"Cohort Year\", \"Average % Grads\"]\n",
    "avg_grad_per_year = avg_grad_per_year.iloc[4:15]\n",
    "avg_grad_per_year"
   ]
  },
  {
   "cell_type": "markdown",
   "id": "b4164238-28df-4291-9733-b6d47cfa95bb",
   "metadata": {},
   "source": [
    "Now that we have the data we want in both dataframes, the next step is to merge them [they have the Cohort Year column in common]."
   ]
  },
  {
   "cell_type": "code",
   "execution_count": 291,
   "id": "54c2f141-08ca-4dda-844f-5a67d4204f0c",
   "metadata": {},
   "outputs": [
    {
     "data": {
      "text/html": [
       "<div>\n",
       "<style scoped>\n",
       "    .dataframe tbody tr th:only-of-type {\n",
       "        vertical-align: middle;\n",
       "    }\n",
       "\n",
       "    .dataframe tbody tr th {\n",
       "        vertical-align: top;\n",
       "    }\n",
       "\n",
       "    .dataframe thead th {\n",
       "        text-align: right;\n",
       "    }\n",
       "</style>\n",
       "<table border=\"1\" class=\"dataframe\">\n",
       "  <thead>\n",
       "    <tr style=\"text-align: right;\">\n",
       "      <th></th>\n",
       "      <th>Cohort Year</th>\n",
       "      <th>City Funds</th>\n",
       "      <th>Average % Grads</th>\n",
       "    </tr>\n",
       "  </thead>\n",
       "  <tbody>\n",
       "    <tr>\n",
       "      <th>0</th>\n",
       "      <td>2005</td>\n",
       "      <td>9571</td>\n",
       "      <td>62.930534</td>\n",
       "    </tr>\n",
       "    <tr>\n",
       "      <th>1</th>\n",
       "      <td>2006</td>\n",
       "      <td>10505</td>\n",
       "      <td>64.653704</td>\n",
       "    </tr>\n",
       "    <tr>\n",
       "      <th>2</th>\n",
       "      <td>2007</td>\n",
       "      <td>11218</td>\n",
       "      <td>65.546875</td>\n",
       "    </tr>\n",
       "    <tr>\n",
       "      <th>3</th>\n",
       "      <td>2008</td>\n",
       "      <td>11632</td>\n",
       "      <td>64.581875</td>\n",
       "    </tr>\n",
       "    <tr>\n",
       "      <th>4</th>\n",
       "      <td>2009</td>\n",
       "      <td>11967</td>\n",
       "      <td>66.518125</td>\n",
       "    </tr>\n",
       "    <tr>\n",
       "      <th>5</th>\n",
       "      <td>2010</td>\n",
       "      <td>11779</td>\n",
       "      <td>68.511250</td>\n",
       "    </tr>\n",
       "    <tr>\n",
       "      <th>6</th>\n",
       "      <td>2011</td>\n",
       "      <td>12106</td>\n",
       "      <td>70.646250</td>\n",
       "    </tr>\n",
       "    <tr>\n",
       "      <th>7</th>\n",
       "      <td>2012</td>\n",
       "      <td>13406</td>\n",
       "      <td>72.631250</td>\n",
       "    </tr>\n",
       "    <tr>\n",
       "      <th>8</th>\n",
       "      <td>2013</td>\n",
       "      <td>13292</td>\n",
       "      <td>74.121875</td>\n",
       "    </tr>\n",
       "    <tr>\n",
       "      <th>9</th>\n",
       "      <td>2014</td>\n",
       "      <td>13420</td>\n",
       "      <td>74.577344</td>\n",
       "    </tr>\n",
       "    <tr>\n",
       "      <th>10</th>\n",
       "      <td>2015</td>\n",
       "      <td>13445</td>\n",
       "      <td>72.631250</td>\n",
       "    </tr>\n",
       "  </tbody>\n",
       "</table>\n",
       "</div>"
      ],
      "text/plain": [
       "    Cohort Year  City Funds  Average % Grads\n",
       "0          2005        9571        62.930534\n",
       "1          2006       10505        64.653704\n",
       "2          2007       11218        65.546875\n",
       "3          2008       11632        64.581875\n",
       "4          2009       11967        66.518125\n",
       "5          2010       11779        68.511250\n",
       "6          2011       12106        70.646250\n",
       "7          2012       13406        72.631250\n",
       "8          2013       13292        74.121875\n",
       "9          2014       13420        74.577344\n",
       "10         2015       13445        72.631250"
      ]
     },
     "execution_count": 291,
     "metadata": {},
     "output_type": "execute_result"
    }
   ],
   "source": [
    "merged_data = pd.merge(school_spend_filtered,avg_grad_per_year,on=\"Cohort Year\", how=\"right\")\n",
    "\n",
    "merged_data"
   ]
  },
  {
   "cell_type": "markdown",
   "id": "c8365aa3-a384-4aaa-81f3-75859e686f16",
   "metadata": {},
   "source": [
    "Finally we can graph the 2 variables in the dataframe.\n",
    "I first tried a scatter plot as seen below."
   ]
  },
  {
   "cell_type": "code",
   "execution_count": 294,
   "id": "c2ad1982-64c0-45e7-af11-70f094134cbd",
   "metadata": {},
   "outputs": [
    {
     "data": {
      "application/vnd.plotly.v1+json": {
       "config": {
        "plotlyServerURL": "https://plot.ly"
       },
       "data": [
        {
         "hovertemplate": "City Funds ($)=%{x}<br>Average Graduation Percentage Across Districts=%{y}<extra></extra>",
         "legendgroup": "",
         "marker": {
          "color": "#636efa",
          "symbol": "circle"
         },
         "mode": "markers",
         "name": "",
         "orientation": "v",
         "showlegend": false,
         "type": "scatter",
         "x": [
          9571,
          10505,
          11218,
          11632,
          11967,
          11779,
          12106,
          13406,
          13292,
          13420,
          13445
         ],
         "xaxis": "x",
         "y": [
          62.930534351145035,
          64.6537037037037,
          65.546875,
          64.581875,
          66.518125,
          68.51124999999999,
          70.64625,
          72.63125,
          74.121875,
          74.57734375,
          72.63125
         ],
         "yaxis": "y"
        }
       ],
       "layout": {
        "autosize": true,
        "legend": {
         "tracegroupgap": 0
        },
        "template": {
         "data": {
          "bar": [
           {
            "error_x": {
             "color": "#2a3f5f"
            },
            "error_y": {
             "color": "#2a3f5f"
            },
            "marker": {
             "line": {
              "color": "#E5ECF6",
              "width": 0.5
             },
             "pattern": {
              "fillmode": "overlay",
              "size": 10,
              "solidity": 0.2
             }
            },
            "type": "bar"
           }
          ],
          "barpolar": [
           {
            "marker": {
             "line": {
              "color": "#E5ECF6",
              "width": 0.5
             },
             "pattern": {
              "fillmode": "overlay",
              "size": 10,
              "solidity": 0.2
             }
            },
            "type": "barpolar"
           }
          ],
          "carpet": [
           {
            "aaxis": {
             "endlinecolor": "#2a3f5f",
             "gridcolor": "white",
             "linecolor": "white",
             "minorgridcolor": "white",
             "startlinecolor": "#2a3f5f"
            },
            "baxis": {
             "endlinecolor": "#2a3f5f",
             "gridcolor": "white",
             "linecolor": "white",
             "minorgridcolor": "white",
             "startlinecolor": "#2a3f5f"
            },
            "type": "carpet"
           }
          ],
          "choropleth": [
           {
            "colorbar": {
             "outlinewidth": 0,
             "ticks": ""
            },
            "type": "choropleth"
           }
          ],
          "contour": [
           {
            "colorbar": {
             "outlinewidth": 0,
             "ticks": ""
            },
            "colorscale": [
             [
              0,
              "#0d0887"
             ],
             [
              0.1111111111111111,
              "#46039f"
             ],
             [
              0.2222222222222222,
              "#7201a8"
             ],
             [
              0.3333333333333333,
              "#9c179e"
             ],
             [
              0.4444444444444444,
              "#bd3786"
             ],
             [
              0.5555555555555556,
              "#d8576b"
             ],
             [
              0.6666666666666666,
              "#ed7953"
             ],
             [
              0.7777777777777778,
              "#fb9f3a"
             ],
             [
              0.8888888888888888,
              "#fdca26"
             ],
             [
              1,
              "#f0f921"
             ]
            ],
            "type": "contour"
           }
          ],
          "contourcarpet": [
           {
            "colorbar": {
             "outlinewidth": 0,
             "ticks": ""
            },
            "type": "contourcarpet"
           }
          ],
          "heatmap": [
           {
            "colorbar": {
             "outlinewidth": 0,
             "ticks": ""
            },
            "colorscale": [
             [
              0,
              "#0d0887"
             ],
             [
              0.1111111111111111,
              "#46039f"
             ],
             [
              0.2222222222222222,
              "#7201a8"
             ],
             [
              0.3333333333333333,
              "#9c179e"
             ],
             [
              0.4444444444444444,
              "#bd3786"
             ],
             [
              0.5555555555555556,
              "#d8576b"
             ],
             [
              0.6666666666666666,
              "#ed7953"
             ],
             [
              0.7777777777777778,
              "#fb9f3a"
             ],
             [
              0.8888888888888888,
              "#fdca26"
             ],
             [
              1,
              "#f0f921"
             ]
            ],
            "type": "heatmap"
           }
          ],
          "heatmapgl": [
           {
            "colorbar": {
             "outlinewidth": 0,
             "ticks": ""
            },
            "colorscale": [
             [
              0,
              "#0d0887"
             ],
             [
              0.1111111111111111,
              "#46039f"
             ],
             [
              0.2222222222222222,
              "#7201a8"
             ],
             [
              0.3333333333333333,
              "#9c179e"
             ],
             [
              0.4444444444444444,
              "#bd3786"
             ],
             [
              0.5555555555555556,
              "#d8576b"
             ],
             [
              0.6666666666666666,
              "#ed7953"
             ],
             [
              0.7777777777777778,
              "#fb9f3a"
             ],
             [
              0.8888888888888888,
              "#fdca26"
             ],
             [
              1,
              "#f0f921"
             ]
            ],
            "type": "heatmapgl"
           }
          ],
          "histogram": [
           {
            "marker": {
             "pattern": {
              "fillmode": "overlay",
              "size": 10,
              "solidity": 0.2
             }
            },
            "type": "histogram"
           }
          ],
          "histogram2d": [
           {
            "colorbar": {
             "outlinewidth": 0,
             "ticks": ""
            },
            "colorscale": [
             [
              0,
              "#0d0887"
             ],
             [
              0.1111111111111111,
              "#46039f"
             ],
             [
              0.2222222222222222,
              "#7201a8"
             ],
             [
              0.3333333333333333,
              "#9c179e"
             ],
             [
              0.4444444444444444,
              "#bd3786"
             ],
             [
              0.5555555555555556,
              "#d8576b"
             ],
             [
              0.6666666666666666,
              "#ed7953"
             ],
             [
              0.7777777777777778,
              "#fb9f3a"
             ],
             [
              0.8888888888888888,
              "#fdca26"
             ],
             [
              1,
              "#f0f921"
             ]
            ],
            "type": "histogram2d"
           }
          ],
          "histogram2dcontour": [
           {
            "colorbar": {
             "outlinewidth": 0,
             "ticks": ""
            },
            "colorscale": [
             [
              0,
              "#0d0887"
             ],
             [
              0.1111111111111111,
              "#46039f"
             ],
             [
              0.2222222222222222,
              "#7201a8"
             ],
             [
              0.3333333333333333,
              "#9c179e"
             ],
             [
              0.4444444444444444,
              "#bd3786"
             ],
             [
              0.5555555555555556,
              "#d8576b"
             ],
             [
              0.6666666666666666,
              "#ed7953"
             ],
             [
              0.7777777777777778,
              "#fb9f3a"
             ],
             [
              0.8888888888888888,
              "#fdca26"
             ],
             [
              1,
              "#f0f921"
             ]
            ],
            "type": "histogram2dcontour"
           }
          ],
          "mesh3d": [
           {
            "colorbar": {
             "outlinewidth": 0,
             "ticks": ""
            },
            "type": "mesh3d"
           }
          ],
          "parcoords": [
           {
            "line": {
             "colorbar": {
              "outlinewidth": 0,
              "ticks": ""
             }
            },
            "type": "parcoords"
           }
          ],
          "pie": [
           {
            "automargin": true,
            "type": "pie"
           }
          ],
          "scatter": [
           {
            "fillpattern": {
             "fillmode": "overlay",
             "size": 10,
             "solidity": 0.2
            },
            "type": "scatter"
           }
          ],
          "scatter3d": [
           {
            "line": {
             "colorbar": {
              "outlinewidth": 0,
              "ticks": ""
             }
            },
            "marker": {
             "colorbar": {
              "outlinewidth": 0,
              "ticks": ""
             }
            },
            "type": "scatter3d"
           }
          ],
          "scattercarpet": [
           {
            "marker": {
             "colorbar": {
              "outlinewidth": 0,
              "ticks": ""
             }
            },
            "type": "scattercarpet"
           }
          ],
          "scattergeo": [
           {
            "marker": {
             "colorbar": {
              "outlinewidth": 0,
              "ticks": ""
             }
            },
            "type": "scattergeo"
           }
          ],
          "scattergl": [
           {
            "marker": {
             "colorbar": {
              "outlinewidth": 0,
              "ticks": ""
             }
            },
            "type": "scattergl"
           }
          ],
          "scattermapbox": [
           {
            "marker": {
             "colorbar": {
              "outlinewidth": 0,
              "ticks": ""
             }
            },
            "type": "scattermapbox"
           }
          ],
          "scatterpolar": [
           {
            "marker": {
             "colorbar": {
              "outlinewidth": 0,
              "ticks": ""
             }
            },
            "type": "scatterpolar"
           }
          ],
          "scatterpolargl": [
           {
            "marker": {
             "colorbar": {
              "outlinewidth": 0,
              "ticks": ""
             }
            },
            "type": "scatterpolargl"
           }
          ],
          "scatterternary": [
           {
            "marker": {
             "colorbar": {
              "outlinewidth": 0,
              "ticks": ""
             }
            },
            "type": "scatterternary"
           }
          ],
          "surface": [
           {
            "colorbar": {
             "outlinewidth": 0,
             "ticks": ""
            },
            "colorscale": [
             [
              0,
              "#0d0887"
             ],
             [
              0.1111111111111111,
              "#46039f"
             ],
             [
              0.2222222222222222,
              "#7201a8"
             ],
             [
              0.3333333333333333,
              "#9c179e"
             ],
             [
              0.4444444444444444,
              "#bd3786"
             ],
             [
              0.5555555555555556,
              "#d8576b"
             ],
             [
              0.6666666666666666,
              "#ed7953"
             ],
             [
              0.7777777777777778,
              "#fb9f3a"
             ],
             [
              0.8888888888888888,
              "#fdca26"
             ],
             [
              1,
              "#f0f921"
             ]
            ],
            "type": "surface"
           }
          ],
          "table": [
           {
            "cells": {
             "fill": {
              "color": "#EBF0F8"
             },
             "line": {
              "color": "white"
             }
            },
            "header": {
             "fill": {
              "color": "#C8D4E3"
             },
             "line": {
              "color": "white"
             }
            },
            "type": "table"
           }
          ]
         },
         "layout": {
          "annotationdefaults": {
           "arrowcolor": "#2a3f5f",
           "arrowhead": 0,
           "arrowwidth": 1
          },
          "autotypenumbers": "strict",
          "coloraxis": {
           "colorbar": {
            "outlinewidth": 0,
            "ticks": ""
           }
          },
          "colorscale": {
           "diverging": [
            [
             0,
             "#8e0152"
            ],
            [
             0.1,
             "#c51b7d"
            ],
            [
             0.2,
             "#de77ae"
            ],
            [
             0.3,
             "#f1b6da"
            ],
            [
             0.4,
             "#fde0ef"
            ],
            [
             0.5,
             "#f7f7f7"
            ],
            [
             0.6,
             "#e6f5d0"
            ],
            [
             0.7,
             "#b8e186"
            ],
            [
             0.8,
             "#7fbc41"
            ],
            [
             0.9,
             "#4d9221"
            ],
            [
             1,
             "#276419"
            ]
           ],
           "sequential": [
            [
             0,
             "#0d0887"
            ],
            [
             0.1111111111111111,
             "#46039f"
            ],
            [
             0.2222222222222222,
             "#7201a8"
            ],
            [
             0.3333333333333333,
             "#9c179e"
            ],
            [
             0.4444444444444444,
             "#bd3786"
            ],
            [
             0.5555555555555556,
             "#d8576b"
            ],
            [
             0.6666666666666666,
             "#ed7953"
            ],
            [
             0.7777777777777778,
             "#fb9f3a"
            ],
            [
             0.8888888888888888,
             "#fdca26"
            ],
            [
             1,
             "#f0f921"
            ]
           ],
           "sequentialminus": [
            [
             0,
             "#0d0887"
            ],
            [
             0.1111111111111111,
             "#46039f"
            ],
            [
             0.2222222222222222,
             "#7201a8"
            ],
            [
             0.3333333333333333,
             "#9c179e"
            ],
            [
             0.4444444444444444,
             "#bd3786"
            ],
            [
             0.5555555555555556,
             "#d8576b"
            ],
            [
             0.6666666666666666,
             "#ed7953"
            ],
            [
             0.7777777777777778,
             "#fb9f3a"
            ],
            [
             0.8888888888888888,
             "#fdca26"
            ],
            [
             1,
             "#f0f921"
            ]
           ]
          },
          "colorway": [
           "#636efa",
           "#EF553B",
           "#00cc96",
           "#ab63fa",
           "#FFA15A",
           "#19d3f3",
           "#FF6692",
           "#B6E880",
           "#FF97FF",
           "#FECB52"
          ],
          "font": {
           "color": "#2a3f5f"
          },
          "geo": {
           "bgcolor": "white",
           "lakecolor": "white",
           "landcolor": "#E5ECF6",
           "showlakes": true,
           "showland": true,
           "subunitcolor": "white"
          },
          "hoverlabel": {
           "align": "left"
          },
          "hovermode": "closest",
          "mapbox": {
           "style": "light"
          },
          "paper_bgcolor": "white",
          "plot_bgcolor": "#E5ECF6",
          "polar": {
           "angularaxis": {
            "gridcolor": "white",
            "linecolor": "white",
            "ticks": ""
           },
           "bgcolor": "#E5ECF6",
           "radialaxis": {
            "gridcolor": "white",
            "linecolor": "white",
            "ticks": ""
           }
          },
          "scene": {
           "xaxis": {
            "backgroundcolor": "#E5ECF6",
            "gridcolor": "white",
            "gridwidth": 2,
            "linecolor": "white",
            "showbackground": true,
            "ticks": "",
            "zerolinecolor": "white"
           },
           "yaxis": {
            "backgroundcolor": "#E5ECF6",
            "gridcolor": "white",
            "gridwidth": 2,
            "linecolor": "white",
            "showbackground": true,
            "ticks": "",
            "zerolinecolor": "white"
           },
           "zaxis": {
            "backgroundcolor": "#E5ECF6",
            "gridcolor": "white",
            "gridwidth": 2,
            "linecolor": "white",
            "showbackground": true,
            "ticks": "",
            "zerolinecolor": "white"
           }
          },
          "shapedefaults": {
           "line": {
            "color": "#2a3f5f"
           }
          },
          "ternary": {
           "aaxis": {
            "gridcolor": "white",
            "linecolor": "white",
            "ticks": ""
           },
           "baxis": {
            "gridcolor": "white",
            "linecolor": "white",
            "ticks": ""
           },
           "bgcolor": "#E5ECF6",
           "caxis": {
            "gridcolor": "white",
            "linecolor": "white",
            "ticks": ""
           }
          },
          "title": {
           "x": 0.05
          },
          "xaxis": {
           "automargin": true,
           "gridcolor": "white",
           "linecolor": "white",
           "ticks": "",
           "title": {
            "standoff": 15
           },
           "zerolinecolor": "white",
           "zerolinewidth": 2
          },
          "yaxis": {
           "automargin": true,
           "gridcolor": "white",
           "linecolor": "white",
           "ticks": "",
           "title": {
            "standoff": 15
           },
           "zerolinecolor": "white",
           "zerolinewidth": 2
          }
         }
        },
        "title": {
         "text": "Funds vs. % Graduation"
        },
        "xaxis": {
         "anchor": "y",
         "autorange": true,
         "domain": [
          0,
          1
         ],
         "range": [
          9336.89200889201,
          13679.10799110799
         ],
         "title": {
          "text": "City Funds ($)"
         },
         "type": "linear"
        },
        "yaxis": {
         "anchor": "x",
         "autorange": true,
         "domain": [
          0,
          1
         ],
         "range": [
          61.96938988619098,
          75.53848821495404
         ],
         "title": {
          "text": "Average Graduation Percentage Across Districts"
         },
         "type": "linear"
        }
       }
      },
      "image/png": "[encoded data removed]",
      "text/html": [
       "<div>                            <div id=\"189bfcf3-e155-411b-b48b-0056f8cf2c05\" class=\"plotly-graph-div\" style=\"height:525px; width:100%;\"></div>            <script type=\"text/javascript\">                require([\"plotly\"], function(Plotly) {                    window.PLOTLYENV=window.PLOTLYENV || {};                                    if (document.getElementById(\"189bfcf3-e155-411b-b48b-0056f8cf2c05\")) {                    Plotly.newPlot(                        \"189bfcf3-e155-411b-b48b-0056f8cf2c05\",                        [{\"hovertemplate\":\"City Funds ($)=%{x}\\u003cbr\\u003eAverage Graduation Percentage Across Districts=%{y}\\u003cextra\\u003e\\u003c\\u002fextra\\u003e\",\"legendgroup\":\"\",\"marker\":{\"color\":\"#636efa\",\"symbol\":\"circle\"},\"mode\":\"markers\",\"name\":\"\",\"orientation\":\"v\",\"showlegend\":false,\"x\":[9571,10505,11218,11632,11967,11779,12106,13406,13292,13420,13445],\"xaxis\":\"x\",\"y\":[62.930534351145035,64.6537037037037,65.546875,64.581875,66.518125,68.51124999999999,70.64625,72.63125,74.121875,74.57734375,72.63125],\"yaxis\":\"y\",\"type\":\"scatter\"}],                        {\"template\":{\"data\":{\"histogram2dcontour\":[{\"type\":\"histogram2dcontour\",\"colorbar\":{\"outlinewidth\":0,\"ticks\":\"\"},\"colorscale\":[[0.0,\"#0d0887\"],[0.1111111111111111,\"#46039f\"],[0.2222222222222222,\"#7201a8\"],[0.3333333333333333,\"#9c179e\"],[0.4444444444444444,\"#bd3786\"],[0.5555555555555556,\"#d8576b\"],[0.6666666666666666,\"#ed7953\"],[0.7777777777777778,\"#fb9f3a\"],[0.8888888888888888,\"#fdca26\"],[1.0,\"#f0f921\"]]}],\"choropleth\":[{\"type\":\"choropleth\",\"colorbar\":{\"outlinewidth\":0,\"ticks\":\"\"}}],\"histogram2d\":[{\"type\":\"histogram2d\",\"colorbar\":{\"outlinewidth\":0,\"ticks\":\"\"},\"colorscale\":[[0.0,\"#0d0887\"],[0.1111111111111111,\"#46039f\"],[0.2222222222222222,\"#7201a8\"],[0.3333333333333333,\"#9c179e\"],[0.4444444444444444,\"#bd3786\"],[0.5555555555555556,\"#d8576b\"],[0.6666666666666666,\"#ed7953\"],[0.7777777777777778,\"#fb9f3a\"],[0.8888888888888888,\"#fdca26\"],[1.0,\"#f0f921\"]]}],\"heatmap\":[{\"type\":\"heatmap\",\"colorbar\":{\"outlinewidth\":0,\"ticks\":\"\"},\"colorscale\":[[0.0,\"#0d0887\"],[0.1111111111111111,\"#46039f\"],[0.2222222222222222,\"#7201a8\"],[0.3333333333333333,\"#9c179e\"],[0.4444444444444444,\"#bd3786\"],[0.5555555555555556,\"#d8576b\"],[0.6666666666666666,\"#ed7953\"],[0.7777777777777778,\"#fb9f3a\"],[0.8888888888888888,\"#fdca26\"],[1.0,\"#f0f921\"]]}],\"heatmapgl\":[{\"type\":\"heatmapgl\",\"colorbar\":{\"outlinewidth\":0,\"ticks\":\"\"},\"colorscale\":[[0.0,\"#0d0887\"],[0.1111111111111111,\"#46039f\"],[0.2222222222222222,\"#7201a8\"],[0.3333333333333333,\"#9c179e\"],[0.4444444444444444,\"#bd3786\"],[0.5555555555555556,\"#d8576b\"],[0.6666666666666666,\"#ed7953\"],[0.7777777777777778,\"#fb9f3a\"],[0.8888888888888888,\"#fdca26\"],[1.0,\"#f0f921\"]]}],\"contourcarpet\":[{\"type\":\"contourcarpet\",\"colorbar\":{\"outlinewidth\":0,\"ticks\":\"\"}}],\"contour\":[{\"type\":\"contour\",\"colorbar\":{\"outlinewidth\":0,\"ticks\":\"\"},\"colorscale\":[[0.0,\"#0d0887\"],[0.1111111111111111,\"#46039f\"],[0.2222222222222222,\"#7201a8\"],[0.3333333333333333,\"#9c179e\"],[0.4444444444444444,\"#bd3786\"],[0.5555555555555556,\"#d8576b\"],[0.6666666666666666,\"#ed7953\"],[0.7777777777777778,\"#fb9f3a\"],[0.8888888888888888,\"#fdca26\"],[1.0,\"#f0f921\"]]}],\"surface\":[{\"type\":\"surface\",\"colorbar\":{\"outlinewidth\":0,\"ticks\":\"\"},\"colorscale\":[[0.0,\"#0d0887\"],[0.1111111111111111,\"#46039f\"],[0.2222222222222222,\"#7201a8\"],[0.3333333333333333,\"#9c179e\"],[0.4444444444444444,\"#bd3786\"],[0.5555555555555556,\"#d8576b\"],[0.6666666666666666,\"#ed7953\"],[0.7777777777777778,\"#fb9f3a\"],[0.8888888888888888,\"#fdca26\"],[1.0,\"#f0f921\"]]}],\"mesh3d\":[{\"type\":\"mesh3d\",\"colorbar\":{\"outlinewidth\":0,\"ticks\":\"\"}}],\"scatter\":[{\"fillpattern\":{\"fillmode\":\"overlay\",\"size\":10,\"solidity\":0.2},\"type\":\"scatter\"}],\"parcoords\":[{\"type\":\"parcoords\",\"line\":{\"colorbar\":{\"outlinewidth\":0,\"ticks\":\"\"}}}],\"scatterpolargl\":[{\"type\":\"scatterpolargl\",\"marker\":{\"colorbar\":{\"outlinewidth\":0,\"ticks\":\"\"}}}],\"bar\":[{\"error_x\":{\"color\":\"#2a3f5f\"},\"error_y\":{\"color\":\"#2a3f5f\"},\"marker\":{\"line\":{\"color\":\"#E5ECF6\",\"width\":0.5},\"pattern\":{\"fillmode\":\"overlay\",\"size\":10,\"solidity\":0.2}},\"type\":\"bar\"}],\"scattergeo\":[{\"type\":\"scattergeo\",\"marker\":{\"colorbar\":{\"outlinewidth\":0,\"ticks\":\"\"}}}],\"scatterpolar\":[{\"type\":\"scatterpolar\",\"marker\":{\"colorbar\":{\"outlinewidth\":0,\"ticks\":\"\"}}}],\"histogram\":[{\"marker\":{\"pattern\":{\"fillmode\":\"overlay\",\"size\":10,\"solidity\":0.2}},\"type\":\"histogram\"}],\"scattergl\":[{\"type\":\"scattergl\",\"marker\":{\"colorbar\":{\"outlinewidth\":0,\"ticks\":\"\"}}}],\"scatter3d\":[{\"type\":\"scatter3d\",\"line\":{\"colorbar\":{\"outlinewidth\":0,\"ticks\":\"\"}},\"marker\":{\"colorbar\":{\"outlinewidth\":0,\"ticks\":\"\"}}}],\"scattermapbox\":[{\"type\":\"scattermapbox\",\"marker\":{\"colorbar\":{\"outlinewidth\":0,\"ticks\":\"\"}}}],\"scatterternary\":[{\"type\":\"scatterternary\",\"marker\":{\"colorbar\":{\"outlinewidth\":0,\"ticks\":\"\"}}}],\"scattercarpet\":[{\"type\":\"scattercarpet\",\"marker\":{\"colorbar\":{\"outlinewidth\":0,\"ticks\":\"\"}}}],\"carpet\":[{\"aaxis\":{\"endlinecolor\":\"#2a3f5f\",\"gridcolor\":\"white\",\"linecolor\":\"white\",\"minorgridcolor\":\"white\",\"startlinecolor\":\"#2a3f5f\"},\"baxis\":{\"endlinecolor\":\"#2a3f5f\",\"gridcolor\":\"white\",\"linecolor\":\"white\",\"minorgridcolor\":\"white\",\"startlinecolor\":\"#2a3f5f\"},\"type\":\"carpet\"}],\"table\":[{\"cells\":{\"fill\":{\"color\":\"#EBF0F8\"},\"line\":{\"color\":\"white\"}},\"header\":{\"fill\":{\"color\":\"#C8D4E3\"},\"line\":{\"color\":\"white\"}},\"type\":\"table\"}],\"barpolar\":[{\"marker\":{\"line\":{\"color\":\"#E5ECF6\",\"width\":0.5},\"pattern\":{\"fillmode\":\"overlay\",\"size\":10,\"solidity\":0.2}},\"type\":\"barpolar\"}],\"pie\":[{\"automargin\":true,\"type\":\"pie\"}]},\"layout\":{\"autotypenumbers\":\"strict\",\"colorway\":[\"#636efa\",\"#EF553B\",\"#00cc96\",\"#ab63fa\",\"#FFA15A\",\"#19d3f3\",\"#FF6692\",\"#B6E880\",\"#FF97FF\",\"#FECB52\"],\"font\":{\"color\":\"#2a3f5f\"},\"hovermode\":\"closest\",\"hoverlabel\":{\"align\":\"left\"},\"paper_bgcolor\":\"white\",\"plot_bgcolor\":\"#E5ECF6\",\"polar\":{\"bgcolor\":\"#E5ECF6\",\"angularaxis\":{\"gridcolor\":\"white\",\"linecolor\":\"white\",\"ticks\":\"\"},\"radialaxis\":{\"gridcolor\":\"white\",\"linecolor\":\"white\",\"ticks\":\"\"}},\"ternary\":{\"bgcolor\":\"#E5ECF6\",\"aaxis\":{\"gridcolor\":\"white\",\"linecolor\":\"white\",\"ticks\":\"\"},\"baxis\":{\"gridcolor\":\"white\",\"linecolor\":\"white\",\"ticks\":\"\"},\"caxis\":{\"gridcolor\":\"white\",\"linecolor\":\"white\",\"ticks\":\"\"}},\"coloraxis\":{\"colorbar\":{\"outlinewidth\":0,\"ticks\":\"\"}},\"colorscale\":{\"sequential\":[[0.0,\"#0d0887\"],[0.1111111111111111,\"#46039f\"],[0.2222222222222222,\"#7201a8\"],[0.3333333333333333,\"#9c179e\"],[0.4444444444444444,\"#bd3786\"],[0.5555555555555556,\"#d8576b\"],[0.6666666666666666,\"#ed7953\"],[0.7777777777777778,\"#fb9f3a\"],[0.8888888888888888,\"#fdca26\"],[1.0,\"#f0f921\"]],\"sequentialminus\":[[0.0,\"#0d0887\"],[0.1111111111111111,\"#46039f\"],[0.2222222222222222,\"#7201a8\"],[0.3333333333333333,\"#9c179e\"],[0.4444444444444444,\"#bd3786\"],[0.5555555555555556,\"#d8576b\"],[0.6666666666666666,\"#ed7953\"],[0.7777777777777778,\"#fb9f3a\"],[0.8888888888888888,\"#fdca26\"],[1.0,\"#f0f921\"]],\"diverging\":[[0,\"#8e0152\"],[0.1,\"#c51b7d\"],[0.2,\"#de77ae\"],[0.3,\"#f1b6da\"],[0.4,\"#fde0ef\"],[0.5,\"#f7f7f7\"],[0.6,\"#e6f5d0\"],[0.7,\"#b8e186\"],[0.8,\"#7fbc41\"],[0.9,\"#4d9221\"],[1,\"#276419\"]]},\"xaxis\":{\"gridcolor\":\"white\",\"linecolor\":\"white\",\"ticks\":\"\",\"title\":{\"standoff\":15},\"zerolinecolor\":\"white\",\"automargin\":true,\"zerolinewidth\":2},\"yaxis\":{\"gridcolor\":\"white\",\"linecolor\":\"white\",\"ticks\":\"\",\"title\":{\"standoff\":15},\"zerolinecolor\":\"white\",\"automargin\":true,\"zerolinewidth\":2},\"scene\":{\"xaxis\":{\"backgroundcolor\":\"#E5ECF6\",\"gridcolor\":\"white\",\"linecolor\":\"white\",\"showbackground\":true,\"ticks\":\"\",\"zerolinecolor\":\"white\",\"gridwidth\":2},\"yaxis\":{\"backgroundcolor\":\"#E5ECF6\",\"gridcolor\":\"white\",\"linecolor\":\"white\",\"showbackground\":true,\"ticks\":\"\",\"zerolinecolor\":\"white\",\"gridwidth\":2},\"zaxis\":{\"backgroundcolor\":\"#E5ECF6\",\"gridcolor\":\"white\",\"linecolor\":\"white\",\"showbackground\":true,\"ticks\":\"\",\"zerolinecolor\":\"white\",\"gridwidth\":2}},\"shapedefaults\":{\"line\":{\"color\":\"#2a3f5f\"}},\"annotationdefaults\":{\"arrowcolor\":\"#2a3f5f\",\"arrowhead\":0,\"arrowwidth\":1},\"geo\":{\"bgcolor\":\"white\",\"landcolor\":\"#E5ECF6\",\"subunitcolor\":\"white\",\"showland\":true,\"showlakes\":true,\"lakecolor\":\"white\"},\"title\":{\"x\":0.05},\"mapbox\":{\"style\":\"light\"}}},\"xaxis\":{\"anchor\":\"y\",\"domain\":[0.0,1.0],\"title\":{\"text\":\"City Funds ($)\"}},\"yaxis\":{\"anchor\":\"x\",\"domain\":[0.0,1.0],\"title\":{\"text\":\"Average Graduation Percentage Across Districts\"}},\"legend\":{\"tracegroupgap\":0},\"title\":{\"text\":\"Funds vs. % Graduation\"}},                        {\"responsive\": true}                    ).then(function(){\n",
       "                            \n",
       "var gd = document.getElementById('189bfcf3-e155-411b-b48b-0056f8cf2c05');\n",
       "var x = new MutationObserver(function (mutations, observer) {{\n",
       "        var display = window.getComputedStyle(gd).display;\n",
       "        if (!display || display === 'none') {{\n",
       "            console.log([gd, 'removed!']);\n",
       "            Plotly.purge(gd);\n",
       "            observer.disconnect();\n",
       "        }}\n",
       "}});\n",
       "\n",
       "// Listen for the removal of the full notebook cells\n",
       "var notebookContainer = gd.closest('#notebook-container');\n",
       "if (notebookContainer) {{\n",
       "    x.observe(notebookContainer, {childList: true});\n",
       "}}\n",
       "\n",
       "// Listen for the clearing of the current output cell\n",
       "var outputEl = gd.closest('.output');\n",
       "if (outputEl) {{\n",
       "    x.observe(outputEl, {childList: true});\n",
       "}}\n",
       "\n",
       "                        })                };                });            </script>        </div>"
      ]
     },
     "metadata": {},
     "output_type": "display_data"
    }
   ],
   "source": [
    "import plotly.express as px\n",
    "\n",
    "fig = px.scatter(\n",
    "    merged_data,\n",
    "    x='City Funds',\n",
    "    y='Average % Grads',\n",
    "    title='Funds vs. % Graduation',\n",
    "    labels={'City Funds': 'City Funds ($)', 'Average % Grads': 'Average Graduation Percentage Across Districts'}\n",
    ")\n",
    "\n",
    "fig.show()"
   ]
  },
  {
   "cell_type": "markdown",
   "id": "fe2b15a6-9d68-4af6-ae2e-6ea5bf97a62d",
   "metadata": {},
   "source": [
    "Since each datapoint represents a year, the scatter plot does not allow us to see the trend over time. So I decided to convert it to a bar chart with 2 axes instead - which requires graph objects."
   ]
  },
  {
   "cell_type": "code",
   "execution_count": 330,
   "id": "6763c18a-4963-4fee-a0f8-1b02b199efc4",
   "metadata": {},
   "outputs": [
    {
     "data": {
      "application/vnd.plotly.v1+json": {
       "config": {
        "plotlyServerURL": "https://plot.ly"
       },
       "data": [
        {
         "name": "City Funds (Real per pupil spending (2017 dollars)",
         "type": "bar",
         "x": [
          2005,
          2006,
          2007,
          2008,
          2009,
          2010,
          2011,
          2012,
          2013,
          2014,
          2015
         ],
         "xaxis": "x",
         "y": [
          9571,
          10505,
          11218,
          11632,
          11967,
          11779,
          12106,
          13406,
          13292,
          13420,
          13445
         ],
         "yaxis": "y"
        },
        {
         "name": "Average Graduation %",
         "type": "scatter",
         "x": [
          2005,
          2006,
          2007,
          2008,
          2009,
          2010,
          2011,
          2012,
          2013,
          2014,
          2015
         ],
         "xaxis": "x",
         "y": [
          62.930534351145035,
          64.6537037037037,
          65.546875,
          64.581875,
          66.518125,
          68.51124999999999,
          70.64625,
          72.63125,
          74.121875,
          74.57734375,
          72.63125
         ],
         "yaxis": "y2"
        }
       ],
       "layout": {
        "autosize": true,
        "template": {
         "data": {
          "bar": [
           {
            "error_x": {
             "color": "#2a3f5f"
            },
            "error_y": {
             "color": "#2a3f5f"
            },
            "marker": {
             "line": {
              "color": "#E5ECF6",
              "width": 0.5
             },
             "pattern": {
              "fillmode": "overlay",
              "size": 10,
              "solidity": 0.2
             }
            },
            "type": "bar"
           }
          ],
          "barpolar": [
           {
            "marker": {
             "line": {
              "color": "#E5ECF6",
              "width": 0.5
             },
             "pattern": {
              "fillmode": "overlay",
              "size": 10,
              "solidity": 0.2
             }
            },
            "type": "barpolar"
           }
          ],
          "carpet": [
           {
            "aaxis": {
             "endlinecolor": "#2a3f5f",
             "gridcolor": "white",
             "linecolor": "white",
             "minorgridcolor": "white",
             "startlinecolor": "#2a3f5f"
            },
            "baxis": {
             "endlinecolor": "#2a3f5f",
             "gridcolor": "white",
             "linecolor": "white",
             "minorgridcolor": "white",
             "startlinecolor": "#2a3f5f"
            },
            "type": "carpet"
           }
          ],
          "choropleth": [
           {
            "colorbar": {
             "outlinewidth": 0,
             "ticks": ""
            },
            "type": "choropleth"
           }
          ],
          "contour": [
           {
            "colorbar": {
             "outlinewidth": 0,
             "ticks": ""
            },
            "colorscale": [
             [
              0,
              "#0d0887"
             ],
             [
              0.1111111111111111,
              "#46039f"
             ],
             [
              0.2222222222222222,
              "#7201a8"
             ],
             [
              0.3333333333333333,
              "#9c179e"
             ],
             [
              0.4444444444444444,
              "#bd3786"
             ],
             [
              0.5555555555555556,
              "#d8576b"
             ],
             [
              0.6666666666666666,
              "#ed7953"
             ],
             [
              0.7777777777777778,
              "#fb9f3a"
             ],
             [
              0.8888888888888888,
              "#fdca26"
             ],
             [
              1,
              "#f0f921"
             ]
            ],
            "type": "contour"
           }
          ],
          "contourcarpet": [
           {
            "colorbar": {
             "outlinewidth": 0,
             "ticks": ""
            },
            "type": "contourcarpet"
           }
          ],
          "heatmap": [
           {
            "colorbar": {
             "outlinewidth": 0,
             "ticks": ""
            },
            "colorscale": [
             [
              0,
              "#0d0887"
             ],
             [
              0.1111111111111111,
              "#46039f"
             ],
             [
              0.2222222222222222,
              "#7201a8"
             ],
             [
              0.3333333333333333,
              "#9c179e"
             ],
             [
              0.4444444444444444,
              "#bd3786"
             ],
             [
              0.5555555555555556,
              "#d8576b"
             ],
             [
              0.6666666666666666,
              "#ed7953"
             ],
             [
              0.7777777777777778,
              "#fb9f3a"
             ],
             [
              0.8888888888888888,
              "#fdca26"
             ],
             [
              1,
              "#f0f921"
             ]
            ],
            "type": "heatmap"
           }
          ],
          "heatmapgl": [
           {
            "colorbar": {
             "outlinewidth": 0,
             "ticks": ""
            },
            "colorscale": [
             [
              0,
              "#0d0887"
             ],
             [
              0.1111111111111111,
              "#46039f"
             ],
             [
              0.2222222222222222,
              "#7201a8"
             ],
             [
              0.3333333333333333,
              "#9c179e"
             ],
             [
              0.4444444444444444,
              "#bd3786"
             ],
             [
              0.5555555555555556,
              "#d8576b"
             ],
             [
              0.6666666666666666,
              "#ed7953"
             ],
             [
              0.7777777777777778,
              "#fb9f3a"
             ],
             [
              0.8888888888888888,
              "#fdca26"
             ],
             [
              1,
              "#f0f921"
             ]
            ],
            "type": "heatmapgl"
           }
          ],
          "histogram": [
           {
            "marker": {
             "pattern": {
              "fillmode": "overlay",
              "size": 10,
              "solidity": 0.2
             }
            },
            "type": "histogram"
           }
          ],
          "histogram2d": [
           {
            "colorbar": {
             "outlinewidth": 0,
             "ticks": ""
            },
            "colorscale": [
             [
              0,
              "#0d0887"
             ],
             [
              0.1111111111111111,
              "#46039f"
             ],
             [
              0.2222222222222222,
              "#7201a8"
             ],
             [
              0.3333333333333333,
              "#9c179e"
             ],
             [
              0.4444444444444444,
              "#bd3786"
             ],
             [
              0.5555555555555556,
              "#d8576b"
             ],
             [
              0.6666666666666666,
              "#ed7953"
             ],
             [
              0.7777777777777778,
              "#fb9f3a"
             ],
             [
              0.8888888888888888,
              "#fdca26"
             ],
             [
              1,
              "#f0f921"
             ]
            ],
            "type": "histogram2d"
           }
          ],
          "histogram2dcontour": [
           {
            "colorbar": {
             "outlinewidth": 0,
             "ticks": ""
            },
            "colorscale": [
             [
              0,
              "#0d0887"
             ],
             [
              0.1111111111111111,
              "#46039f"
             ],
             [
              0.2222222222222222,
              "#7201a8"
             ],
             [
              0.3333333333333333,
              "#9c179e"
             ],
             [
              0.4444444444444444,
              "#bd3786"
             ],
             [
              0.5555555555555556,
              "#d8576b"
             ],
             [
              0.6666666666666666,
              "#ed7953"
             ],
             [
              0.7777777777777778,
              "#fb9f3a"
             ],
             [
              0.8888888888888888,
              "#fdca26"
             ],
             [
              1,
              "#f0f921"
             ]
            ],
            "type": "histogram2dcontour"
           }
          ],
          "mesh3d": [
           {
            "colorbar": {
             "outlinewidth": 0,
             "ticks": ""
            },
            "type": "mesh3d"
           }
          ],
          "parcoords": [
           {
            "line": {
             "colorbar": {
              "outlinewidth": 0,
              "ticks": ""
             }
            },
            "type": "parcoords"
           }
          ],
          "pie": [
           {
            "automargin": true,
            "type": "pie"
           }
          ],
          "scatter": [
           {
            "fillpattern": {
             "fillmode": "overlay",
             "size": 10,
             "solidity": 0.2
            },
            "type": "scatter"
           }
          ],
          "scatter3d": [
           {
            "line": {
             "colorbar": {
              "outlinewidth": 0,
              "ticks": ""
             }
            },
            "marker": {
             "colorbar": {
              "outlinewidth": 0,
              "ticks": ""
             }
            },
            "type": "scatter3d"
           }
          ],
          "scattercarpet": [
           {
            "marker": {
             "colorbar": {
              "outlinewidth": 0,
              "ticks": ""
             }
            },
            "type": "scattercarpet"
           }
          ],
          "scattergeo": [
           {
            "marker": {
             "colorbar": {
              "outlinewidth": 0,
              "ticks": ""
             }
            },
            "type": "scattergeo"
           }
          ],
          "scattergl": [
           {
            "marker": {
             "colorbar": {
              "outlinewidth": 0,
              "ticks": ""
             }
            },
            "type": "scattergl"
           }
          ],
          "scattermapbox": [
           {
            "marker": {
             "colorbar": {
              "outlinewidth": 0,
              "ticks": ""
             }
            },
            "type": "scattermapbox"
           }
          ],
          "scatterpolar": [
           {
            "marker": {
             "colorbar": {
              "outlinewidth": 0,
              "ticks": ""
             }
            },
            "type": "scatterpolar"
           }
          ],
          "scatterpolargl": [
           {
            "marker": {
             "colorbar": {
              "outlinewidth": 0,
              "ticks": ""
             }
            },
            "type": "scatterpolargl"
           }
          ],
          "scatterternary": [
           {
            "marker": {
             "colorbar": {
              "outlinewidth": 0,
              "ticks": ""
             }
            },
            "type": "scatterternary"
           }
          ],
          "surface": [
           {
            "colorbar": {
             "outlinewidth": 0,
             "ticks": ""
            },
            "colorscale": [
             [
              0,
              "#0d0887"
             ],
             [
              0.1111111111111111,
              "#46039f"
             ],
             [
              0.2222222222222222,
              "#7201a8"
             ],
             [
              0.3333333333333333,
              "#9c179e"
             ],
             [
              0.4444444444444444,
              "#bd3786"
             ],
             [
              0.5555555555555556,
              "#d8576b"
             ],
             [
              0.6666666666666666,
              "#ed7953"
             ],
             [
              0.7777777777777778,
              "#fb9f3a"
             ],
             [
              0.8888888888888888,
              "#fdca26"
             ],
             [
              1,
              "#f0f921"
             ]
            ],
            "type": "surface"
           }
          ],
          "table": [
           {
            "cells": {
             "fill": {
              "color": "#EBF0F8"
             },
             "line": {
              "color": "white"
             }
            },
            "header": {
             "fill": {
              "color": "#C8D4E3"
             },
             "line": {
              "color": "white"
             }
            },
            "type": "table"
           }
          ]
         },
         "layout": {
          "annotationdefaults": {
           "arrowcolor": "#2a3f5f",
           "arrowhead": 0,
           "arrowwidth": 1
          },
          "autotypenumbers": "strict",
          "coloraxis": {
           "colorbar": {
            "outlinewidth": 0,
            "ticks": ""
           }
          },
          "colorscale": {
           "diverging": [
            [
             0,
             "#8e0152"
            ],
            [
             0.1,
             "#c51b7d"
            ],
            [
             0.2,
             "#de77ae"
            ],
            [
             0.3,
             "#f1b6da"
            ],
            [
             0.4,
             "#fde0ef"
            ],
            [
             0.5,
             "#f7f7f7"
            ],
            [
             0.6,
             "#e6f5d0"
            ],
            [
             0.7,
             "#b8e186"
            ],
            [
             0.8,
             "#7fbc41"
            ],
            [
             0.9,
             "#4d9221"
            ],
            [
             1,
             "#276419"
            ]
           ],
           "sequential": [
            [
             0,
             "#0d0887"
            ],
            [
             0.1111111111111111,
             "#46039f"
            ],
            [
             0.2222222222222222,
             "#7201a8"
            ],
            [
             0.3333333333333333,
             "#9c179e"
            ],
            [
             0.4444444444444444,
             "#bd3786"
            ],
            [
             0.5555555555555556,
             "#d8576b"
            ],
            [
             0.6666666666666666,
             "#ed7953"
            ],
            [
             0.7777777777777778,
             "#fb9f3a"
            ],
            [
             0.8888888888888888,
             "#fdca26"
            ],
            [
             1,
             "#f0f921"
            ]
           ],
           "sequentialminus": [
            [
             0,
             "#0d0887"
            ],
            [
             0.1111111111111111,
             "#46039f"
            ],
            [
             0.2222222222222222,
             "#7201a8"
            ],
            [
             0.3333333333333333,
             "#9c179e"
            ],
            [
             0.4444444444444444,
             "#bd3786"
            ],
            [
             0.5555555555555556,
             "#d8576b"
            ],
            [
             0.6666666666666666,
             "#ed7953"
            ],
            [
             0.7777777777777778,
             "#fb9f3a"
            ],
            [
             0.8888888888888888,
             "#fdca26"
            ],
            [
             1,
             "#f0f921"
            ]
           ]
          },
          "colorway": [
           "#636efa",
           "#EF553B",
           "#00cc96",
           "#ab63fa",
           "#FFA15A",
           "#19d3f3",
           "#FF6692",
           "#B6E880",
           "#FF97FF",
           "#FECB52"
          ],
          "font": {
           "color": "#2a3f5f"
          },
          "geo": {
           "bgcolor": "white",
           "lakecolor": "white",
           "landcolor": "#E5ECF6",
           "showlakes": true,
           "showland": true,
           "subunitcolor": "white"
          },
          "hoverlabel": {
           "align": "left"
          },
          "hovermode": "closest",
          "mapbox": {
           "style": "light"
          },
          "paper_bgcolor": "white",
          "plot_bgcolor": "#E5ECF6",
          "polar": {
           "angularaxis": {
            "gridcolor": "white",
            "linecolor": "white",
            "ticks": ""
           },
           "bgcolor": "#E5ECF6",
           "radialaxis": {
            "gridcolor": "white",
            "linecolor": "white",
            "ticks": ""
           }
          },
          "scene": {
           "xaxis": {
            "backgroundcolor": "#E5ECF6",
            "gridcolor": "white",
            "gridwidth": 2,
            "linecolor": "white",
            "showbackground": true,
            "ticks": "",
            "zerolinecolor": "white"
           },
           "yaxis": {
            "backgroundcolor": "#E5ECF6",
            "gridcolor": "white",
            "gridwidth": 2,
            "linecolor": "white",
            "showbackground": true,
            "ticks": "",
            "zerolinecolor": "white"
           },
           "zaxis": {
            "backgroundcolor": "#E5ECF6",
            "gridcolor": "white",
            "gridwidth": 2,
            "linecolor": "white",
            "showbackground": true,
            "ticks": "",
            "zerolinecolor": "white"
           }
          },
          "shapedefaults": {
           "line": {
            "color": "#2a3f5f"
           }
          },
          "ternary": {
           "aaxis": {
            "gridcolor": "white",
            "linecolor": "white",
            "ticks": ""
           },
           "baxis": {
            "gridcolor": "white",
            "linecolor": "white",
            "ticks": ""
           },
           "bgcolor": "#E5ECF6",
           "caxis": {
            "gridcolor": "white",
            "linecolor": "white",
            "ticks": ""
           }
          },
          "title": {
           "x": 0.05
          },
          "xaxis": {
           "automargin": true,
           "gridcolor": "white",
           "linecolor": "white",
           "ticks": "",
           "title": {
            "standoff": 15
           },
           "zerolinecolor": "white",
           "zerolinewidth": 2
          },
          "yaxis": {
           "automargin": true,
           "gridcolor": "white",
           "linecolor": "white",
           "ticks": "",
           "title": {
            "standoff": 15
           },
           "zerolinecolor": "white",
           "zerolinewidth": 2
          }
         }
        },
        "title": {
         "text": "City Funds vs Average Graduation Percentage Across Districts Over Time"
        },
        "xaxis": {
         "anchor": "y",
         "autorange": true,
         "domain": [
          0,
          0.94
         ],
         "range": [
          2004.3691520388581,
          2015.6308479611419
         ],
         "type": "linear"
        },
        "yaxis": {
         "anchor": "x",
         "autorange": true,
         "domain": [
          0,
          1
         ],
         "range": [
          0,
          14152.631578947368
         ],
         "title": {
          "text": "City Funds (Real per pupil spending (2017 dollars)"
         },
         "type": "linear"
        },
        "yaxis2": {
         "anchor": "x",
         "autorange": true,
         "overlaying": "y",
         "range": [
          61.96938988619098,
          75.53848821495404
         ],
         "side": "right",
         "title": {
          "text": "Average Graduation %"
         },
         "type": "linear"
        }
       }
      },
      "image/png": "[encoded data removed]",
      "text/html": [
       "<div>                            <div id=\"cf66b6e2-b4ea-4bb8-a7e0-e26d69cb3bd2\" class=\"plotly-graph-div\" style=\"height:525px; width:100%;\"></div>            <script type=\"text/javascript\">                require([\"plotly\"], function(Plotly) {                    window.PLOTLYENV=window.PLOTLYENV || {};                                    if (document.getElementById(\"cf66b6e2-b4ea-4bb8-a7e0-e26d69cb3bd2\")) {                    Plotly.newPlot(                        \"cf66b6e2-b4ea-4bb8-a7e0-e26d69cb3bd2\",                        [{\"name\":\"City Funds (Real per pupil spending (2017 dollars)\",\"x\":[2005,2006,2007,2008,2009,2010,2011,2012,2013,2014,2015],\"y\":[9571,10505,11218,11632,11967,11779,12106,13406,13292,13420,13445],\"type\":\"bar\",\"xaxis\":\"x\",\"yaxis\":\"y\"},{\"name\":\"Average Graduation %\",\"x\":[2005,2006,2007,2008,2009,2010,2011,2012,2013,2014,2015],\"y\":[62.930534351145035,64.6537037037037,65.546875,64.581875,66.518125,68.51124999999999,70.64625,72.63125,74.121875,74.57734375,72.63125],\"type\":\"scatter\",\"xaxis\":\"x\",\"yaxis\":\"y2\"}],                        {\"template\":{\"data\":{\"histogram2dcontour\":[{\"type\":\"histogram2dcontour\",\"colorbar\":{\"outlinewidth\":0,\"ticks\":\"\"},\"colorscale\":[[0.0,\"#0d0887\"],[0.1111111111111111,\"#46039f\"],[0.2222222222222222,\"#7201a8\"],[0.3333333333333333,\"#9c179e\"],[0.4444444444444444,\"#bd3786\"],[0.5555555555555556,\"#d8576b\"],[0.6666666666666666,\"#ed7953\"],[0.7777777777777778,\"#fb9f3a\"],[0.8888888888888888,\"#fdca26\"],[1.0,\"#f0f921\"]]}],\"choropleth\":[{\"type\":\"choropleth\",\"colorbar\":{\"outlinewidth\":0,\"ticks\":\"\"}}],\"histogram2d\":[{\"type\":\"histogram2d\",\"colorbar\":{\"outlinewidth\":0,\"ticks\":\"\"},\"colorscale\":[[0.0,\"#0d0887\"],[0.1111111111111111,\"#46039f\"],[0.2222222222222222,\"#7201a8\"],[0.3333333333333333,\"#9c179e\"],[0.4444444444444444,\"#bd3786\"],[0.5555555555555556,\"#d8576b\"],[0.6666666666666666,\"#ed7953\"],[0.7777777777777778,\"#fb9f3a\"],[0.8888888888888888,\"#fdca26\"],[1.0,\"#f0f921\"]]}],\"heatmap\":[{\"type\":\"heatmap\",\"colorbar\":{\"outlinewidth\":0,\"ticks\":\"\"},\"colorscale\":[[0.0,\"#0d0887\"],[0.1111111111111111,\"#46039f\"],[0.2222222222222222,\"#7201a8\"],[0.3333333333333333,\"#9c179e\"],[0.4444444444444444,\"#bd3786\"],[0.5555555555555556,\"#d8576b\"],[0.6666666666666666,\"#ed7953\"],[0.7777777777777778,\"#fb9f3a\"],[0.8888888888888888,\"#fdca26\"],[1.0,\"#f0f921\"]]}],\"heatmapgl\":[{\"type\":\"heatmapgl\",\"colorbar\":{\"outlinewidth\":0,\"ticks\":\"\"},\"colorscale\":[[0.0,\"#0d0887\"],[0.1111111111111111,\"#46039f\"],[0.2222222222222222,\"#7201a8\"],[0.3333333333333333,\"#9c179e\"],[0.4444444444444444,\"#bd3786\"],[0.5555555555555556,\"#d8576b\"],[0.6666666666666666,\"#ed7953\"],[0.7777777777777778,\"#fb9f3a\"],[0.8888888888888888,\"#fdca26\"],[1.0,\"#f0f921\"]]}],\"contourcarpet\":[{\"type\":\"contourcarpet\",\"colorbar\":{\"outlinewidth\":0,\"ticks\":\"\"}}],\"contour\":[{\"type\":\"contour\",\"colorbar\":{\"outlinewidth\":0,\"ticks\":\"\"},\"colorscale\":[[0.0,\"#0d0887\"],[0.1111111111111111,\"#46039f\"],[0.2222222222222222,\"#7201a8\"],[0.3333333333333333,\"#9c179e\"],[0.4444444444444444,\"#bd3786\"],[0.5555555555555556,\"#d8576b\"],[0.6666666666666666,\"#ed7953\"],[0.7777777777777778,\"#fb9f3a\"],[0.8888888888888888,\"#fdca26\"],[1.0,\"#f0f921\"]]}],\"surface\":[{\"type\":\"surface\",\"colorbar\":{\"outlinewidth\":0,\"ticks\":\"\"},\"colorscale\":[[0.0,\"#0d0887\"],[0.1111111111111111,\"#46039f\"],[0.2222222222222222,\"#7201a8\"],[0.3333333333333333,\"#9c179e\"],[0.4444444444444444,\"#bd3786\"],[0.5555555555555556,\"#d8576b\"],[0.6666666666666666,\"#ed7953\"],[0.7777777777777778,\"#fb9f3a\"],[0.8888888888888888,\"#fdca26\"],[1.0,\"#f0f921\"]]}],\"mesh3d\":[{\"type\":\"mesh3d\",\"colorbar\":{\"outlinewidth\":0,\"ticks\":\"\"}}],\"scatter\":[{\"fillpattern\":{\"fillmode\":\"overlay\",\"size\":10,\"solidity\":0.2},\"type\":\"scatter\"}],\"parcoords\":[{\"type\":\"parcoords\",\"line\":{\"colorbar\":{\"outlinewidth\":0,\"ticks\":\"\"}}}],\"scatterpolargl\":[{\"type\":\"scatterpolargl\",\"marker\":{\"colorbar\":{\"outlinewidth\":0,\"ticks\":\"\"}}}],\"bar\":[{\"error_x\":{\"color\":\"#2a3f5f\"},\"error_y\":{\"color\":\"#2a3f5f\"},\"marker\":{\"line\":{\"color\":\"#E5ECF6\",\"width\":0.5},\"pattern\":{\"fillmode\":\"overlay\",\"size\":10,\"solidity\":0.2}},\"type\":\"bar\"}],\"scattergeo\":[{\"type\":\"scattergeo\",\"marker\":{\"colorbar\":{\"outlinewidth\":0,\"ticks\":\"\"}}}],\"scatterpolar\":[{\"type\":\"scatterpolar\",\"marker\":{\"colorbar\":{\"outlinewidth\":0,\"ticks\":\"\"}}}],\"histogram\":[{\"marker\":{\"pattern\":{\"fillmode\":\"overlay\",\"size\":10,\"solidity\":0.2}},\"type\":\"histogram\"}],\"scattergl\":[{\"type\":\"scattergl\",\"marker\":{\"colorbar\":{\"outlinewidth\":0,\"ticks\":\"\"}}}],\"scatter3d\":[{\"type\":\"scatter3d\",\"line\":{\"colorbar\":{\"outlinewidth\":0,\"ticks\":\"\"}},\"marker\":{\"colorbar\":{\"outlinewidth\":0,\"ticks\":\"\"}}}],\"scattermapbox\":[{\"type\":\"scattermapbox\",\"marker\":{\"colorbar\":{\"outlinewidth\":0,\"ticks\":\"\"}}}],\"scatterternary\":[{\"type\":\"scatterternary\",\"marker\":{\"colorbar\":{\"outlinewidth\":0,\"ticks\":\"\"}}}],\"scattercarpet\":[{\"type\":\"scattercarpet\",\"marker\":{\"colorbar\":{\"outlinewidth\":0,\"ticks\":\"\"}}}],\"carpet\":[{\"aaxis\":{\"endlinecolor\":\"#2a3f5f\",\"gridcolor\":\"white\",\"linecolor\":\"white\",\"minorgridcolor\":\"white\",\"startlinecolor\":\"#2a3f5f\"},\"baxis\":{\"endlinecolor\":\"#2a3f5f\",\"gridcolor\":\"white\",\"linecolor\":\"white\",\"minorgridcolor\":\"white\",\"startlinecolor\":\"#2a3f5f\"},\"type\":\"carpet\"}],\"table\":[{\"cells\":{\"fill\":{\"color\":\"#EBF0F8\"},\"line\":{\"color\":\"white\"}},\"header\":{\"fill\":{\"color\":\"#C8D4E3\"},\"line\":{\"color\":\"white\"}},\"type\":\"table\"}],\"barpolar\":[{\"marker\":{\"line\":{\"color\":\"#E5ECF6\",\"width\":0.5},\"pattern\":{\"fillmode\":\"overlay\",\"size\":10,\"solidity\":0.2}},\"type\":\"barpolar\"}],\"pie\":[{\"automargin\":true,\"type\":\"pie\"}]},\"layout\":{\"autotypenumbers\":\"strict\",\"colorway\":[\"#636efa\",\"#EF553B\",\"#00cc96\",\"#ab63fa\",\"#FFA15A\",\"#19d3f3\",\"#FF6692\",\"#B6E880\",\"#FF97FF\",\"#FECB52\"],\"font\":{\"color\":\"#2a3f5f\"},\"hovermode\":\"closest\",\"hoverlabel\":{\"align\":\"left\"},\"paper_bgcolor\":\"white\",\"plot_bgcolor\":\"#E5ECF6\",\"polar\":{\"bgcolor\":\"#E5ECF6\",\"angularaxis\":{\"gridcolor\":\"white\",\"linecolor\":\"white\",\"ticks\":\"\"},\"radialaxis\":{\"gridcolor\":\"white\",\"linecolor\":\"white\",\"ticks\":\"\"}},\"ternary\":{\"bgcolor\":\"#E5ECF6\",\"aaxis\":{\"gridcolor\":\"white\",\"linecolor\":\"white\",\"ticks\":\"\"},\"baxis\":{\"gridcolor\":\"white\",\"linecolor\":\"white\",\"ticks\":\"\"},\"caxis\":{\"gridcolor\":\"white\",\"linecolor\":\"white\",\"ticks\":\"\"}},\"coloraxis\":{\"colorbar\":{\"outlinewidth\":0,\"ticks\":\"\"}},\"colorscale\":{\"sequential\":[[0.0,\"#0d0887\"],[0.1111111111111111,\"#46039f\"],[0.2222222222222222,\"#7201a8\"],[0.3333333333333333,\"#9c179e\"],[0.4444444444444444,\"#bd3786\"],[0.5555555555555556,\"#d8576b\"],[0.6666666666666666,\"#ed7953\"],[0.7777777777777778,\"#fb9f3a\"],[0.8888888888888888,\"#fdca26\"],[1.0,\"#f0f921\"]],\"sequentialminus\":[[0.0,\"#0d0887\"],[0.1111111111111111,\"#46039f\"],[0.2222222222222222,\"#7201a8\"],[0.3333333333333333,\"#9c179e\"],[0.4444444444444444,\"#bd3786\"],[0.5555555555555556,\"#d8576b\"],[0.6666666666666666,\"#ed7953\"],[0.7777777777777778,\"#fb9f3a\"],[0.8888888888888888,\"#fdca26\"],[1.0,\"#f0f921\"]],\"diverging\":[[0,\"#8e0152\"],[0.1,\"#c51b7d\"],[0.2,\"#de77ae\"],[0.3,\"#f1b6da\"],[0.4,\"#fde0ef\"],[0.5,\"#f7f7f7\"],[0.6,\"#e6f5d0\"],[0.7,\"#b8e186\"],[0.8,\"#7fbc41\"],[0.9,\"#4d9221\"],[1,\"#276419\"]]},\"xaxis\":{\"gridcolor\":\"white\",\"linecolor\":\"white\",\"ticks\":\"\",\"title\":{\"standoff\":15},\"zerolinecolor\":\"white\",\"automargin\":true,\"zerolinewidth\":2},\"yaxis\":{\"gridcolor\":\"white\",\"linecolor\":\"white\",\"ticks\":\"\",\"title\":{\"standoff\":15},\"zerolinecolor\":\"white\",\"automargin\":true,\"zerolinewidth\":2},\"scene\":{\"xaxis\":{\"backgroundcolor\":\"#E5ECF6\",\"gridcolor\":\"white\",\"linecolor\":\"white\",\"showbackground\":true,\"ticks\":\"\",\"zerolinecolor\":\"white\",\"gridwidth\":2},\"yaxis\":{\"backgroundcolor\":\"#E5ECF6\",\"gridcolor\":\"white\",\"linecolor\":\"white\",\"showbackground\":true,\"ticks\":\"\",\"zerolinecolor\":\"white\",\"gridwidth\":2},\"zaxis\":{\"backgroundcolor\":\"#E5ECF6\",\"gridcolor\":\"white\",\"linecolor\":\"white\",\"showbackground\":true,\"ticks\":\"\",\"zerolinecolor\":\"white\",\"gridwidth\":2}},\"shapedefaults\":{\"line\":{\"color\":\"#2a3f5f\"}},\"annotationdefaults\":{\"arrowcolor\":\"#2a3f5f\",\"arrowhead\":0,\"arrowwidth\":1},\"geo\":{\"bgcolor\":\"white\",\"landcolor\":\"#E5ECF6\",\"subunitcolor\":\"white\",\"showland\":true,\"showlakes\":true,\"lakecolor\":\"white\"},\"title\":{\"x\":0.05},\"mapbox\":{\"style\":\"light\"}}},\"xaxis\":{\"anchor\":\"y\",\"domain\":[0.0,0.94]},\"yaxis\":{\"anchor\":\"x\",\"domain\":[0.0,1.0],\"title\":{\"text\":\"City Funds (Real per pupil spending (2017 dollars)\"}},\"yaxis2\":{\"anchor\":\"x\",\"overlaying\":\"y\",\"side\":\"right\",\"title\":{\"text\":\"Average Graduation %\"}},\"title\":{\"text\":\"City Funds vs Average Graduation Percentage Across Districts Over Time\"}},                        {\"responsive\": true}                    ).then(function(){\n",
       "                            \n",
       "var gd = document.getElementById('cf66b6e2-b4ea-4bb8-a7e0-e26d69cb3bd2');\n",
       "var x = new MutationObserver(function (mutations, observer) {{\n",
       "        var display = window.getComputedStyle(gd).display;\n",
       "        if (!display || display === 'none') {{\n",
       "            console.log([gd, 'removed!']);\n",
       "            Plotly.purge(gd);\n",
       "            observer.disconnect();\n",
       "        }}\n",
       "}});\n",
       "\n",
       "// Listen for the removal of the full notebook cells\n",
       "var notebookContainer = gd.closest('#notebook-container');\n",
       "if (notebookContainer) {{\n",
       "    x.observe(notebookContainer, {childList: true});\n",
       "}}\n",
       "\n",
       "// Listen for the clearing of the current output cell\n",
       "var outputEl = gd.closest('.output');\n",
       "if (outputEl) {{\n",
       "    x.observe(outputEl, {childList: true});\n",
       "}}\n",
       "\n",
       "                        })                };                });            </script>        </div>"
      ]
     },
     "metadata": {},
     "output_type": "display_data"
    }
   ],
   "source": [
    "import plotly.graph_objects as go\n",
    "from plotly.subplots import make_subplots\n",
    "\n",
    "fig = make_subplots(specs=[[{\"secondary_y\": True}]])\n",
    "\n",
    "fig.add_trace(\n",
    "    go.Bar(\n",
    "    x=merged_data['Cohort Year'],\n",
    "    y=merged_data['City Funds'],\n",
    "    name='City Funds (Real per pupil spending (2017 dollars)',\n",
    "    ),\n",
    "    secondary_y=False,\n",
    ")\n",
    "\n",
    "fig.add_trace(\n",
    "    go.Scatter(\n",
    "    x=merged_data['Cohort Year'],\n",
    "    y=merged_data['Average % Grads'],\n",
    "    name='Average Graduation %',\n",
    "    ), \n",
    "    secondary_y=True,\n",
    ")\n",
    "\n",
    "# Update layout for dual axes\n",
    "fig.update_layout(title='City Funds vs Average Graduation Percentage Across Districts Over Time')\n",
    "fig.update_yaxes(title_text=\"City Funds (Real per pupil spending (2017 dollars)\", secondary_y=False)\n",
    "fig.update_yaxes(title_text=\"Average Graduation %\", secondary_y=True)\n",
    "\n",
    "# Show the figure\n",
    "fig.show()\n"
   ]
  },
  {
   "cell_type": "markdown",
   "id": "c59d659f-38ac-4768-bae2-fc45a69fa553",
   "metadata": {},
   "source": [
    "## Conclusion\n",
    "\n",
    "This chart tells a slightly different story than the one above -  we do not see a clear positive relationship between the 2 variables. In early years, the fudning was increasing, and so was the rate of graduation. However, while the graduation % continued ncreasing until 2014, the funding in later years (2012-2015) has stayed largely constant. In 2015, we see a fall in graduation %, while funding once again stays constant. This indicates that there may be factors affecting educational outcomes other than funding, and thus we cannot relate higher funding to better educational outcomes directly.\n",
    "\n",
    "We see an upward trend - an increase in real spend per student in city funds is linked to a higher % of students graduating on average. However, this is not causal as the graduation % may be increasing over time as a result of many factors, not just city fun"
   ]
  }
 ],
 "metadata": {
  "kernelspec": {
   "display_name": "Python 3 (ipykernel)",
   "language": "python",
   "name": "python3"
  },
  "language_info": {
   "codemirror_mode": {
    "name": "ipython",
    "version": 3
   },
   "file_extension": ".py",
   "mimetype": "text/x-python",
   "name": "python",
   "nbconvert_exporter": "python",
   "pygments_lexer": "ipython3",
   "version": "3.12.4"
  }
 },
 "nbformat": 4,
 "nbformat_minor": 5
}
